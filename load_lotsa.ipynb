{
 "cells": [
  {
   "cell_type": "markdown",
   "id": "9388aa65",
   "metadata": {
    "tags": [
     "papermill-error-cell-tag"
    ]
   },
   "source": [
    "<span style=\"color:red; font-family:Helvetica Neue, Helvetica, Arial, sans-serif; font-size:2em;\">An Exception was encountered at '<a href=\"#papermill-error-cell\">In [4]</a>'.</span>"
   ]
  },
  {
   "cell_type": "code",
   "execution_count": 1,
   "id": "a22d02b3",
   "metadata": {
    "execution": {
     "iopub.execute_input": "2025-07-30T20:45:09.193176Z",
     "iopub.status.busy": "2025-07-30T20:45:09.192752Z",
     "iopub.status.idle": "2025-07-30T20:45:09.205582Z",
     "shell.execute_reply": "2025-07-30T20:45:09.204916Z"
    },
    "papermill": {
     "duration": 0.018655,
     "end_time": "2025-07-30T20:45:09.207055",
     "exception": false,
     "start_time": "2025-07-30T20:45:09.188400",
     "status": "completed"
    },
    "tags": []
   },
   "outputs": [],
   "source": [
    "import os\n",
    "\n",
    "os.environ[\"HF_DATASETS_CACHE\"] = \"/raid/decaro\"\n",
    "os.environ[\"HF_HOME\"] = \"/raid/decaro\"\n",
    "os.environ[\"TRANSFORMERS_CACHE\"] = \"/raid/decaro\"\n",
    "os.environ[\"HUGGINGFACE_HUB_CACHE\"] = \"/raid/decaro\"\n"
   ]
  },
  {
   "cell_type": "code",
   "execution_count": 2,
   "id": "427904ee",
   "metadata": {
    "execution": {
     "iopub.execute_input": "2025-07-30T20:45:09.210889Z",
     "iopub.status.busy": "2025-07-30T20:45:09.210456Z",
     "iopub.status.idle": "2025-07-30T20:45:10.650090Z",
     "shell.execute_reply": "2025-07-30T20:45:10.649315Z"
    },
    "papermill": {
     "duration": 1.442983,
     "end_time": "2025-07-30T20:45:10.651884",
     "exception": false,
     "start_time": "2025-07-30T20:45:09.208901",
     "status": "completed"
    },
    "tags": []
   },
   "outputs": [
    {
     "name": "stderr",
     "output_type": "stream",
     "text": [
      "/home/valerio/miniconda3/envs/moirai/lib/python3.9/site-packages/tqdm/auto.py:21: TqdmWarning: IProgress not found. Please update jupyter and ipywidgets. See https://ipywidgets.readthedocs.io/en/stable/user_install.html\n",
      "  from .autonotebook import tqdm as notebook_tqdm\n"
     ]
    }
   ],
   "source": [
    "from src.utils.full_dataset_loader import load_data"
   ]
  },
  {
   "cell_type": "code",
   "execution_count": 3,
   "id": "7290c33b",
   "metadata": {
    "execution": {
     "iopub.execute_input": "2025-07-30T20:45:10.656608Z",
     "iopub.status.busy": "2025-07-30T20:45:10.656114Z",
     "iopub.status.idle": "2025-07-30T20:45:10.659675Z",
     "shell.execute_reply": "2025-07-30T20:45:10.659228Z"
    },
    "papermill": {
     "duration": 0.006485,
     "end_time": "2025-07-30T20:45:10.660564",
     "exception": false,
     "start_time": "2025-07-30T20:45:10.654079",
     "status": "completed"
    },
    "tags": []
   },
   "outputs": [],
   "source": [
    "def save_train_and_val_datasets(yaml_path, dataset_path):\n",
    "    partial_ds_path = \"/raid/decaro/TimeSeriesForecastingFoundationModels/data/splitted_full_dataset\"\n",
    "    full_dataset = load_data(yaml_path=yaml_path, path=partial_ds_path)\n",
    "\n",
    "    # Save datasets to disk\n",
    "    os.makedirs(\"data\", exist_ok=True)\n",
    "    full_dataset.save_to_disk(dataset_path)\n",
    "\n",
    "    print(f\"Dataset saved to {dataset_path}\")"
   ]
  },
  {
   "cell_type": "markdown",
   "id": "8a9e24dc",
   "metadata": {
    "tags": [
     "papermill-error-cell-tag"
    ]
   },
   "source": [
    "<span id=\"papermill-error-cell\" style=\"color:red; font-family:Helvetica Neue, Helvetica, Arial, sans-serif; font-size:2em;\">Execution using papermill encountered an exception here and stopped:</span>"
   ]
  },
  {
   "cell_type": "code",
   "execution_count": 4,
   "id": "7ed5f8e4",
   "metadata": {
    "execution": {
     "iopub.execute_input": "2025-07-30T20:45:10.664941Z",
     "iopub.status.busy": "2025-07-30T20:45:10.664622Z",
     "iopub.status.idle": "2025-07-30T21:30:00.061856Z",
     "shell.execute_reply": "2025-07-30T21:30:00.061166Z"
    },
    "papermill": {
     "duration": 2689.402314,
     "end_time": "2025-07-30T21:30:00.065186",
     "exception": true,
     "start_time": "2025-07-30T20:45:10.662872",
     "status": "failed"
    },
    "tags": []
   },
   "outputs": [
    {
     "name": "stdout",
     "output_type": "stream",
     "text": [
      "\n",
      "Loading group: Salesforce/lotsa_data\n",
      "Loading BEIJING_SUBWAY_30MIN...\n"
     ]
    },
    {
     "name": "stderr",
     "output_type": "stream",
     "text": [
      "\r",
      "Saving the dataset (0/1 shards):   0%|                                                                                       | 0/276 [00:00<?, ? examples/s]"
     ]
    },
    {
     "name": "stderr",
     "output_type": "stream",
     "text": [
      "\r",
      "Saving the dataset (1/1 shards): 100%|██████████████████████████████████████████████████████████████████████████| 276/276 [00:00<00:00, 20611.56 examples/s]"
     ]
    },
    {
     "name": "stderr",
     "output_type": "stream",
     "text": [
      "\r",
      "Saving the dataset (1/1 shards): 100%|██████████████████████████████████████████████████████████████████████████| 276/276 [00:00<00:00, 18440.61 examples/s]"
     ]
    },
    {
     "name": "stderr",
     "output_type": "stream",
     "text": [
      "\n"
     ]
    },
    {
     "name": "stdout",
     "output_type": "stream",
     "text": [
      "Dataset Salesforce/lotsa_data/BEIJING_SUBWAY_30MIN saved to /raid/decaro/TimeSeriesForecastingFoundationModels/data/splitted_full_dataset/Salesforce_lotsa_data_BEIJING_SUBWAY_30MIN\n",
      "Loading HZMETRO...\n"
     ]
    },
    {
     "name": "stderr",
     "output_type": "stream",
     "text": [
      "\r",
      "Saving the dataset (0/1 shards):   0%|                                                                                        | 0/80 [00:00<?, ? examples/s]"
     ]
    },
    {
     "name": "stderr",
     "output_type": "stream",
     "text": [
      "\r",
      "Saving the dataset (1/1 shards): 100%|████████████████████████████████████████████████████████████████████████████| 80/80 [00:00<00:00, 14205.94 examples/s]"
     ]
    },
    {
     "name": "stderr",
     "output_type": "stream",
     "text": [
      "\r",
      "Saving the dataset (1/1 shards): 100%|████████████████████████████████████████████████████████████████████████████| 80/80 [00:00<00:00, 12353.45 examples/s]"
     ]
    },
    {
     "name": "stderr",
     "output_type": "stream",
     "text": [
      "\n"
     ]
    },
    {
     "name": "stdout",
     "output_type": "stream",
     "text": [
      "Dataset Salesforce/lotsa_data/HZMETRO saved to /raid/decaro/TimeSeriesForecastingFoundationModels/data/splitted_full_dataset/Salesforce_lotsa_data_HZMETRO\n",
      "Loading LOOP_SEATTLE...\n"
     ]
    },
    {
     "name": "stderr",
     "output_type": "stream",
     "text": [
      "\r",
      "Saving the dataset (0/1 shards):   0%|                                                                                       | 0/323 [00:00<?, ? examples/s]"
     ]
    },
    {
     "name": "stderr",
     "output_type": "stream",
     "text": [
      "\r",
      "Saving the dataset (0/1 shards): 100%|███████████████████████████████████████████████████████████████████████████| 323/323 [00:00<00:00, 2111.15 examples/s]"
     ]
    },
    {
     "name": "stderr",
     "output_type": "stream",
     "text": [
      "\r",
      "Saving the dataset (1/1 shards): 100%|███████████████████████████████████████████████████████████████████████████| 323/323 [00:00<00:00, 2111.15 examples/s]"
     ]
    },
    {
     "name": "stderr",
     "output_type": "stream",
     "text": [
      "\r",
      "Saving the dataset (1/1 shards): 100%|████████████████████████████████████████████████████████████████████████████| 323/323 [00:00<00:00, 785.47 examples/s]"
     ]
    },
    {
     "name": "stderr",
     "output_type": "stream",
     "text": [
      "\n"
     ]
    },
    {
     "name": "stdout",
     "output_type": "stream",
     "text": [
      "Dataset Salesforce/lotsa_data/LOOP_SEATTLE saved to /raid/decaro/TimeSeriesForecastingFoundationModels/data/splitted_full_dataset/Salesforce_lotsa_data_LOOP_SEATTLE\n",
      "Loading LOS_LOOP...\n"
     ]
    },
    {
     "name": "stderr",
     "output_type": "stream",
     "text": [
      "\r",
      "Saving the dataset (0/1 shards):   0%|                                                                                       | 0/207 [00:00<?, ? examples/s]"
     ]
    },
    {
     "name": "stderr",
     "output_type": "stream",
     "text": [
      "\r",
      "Saving the dataset (1/1 shards): 100%|███████████████████████████████████████████████████████████████████████████| 207/207 [00:00<00:00, 2591.80 examples/s]"
     ]
    },
    {
     "name": "stderr",
     "output_type": "stream",
     "text": [
      "\r",
      "Saving the dataset (1/1 shards): 100%|███████████████████████████████████████████████████████████████████████████| 207/207 [00:00<00:00, 2549.41 examples/s]"
     ]
    },
    {
     "name": "stderr",
     "output_type": "stream",
     "text": [
      "\n"
     ]
    },
    {
     "name": "stdout",
     "output_type": "stream",
     "text": [
      "Dataset Salesforce/lotsa_data/LOS_LOOP saved to /raid/decaro/TimeSeriesForecastingFoundationModels/data/splitted_full_dataset/Salesforce_lotsa_data_LOS_LOOP\n",
      "Loading M_DENSE...\n"
     ]
    },
    {
     "name": "stderr",
     "output_type": "stream",
     "text": [
      "\r",
      "Saving the dataset (0/1 shards):   0%|                                                                                        | 0/30 [00:00<?, ? examples/s]"
     ]
    },
    {
     "name": "stderr",
     "output_type": "stream",
     "text": [
      "\r",
      "Saving the dataset (1/1 shards): 100%|█████████████████████████████████████████████████████████████████████████████| 30/30 [00:00<00:00, 3674.92 examples/s]"
     ]
    },
    {
     "name": "stderr",
     "output_type": "stream",
     "text": [
      "\r",
      "Saving the dataset (1/1 shards): 100%|█████████████████████████████████████████████████████████████████████████████| 30/30 [00:00<00:00, 2982.58 examples/s]"
     ]
    },
    {
     "name": "stderr",
     "output_type": "stream",
     "text": [
      "\n"
     ]
    },
    {
     "name": "stdout",
     "output_type": "stream",
     "text": [
      "Dataset Salesforce/lotsa_data/M_DENSE saved to /raid/decaro/TimeSeriesForecastingFoundationModels/data/splitted_full_dataset/Salesforce_lotsa_data_M_DENSE\n",
      "Loading PEMS03...\n"
     ]
    },
    {
     "name": "stderr",
     "output_type": "stream",
     "text": [
      "\r",
      "Saving the dataset (0/1 shards):   0%|                                                                                       | 0/358 [00:00<?, ? examples/s]"
     ]
    },
    {
     "name": "stderr",
     "output_type": "stream",
     "text": [
      "\r",
      "Saving the dataset (1/1 shards): 100%|███████████████████████████████████████████████████████████████████████████| 358/358 [00:00<00:00, 1954.95 examples/s]"
     ]
    },
    {
     "name": "stderr",
     "output_type": "stream",
     "text": [
      "\r",
      "Saving the dataset (1/1 shards): 100%|███████████████████████████████████████████████████████████████████████████| 358/358 [00:00<00:00, 1891.21 examples/s]"
     ]
    },
    {
     "name": "stderr",
     "output_type": "stream",
     "text": [
      "\n"
     ]
    },
    {
     "name": "stdout",
     "output_type": "stream",
     "text": [
      "Dataset Salesforce/lotsa_data/PEMS03 saved to /raid/decaro/TimeSeriesForecastingFoundationModels/data/splitted_full_dataset/Salesforce_lotsa_data_PEMS03\n",
      "Loading PEMS04...\n"
     ]
    },
    {
     "name": "stderr",
     "output_type": "stream",
     "text": [
      "\r",
      "Saving the dataset (0/1 shards):   0%|                                                                                       | 0/307 [00:00<?, ? examples/s]"
     ]
    },
    {
     "name": "stderr",
     "output_type": "stream",
     "text": [
      "\r",
      "Saving the dataset (1/1 shards): 100%|███████████████████████████████████████████████████████████████████████████| 307/307 [00:00<00:00, 1312.37 examples/s]"
     ]
    },
    {
     "name": "stderr",
     "output_type": "stream",
     "text": [
      "\r",
      "Saving the dataset (1/1 shards): 100%|███████████████████████████████████████████████████████████████████████████| 307/307 [00:00<00:00, 1304.79 examples/s]"
     ]
    },
    {
     "name": "stderr",
     "output_type": "stream",
     "text": [
      "\n"
     ]
    },
    {
     "name": "stdout",
     "output_type": "stream",
     "text": [
      "Dataset Salesforce/lotsa_data/PEMS04 saved to /raid/decaro/TimeSeriesForecastingFoundationModels/data/splitted_full_dataset/Salesforce_lotsa_data_PEMS04\n",
      "Loading PEMS07...\n"
     ]
    },
    {
     "name": "stderr",
     "output_type": "stream",
     "text": [
      "\r",
      "Saving the dataset (0/1 shards):   0%|                                                                                       | 0/883 [00:00<?, ? examples/s]"
     ]
    },
    {
     "name": "stderr",
     "output_type": "stream",
     "text": [
      "\r",
      "Saving the dataset (1/1 shards): 100%|███████████████████████████████████████████████████████████████████████████| 883/883 [00:00<00:00, 2006.42 examples/s]"
     ]
    },
    {
     "name": "stderr",
     "output_type": "stream",
     "text": [
      "\r",
      "Saving the dataset (1/1 shards): 100%|███████████████████████████████████████████████████████████████████████████| 883/883 [00:00<00:00, 2000.19 examples/s]"
     ]
    },
    {
     "name": "stderr",
     "output_type": "stream",
     "text": [
      "\n"
     ]
    },
    {
     "name": "stdout",
     "output_type": "stream",
     "text": [
      "Dataset Salesforce/lotsa_data/PEMS07 saved to /raid/decaro/TimeSeriesForecastingFoundationModels/data/splitted_full_dataset/Salesforce_lotsa_data_PEMS07\n",
      "Loading PEMS08...\n"
     ]
    },
    {
     "name": "stderr",
     "output_type": "stream",
     "text": [
      "\r",
      "Saving the dataset (0/1 shards):   0%|                                                                                       | 0/170 [00:00<?, ? examples/s]"
     ]
    },
    {
     "name": "stderr",
     "output_type": "stream",
     "text": [
      "\r",
      "Saving the dataset (1/1 shards): 100%|███████████████████████████████████████████████████████████████████████████| 170/170 [00:00<00:00, 1850.67 examples/s]"
     ]
    },
    {
     "name": "stderr",
     "output_type": "stream",
     "text": [
      "\r",
      "Saving the dataset (1/1 shards): 100%|███████████████████████████████████████████████████████████████████████████| 170/170 [00:00<00:00, 1831.61 examples/s]"
     ]
    },
    {
     "name": "stderr",
     "output_type": "stream",
     "text": [
      "\n"
     ]
    },
    {
     "name": "stdout",
     "output_type": "stream",
     "text": [
      "Dataset Salesforce/lotsa_data/PEMS08 saved to /raid/decaro/TimeSeriesForecastingFoundationModels/data/splitted_full_dataset/Salesforce_lotsa_data_PEMS08\n",
      "Loading PEMS_BAY...\n"
     ]
    },
    {
     "name": "stderr",
     "output_type": "stream",
     "text": [
      "\r",
      "Saving the dataset (0/1 shards):   0%|                                                                                       | 0/325 [00:00<?, ? examples/s]"
     ]
    },
    {
     "name": "stderr",
     "output_type": "stream",
     "text": [
      "\r",
      "Saving the dataset (1/1 shards): 100%|███████████████████████████████████████████████████████████████████████████| 325/325 [00:00<00:00, 5041.88 examples/s]"
     ]
    },
    {
     "name": "stderr",
     "output_type": "stream",
     "text": [
      "\r",
      "Saving the dataset (1/1 shards): 100%|███████████████████████████████████████████████████████████████████████████| 325/325 [00:00<00:00, 4950.73 examples/s]"
     ]
    },
    {
     "name": "stderr",
     "output_type": "stream",
     "text": [
      "\n"
     ]
    },
    {
     "name": "stdout",
     "output_type": "stream",
     "text": [
      "Dataset Salesforce/lotsa_data/PEMS_BAY saved to /raid/decaro/TimeSeriesForecastingFoundationModels/data/splitted_full_dataset/Salesforce_lotsa_data_PEMS_BAY\n",
      "Loading Q-TRAFFIC...\n"
     ]
    },
    {
     "name": "stderr",
     "output_type": "stream",
     "text": [
      "\r",
      "Saving the dataset (0/3 shards):   0%|                                                                                     | 0/45148 [00:00<?, ? examples/s]"
     ]
    },
    {
     "name": "stderr",
     "output_type": "stream",
     "text": [
      "\r",
      "Saving the dataset (0/3 shards):  13%|█████████▍                                                             | 6000/45148 [00:00<00:00, 56931.75 examples/s]"
     ]
    },
    {
     "name": "stderr",
     "output_type": "stream",
     "text": [
      "\r",
      "Saving the dataset (0/3 shards):  29%|████████████████████▏                                                 | 13000/45148 [00:00<00:00, 58669.10 examples/s]"
     ]
    },
    {
     "name": "stderr",
     "output_type": "stream",
     "text": [
      "\r",
      "Saving the dataset (1/3 shards):  33%|███████████████████████▎                                              | 15050/45148 [00:00<00:00, 58669.10 examples/s]"
     ]
    },
    {
     "name": "stderr",
     "output_type": "stream",
     "text": [
      "\r",
      "Saving the dataset (1/3 shards):  47%|████████████████████████████████▋                                     | 21050/45148 [00:00<00:00, 54635.93 examples/s]"
     ]
    },
    {
     "name": "stderr",
     "output_type": "stream",
     "text": [
      "\r",
      "Saving the dataset (1/3 shards):  60%|█████████████████████████████████████████▉                            | 27050/45148 [00:00<00:00, 54353.49 examples/s]"
     ]
    },
    {
     "name": "stderr",
     "output_type": "stream",
     "text": [
      "\r",
      "Saving the dataset (2/3 shards):  67%|██████████████████████████████████████████████▋                       | 30099/45148 [00:00<00:00, 54353.49 examples/s]"
     ]
    },
    {
     "name": "stderr",
     "output_type": "stream",
     "text": [
      "\r",
      "Saving the dataset (2/3 shards):  73%|███████████████████████████████████████████████████▎                  | 33099/45148 [00:00<00:00, 53145.53 examples/s]"
     ]
    },
    {
     "name": "stderr",
     "output_type": "stream",
     "text": [
      "\r",
      "Saving the dataset (2/3 shards):  87%|████████████████████████████████████████████████████████████▌         | 39099/45148 [00:00<00:00, 53387.74 examples/s]"
     ]
    },
    {
     "name": "stderr",
     "output_type": "stream",
     "text": [
      "\r",
      "Saving the dataset (2/3 shards): 100%|█████████████████████████████████████████████████████████████████████▉| 45099/45148 [00:00<00:00, 53517.39 examples/s]"
     ]
    },
    {
     "name": "stderr",
     "output_type": "stream",
     "text": [
      "\r",
      "Saving the dataset (3/3 shards): 100%|██████████████████████████████████████████████████████████████████████| 45148/45148 [00:00<00:00, 53517.39 examples/s]"
     ]
    },
    {
     "name": "stderr",
     "output_type": "stream",
     "text": [
      "\r",
      "Saving the dataset (3/3 shards): 100%|██████████████████████████████████████████████████████████████████████| 45148/45148 [00:00<00:00, 53951.32 examples/s]"
     ]
    },
    {
     "name": "stderr",
     "output_type": "stream",
     "text": [
      "\n"
     ]
    },
    {
     "name": "stdout",
     "output_type": "stream",
     "text": [
      "Dataset Salesforce/lotsa_data/Q-TRAFFIC saved to /raid/decaro/TimeSeriesForecastingFoundationModels/data/splitted_full_dataset/Salesforce_lotsa_data_Q-TRAFFIC\n",
      "Loading SHMETRO...\n"
     ]
    },
    {
     "name": "stderr",
     "output_type": "stream",
     "text": [
      "\r",
      "Saving the dataset (0/1 shards):   0%|                                                                                       | 0/288 [00:00<?, ? examples/s]"
     ]
    },
    {
     "name": "stderr",
     "output_type": "stream",
     "text": [
      "\r",
      "Saving the dataset (1/1 shards): 100%|██████████████████████████████████████████████████████████████████████████| 288/288 [00:00<00:00, 16466.86 examples/s]"
     ]
    },
    {
     "name": "stderr",
     "output_type": "stream",
     "text": [
      "\r",
      "Saving the dataset (1/1 shards): 100%|██████████████████████████████████████████████████████████████████████████| 288/288 [00:00<00:00, 15571.10 examples/s]"
     ]
    },
    {
     "name": "stderr",
     "output_type": "stream",
     "text": [
      "\n"
     ]
    },
    {
     "name": "stdout",
     "output_type": "stream",
     "text": [
      "Dataset Salesforce/lotsa_data/SHMETRO saved to /raid/decaro/TimeSeriesForecastingFoundationModels/data/splitted_full_dataset/Salesforce_lotsa_data_SHMETRO\n",
      "Loading SZ_TAXI...\n"
     ]
    },
    {
     "name": "stderr",
     "output_type": "stream",
     "text": [
      "\r",
      "Saving the dataset (0/1 shards):   0%|                                                                                       | 0/156 [00:00<?, ? examples/s]"
     ]
    },
    {
     "name": "stderr",
     "output_type": "stream",
     "text": [
      "\r",
      "Saving the dataset (1/1 shards): 100%|██████████████████████████████████████████████████████████████████████████| 156/156 [00:00<00:00, 33215.46 examples/s]"
     ]
    },
    {
     "name": "stderr",
     "output_type": "stream",
     "text": [
      "\r",
      "Saving the dataset (1/1 shards): 100%|██████████████████████████████████████████████████████████████████████████| 156/156 [00:00<00:00, 30237.60 examples/s]"
     ]
    },
    {
     "name": "stderr",
     "output_type": "stream",
     "text": [
      "\n"
     ]
    },
    {
     "name": "stdout",
     "output_type": "stream",
     "text": [
      "Dataset Salesforce/lotsa_data/SZ_TAXI saved to /raid/decaro/TimeSeriesForecastingFoundationModels/data/splitted_full_dataset/Salesforce_lotsa_data_SZ_TAXI\n",
      "Loading alibaba_cluster_trace_2018...\n"
     ]
    },
    {
     "name": "stderr",
     "output_type": "stream",
     "text": [
      "\r",
      "Saving the dataset (0/2 shards):   0%|                                                                                     | 0/58409 [00:00<?, ? examples/s]"
     ]
    },
    {
     "name": "stderr",
     "output_type": "stream",
     "text": [
      "\r",
      "Saving the dataset (0/2 shards):  21%|██████████████▏                                                      | 12000/58409 [00:00<00:00, 103322.19 examples/s]"
     ]
    },
    {
     "name": "stderr",
     "output_type": "stream",
     "text": [
      "\r",
      "Saving the dataset (0/2 shards):  41%|████████████████████████████▎                                        | 24000/58409 [00:00<00:00, 105468.30 examples/s]"
     ]
    },
    {
     "name": "stderr",
     "output_type": "stream",
     "text": [
      "\r",
      "Saving the dataset (1/2 shards):  50%|██████████████████████████████████▌                                  | 29205/58409 [00:00<00:00, 105468.30 examples/s]"
     ]
    },
    {
     "name": "stderr",
     "output_type": "stream",
     "text": [
      "\r",
      "Saving the dataset (1/2 shards):  67%|██████████████████████████████████████████████▉                       | 39205/58409 [00:00<00:00, 98102.35 examples/s]"
     ]
    },
    {
     "name": "stderr",
     "output_type": "stream",
     "text": [
      "\r",
      "Saving the dataset (1/2 shards):  84%|██████████████████████████████████████████████████████████▉           | 49205/58409 [00:00<00:00, 96251.83 examples/s]"
     ]
    },
    {
     "name": "stderr",
     "output_type": "stream",
     "text": [
      "\r",
      "Saving the dataset (2/2 shards): 100%|██████████████████████████████████████████████████████████████████████| 58409/58409 [00:00<00:00, 96251.83 examples/s]"
     ]
    },
    {
     "name": "stderr",
     "output_type": "stream",
     "text": [
      "\r",
      "Saving the dataset (2/2 shards): 100%|██████████████████████████████████████████████████████████████████████| 58409/58409 [00:00<00:00, 96618.96 examples/s]"
     ]
    },
    {
     "name": "stderr",
     "output_type": "stream",
     "text": [
      "\n"
     ]
    },
    {
     "name": "stdout",
     "output_type": "stream",
     "text": [
      "Dataset Salesforce/lotsa_data/alibaba_cluster_trace_2018 saved to /raid/decaro/TimeSeriesForecastingFoundationModels/data/splitted_full_dataset/Salesforce_lotsa_data_alibaba_cluster_trace_2018\n",
      "Loading australian_electricity_demand...\n"
     ]
    },
    {
     "name": "stderr",
     "output_type": "stream",
     "text": [
      "\r",
      "Saving the dataset (0/1 shards):   0%|                                                                                         | 0/5 [00:00<?, ? examples/s]"
     ]
    },
    {
     "name": "stderr",
     "output_type": "stream",
     "text": [
      "\r",
      "Saving the dataset (1/1 shards): 100%|████████████████████████████████████████████████████████████████████████████████| 5/5 [00:00<00:00, 761.41 examples/s]"
     ]
    },
    {
     "name": "stderr",
     "output_type": "stream",
     "text": [
      "\r",
      "Saving the dataset (1/1 shards): 100%|████████████████████████████████████████████████████████████████████████████████| 5/5 [00:00<00:00, 711.31 examples/s]"
     ]
    },
    {
     "name": "stderr",
     "output_type": "stream",
     "text": [
      "\n"
     ]
    },
    {
     "name": "stdout",
     "output_type": "stream",
     "text": [
      "Dataset Salesforce/lotsa_data/australian_electricity_demand saved to /raid/decaro/TimeSeriesForecastingFoundationModels/data/splitted_full_dataset/Salesforce_lotsa_data_australian_electricity_demand\n",
      "Loading azure_vm_traces_2017...\n"
     ]
    },
    {
     "name": "stderr",
     "output_type": "stream",
     "text": [
      "\r",
      "Downloading data:   0%|                                                                                                           | 0/22 [00:00<?, ?files/s]"
     ]
    },
    {
     "name": "stderr",
     "output_type": "stream",
     "text": [
      "\r",
      "Downloading data:   5%|████▌                                                                                              | 1/22 [00:00<00:07,  2.81files/s]"
     ]
    },
    {
     "name": "stderr",
     "output_type": "stream",
     "text": [
      "\r",
      "Downloading data:   9%|█████████                                                                                          | 2/22 [00:06<01:15,  3.76s/files]"
     ]
    },
    {
     "name": "stderr",
     "output_type": "stream",
     "text": [
      "\r",
      "Downloading data:  14%|█████████████▍                                                                                     | 3/22 [00:15<01:56,  6.14s/files]"
     ]
    },
    {
     "name": "stderr",
     "output_type": "stream",
     "text": [
      "\r",
      "Downloading data:  18%|██████████████████                                                                                 | 4/22 [00:24<02:09,  7.21s/files]"
     ]
    },
    {
     "name": "stderr",
     "output_type": "stream",
     "text": [
      "\r",
      "Downloading data:  23%|██████████████████████▌                                                                            | 5/22 [00:33<02:12,  7.80s/files]"
     ]
    },
    {
     "name": "stderr",
     "output_type": "stream",
     "text": [
      "\r",
      "Downloading data:  27%|██████████████████████████▉                                                                        | 6/22 [00:41<02:10,  8.13s/files]"
     ]
    },
    {
     "name": "stderr",
     "output_type": "stream",
     "text": [
      "\r",
      "Downloading data:  32%|███████████████████████████████▌                                                                   | 7/22 [00:52<02:13,  8.93s/files]"
     ]
    },
    {
     "name": "stderr",
     "output_type": "stream",
     "text": [
      "\r",
      "Downloading data:  36%|████████████████████████████████████                                                               | 8/22 [01:01<02:04,  8.91s/files]"
     ]
    },
    {
     "name": "stderr",
     "output_type": "stream",
     "text": [
      "\r",
      "Downloading data:  41%|████████████████████████████████████████▌                                                          | 9/22 [01:10<01:54,  8.83s/files]"
     ]
    },
    {
     "name": "stderr",
     "output_type": "stream",
     "text": [
      "\r",
      "Downloading data:  45%|████████████████████████████████████████████▌                                                     | 10/22 [01:18<01:45,  8.82s/files]"
     ]
    },
    {
     "name": "stderr",
     "output_type": "stream",
     "text": [
      "\r",
      "Downloading data:  50%|█████████████████████████████████████████████████                                                 | 11/22 [01:27<01:36,  8.81s/files]"
     ]
    },
    {
     "name": "stderr",
     "output_type": "stream",
     "text": [
      "\r",
      "Downloading data:  55%|█████████████████████████████████████████████████████▍                                            | 12/22 [01:36<01:28,  8.81s/files]"
     ]
    },
    {
     "name": "stderr",
     "output_type": "stream",
     "text": [
      "\r",
      "Downloading data:  59%|█████████████████████████████████████████████████████████▉                                        | 13/22 [01:45<01:20,  8.90s/files]"
     ]
    },
    {
     "name": "stderr",
     "output_type": "stream",
     "text": [
      "\r",
      "Downloading data:  64%|██████████████████████████████████████████████████████████████▎                                   | 14/22 [01:54<01:11,  8.95s/files]"
     ]
    },
    {
     "name": "stderr",
     "output_type": "stream",
     "text": [
      "\r",
      "Downloading data:  68%|██████████████████████████████████████████████████████████████████▊                               | 15/22 [02:03<01:02,  8.89s/files]"
     ]
    },
    {
     "name": "stderr",
     "output_type": "stream",
     "text": [
      "\r",
      "Downloading data:  73%|███████████████████████████████████████████████████████████████████████▎                          | 16/22 [02:12<00:53,  8.87s/files]"
     ]
    },
    {
     "name": "stderr",
     "output_type": "stream",
     "text": [
      "\r",
      "Downloading data:  77%|███████████████████████████████████████████████████████████████████████████▋                      | 17/22 [02:24<00:49,  9.92s/files]"
     ]
    },
    {
     "name": "stderr",
     "output_type": "stream",
     "text": [
      "\r",
      "Downloading data:  82%|████████████████████████████████████████████████████████████████████████████████▏                 | 18/22 [02:37<00:43, 10.78s/files]"
     ]
    },
    {
     "name": "stderr",
     "output_type": "stream",
     "text": [
      "\r",
      "Downloading data:  86%|████████████████████████████████████████████████████████████████████████████████████▋             | 19/22 [02:46<00:30, 10.21s/files]"
     ]
    },
    {
     "name": "stderr",
     "output_type": "stream",
     "text": [
      "\r",
      "Downloading data:  91%|█████████████████████████████████████████████████████████████████████████████████████████         | 20/22 [02:56<00:20, 10.27s/files]"
     ]
    },
    {
     "name": "stderr",
     "output_type": "stream",
     "text": [
      "\r",
      "Downloading data:  95%|█████████████████████████████████████████████████████████████████████████████████████████████▌    | 21/22 [03:05<00:09,  9.88s/files]"
     ]
    },
    {
     "name": "stderr",
     "output_type": "stream",
     "text": [
      "\r",
      "Downloading data: 100%|██████████████████████████████████████████████████████████████████████████████████████████████████| 22/22 [03:14<00:00,  9.56s/files]"
     ]
    },
    {
     "name": "stderr",
     "output_type": "stream",
     "text": [
      "\r",
      "Downloading data: 100%|██████████████████████████████████████████████████████████████████████████████████████████████████| 22/22 [03:14<00:00,  8.84s/files]"
     ]
    },
    {
     "name": "stderr",
     "output_type": "stream",
     "text": [
      "\n"
     ]
    },
    {
     "name": "stderr",
     "output_type": "stream",
     "text": [
      "\r",
      "Generating train split: 0 examples [00:00, ? examples/s]"
     ]
    },
    {
     "name": "stderr",
     "output_type": "stream",
     "text": [
      "\r",
      "Generating train split: 2000 examples [00:00, 12402.93 examples/s]"
     ]
    },
    {
     "name": "stderr",
     "output_type": "stream",
     "text": [
      "\r",
      "Generating train split: 4000 examples [00:00, 12665.28 examples/s]"
     ]
    },
    {
     "name": "stderr",
     "output_type": "stream",
     "text": [
      "\r",
      "Generating train split: 6000 examples [00:00, 12498.00 examples/s]"
     ]
    },
    {
     "name": "stderr",
     "output_type": "stream",
     "text": [
      "\r",
      "Generating train split: 8249 examples [00:00, 11345.90 examples/s]"
     ]
    },
    {
     "name": "stderr",
     "output_type": "stream",
     "text": [
      "\r",
      "Generating train split: 10249 examples [00:00, 11676.75 examples/s]"
     ]
    },
    {
     "name": "stderr",
     "output_type": "stream",
     "text": [
      "\r",
      "Generating train split: 12249 examples [00:01, 12057.05 examples/s]"
     ]
    },
    {
     "name": "stderr",
     "output_type": "stream",
     "text": [
      "\r",
      "Generating train split: 14249 examples [00:01, 12481.65 examples/s]"
     ]
    },
    {
     "name": "stderr",
     "output_type": "stream",
     "text": [
      "\r",
      "Generating train split: 16498 examples [00:01, 11719.58 examples/s]"
     ]
    },
    {
     "name": "stderr",
     "output_type": "stream",
     "text": [
      "\r",
      "Generating train split: 18498 examples [00:01, 11659.42 examples/s]"
     ]
    },
    {
     "name": "stderr",
     "output_type": "stream",
     "text": [
      "\r",
      "Generating train split: 20498 examples [00:01, 11938.89 examples/s]"
     ]
    },
    {
     "name": "stderr",
     "output_type": "stream",
     "text": [
      "\r",
      "Generating train split: 22747 examples [00:01, 12391.37 examples/s]"
     ]
    },
    {
     "name": "stderr",
     "output_type": "stream",
     "text": [
      "\r",
      "Generating train split: 24747 examples [00:02, 11600.74 examples/s]"
     ]
    },
    {
     "name": "stderr",
     "output_type": "stream",
     "text": [
      "\r",
      "Generating train split: 26747 examples [00:02, 12252.73 examples/s]"
     ]
    },
    {
     "name": "stderr",
     "output_type": "stream",
     "text": [
      "\r",
      "Generating train split: 28747 examples [00:02, 12889.38 examples/s]"
     ]
    },
    {
     "name": "stderr",
     "output_type": "stream",
     "text": [
      "\r",
      "Generating train split: 30996 examples [00:02, 13272.56 examples/s]"
     ]
    },
    {
     "name": "stderr",
     "output_type": "stream",
     "text": [
      "\r",
      "Generating train split: 32996 examples [00:02, 13203.39 examples/s]"
     ]
    },
    {
     "name": "stderr",
     "output_type": "stream",
     "text": [
      "\r",
      "Generating train split: 34996 examples [00:02, 13570.66 examples/s]"
     ]
    },
    {
     "name": "stderr",
     "output_type": "stream",
     "text": [
      "\r",
      "Generating train split: 37245 examples [00:02, 13934.32 examples/s]"
     ]
    },
    {
     "name": "stderr",
     "output_type": "stream",
     "text": [
      "\r",
      "Generating train split: 39245 examples [00:03, 14190.83 examples/s]"
     ]
    },
    {
     "name": "stderr",
     "output_type": "stream",
     "text": [
      "\r",
      "Generating train split: 41245 examples [00:03, 13868.29 examples/s]"
     ]
    },
    {
     "name": "stderr",
     "output_type": "stream",
     "text": [
      "\r",
      "Generating train split: 43245 examples [00:03, 14214.61 examples/s]"
     ]
    },
    {
     "name": "stderr",
     "output_type": "stream",
     "text": [
      "\r",
      "Generating train split: 45494 examples [00:03, 14685.90 examples/s]"
     ]
    },
    {
     "name": "stderr",
     "output_type": "stream",
     "text": [
      "\r",
      "Generating train split: 47494 examples [00:03, 14967.88 examples/s]"
     ]
    },
    {
     "name": "stderr",
     "output_type": "stream",
     "text": [
      "\r",
      "Generating train split: 49494 examples [00:03, 14501.36 examples/s]"
     ]
    },
    {
     "name": "stderr",
     "output_type": "stream",
     "text": [
      "\r",
      "Generating train split: 51743 examples [00:03, 14678.49 examples/s]"
     ]
    },
    {
     "name": "stderr",
     "output_type": "stream",
     "text": [
      "\r",
      "Generating train split: 53743 examples [00:04, 14798.71 examples/s]"
     ]
    },
    {
     "name": "stderr",
     "output_type": "stream",
     "text": [
      "\r",
      "Generating train split: 55743 examples [00:04, 14886.95 examples/s]"
     ]
    },
    {
     "name": "stderr",
     "output_type": "stream",
     "text": [
      "\r",
      "Generating train split: 57743 examples [00:04, 14769.09 examples/s]"
     ]
    },
    {
     "name": "stderr",
     "output_type": "stream",
     "text": [
      "\r",
      "Generating train split: 59992 examples [00:04, 14606.87 examples/s]"
     ]
    },
    {
     "name": "stderr",
     "output_type": "stream",
     "text": [
      "\r",
      "Generating train split: 61992 examples [00:04, 14261.59 examples/s]"
     ]
    },
    {
     "name": "stderr",
     "output_type": "stream",
     "text": [
      "\r",
      "Generating train split: 63992 examples [00:04, 14445.09 examples/s]"
     ]
    },
    {
     "name": "stderr",
     "output_type": "stream",
     "text": [
      "\r",
      "Generating train split: 66241 examples [00:04, 14847.75 examples/s]"
     ]
    },
    {
     "name": "stderr",
     "output_type": "stream",
     "text": [
      "\r",
      "Generating train split: 68241 examples [00:05, 14862.67 examples/s]"
     ]
    },
    {
     "name": "stderr",
     "output_type": "stream",
     "text": [
      "\r",
      "Generating train split: 70241 examples [00:05, 14707.64 examples/s]"
     ]
    },
    {
     "name": "stderr",
     "output_type": "stream",
     "text": [
      "\r",
      "Generating train split: 72241 examples [00:05, 13539.17 examples/s]"
     ]
    },
    {
     "name": "stderr",
     "output_type": "stream",
     "text": [
      "\r",
      "Generating train split: 74490 examples [00:05, 14027.60 examples/s]"
     ]
    },
    {
     "name": "stderr",
     "output_type": "stream",
     "text": [
      "\r",
      "Generating train split: 76490 examples [00:05, 13649.19 examples/s]"
     ]
    },
    {
     "name": "stderr",
     "output_type": "stream",
     "text": [
      "\r",
      "Generating train split: 78490 examples [00:05, 13800.38 examples/s]"
     ]
    },
    {
     "name": "stderr",
     "output_type": "stream",
     "text": [
      "\r",
      "Generating train split: 80739 examples [00:05, 14117.67 examples/s]"
     ]
    },
    {
     "name": "stderr",
     "output_type": "stream",
     "text": [
      "\r",
      "Generating train split: 82739 examples [00:06, 12898.11 examples/s]"
     ]
    },
    {
     "name": "stderr",
     "output_type": "stream",
     "text": [
      "\r",
      "Generating train split: 84739 examples [00:06, 13071.49 examples/s]"
     ]
    },
    {
     "name": "stderr",
     "output_type": "stream",
     "text": [
      "\r",
      "Generating train split: 86739 examples [00:06, 13095.19 examples/s]"
     ]
    },
    {
     "name": "stderr",
     "output_type": "stream",
     "text": [
      "\r",
      "Generating train split: 88988 examples [00:06, 13399.59 examples/s]"
     ]
    },
    {
     "name": "stderr",
     "output_type": "stream",
     "text": [
      "\r",
      "Generating train split: 90988 examples [00:06, 12417.50 examples/s]"
     ]
    },
    {
     "name": "stderr",
     "output_type": "stream",
     "text": [
      "\r",
      "Generating train split: 92988 examples [00:06, 12787.55 examples/s]"
     ]
    },
    {
     "name": "stderr",
     "output_type": "stream",
     "text": [
      "\r",
      "Generating train split: 95237 examples [00:07, 13120.22 examples/s]"
     ]
    },
    {
     "name": "stderr",
     "output_type": "stream",
     "text": [
      "\r",
      "Generating train split: 97237 examples [00:07, 13083.86 examples/s]"
     ]
    },
    {
     "name": "stderr",
     "output_type": "stream",
     "text": [
      "\r",
      "Generating train split: 99237 examples [00:07, 13153.23 examples/s]"
     ]
    },
    {
     "name": "stderr",
     "output_type": "stream",
     "text": [
      "\r",
      "Generating train split: 101237 examples [00:07, 12680.25 examples/s]"
     ]
    },
    {
     "name": "stderr",
     "output_type": "stream",
     "text": [
      "\r",
      "Generating train split: 103486 examples [00:07, 12504.27 examples/s]"
     ]
    },
    {
     "name": "stderr",
     "output_type": "stream",
     "text": [
      "\r",
      "Generating train split: 105486 examples [00:07, 12856.39 examples/s]"
     ]
    },
    {
     "name": "stderr",
     "output_type": "stream",
     "text": [
      "\r",
      "Generating train split: 107486 examples [00:08, 13052.62 examples/s]"
     ]
    },
    {
     "name": "stderr",
     "output_type": "stream",
     "text": [
      "\r",
      "Generating train split: 109735 examples [00:08, 12381.05 examples/s]"
     ]
    },
    {
     "name": "stderr",
     "output_type": "stream",
     "text": [
      "\r",
      "Generating train split: 111735 examples [00:08, 12942.20 examples/s]"
     ]
    },
    {
     "name": "stderr",
     "output_type": "stream",
     "text": [
      "\r",
      "Generating train split: 113735 examples [00:08, 13458.90 examples/s]"
     ]
    },
    {
     "name": "stderr",
     "output_type": "stream",
     "text": [
      "\r",
      "Generating train split: 115735 examples [00:08, 13551.42 examples/s]"
     ]
    },
    {
     "name": "stderr",
     "output_type": "stream",
     "text": [
      "\r",
      "Generating train split: 117984 examples [00:08, 13803.47 examples/s]"
     ]
    },
    {
     "name": "stderr",
     "output_type": "stream",
     "text": [
      "\r",
      "Generating train split: 119984 examples [00:08, 14048.59 examples/s]"
     ]
    },
    {
     "name": "stderr",
     "output_type": "stream",
     "text": [
      "\r",
      "Generating train split: 121984 examples [00:09, 14088.85 examples/s]"
     ]
    },
    {
     "name": "stderr",
     "output_type": "stream",
     "text": [
      "\r",
      "Generating train split: 124232 examples [00:09, 14433.54 examples/s]"
     ]
    },
    {
     "name": "stderr",
     "output_type": "stream",
     "text": [
      "\r",
      "Generating train split: 126232 examples [00:09, 14311.92 examples/s]"
     ]
    },
    {
     "name": "stderr",
     "output_type": "stream",
     "text": [
      "\r",
      "Generating train split: 128232 examples [00:09, 14393.53 examples/s]"
     ]
    },
    {
     "name": "stderr",
     "output_type": "stream",
     "text": [
      "\r",
      "Generating train split: 130232 examples [00:09, 14600.60 examples/s]"
     ]
    },
    {
     "name": "stderr",
     "output_type": "stream",
     "text": [
      "\r",
      "Generating train split: 132480 examples [00:09, 14827.81 examples/s]"
     ]
    },
    {
     "name": "stderr",
     "output_type": "stream",
     "text": [
      "\r",
      "Generating train split: 134480 examples [00:09, 14422.11 examples/s]"
     ]
    },
    {
     "name": "stderr",
     "output_type": "stream",
     "text": [
      "\r",
      "Generating train split: 136480 examples [00:10, 14575.77 examples/s]"
     ]
    },
    {
     "name": "stderr",
     "output_type": "stream",
     "text": [
      "\r",
      "Generating train split: 138728 examples [00:10, 14684.39 examples/s]"
     ]
    },
    {
     "name": "stderr",
     "output_type": "stream",
     "text": [
      "\r",
      "Generating train split: 140728 examples [00:10, 14767.95 examples/s]"
     ]
    },
    {
     "name": "stderr",
     "output_type": "stream",
     "text": [
      "\r",
      "Generating train split: 142728 examples [00:10, 14352.22 examples/s]"
     ]
    },
    {
     "name": "stderr",
     "output_type": "stream",
     "text": [
      "\r",
      "Generating train split: 144728 examples [00:10, 14530.08 examples/s]"
     ]
    },
    {
     "name": "stderr",
     "output_type": "stream",
     "text": [
      "\r",
      "Generating train split: 146976 examples [00:10, 14656.24 examples/s]"
     ]
    },
    {
     "name": "stderr",
     "output_type": "stream",
     "text": [
      "\r",
      "Generating train split: 148976 examples [00:10, 14550.01 examples/s]"
     ]
    },
    {
     "name": "stderr",
     "output_type": "stream",
     "text": [
      "\r",
      "Generating train split: 150976 examples [00:11, 14661.72 examples/s]"
     ]
    },
    {
     "name": "stderr",
     "output_type": "stream",
     "text": [
      "\r",
      "Generating train split: 153224 examples [00:11, 14909.60 examples/s]"
     ]
    },
    {
     "name": "stderr",
     "output_type": "stream",
     "text": [
      "\r",
      "Generating train split: 155224 examples [00:11, 13673.83 examples/s]"
     ]
    },
    {
     "name": "stderr",
     "output_type": "stream",
     "text": [
      "\r",
      "Generating train split: 157224 examples [00:11, 14015.67 examples/s]"
     ]
    },
    {
     "name": "stderr",
     "output_type": "stream",
     "text": [
      "\r",
      "Generating train split: 159224 examples [00:11, 13802.79 examples/s]"
     ]
    },
    {
     "name": "stderr",
     "output_type": "stream",
     "text": [
      "\r",
      "Generating train split: 159472 examples [00:11, 13595.99 examples/s]"
     ]
    },
    {
     "name": "stderr",
     "output_type": "stream",
     "text": [
      "\n"
     ]
    },
    {
     "name": "stderr",
     "output_type": "stream",
     "text": [
      "\r",
      "Casting the dataset:   0%|                                                                                                | 0/159472 [00:00<?, ? examples/s]"
     ]
    },
    {
     "name": "stderr",
     "output_type": "stream",
     "text": [
      "\r",
      "Casting the dataset:   1%|█                                                                                 | 2000/159472 [00:00<00:07, 19735.25 examples/s]"
     ]
    },
    {
     "name": "stderr",
     "output_type": "stream",
     "text": [
      "\r",
      "Casting the dataset:   4%|███                                                                               | 6000/159472 [00:00<00:07, 20416.44 examples/s]"
     ]
    },
    {
     "name": "stderr",
     "output_type": "stream",
     "text": [
      "\r",
      "Casting the dataset:   6%|████▋                                                                             | 9000/159472 [00:00<00:09, 16534.26 examples/s]"
     ]
    },
    {
     "name": "stderr",
     "output_type": "stream",
     "text": [
      "\r",
      "Casting the dataset:   7%|█████▌                                                                           | 11000/159472 [00:00<00:09, 15422.26 examples/s]"
     ]
    },
    {
     "name": "stderr",
     "output_type": "stream",
     "text": [
      "\r",
      "Casting the dataset:   8%|██████▌                                                                          | 13000/159472 [00:00<00:09, 15073.21 examples/s]"
     ]
    },
    {
     "name": "stderr",
     "output_type": "stream",
     "text": [
      "\r",
      "Casting the dataset:   9%|███████▌                                                                         | 15000/159472 [00:00<00:09, 15123.29 examples/s]"
     ]
    },
    {
     "name": "stderr",
     "output_type": "stream",
     "text": [
      "\r",
      "Casting the dataset:  11%|████████▋                                                                        | 17000/159472 [00:01<00:10, 13404.79 examples/s]"
     ]
    },
    {
     "name": "stderr",
     "output_type": "stream",
     "text": [
      "\r",
      "Casting the dataset:  12%|█████████▋                                                                       | 19000/159472 [00:01<00:10, 13815.59 examples/s]"
     ]
    },
    {
     "name": "stderr",
     "output_type": "stream",
     "text": [
      "\r",
      "Casting the dataset:  13%|██████████▋                                                                      | 21000/159472 [00:01<00:10, 13684.04 examples/s]"
     ]
    },
    {
     "name": "stderr",
     "output_type": "stream",
     "text": [
      "\r",
      "Casting the dataset:  14%|███████████▋                                                                     | 23000/159472 [00:01<00:09, 13870.26 examples/s]"
     ]
    },
    {
     "name": "stderr",
     "output_type": "stream",
     "text": [
      "\r",
      "Casting the dataset:  16%|████████████▋                                                                    | 25000/159472 [00:01<00:09, 13934.79 examples/s]"
     ]
    },
    {
     "name": "stderr",
     "output_type": "stream",
     "text": [
      "\r",
      "Casting the dataset:  17%|█████████████▋                                                                   | 27000/159472 [00:01<00:10, 13185.73 examples/s]"
     ]
    },
    {
     "name": "stderr",
     "output_type": "stream",
     "text": [
      "\r",
      "Casting the dataset:  18%|██████████████▋                                                                  | 29000/159472 [00:02<00:09, 13229.14 examples/s]"
     ]
    },
    {
     "name": "stderr",
     "output_type": "stream",
     "text": [
      "\r",
      "Casting the dataset:  19%|███████████████▋                                                                 | 31000/159472 [00:02<00:09, 13531.19 examples/s]"
     ]
    },
    {
     "name": "stderr",
     "output_type": "stream",
     "text": [
      "\r",
      "Casting the dataset:  21%|████████████████▊                                                                | 33000/159472 [00:02<00:09, 13784.94 examples/s]"
     ]
    },
    {
     "name": "stderr",
     "output_type": "stream",
     "text": [
      "\r",
      "Casting the dataset:  22%|█████████████████▊                                                               | 35000/159472 [00:02<00:09, 12688.96 examples/s]"
     ]
    },
    {
     "name": "stderr",
     "output_type": "stream",
     "text": [
      "\r",
      "Casting the dataset:  23%|██████████████████▊                                                              | 37000/159472 [00:02<00:09, 13131.78 examples/s]"
     ]
    },
    {
     "name": "stderr",
     "output_type": "stream",
     "text": [
      "\r",
      "Casting the dataset:  24%|███████████████████▊                                                             | 39000/159472 [00:02<00:08, 13487.69 examples/s]"
     ]
    },
    {
     "name": "stderr",
     "output_type": "stream",
     "text": [
      "\r",
      "Casting the dataset:  26%|████████████████████▊                                                            | 41000/159472 [00:02<00:08, 14022.18 examples/s]"
     ]
    },
    {
     "name": "stderr",
     "output_type": "stream",
     "text": [
      "\r",
      "Casting the dataset:  27%|█████████████████████▊                                                           | 43000/159472 [00:03<00:08, 14193.37 examples/s]"
     ]
    },
    {
     "name": "stderr",
     "output_type": "stream",
     "text": [
      "\r",
      "Casting the dataset:  28%|██████████████████████▊                                                          | 45000/159472 [00:03<00:07, 14584.44 examples/s]"
     ]
    },
    {
     "name": "stderr",
     "output_type": "stream",
     "text": [
      "\r",
      "Casting the dataset:  29%|███████████████████████▊                                                         | 47000/159472 [00:03<00:07, 15028.61 examples/s]"
     ]
    },
    {
     "name": "stderr",
     "output_type": "stream",
     "text": [
      "\r",
      "Casting the dataset:  31%|████████████████████████▉                                                        | 49000/159472 [00:03<00:07, 15152.74 examples/s]"
     ]
    },
    {
     "name": "stderr",
     "output_type": "stream",
     "text": [
      "\r",
      "Casting the dataset:  32%|█████████████████████████▉                                                       | 51000/159472 [00:03<00:07, 15388.28 examples/s]"
     ]
    },
    {
     "name": "stderr",
     "output_type": "stream",
     "text": [
      "\r",
      "Casting the dataset:  33%|██████████████████████████▉                                                      | 53000/159472 [00:03<00:07, 15002.72 examples/s]"
     ]
    },
    {
     "name": "stderr",
     "output_type": "stream",
     "text": [
      "\r",
      "Casting the dataset:  34%|███████████████████████████▉                                                     | 55000/159472 [00:03<00:06, 15376.16 examples/s]"
     ]
    },
    {
     "name": "stderr",
     "output_type": "stream",
     "text": [
      "\r",
      "Casting the dataset:  36%|████████████████████████████▉                                                    | 57000/159472 [00:03<00:06, 15562.88 examples/s]"
     ]
    },
    {
     "name": "stderr",
     "output_type": "stream",
     "text": [
      "\r",
      "Casting the dataset:  37%|█████████████████████████████▉                                                   | 59000/159472 [00:04<00:06, 15615.58 examples/s]"
     ]
    },
    {
     "name": "stderr",
     "output_type": "stream",
     "text": [
      "\r",
      "Casting the dataset:  38%|██████████████████████████████▉                                                  | 61000/159472 [00:04<00:06, 15349.04 examples/s]"
     ]
    },
    {
     "name": "stderr",
     "output_type": "stream",
     "text": [
      "\r",
      "Casting the dataset:  40%|███████████████████████████████▉                                                 | 63000/159472 [00:04<00:06, 15603.03 examples/s]"
     ]
    },
    {
     "name": "stderr",
     "output_type": "stream",
     "text": [
      "\r",
      "Casting the dataset:  41%|█████████████████████████████████                                                | 65000/159472 [00:04<00:05, 15779.96 examples/s]"
     ]
    },
    {
     "name": "stderr",
     "output_type": "stream",
     "text": [
      "\r",
      "Casting the dataset:  42%|██████████████████████████████████                                               | 67000/159472 [00:04<00:05, 15890.41 examples/s]"
     ]
    },
    {
     "name": "stderr",
     "output_type": "stream",
     "text": [
      "\r",
      "Casting the dataset:  43%|███████████████████████████████████                                              | 69000/159472 [00:04<00:05, 16101.15 examples/s]"
     ]
    },
    {
     "name": "stderr",
     "output_type": "stream",
     "text": [
      "\r",
      "Casting the dataset:  45%|████████████████████████████████████                                             | 71000/159472 [00:04<00:05, 15582.00 examples/s]"
     ]
    },
    {
     "name": "stderr",
     "output_type": "stream",
     "text": [
      "\r",
      "Casting the dataset:  46%|█████████████████████████████████████                                            | 73000/159472 [00:04<00:05, 15790.68 examples/s]"
     ]
    },
    {
     "name": "stderr",
     "output_type": "stream",
     "text": [
      "\r",
      "Casting the dataset:  47%|██████████████████████████████████████                                           | 75000/159472 [00:05<00:05, 15822.68 examples/s]"
     ]
    },
    {
     "name": "stderr",
     "output_type": "stream",
     "text": [
      "\r",
      "Casting the dataset:  48%|███████████████████████████████████████                                          | 77000/159472 [00:05<00:05, 15569.44 examples/s]"
     ]
    },
    {
     "name": "stderr",
     "output_type": "stream",
     "text": [
      "\r",
      "Casting the dataset:  50%|████████████████████████████████████████▏                                        | 79000/159472 [00:05<00:05, 15804.82 examples/s]"
     ]
    },
    {
     "name": "stderr",
     "output_type": "stream",
     "text": [
      "\r",
      "Casting the dataset:  51%|█████████████████████████████████████████▏                                       | 81000/159472 [00:05<00:04, 15855.62 examples/s]"
     ]
    },
    {
     "name": "stderr",
     "output_type": "stream",
     "text": [
      "\r",
      "Casting the dataset:  52%|██████████████████████████████████████████▏                                      | 83000/159472 [00:05<00:04, 15719.22 examples/s]"
     ]
    },
    {
     "name": "stderr",
     "output_type": "stream",
     "text": [
      "\r",
      "Casting the dataset:  53%|███████████████████████████████████████████▏                                     | 85000/159472 [00:05<00:05, 13618.21 examples/s]"
     ]
    },
    {
     "name": "stderr",
     "output_type": "stream",
     "text": [
      "\r",
      "Casting the dataset:  55%|████████████████████████████████████████████▏                                    | 87000/159472 [00:05<00:05, 14027.41 examples/s]"
     ]
    },
    {
     "name": "stderr",
     "output_type": "stream",
     "text": [
      "\r",
      "Casting the dataset:  56%|█████████████████████████████████████████████▏                                   | 89000/159472 [00:06<00:05, 13797.72 examples/s]"
     ]
    },
    {
     "name": "stderr",
     "output_type": "stream",
     "text": [
      "\r",
      "Casting the dataset:  57%|██████████████████████████████████████████████▏                                  | 91000/159472 [00:06<00:04, 14014.18 examples/s]"
     ]
    },
    {
     "name": "stderr",
     "output_type": "stream",
     "text": [
      "\r",
      "Casting the dataset:  58%|███████████████████████████████████████████████▏                                 | 93000/159472 [00:06<00:04, 14242.02 examples/s]"
     ]
    },
    {
     "name": "stderr",
     "output_type": "stream",
     "text": [
      "\r",
      "Casting the dataset:  60%|████████████████████████████████████████████████▎                                | 95000/159472 [00:06<00:04, 12999.86 examples/s]"
     ]
    },
    {
     "name": "stderr",
     "output_type": "stream",
     "text": [
      "\r",
      "Casting the dataset:  61%|█████████████████████████████████████████████████▎                               | 97000/159472 [00:06<00:04, 13466.67 examples/s]"
     ]
    },
    {
     "name": "stderr",
     "output_type": "stream",
     "text": [
      "\r",
      "Casting the dataset:  62%|██████████████████████████████████████████████████▎                              | 99000/159472 [00:06<00:04, 13354.92 examples/s]"
     ]
    },
    {
     "name": "stderr",
     "output_type": "stream",
     "text": [
      "\r",
      "Casting the dataset:  63%|██████████████████████████████████████████████████▋                             | 101000/159472 [00:06<00:04, 13472.38 examples/s]"
     ]
    },
    {
     "name": "stderr",
     "output_type": "stream",
     "text": [
      "\r",
      "Casting the dataset:  65%|███████████████████████████████████████████████████▋                            | 103000/159472 [00:07<00:04, 13748.79 examples/s]"
     ]
    },
    {
     "name": "stderr",
     "output_type": "stream",
     "text": [
      "\r",
      "Casting the dataset:  66%|████████████████████████████████████████████████████▋                           | 105000/159472 [00:07<00:04, 11971.53 examples/s]"
     ]
    },
    {
     "name": "stderr",
     "output_type": "stream",
     "text": [
      "\r",
      "Casting the dataset:  67%|█████████████████████████████████████████████████████▋                          | 107000/159472 [00:07<00:04, 11794.87 examples/s]"
     ]
    },
    {
     "name": "stderr",
     "output_type": "stream",
     "text": [
      "\r",
      "Casting the dataset:  68%|██████████████████████████████████████████████████████▋                         | 109000/159472 [00:07<00:04, 12109.72 examples/s]"
     ]
    },
    {
     "name": "stderr",
     "output_type": "stream",
     "text": [
      "\r",
      "Casting the dataset:  70%|███████████████████████████████████████████████████████▋                        | 111000/159472 [00:07<00:03, 12838.62 examples/s]"
     ]
    },
    {
     "name": "stderr",
     "output_type": "stream",
     "text": [
      "\r",
      "Casting the dataset:  71%|████████████████████████████████████████████████████████▋                       | 113000/159472 [00:07<00:03, 11761.87 examples/s]"
     ]
    },
    {
     "name": "stderr",
     "output_type": "stream",
     "text": [
      "\r",
      "Casting the dataset:  72%|█████████████████████████████████████████████████████████▋                      | 115000/159472 [00:08<00:03, 12361.14 examples/s]"
     ]
    },
    {
     "name": "stderr",
     "output_type": "stream",
     "text": [
      "\r",
      "Casting the dataset:  73%|██████████████████████████████████████████████████████████▋                     | 117000/159472 [00:08<00:03, 12886.11 examples/s]"
     ]
    },
    {
     "name": "stderr",
     "output_type": "stream",
     "text": [
      "\r",
      "Casting the dataset:  75%|███████████████████████████████████████████████████████████▋                    | 119000/159472 [00:08<00:03, 13310.16 examples/s]"
     ]
    },
    {
     "name": "stderr",
     "output_type": "stream",
     "text": [
      "\r",
      "Casting the dataset:  76%|████████████████████████████████████████████████████████████▋                   | 121000/159472 [00:08<00:02, 13522.31 examples/s]"
     ]
    },
    {
     "name": "stderr",
     "output_type": "stream",
     "text": [
      "\r",
      "Casting the dataset:  77%|█████████████████████████████████████████████████████████████▋                  | 123000/159472 [00:08<00:02, 12476.21 examples/s]"
     ]
    },
    {
     "name": "stderr",
     "output_type": "stream",
     "text": [
      "\r",
      "Casting the dataset:  78%|██████████████████████████████████████████████████████████████▋                 | 125000/159472 [00:08<00:02, 13336.58 examples/s]"
     ]
    },
    {
     "name": "stderr",
     "output_type": "stream",
     "text": [
      "\r",
      "Casting the dataset:  80%|███████████████████████████████████████████████████████████████▋                | 127000/159472 [00:08<00:02, 13963.25 examples/s]"
     ]
    },
    {
     "name": "stderr",
     "output_type": "stream",
     "text": [
      "\r",
      "Casting the dataset:  81%|████████████████████████████████████████████████████████████████▋               | 129000/159472 [00:09<00:02, 14363.14 examples/s]"
     ]
    },
    {
     "name": "stderr",
     "output_type": "stream",
     "text": [
      "\r",
      "Casting the dataset:  82%|█████████████████████████████████████████████████████████████████▋              | 131000/159472 [00:09<00:02, 13417.87 examples/s]"
     ]
    },
    {
     "name": "stderr",
     "output_type": "stream",
     "text": [
      "\r",
      "Casting the dataset:  83%|██████████████████████████████████████████████████████████████████▋             | 133000/159472 [00:09<00:01, 13416.48 examples/s]"
     ]
    },
    {
     "name": "stderr",
     "output_type": "stream",
     "text": [
      "\r",
      "Casting the dataset:  85%|███████████████████████████████████████████████████████████████████▋            | 135000/159472 [00:09<00:01, 13700.70 examples/s]"
     ]
    },
    {
     "name": "stderr",
     "output_type": "stream",
     "text": [
      "\r",
      "Casting the dataset:  86%|████████████████████████████████████████████████████████████████████▋           | 137000/159472 [00:09<00:01, 13939.14 examples/s]"
     ]
    },
    {
     "name": "stderr",
     "output_type": "stream",
     "text": [
      "\r",
      "Casting the dataset:  87%|█████████████████████████████████████████████████████████████████████▋          | 139000/159472 [00:09<00:01, 13561.49 examples/s]"
     ]
    },
    {
     "name": "stderr",
     "output_type": "stream",
     "text": [
      "\r",
      "Casting the dataset:  88%|██████████████████████████████████████████████████████████████████████▋         | 141000/159472 [00:09<00:01, 13635.96 examples/s]"
     ]
    },
    {
     "name": "stderr",
     "output_type": "stream",
     "text": [
      "\r",
      "Casting the dataset:  90%|███████████████████████████████████████████████████████████████████████▋        | 143000/159472 [00:10<00:01, 13703.18 examples/s]"
     ]
    },
    {
     "name": "stderr",
     "output_type": "stream",
     "text": [
      "\r",
      "Casting the dataset:  91%|████████████████████████████████████████████████████████████████████████▋       | 145000/159472 [00:10<00:01, 13774.76 examples/s]"
     ]
    },
    {
     "name": "stderr",
     "output_type": "stream",
     "text": [
      "\r",
      "Casting the dataset:  92%|█████████████████████████████████████████████████████████████████████████▋      | 147000/159472 [00:10<00:00, 13471.30 examples/s]"
     ]
    },
    {
     "name": "stderr",
     "output_type": "stream",
     "text": [
      "\r",
      "Casting the dataset:  93%|██████████████████████████████████████████████████████████████████████████▋     | 149000/159472 [00:10<00:00, 13526.85 examples/s]"
     ]
    },
    {
     "name": "stderr",
     "output_type": "stream",
     "text": [
      "\r",
      "Casting the dataset:  95%|███████████████████████████████████████████████████████████████████████████▋    | 151000/159472 [00:10<00:00, 13578.33 examples/s]"
     ]
    },
    {
     "name": "stderr",
     "output_type": "stream",
     "text": [
      "\r",
      "Casting the dataset:  96%|████████████████████████████████████████████████████████████████████████████▊   | 153000/159472 [00:10<00:00, 13713.52 examples/s]"
     ]
    },
    {
     "name": "stderr",
     "output_type": "stream",
     "text": [
      "\r",
      "Casting the dataset:  97%|█████████████████████████████████████████████████████████████████████████████▊  | 155000/159472 [00:11<00:00, 13301.60 examples/s]"
     ]
    },
    {
     "name": "stderr",
     "output_type": "stream",
     "text": [
      "\r",
      "Casting the dataset:  98%|██████████████████████████████████████████████████████████████████████████████▊ | 157000/159472 [00:11<00:00, 13519.80 examples/s]"
     ]
    },
    {
     "name": "stderr",
     "output_type": "stream",
     "text": [
      "\r",
      "Casting the dataset: 100%|███████████████████████████████████████████████████████████████████████████████▊| 159000/159472 [00:11<00:00, 13425.16 examples/s]"
     ]
    },
    {
     "name": "stderr",
     "output_type": "stream",
     "text": [
      "\r",
      "Casting the dataset: 100%|███████████████████████████████████████████████████████████████████████████████▊| 159000/159472 [00:24<00:00, 13425.16 examples/s]"
     ]
    },
    {
     "name": "stderr",
     "output_type": "stream",
     "text": [
      "\r",
      "Casting the dataset: 100%|██████████████████████████████████████████████████████████████████████████████████| 159472/159472 [00:39<00:00, 178.17 examples/s]"
     ]
    },
    {
     "name": "stderr",
     "output_type": "stream",
     "text": [
      "\r",
      "Casting the dataset: 100%|█████████████████████████████████████████████████████████████████████████████████| 159472/159472 [00:39<00:00, 4003.14 examples/s]"
     ]
    },
    {
     "name": "stderr",
     "output_type": "stream",
     "text": [
      "\n"
     ]
    },
    {
     "name": "stderr",
     "output_type": "stream",
     "text": [
      "\r",
      "Saving the dataset (0/8 shards):   0%|                                                                                    | 0/159472 [00:00<?, ? examples/s]"
     ]
    },
    {
     "name": "stderr",
     "output_type": "stream",
     "text": [
      "\r",
      "Saving the dataset (0/8 shards):   5%|███▌                                                                  | 8000/159472 [00:00<00:02, 62387.39 examples/s]"
     ]
    },
    {
     "name": "stderr",
     "output_type": "stream",
     "text": [
      "\r",
      "Saving the dataset (0/8 shards):   9%|██████▍                                                              | 15000/159472 [00:00<00:02, 59380.57 examples/s]"
     ]
    },
    {
     "name": "stderr",
     "output_type": "stream",
     "text": [
      "\r",
      "Saving the dataset (1/8 shards):  12%|████████▋                                                            | 19934/159472 [00:00<00:02, 59380.57 examples/s]"
     ]
    },
    {
     "name": "stderr",
     "output_type": "stream",
     "text": [
      "\r",
      "Saving the dataset (1/8 shards):  14%|█████████▍                                                           | 21934/159472 [00:00<00:02, 54853.47 examples/s]"
     ]
    },
    {
     "name": "stderr",
     "output_type": "stream",
     "text": [
      "\r",
      "Saving the dataset (1/8 shards):  18%|████████████                                                         | 27934/159472 [00:00<00:02, 54725.60 examples/s]"
     ]
    },
    {
     "name": "stderr",
     "output_type": "stream",
     "text": [
      "\r",
      "Saving the dataset (1/8 shards):  21%|██████████████▋                                                      | 33934/159472 [00:00<00:02, 48462.57 examples/s]"
     ]
    },
    {
     "name": "stderr",
     "output_type": "stream",
     "text": [
      "\r",
      "Saving the dataset (1/8 shards):  25%|█████████████████▎                                                   | 39868/159472 [00:00<00:02, 49447.24 examples/s]"
     ]
    },
    {
     "name": "stderr",
     "output_type": "stream",
     "text": [
      "\r",
      "Saving the dataset (2/8 shards):  25%|█████████████████▎                                                   | 39868/159472 [00:00<00:02, 49447.24 examples/s]"
     ]
    },
    {
     "name": "stderr",
     "output_type": "stream",
     "text": [
      "\r",
      "Saving the dataset (2/8 shards):  29%|███████████████████▊                                                 | 45868/159472 [00:00<00:02, 50621.40 examples/s]"
     ]
    },
    {
     "name": "stderr",
     "output_type": "stream",
     "text": [
      "\r",
      "Saving the dataset (2/8 shards):  33%|██████████████████████▍                                              | 51868/159472 [00:00<00:02, 51384.28 examples/s]"
     ]
    },
    {
     "name": "stderr",
     "output_type": "stream",
     "text": [
      "\r",
      "Saving the dataset (2/8 shards):  36%|█████████████████████████                                            | 57868/159472 [00:01<00:01, 51552.54 examples/s]"
     ]
    },
    {
     "name": "stderr",
     "output_type": "stream",
     "text": [
      "\r",
      "Saving the dataset (3/8 shards):  38%|█████████████████████████▉                                           | 59802/159472 [00:01<00:01, 51552.54 examples/s]"
     ]
    },
    {
     "name": "stderr",
     "output_type": "stream",
     "text": [
      "\r",
      "Saving the dataset (3/8 shards):  41%|████████████████████████████▍                                        | 65802/159472 [00:01<00:01, 52079.29 examples/s]"
     ]
    },
    {
     "name": "stderr",
     "output_type": "stream",
     "text": [
      "\r",
      "Saving the dataset (3/8 shards):  46%|███████████████████████████████▍                                     | 72802/159472 [00:01<00:01, 48686.63 examples/s]"
     ]
    },
    {
     "name": "stderr",
     "output_type": "stream",
     "text": [
      "\r",
      "Saving the dataset (3/8 shards):  49%|██████████████████████████████████                                   | 78802/159472 [00:01<00:01, 49198.51 examples/s]"
     ]
    },
    {
     "name": "stderr",
     "output_type": "stream",
     "text": [
      "\r",
      "Saving the dataset (4/8 shards):  50%|██████████████████████████████████▌                                  | 79736/159472 [00:01<00:01, 49198.51 examples/s]"
     ]
    },
    {
     "name": "stderr",
     "output_type": "stream",
     "text": [
      "\r",
      "Saving the dataset (4/8 shards):  54%|█████████████████████████████████████▌                               | 86736/159472 [00:01<00:01, 51142.61 examples/s]"
     ]
    },
    {
     "name": "stderr",
     "output_type": "stream",
     "text": [
      "\r",
      "Saving the dataset (4/8 shards):  58%|████████████████████████████████████████                             | 92736/159472 [00:01<00:01, 52115.13 examples/s]"
     ]
    },
    {
     "name": "stderr",
     "output_type": "stream",
     "text": [
      "\r",
      "Saving the dataset (4/8 shards):  62%|███████████████████████████████████████████▏                         | 99670/159472 [00:01<00:01, 49972.57 examples/s]"
     ]
    },
    {
     "name": "stderr",
     "output_type": "stream",
     "text": [
      "\r",
      "Saving the dataset (5/8 shards):  62%|███████████████████████████████████████████▏                         | 99670/159472 [00:01<00:01, 49972.57 examples/s]"
     ]
    },
    {
     "name": "stderr",
     "output_type": "stream",
     "text": [
      "\r",
      "Saving the dataset (5/8 shards):  66%|█████████████████████████████████████████████                       | 105670/159472 [00:02<00:01, 47842.57 examples/s]"
     ]
    },
    {
     "name": "stderr",
     "output_type": "stream",
     "text": [
      "\r",
      "Saving the dataset (5/8 shards):  70%|███████████████████████████████████████████████▌                    | 111670/159472 [00:02<00:00, 49543.20 examples/s]"
     ]
    },
    {
     "name": "stderr",
     "output_type": "stream",
     "text": [
      "\r",
      "Saving the dataset (5/8 shards):  74%|██████████████████████████████████████████████████▏                 | 117670/159472 [00:02<00:00, 51197.13 examples/s]"
     ]
    },
    {
     "name": "stderr",
     "output_type": "stream",
     "text": [
      "\r",
      "Saving the dataset (6/8 shards):  75%|███████████████████████████████████████████████████                 | 119604/159472 [00:02<00:00, 51197.13 examples/s]"
     ]
    },
    {
     "name": "stderr",
     "output_type": "stream",
     "text": [
      "\r",
      "Saving the dataset (6/8 shards):  79%|█████████████████████████████████████████████████████▌              | 125604/159472 [00:02<00:00, 51991.78 examples/s]"
     ]
    },
    {
     "name": "stderr",
     "output_type": "stream",
     "text": [
      "\r",
      "Saving the dataset (6/8 shards):  83%|████████████████████████████████████████████████████████            | 131604/159472 [00:02<00:00, 51596.66 examples/s]"
     ]
    },
    {
     "name": "stderr",
     "output_type": "stream",
     "text": [
      "\r",
      "Saving the dataset (6/8 shards):  86%|██████████████████████████████████████████████████████████▋         | 137604/159472 [00:02<00:00, 51954.50 examples/s]"
     ]
    },
    {
     "name": "stderr",
     "output_type": "stream",
     "text": [
      "\r",
      "Saving the dataset (7/8 shards):  88%|███████████████████████████████████████████████████████████▌        | 139538/159472 [00:02<00:00, 51954.50 examples/s]"
     ]
    },
    {
     "name": "stderr",
     "output_type": "stream",
     "text": [
      "\r",
      "Saving the dataset (7/8 shards):  91%|██████████████████████████████████████████████████████████████      | 145538/159472 [00:02<00:00, 51987.40 examples/s]"
     ]
    },
    {
     "name": "stderr",
     "output_type": "stream",
     "text": [
      "\r",
      "Saving the dataset (7/8 shards):  95%|████████████████████████████████████████████████████████████████▌   | 151538/159472 [00:02<00:00, 53199.08 examples/s]"
     ]
    },
    {
     "name": "stderr",
     "output_type": "stream",
     "text": [
      "\r",
      "Saving the dataset (7/8 shards):  99%|███████████████████████████████████████████████████████████████████▏| 157538/159472 [00:03<00:00, 52890.33 examples/s]"
     ]
    },
    {
     "name": "stderr",
     "output_type": "stream",
     "text": [
      "\r",
      "Saving the dataset (8/8 shards): 100%|████████████████████████████████████████████████████████████████████| 159472/159472 [00:03<00:00, 52890.33 examples/s]"
     ]
    },
    {
     "name": "stderr",
     "output_type": "stream",
     "text": [
      "\r",
      "Saving the dataset (8/8 shards): 100%|████████████████████████████████████████████████████████████████████| 159472/159472 [00:03<00:00, 51494.80 examples/s]"
     ]
    },
    {
     "name": "stderr",
     "output_type": "stream",
     "text": [
      "\n"
     ]
    },
    {
     "name": "stdout",
     "output_type": "stream",
     "text": [
      "Dataset Salesforce/lotsa_data/azure_vm_traces_2017 saved to /raid/decaro/TimeSeriesForecastingFoundationModels/data/splitted_full_dataset/Salesforce_lotsa_data_azure_vm_traces_2017\n",
      "Loading bdg-2_bear...\n"
     ]
    },
    {
     "name": "stderr",
     "output_type": "stream",
     "text": [
      "\r",
      "Generating train split: 0 examples [00:00, ? examples/s]"
     ]
    },
    {
     "name": "stderr",
     "output_type": "stream",
     "text": [
      "\r",
      "Generating train split: 91 examples [00:00, 16004.77 examples/s]"
     ]
    },
    {
     "name": "stderr",
     "output_type": "stream",
     "text": [
      "\n"
     ]
    },
    {
     "name": "stderr",
     "output_type": "stream",
     "text": [
      "\r",
      "Casting the dataset:   0%|                                                                                                    | 0/91 [00:00<?, ? examples/s]"
     ]
    },
    {
     "name": "stderr",
     "output_type": "stream",
     "text": [
      "\r",
      "Casting the dataset: 100%|████████████████████████████████████████████████████████████████████████████████████████| 91/91 [00:00<00:00, 10657.63 examples/s]"
     ]
    },
    {
     "name": "stderr",
     "output_type": "stream",
     "text": [
      "\n"
     ]
    },
    {
     "name": "stderr",
     "output_type": "stream",
     "text": [
      "\r",
      "Saving the dataset (0/1 shards):   0%|                                                                                        | 0/91 [00:00<?, ? examples/s]"
     ]
    },
    {
     "name": "stderr",
     "output_type": "stream",
     "text": [
      "\r",
      "Saving the dataset (1/1 shards): 100%|████████████████████████████████████████████████████████████████████████████| 91/91 [00:00<00:00, 12083.12 examples/s]"
     ]
    },
    {
     "name": "stderr",
     "output_type": "stream",
     "text": [
      "\r",
      "Saving the dataset (1/1 shards): 100%|████████████████████████████████████████████████████████████████████████████| 91/91 [00:00<00:00, 10140.32 examples/s]"
     ]
    },
    {
     "name": "stderr",
     "output_type": "stream",
     "text": [
      "\n"
     ]
    },
    {
     "name": "stdout",
     "output_type": "stream",
     "text": [
      "Dataset Salesforce/lotsa_data/bdg-2_bear saved to /raid/decaro/TimeSeriesForecastingFoundationModels/data/splitted_full_dataset/Salesforce_lotsa_data_bdg-2_bear\n",
      "Loading bdg-2_fox...\n"
     ]
    },
    {
     "name": "stderr",
     "output_type": "stream",
     "text": [
      "\r",
      "Generating train split: 0 examples [00:00, ? examples/s]"
     ]
    },
    {
     "name": "stderr",
     "output_type": "stream",
     "text": [
      "\r",
      "Generating train split: 135 examples [00:00, 7259.65 examples/s]"
     ]
    },
    {
     "name": "stderr",
     "output_type": "stream",
     "text": [
      "\n"
     ]
    },
    {
     "name": "stderr",
     "output_type": "stream",
     "text": [
      "\r",
      "Casting the dataset:   0%|                                                                                                   | 0/135 [00:00<?, ? examples/s]"
     ]
    },
    {
     "name": "stderr",
     "output_type": "stream",
     "text": [
      "\r",
      "Casting the dataset: 100%|███████████████████████████████████████████████████████████████████████████████████████| 135/135 [00:00<00:00, 2490.50 examples/s]"
     ]
    },
    {
     "name": "stderr",
     "output_type": "stream",
     "text": [
      "\n"
     ]
    },
    {
     "name": "stderr",
     "output_type": "stream",
     "text": [
      "\r",
      "Saving the dataset (0/1 shards):   0%|                                                                                       | 0/135 [00:00<?, ? examples/s]"
     ]
    },
    {
     "name": "stderr",
     "output_type": "stream",
     "text": [
      "\r",
      "Saving the dataset (1/1 shards): 100%|██████████████████████████████████████████████████████████████████████████| 135/135 [00:00<00:00, 14265.26 examples/s]"
     ]
    },
    {
     "name": "stderr",
     "output_type": "stream",
     "text": [
      "\r",
      "Saving the dataset (1/1 shards): 100%|███████████████████████████████████████████████████████████████████████████| 135/135 [00:00<00:00, 8590.71 examples/s]"
     ]
    },
    {
     "name": "stderr",
     "output_type": "stream",
     "text": [
      "\n"
     ]
    },
    {
     "name": "stdout",
     "output_type": "stream",
     "text": [
      "Dataset Salesforce/lotsa_data/bdg-2_fox saved to /raid/decaro/TimeSeriesForecastingFoundationModels/data/splitted_full_dataset/Salesforce_lotsa_data_bdg-2_fox\n",
      "Loading bdg-2_panther...\n"
     ]
    },
    {
     "name": "stderr",
     "output_type": "stream",
     "text": [
      "\r",
      "Generating train split: 0 examples [00:00, ? examples/s]"
     ]
    },
    {
     "name": "stderr",
     "output_type": "stream",
     "text": [
      "\r",
      "Generating train split: 105 examples [00:00, 24102.56 examples/s]"
     ]
    },
    {
     "name": "stderr",
     "output_type": "stream",
     "text": [
      "\n"
     ]
    },
    {
     "name": "stderr",
     "output_type": "stream",
     "text": [
      "\r",
      "Casting the dataset:   0%|                                                                                                   | 0/105 [00:00<?, ? examples/s]"
     ]
    },
    {
     "name": "stderr",
     "output_type": "stream",
     "text": [
      "\r",
      "Casting the dataset: 100%|██████████████████████████████████████████████████████████████████████████████████████| 105/105 [00:00<00:00, 16409.03 examples/s]"
     ]
    },
    {
     "name": "stderr",
     "output_type": "stream",
     "text": [
      "\n"
     ]
    },
    {
     "name": "stderr",
     "output_type": "stream",
     "text": [
      "\r",
      "Saving the dataset (0/1 shards):   0%|                                                                                       | 0/105 [00:00<?, ? examples/s]"
     ]
    },
    {
     "name": "stderr",
     "output_type": "stream",
     "text": [
      "\r",
      "Saving the dataset (1/1 shards): 100%|██████████████████████████████████████████████████████████████████████████| 105/105 [00:00<00:00, 11425.36 examples/s]"
     ]
    },
    {
     "name": "stderr",
     "output_type": "stream",
     "text": [
      "\r",
      "Saving the dataset (1/1 shards): 100%|███████████████████████████████████████████████████████████████████████████| 105/105 [00:00<00:00, 8898.63 examples/s]"
     ]
    },
    {
     "name": "stderr",
     "output_type": "stream",
     "text": [
      "\n"
     ]
    },
    {
     "name": "stdout",
     "output_type": "stream",
     "text": [
      "Dataset Salesforce/lotsa_data/bdg-2_panther saved to /raid/decaro/TimeSeriesForecastingFoundationModels/data/splitted_full_dataset/Salesforce_lotsa_data_bdg-2_panther\n",
      "Loading bdg-2_rat...\n"
     ]
    },
    {
     "name": "stderr",
     "output_type": "stream",
     "text": [
      "\r",
      "Generating train split: 0 examples [00:00, ? examples/s]"
     ]
    },
    {
     "name": "stderr",
     "output_type": "stream",
     "text": [
      "\r",
      "Generating train split: 280 examples [00:00, 9473.15 examples/s]"
     ]
    },
    {
     "name": "stderr",
     "output_type": "stream",
     "text": [
      "\n"
     ]
    },
    {
     "name": "stderr",
     "output_type": "stream",
     "text": [
      "\r",
      "Casting the dataset:   0%|                                                                                                   | 0/280 [00:00<?, ? examples/s]"
     ]
    },
    {
     "name": "stderr",
     "output_type": "stream",
     "text": [
      "\r",
      "Casting the dataset: 100%|███████████████████████████████████████████████████████████████████████████████████████| 280/280 [00:00<00:00, 4767.43 examples/s]"
     ]
    },
    {
     "name": "stderr",
     "output_type": "stream",
     "text": [
      "\n"
     ]
    },
    {
     "name": "stderr",
     "output_type": "stream",
     "text": [
      "\r",
      "Saving the dataset (0/1 shards):   0%|                                                                                       | 0/280 [00:00<?, ? examples/s]"
     ]
    },
    {
     "name": "stderr",
     "output_type": "stream",
     "text": [
      "\r",
      "Saving the dataset (1/1 shards): 100%|██████████████████████████████████████████████████████████████████████████| 280/280 [00:00<00:00, 12213.92 examples/s]"
     ]
    },
    {
     "name": "stderr",
     "output_type": "stream",
     "text": [
      "\r",
      "Saving the dataset (1/1 shards): 100%|██████████████████████████████████████████████████████████████████████████| 280/280 [00:00<00:00, 11489.56 examples/s]"
     ]
    },
    {
     "name": "stderr",
     "output_type": "stream",
     "text": [
      "\n"
     ]
    },
    {
     "name": "stdout",
     "output_type": "stream",
     "text": [
      "Dataset Salesforce/lotsa_data/bdg-2_rat saved to /raid/decaro/TimeSeriesForecastingFoundationModels/data/splitted_full_dataset/Salesforce_lotsa_data_bdg-2_rat\n",
      "Loading beijing_air_quality...\n"
     ]
    },
    {
     "name": "stderr",
     "output_type": "stream",
     "text": [
      "\r",
      "Generating train split: 0 examples [00:00, ? examples/s]"
     ]
    },
    {
     "name": "stderr",
     "output_type": "stream",
     "text": [
      "\r",
      "Generating train split: 12 examples [00:00, 421.01 examples/s]"
     ]
    },
    {
     "name": "stderr",
     "output_type": "stream",
     "text": [
      "\n"
     ]
    },
    {
     "name": "stderr",
     "output_type": "stream",
     "text": [
      "\r",
      "Casting the dataset:   0%|                                                                                                    | 0/12 [00:00<?, ? examples/s]"
     ]
    },
    {
     "name": "stderr",
     "output_type": "stream",
     "text": [
      "\r",
      "Casting the dataset: 100%|██████████████████████████████████████████████████████████████████████████████████████████| 12/12 [00:00<00:00, 244.34 examples/s]"
     ]
    },
    {
     "name": "stderr",
     "output_type": "stream",
     "text": [
      "\n"
     ]
    },
    {
     "name": "stderr",
     "output_type": "stream",
     "text": [
      "\r",
      "Saving the dataset (0/1 shards):   0%|                                                                                        | 0/12 [00:00<?, ? examples/s]"
     ]
    },
    {
     "name": "stderr",
     "output_type": "stream",
     "text": [
      "\r",
      "Saving the dataset (1/1 shards): 100%|██████████████████████████████████████████████████████████████████████████████| 12/12 [00:00<00:00, 647.04 examples/s]"
     ]
    },
    {
     "name": "stderr",
     "output_type": "stream",
     "text": [
      "\r",
      "Saving the dataset (1/1 shards): 100%|██████████████████████████████████████████████████████████████████████████████| 12/12 [00:00<00:00, 609.00 examples/s]"
     ]
    },
    {
     "name": "stderr",
     "output_type": "stream",
     "text": [
      "\n"
     ]
    },
    {
     "name": "stdout",
     "output_type": "stream",
     "text": [
      "Dataset Salesforce/lotsa_data/beijing_air_quality saved to /raid/decaro/TimeSeriesForecastingFoundationModels/data/splitted_full_dataset/Salesforce_lotsa_data_beijing_air_quality\n",
      "Loading bitcoin_with_missing...\n"
     ]
    },
    {
     "name": "stderr",
     "output_type": "stream",
     "text": [
      "\r",
      "Generating train split: 0 examples [00:00, ? examples/s]"
     ]
    },
    {
     "name": "stderr",
     "output_type": "stream",
     "text": [
      "\r",
      "Generating train split: 18 examples [00:00, 6792.40 examples/s]"
     ]
    },
    {
     "name": "stderr",
     "output_type": "stream",
     "text": [
      "\n"
     ]
    },
    {
     "name": "stderr",
     "output_type": "stream",
     "text": [
      "\r",
      "Casting the dataset:   0%|                                                                                                    | 0/18 [00:00<?, ? examples/s]"
     ]
    },
    {
     "name": "stderr",
     "output_type": "stream",
     "text": [
      "\r",
      "Casting the dataset: 100%|█████████████████████████████████████████████████████████████████████████████████████████| 18/18 [00:00<00:00, 3217.31 examples/s]"
     ]
    },
    {
     "name": "stderr",
     "output_type": "stream",
     "text": [
      "\n"
     ]
    },
    {
     "name": "stderr",
     "output_type": "stream",
     "text": [
      "\r",
      "Saving the dataset (0/1 shards):   0%|                                                                                        | 0/18 [00:00<?, ? examples/s]"
     ]
    },
    {
     "name": "stderr",
     "output_type": "stream",
     "text": [
      "\r",
      "Saving the dataset (1/1 shards): 100%|██████████████████████████████████████████████████████████████████████████████| 18/18 [00:00<00:00, 914.29 examples/s]"
     ]
    },
    {
     "name": "stderr",
     "output_type": "stream",
     "text": [
      "\r",
      "Saving the dataset (1/1 shards): 100%|██████████████████████████████████████████████████████████████████████████████| 18/18 [00:00<00:00, 826.26 examples/s]"
     ]
    },
    {
     "name": "stderr",
     "output_type": "stream",
     "text": [
      "\n"
     ]
    },
    {
     "name": "stdout",
     "output_type": "stream",
     "text": [
      "Dataset Salesforce/lotsa_data/bitcoin_with_missing saved to /raid/decaro/TimeSeriesForecastingFoundationModels/data/splitted_full_dataset/Salesforce_lotsa_data_bitcoin_with_missing\n",
      "Loading borealis...\n"
     ]
    },
    {
     "name": "stderr",
     "output_type": "stream",
     "text": [
      "\r",
      "Generating train split: 0 examples [00:00, ? examples/s]"
     ]
    },
    {
     "name": "stderr",
     "output_type": "stream",
     "text": [
      "\r",
      "Generating train split: 15 examples [00:00, 7079.39 examples/s]"
     ]
    },
    {
     "name": "stderr",
     "output_type": "stream",
     "text": [
      "\n"
     ]
    },
    {
     "name": "stderr",
     "output_type": "stream",
     "text": [
      "\r",
      "Casting the dataset:   0%|                                                                                                    | 0/15 [00:00<?, ? examples/s]"
     ]
    },
    {
     "name": "stderr",
     "output_type": "stream",
     "text": [
      "\r",
      "Casting the dataset: 100%|█████████████████████████████████████████████████████████████████████████████████████████| 15/15 [00:00<00:00, 4566.64 examples/s]"
     ]
    },
    {
     "name": "stderr",
     "output_type": "stream",
     "text": [
      "\n"
     ]
    },
    {
     "name": "stderr",
     "output_type": "stream",
     "text": [
      "\r",
      "Saving the dataset (0/1 shards):   0%|                                                                                        | 0/15 [00:00<?, ? examples/s]"
     ]
    },
    {
     "name": "stderr",
     "output_type": "stream",
     "text": [
      "\r",
      "Saving the dataset (1/1 shards): 100%|█████████████████████████████████████████████████████████████████████████████| 15/15 [00:00<00:00, 1877.71 examples/s]"
     ]
    },
    {
     "name": "stderr",
     "output_type": "stream",
     "text": [
      "\r",
      "Saving the dataset (1/1 shards): 100%|█████████████████████████████████████████████████████████████████████████████| 15/15 [00:00<00:00, 1432.42 examples/s]"
     ]
    },
    {
     "name": "stderr",
     "output_type": "stream",
     "text": [
      "\n"
     ]
    },
    {
     "name": "stdout",
     "output_type": "stream",
     "text": [
      "Dataset Salesforce/lotsa_data/borealis saved to /raid/decaro/TimeSeriesForecastingFoundationModels/data/splitted_full_dataset/Salesforce_lotsa_data_borealis\n",
      "Loading borg_cluster_data_2011...\n"
     ]
    },
    {
     "name": "stderr",
     "output_type": "stream",
     "text": [
      "\r",
      "Downloading data:   0%|                                                                                                           | 0/31 [00:00<?, ?files/s]"
     ]
    },
    {
     "name": "stderr",
     "output_type": "stream",
     "text": [
      "\r",
      "Downloading data:   3%|███▏                                                                                               | 1/31 [00:16<08:00, 16.02s/files]"
     ]
    },
    {
     "name": "stderr",
     "output_type": "stream",
     "text": [
      "\r",
      "Downloading data:   6%|██████▍                                                                                            | 2/31 [00:31<07:27, 15.42s/files]"
     ]
    },
    {
     "name": "stderr",
     "output_type": "stream",
     "text": [
      "\r",
      "Downloading data:  10%|█████████▌                                                                                         | 3/31 [00:45<06:54, 14.80s/files]"
     ]
    },
    {
     "name": "stderr",
     "output_type": "stream",
     "text": [
      "\r",
      "Downloading data:  13%|████████████▊                                                                                      | 4/31 [01:09<08:22, 18.59s/files]"
     ]
    },
    {
     "name": "stderr",
     "output_type": "stream",
     "text": [
      "\r",
      "Downloading data:  16%|███████████████▉                                                                                   | 5/31 [01:19<06:39, 15.36s/files]"
     ]
    },
    {
     "name": "stderr",
     "output_type": "stream",
     "text": [
      "\r",
      "Downloading data:  19%|███████████████████▏                                                                               | 6/31 [01:22<04:42, 11.32s/files]"
     ]
    },
    {
     "name": "stderr",
     "output_type": "stream",
     "text": [
      "\r",
      "Downloading data:  23%|██████████████████████▎                                                                            | 7/31 [01:27<03:43,  9.33s/files]"
     ]
    },
    {
     "name": "stderr",
     "output_type": "stream",
     "text": [
      "\r",
      "Downloading data:  26%|█████████████████████████▌                                                                         | 8/31 [02:19<08:47, 22.94s/files]"
     ]
    },
    {
     "name": "stderr",
     "output_type": "stream",
     "text": [
      "\r",
      "Downloading data:  29%|████████████████████████████▋                                                                      | 9/31 [02:29<06:52, 18.74s/files]"
     ]
    },
    {
     "name": "stderr",
     "output_type": "stream",
     "text": [
      "\r",
      "Downloading data:  32%|███████████████████████████████▌                                                                  | 10/31 [02:58<07:39, 21.88s/files]"
     ]
    },
    {
     "name": "stderr",
     "output_type": "stream",
     "text": [
      "\r",
      "Downloading data:  35%|██████████████████████████████████▊                                                               | 11/31 [03:06<05:55, 17.76s/files]"
     ]
    },
    {
     "name": "stderr",
     "output_type": "stream",
     "text": [
      "\r",
      "Downloading data:  39%|█████████████████████████████████████▉                                                            | 12/31 [03:12<04:30, 14.22s/files]"
     ]
    },
    {
     "name": "stderr",
     "output_type": "stream",
     "text": [
      "\r",
      "Downloading data:  42%|█████████████████████████████████████████                                                         | 13/31 [03:20<03:37, 12.10s/files]"
     ]
    },
    {
     "name": "stderr",
     "output_type": "stream",
     "text": [
      "\r",
      "Downloading data:  45%|████████████████████████████████████████████▎                                                     | 14/31 [03:32<03:26, 12.17s/files]"
     ]
    },
    {
     "name": "stderr",
     "output_type": "stream",
     "text": [
      "\r",
      "Downloading data:  48%|███████████████████████████████████████████████▍                                                  | 15/31 [03:39<02:50, 10.63s/files]"
     ]
    },
    {
     "name": "stderr",
     "output_type": "stream",
     "text": [
      "\r",
      "Downloading data:  52%|██████████████████████████████████████████████████▌                                               | 16/31 [03:46<02:21,  9.43s/files]"
     ]
    },
    {
     "name": "stderr",
     "output_type": "stream",
     "text": [
      "\r",
      "Downloading data:  55%|█████████████████████████████████████████████████████▋                                            | 17/31 [04:02<02:40, 11.44s/files]"
     ]
    },
    {
     "name": "stderr",
     "output_type": "stream",
     "text": [
      "\r",
      "Downloading data:  58%|████████████████████████████████████████████████████████▉                                         | 18/31 [04:05<01:56,  8.99s/files]"
     ]
    },
    {
     "name": "stderr",
     "output_type": "stream",
     "text": [
      "\r",
      "Downloading data:  61%|████████████████████████████████████████████████████████████                                      | 19/31 [04:09<01:30,  7.57s/files]"
     ]
    },
    {
     "name": "stderr",
     "output_type": "stream",
     "text": [
      "\r",
      "Downloading data:  65%|███████████████████████████████████████████████████████████████▏                                  | 20/31 [04:15<01:18,  7.13s/files]"
     ]
    },
    {
     "name": "stderr",
     "output_type": "stream",
     "text": [
      "\r",
      "Downloading data:  68%|██████████████████████████████████████████████████████████████████▍                               | 21/31 [04:28<01:26,  8.64s/files]"
     ]
    },
    {
     "name": "stderr",
     "output_type": "stream",
     "text": [
      "\r",
      "Downloading data:  71%|█████████████████████████████████████████████████████████████████████▌                            | 22/31 [04:36<01:16,  8.45s/files]"
     ]
    },
    {
     "name": "stderr",
     "output_type": "stream",
     "text": [
      "\r",
      "Downloading data:  74%|████████████████████████████████████████████████████████████████████████▋                         | 23/31 [04:43<01:05,  8.22s/files]"
     ]
    },
    {
     "name": "stderr",
     "output_type": "stream",
     "text": [
      "\r",
      "Downloading data:  77%|███████████████████████████████████████████████████████████████████████████▊                      | 24/31 [04:50<00:54,  7.71s/files]"
     ]
    },
    {
     "name": "stderr",
     "output_type": "stream",
     "text": [
      "\r",
      "Downloading data:  81%|███████████████████████████████████████████████████████████████████████████████                   | 25/31 [05:01<00:52,  8.81s/files]"
     ]
    },
    {
     "name": "stderr",
     "output_type": "stream",
     "text": [
      "\r",
      "Downloading data:  84%|██████████████████████████████████████████████████████████████████████████████████▏               | 26/31 [05:13<00:49,  9.84s/files]"
     ]
    },
    {
     "name": "stderr",
     "output_type": "stream",
     "text": [
      "\r",
      "Downloading data:  87%|█████████████████████████████████████████████████████████████████████████████████████▎            | 27/31 [05:24<00:40, 10.06s/files]"
     ]
    },
    {
     "name": "stderr",
     "output_type": "stream",
     "text": [
      "\r",
      "Downloading data:  90%|████████████████████████████████████████████████████████████████████████████████████████▌         | 28/31 [05:31<00:27,  9.14s/files]"
     ]
    },
    {
     "name": "stderr",
     "output_type": "stream",
     "text": [
      "\r",
      "Downloading data:  94%|███████████████████████████████████████████████████████████████████████████████████████████▋      | 29/31 [05:39<00:17,  8.74s/files]"
     ]
    },
    {
     "name": "stderr",
     "output_type": "stream",
     "text": [
      "\r",
      "Downloading data:  97%|██████████████████████████████████████████████████████████████████████████████████████████████▊   | 30/31 [05:51<00:09,  9.78s/files]"
     ]
    },
    {
     "name": "stderr",
     "output_type": "stream",
     "text": [
      "\r",
      "Downloading data: 100%|██████████████████████████████████████████████████████████████████████████████████████████████████| 31/31 [05:57<00:00,  8.61s/files]"
     ]
    },
    {
     "name": "stderr",
     "output_type": "stream",
     "text": [
      "\r",
      "Downloading data: 100%|██████████████████████████████████████████████████████████████████████████████████████████████████| 31/31 [05:57<00:00, 11.53s/files]"
     ]
    },
    {
     "name": "stderr",
     "output_type": "stream",
     "text": [
      "\n"
     ]
    },
    {
     "name": "stderr",
     "output_type": "stream",
     "text": [
      "\r",
      "Generating train split: 0 examples [00:00, ? examples/s]"
     ]
    },
    {
     "name": "stderr",
     "output_type": "stream",
     "text": [
      "\r",
      "Generating train split: 1000 examples [00:00, 2311.69 examples/s]"
     ]
    },
    {
     "name": "stderr",
     "output_type": "stream",
     "text": [
      "\r",
      "Generating train split: 2000 examples [00:00, 2885.13 examples/s]"
     ]
    },
    {
     "name": "stderr",
     "output_type": "stream",
     "text": [
      "\r",
      "Generating train split: 3000 examples [00:01, 2658.39 examples/s]"
     ]
    },
    {
     "name": "stderr",
     "output_type": "stream",
     "text": [
      "\r",
      "Generating train split: 4000 examples [00:01, 2615.01 examples/s]"
     ]
    },
    {
     "name": "stderr",
     "output_type": "stream",
     "text": [
      "\r",
      "Generating train split: 4626 examples [00:01, 2521.97 examples/s]"
     ]
    },
    {
     "name": "stderr",
     "output_type": "stream",
     "text": [
      "\r",
      "Generating train split: 5626 examples [00:02, 3022.40 examples/s]"
     ]
    },
    {
     "name": "stderr",
     "output_type": "stream",
     "text": [
      "\r",
      "Generating train split: 6626 examples [00:02, 2906.04 examples/s]"
     ]
    },
    {
     "name": "stderr",
     "output_type": "stream",
     "text": [
      "\r",
      "Generating train split: 7626 examples [00:02, 2741.54 examples/s]"
     ]
    },
    {
     "name": "stderr",
     "output_type": "stream",
     "text": [
      "\r",
      "Generating train split: 8626 examples [00:03, 2803.87 examples/s]"
     ]
    },
    {
     "name": "stderr",
     "output_type": "stream",
     "text": [
      "\r",
      "Generating train split: 9252 examples [00:03, 2699.50 examples/s]"
     ]
    },
    {
     "name": "stderr",
     "output_type": "stream",
     "text": [
      "\r",
      "Generating train split: 10252 examples [00:03, 3094.75 examples/s]"
     ]
    },
    {
     "name": "stderr",
     "output_type": "stream",
     "text": [
      "\r",
      "Generating train split: 11252 examples [00:03, 2960.23 examples/s]"
     ]
    },
    {
     "name": "stderr",
     "output_type": "stream",
     "text": [
      "\r",
      "Generating train split: 12252 examples [00:04, 2894.11 examples/s]"
     ]
    },
    {
     "name": "stderr",
     "output_type": "stream",
     "text": [
      "\r",
      "Generating train split: 13252 examples [00:04, 3100.24 examples/s]"
     ]
    },
    {
     "name": "stderr",
     "output_type": "stream",
     "text": [
      "\r",
      "Generating train split: 15878 examples [00:04, 4870.03 examples/s]"
     ]
    },
    {
     "name": "stderr",
     "output_type": "stream",
     "text": [
      "\r",
      "Generating train split: 16878 examples [00:05, 4468.70 examples/s]"
     ]
    },
    {
     "name": "stderr",
     "output_type": "stream",
     "text": [
      "\r",
      "Generating train split: 17878 examples [00:05, 3713.14 examples/s]"
     ]
    },
    {
     "name": "stderr",
     "output_type": "stream",
     "text": [
      "\r",
      "Generating train split: 18504 examples [00:05, 3472.78 examples/s]"
     ]
    },
    {
     "name": "stderr",
     "output_type": "stream",
     "text": [
      "\r",
      "Generating train split: 19504 examples [00:06, 3227.16 examples/s]"
     ]
    },
    {
     "name": "stderr",
     "output_type": "stream",
     "text": [
      "\r",
      "Generating train split: 20504 examples [00:06, 3541.29 examples/s]"
     ]
    },
    {
     "name": "stderr",
     "output_type": "stream",
     "text": [
      "\r",
      "Generating train split: 23130 examples [00:06, 6004.47 examples/s]"
     ]
    },
    {
     "name": "stderr",
     "output_type": "stream",
     "text": [
      "\r",
      "Generating train split: 27130 examples [00:06, 9835.55 examples/s]"
     ]
    },
    {
     "name": "stderr",
     "output_type": "stream",
     "text": [
      "\r",
      "Generating train split: 30756 examples [00:06, 12869.53 examples/s]"
     ]
    },
    {
     "name": "stderr",
     "output_type": "stream",
     "text": [
      "\r",
      "Generating train split: 32382 examples [00:07, 11222.31 examples/s]"
     ]
    },
    {
     "name": "stderr",
     "output_type": "stream",
     "text": [
      "\r",
      "Generating train split: 34382 examples [00:07, 8531.57 examples/s] "
     ]
    },
    {
     "name": "stderr",
     "output_type": "stream",
     "text": [
      "\r",
      "Generating train split: 36382 examples [00:07, 6627.80 examples/s]"
     ]
    },
    {
     "name": "stderr",
     "output_type": "stream",
     "text": [
      "\r",
      "Generating train split: 38008 examples [00:08, 6594.66 examples/s]"
     ]
    },
    {
     "name": "stderr",
     "output_type": "stream",
     "text": [
      "\r",
      "Generating train split: 39008 examples [00:08, 6591.38 examples/s]"
     ]
    },
    {
     "name": "stderr",
     "output_type": "stream",
     "text": [
      "\r",
      "Generating train split: 40008 examples [00:08, 5868.74 examples/s]"
     ]
    },
    {
     "name": "stderr",
     "output_type": "stream",
     "text": [
      "\r",
      "Generating train split: 41008 examples [00:08, 6220.45 examples/s]"
     ]
    },
    {
     "name": "stderr",
     "output_type": "stream",
     "text": [
      "\r",
      "Generating train split: 42634 examples [00:09, 5817.13 examples/s]"
     ]
    },
    {
     "name": "stderr",
     "output_type": "stream",
     "text": [
      "\r",
      "Generating train split: 43634 examples [00:09, 5430.88 examples/s]"
     ]
    },
    {
     "name": "stderr",
     "output_type": "stream",
     "text": [
      "\r",
      "Generating train split: 44634 examples [00:09, 5873.73 examples/s]"
     ]
    },
    {
     "name": "stderr",
     "output_type": "stream",
     "text": [
      "\r",
      "Generating train split: 45634 examples [00:09, 5882.95 examples/s]"
     ]
    },
    {
     "name": "stderr",
     "output_type": "stream",
     "text": [
      "\r",
      "Generating train split: 47260 examples [00:09, 7013.23 examples/s]"
     ]
    },
    {
     "name": "stderr",
     "output_type": "stream",
     "text": [
      "\r",
      "Generating train split: 48260 examples [00:09, 6580.88 examples/s]"
     ]
    },
    {
     "name": "stderr",
     "output_type": "stream",
     "text": [
      "\r",
      "Generating train split: 49260 examples [00:10, 6836.33 examples/s]"
     ]
    },
    {
     "name": "stderr",
     "output_type": "stream",
     "text": [
      "\r",
      "Generating train split: 50260 examples [00:10, 6883.69 examples/s]"
     ]
    },
    {
     "name": "stderr",
     "output_type": "stream",
     "text": [
      "\r",
      "Generating train split: 51886 examples [00:10, 7136.47 examples/s]"
     ]
    },
    {
     "name": "stderr",
     "output_type": "stream",
     "text": [
      "\r",
      "Generating train split: 52886 examples [00:10, 7168.27 examples/s]"
     ]
    },
    {
     "name": "stderr",
     "output_type": "stream",
     "text": [
      "\r",
      "Generating train split: 54886 examples [00:10, 9007.55 examples/s]"
     ]
    },
    {
     "name": "stderr",
     "output_type": "stream",
     "text": [
      "\r",
      "Generating train split: 56511 examples [00:10, 8695.52 examples/s]"
     ]
    },
    {
     "name": "stderr",
     "output_type": "stream",
     "text": [
      "\r",
      "Generating train split: 58511 examples [00:11, 9521.22 examples/s]"
     ]
    },
    {
     "name": "stderr",
     "output_type": "stream",
     "text": [
      "\r",
      "Generating train split: 60136 examples [00:11, 9077.44 examples/s]"
     ]
    },
    {
     "name": "stderr",
     "output_type": "stream",
     "text": [
      "\r",
      "Generating train split: 61136 examples [00:11, 8457.44 examples/s]"
     ]
    },
    {
     "name": "stderr",
     "output_type": "stream",
     "text": [
      "\r",
      "Generating train split: 62136 examples [00:11, 7805.20 examples/s]"
     ]
    },
    {
     "name": "stderr",
     "output_type": "stream",
     "text": [
      "\r",
      "Generating train split: 63136 examples [00:11, 6565.88 examples/s]"
     ]
    },
    {
     "name": "stderr",
     "output_type": "stream",
     "text": [
      "\r",
      "Generating train split: 64136 examples [00:11, 6316.47 examples/s]"
     ]
    },
    {
     "name": "stderr",
     "output_type": "stream",
     "text": [
      "\r",
      "Generating train split: 65761 examples [00:12, 6443.70 examples/s]"
     ]
    },
    {
     "name": "stderr",
     "output_type": "stream",
     "text": [
      "\r",
      "Generating train split: 66761 examples [00:12, 6606.65 examples/s]"
     ]
    },
    {
     "name": "stderr",
     "output_type": "stream",
     "text": [
      "\r",
      "Generating train split: 67761 examples [00:12, 6793.58 examples/s]"
     ]
    },
    {
     "name": "stderr",
     "output_type": "stream",
     "text": [
      "\r",
      "Generating train split: 68761 examples [00:12, 7012.41 examples/s]"
     ]
    },
    {
     "name": "stderr",
     "output_type": "stream",
     "text": [
      "\r",
      "Generating train split: 70386 examples [00:12, 8883.81 examples/s]"
     ]
    },
    {
     "name": "stderr",
     "output_type": "stream",
     "text": [
      "\r",
      "Generating train split: 72386 examples [00:12, 10526.03 examples/s]"
     ]
    },
    {
     "name": "stderr",
     "output_type": "stream",
     "text": [
      "\r",
      "Generating train split: 74011 examples [00:13, 9117.53 examples/s] "
     ]
    },
    {
     "name": "stderr",
     "output_type": "stream",
     "text": [
      "\r",
      "Generating train split: 75011 examples [00:13, 8084.97 examples/s]"
     ]
    },
    {
     "name": "stderr",
     "output_type": "stream",
     "text": [
      "\r",
      "Generating train split: 76011 examples [00:13, 6382.63 examples/s]"
     ]
    },
    {
     "name": "stderr",
     "output_type": "stream",
     "text": [
      "\r",
      "Generating train split: 77011 examples [00:13, 5390.73 examples/s]"
     ]
    },
    {
     "name": "stderr",
     "output_type": "stream",
     "text": [
      "\r",
      "Generating train split: 78011 examples [00:14, 4649.56 examples/s]"
     ]
    },
    {
     "name": "stderr",
     "output_type": "stream",
     "text": [
      "\r",
      "Generating train split: 78636 examples [00:14, 4334.34 examples/s]"
     ]
    },
    {
     "name": "stderr",
     "output_type": "stream",
     "text": [
      "\r",
      "Generating train split: 80636 examples [00:14, 6188.41 examples/s]"
     ]
    },
    {
     "name": "stderr",
     "output_type": "stream",
     "text": [
      "\r",
      "Generating train split: 85261 examples [00:14, 11827.64 examples/s]"
     ]
    },
    {
     "name": "stderr",
     "output_type": "stream",
     "text": [
      "\r",
      "Generating train split: 87261 examples [00:14, 12175.53 examples/s]"
     ]
    },
    {
     "name": "stderr",
     "output_type": "stream",
     "text": [
      "\r",
      "Generating train split: 88886 examples [00:14, 12064.10 examples/s]"
     ]
    },
    {
     "name": "stderr",
     "output_type": "stream",
     "text": [
      "\r",
      "Generating train split: 90886 examples [00:15, 12717.74 examples/s]"
     ]
    },
    {
     "name": "stderr",
     "output_type": "stream",
     "text": [
      "\r",
      "Generating train split: 92511 examples [00:15, 11840.47 examples/s]"
     ]
    },
    {
     "name": "stderr",
     "output_type": "stream",
     "text": [
      "\r",
      "Generating train split: 94511 examples [00:15, 10022.98 examples/s]"
     ]
    },
    {
     "name": "stderr",
     "output_type": "stream",
     "text": [
      "\r",
      "Generating train split: 96511 examples [00:15, 7942.67 examples/s] "
     ]
    },
    {
     "name": "stderr",
     "output_type": "stream",
     "text": [
      "\r",
      "Generating train split: 98136 examples [00:16, 7180.49 examples/s]"
     ]
    },
    {
     "name": "stderr",
     "output_type": "stream",
     "text": [
      "\r",
      "Generating train split: 100136 examples [00:16, 8322.34 examples/s]"
     ]
    },
    {
     "name": "stderr",
     "output_type": "stream",
     "text": [
      "\r",
      "Generating train split: 101761 examples [00:16, 8978.52 examples/s]"
     ]
    },
    {
     "name": "stderr",
     "output_type": "stream",
     "text": [
      "\r",
      "Generating train split: 103761 examples [00:16, 9668.80 examples/s]"
     ]
    },
    {
     "name": "stderr",
     "output_type": "stream",
     "text": [
      "\r",
      "Generating train split: 105761 examples [00:16, 8813.97 examples/s]"
     ]
    },
    {
     "name": "stderr",
     "output_type": "stream",
     "text": [
      "\r",
      "Generating train split: 107386 examples [00:17, 9767.60 examples/s]"
     ]
    },
    {
     "name": "stderr",
     "output_type": "stream",
     "text": [
      "\r",
      "Generating train split: 109386 examples [00:17, 9406.80 examples/s]"
     ]
    },
    {
     "name": "stderr",
     "output_type": "stream",
     "text": [
      "\r",
      "Generating train split: 112011 examples [00:17, 10222.20 examples/s]"
     ]
    },
    {
     "name": "stderr",
     "output_type": "stream",
     "text": [
      "\r",
      "Generating train split: 114011 examples [00:17, 9128.98 examples/s] "
     ]
    },
    {
     "name": "stderr",
     "output_type": "stream",
     "text": [
      "\r",
      "Generating train split: 115011 examples [00:17, 7580.07 examples/s]"
     ]
    },
    {
     "name": "stderr",
     "output_type": "stream",
     "text": [
      "\r",
      "Generating train split: 116636 examples [00:18, 6488.44 examples/s]"
     ]
    },
    {
     "name": "stderr",
     "output_type": "stream",
     "text": [
      "\r",
      "Generating train split: 118636 examples [00:18, 7347.75 examples/s]"
     ]
    },
    {
     "name": "stderr",
     "output_type": "stream",
     "text": [
      "\r",
      "Generating train split: 119636 examples [00:18, 7238.17 examples/s]"
     ]
    },
    {
     "name": "stderr",
     "output_type": "stream",
     "text": [
      "\r",
      "Generating train split: 121261 examples [00:18, 6990.76 examples/s]"
     ]
    },
    {
     "name": "stderr",
     "output_type": "stream",
     "text": [
      "\r",
      "Generating train split: 122261 examples [00:19, 6765.38 examples/s]"
     ]
    },
    {
     "name": "stderr",
     "output_type": "stream",
     "text": [
      "\r",
      "Generating train split: 123261 examples [00:19, 6507.96 examples/s]"
     ]
    },
    {
     "name": "stderr",
     "output_type": "stream",
     "text": [
      "\r",
      "Generating train split: 124261 examples [00:19, 6815.97 examples/s]"
     ]
    },
    {
     "name": "stderr",
     "output_type": "stream",
     "text": [
      "\r",
      "Generating train split: 126886 examples [00:19, 8267.49 examples/s]"
     ]
    },
    {
     "name": "stderr",
     "output_type": "stream",
     "text": [
      "\r",
      "Generating train split: 127886 examples [00:19, 8369.09 examples/s]"
     ]
    },
    {
     "name": "stderr",
     "output_type": "stream",
     "text": [
      "\r",
      "Generating train split: 129511 examples [00:19, 8485.38 examples/s]"
     ]
    },
    {
     "name": "stderr",
     "output_type": "stream",
     "text": [
      "\r",
      "Generating train split: 130511 examples [00:20, 8383.37 examples/s]"
     ]
    },
    {
     "name": "stderr",
     "output_type": "stream",
     "text": [
      "\r",
      "Generating train split: 131511 examples [00:20, 7884.52 examples/s]"
     ]
    },
    {
     "name": "stderr",
     "output_type": "stream",
     "text": [
      "\r",
      "Generating train split: 133511 examples [00:20, 8897.61 examples/s]"
     ]
    },
    {
     "name": "stderr",
     "output_type": "stream",
     "text": [
      "\r",
      "Generating train split: 136136 examples [00:20, 10036.16 examples/s]"
     ]
    },
    {
     "name": "stderr",
     "output_type": "stream",
     "text": [
      "\r",
      "Generating train split: 137136 examples [00:20, 9537.71 examples/s] "
     ]
    },
    {
     "name": "stderr",
     "output_type": "stream",
     "text": [
      "\r",
      "Generating train split: 139761 examples [00:20, 11910.92 examples/s]"
     ]
    },
    {
     "name": "stderr",
     "output_type": "stream",
     "text": [
      "\r",
      "Generating train split: 141761 examples [00:21, 10929.32 examples/s]"
     ]
    },
    {
     "name": "stderr",
     "output_type": "stream",
     "text": [
      "\r",
      "Generating train split: 143386 examples [00:21, 11874.11 examples/s]"
     ]
    },
    {
     "name": "stderr",
     "output_type": "stream",
     "text": [
      "\r",
      "Generating train split: 143386 examples [00:21, 6763.62 examples/s] "
     ]
    },
    {
     "name": "stderr",
     "output_type": "stream",
     "text": [
      "\n"
     ]
    },
    {
     "name": "stderr",
     "output_type": "stream",
     "text": [
      "\r",
      "Casting the dataset:   0%|                                                                                                | 0/143386 [00:00<?, ? examples/s]"
     ]
    },
    {
     "name": "stderr",
     "output_type": "stream",
     "text": [
      "\r",
      "Casting the dataset:   1%|▌                                                                                  | 1000/143386 [00:00<00:26, 5286.27 examples/s]"
     ]
    },
    {
     "name": "stderr",
     "output_type": "stream",
     "text": [
      "\r",
      "Casting the dataset:   1%|█▏                                                                                 | 2000/143386 [00:00<00:23, 6015.76 examples/s]"
     ]
    },
    {
     "name": "stderr",
     "output_type": "stream",
     "text": [
      "\r",
      "Casting the dataset:   2%|█▋                                                                                 | 3000/143386 [00:00<00:24, 5721.03 examples/s]"
     ]
    },
    {
     "name": "stderr",
     "output_type": "stream",
     "text": [
      "\r",
      "Casting the dataset:   3%|██▎                                                                                | 4000/143386 [00:00<00:26, 5350.76 examples/s]"
     ]
    },
    {
     "name": "stderr",
     "output_type": "stream",
     "text": [
      "\r",
      "Casting the dataset:   3%|██▉                                                                                | 5000/143386 [00:00<00:28, 4837.03 examples/s]"
     ]
    },
    {
     "name": "stderr",
     "output_type": "stream",
     "text": [
      "\r",
      "Casting the dataset:   4%|███▍                                                                               | 6000/143386 [00:01<00:24, 5559.05 examples/s]"
     ]
    },
    {
     "name": "stderr",
     "output_type": "stream",
     "text": [
      "\r",
      "Casting the dataset:   5%|████                                                                               | 7000/143386 [00:01<00:29, 4700.73 examples/s]"
     ]
    },
    {
     "name": "stderr",
     "output_type": "stream",
     "text": [
      "\r",
      "Casting the dataset:   6%|████▋                                                                              | 8000/143386 [00:01<00:29, 4516.78 examples/s]"
     ]
    },
    {
     "name": "stderr",
     "output_type": "stream",
     "text": [
      "\r",
      "Casting the dataset:   6%|█████▏                                                                             | 9000/143386 [00:01<00:32, 4156.29 examples/s]"
     ]
    },
    {
     "name": "stderr",
     "output_type": "stream",
     "text": [
      "\r",
      "Casting the dataset:   7%|█████▋                                                                            | 10000/143386 [00:02<00:30, 4377.26 examples/s]"
     ]
    },
    {
     "name": "stderr",
     "output_type": "stream",
     "text": [
      "\r",
      "Casting the dataset:   8%|██████▎                                                                           | 11000/143386 [00:02<00:30, 4385.15 examples/s]"
     ]
    },
    {
     "name": "stderr",
     "output_type": "stream",
     "text": [
      "\r",
      "Casting the dataset:   8%|██████▊                                                                           | 12000/143386 [00:02<00:30, 4252.12 examples/s]"
     ]
    },
    {
     "name": "stderr",
     "output_type": "stream",
     "text": [
      "\r",
      "Casting the dataset:   9%|███████▍                                                                          | 13000/143386 [00:02<00:30, 4319.21 examples/s]"
     ]
    },
    {
     "name": "stderr",
     "output_type": "stream",
     "text": [
      "\r",
      "Casting the dataset:  10%|████████                                                                          | 14000/143386 [00:02<00:24, 5175.91 examples/s]"
     ]
    },
    {
     "name": "stderr",
     "output_type": "stream",
     "text": [
      "\r",
      "Casting the dataset:  11%|█████████▏                                                                        | 16000/143386 [00:03<00:17, 7225.86 examples/s]"
     ]
    },
    {
     "name": "stderr",
     "output_type": "stream",
     "text": [
      "\r",
      "Casting the dataset:  12%|█████████▋                                                                        | 17000/143386 [00:03<00:21, 5980.29 examples/s]"
     ]
    },
    {
     "name": "stderr",
     "output_type": "stream",
     "text": [
      "\r",
      "Casting the dataset:  13%|██████████▎                                                                       | 18000/143386 [00:03<00:25, 4904.42 examples/s]"
     ]
    },
    {
     "name": "stderr",
     "output_type": "stream",
     "text": [
      "\r",
      "Casting the dataset:  13%|██████████▊                                                                       | 19000/143386 [00:03<00:26, 4645.68 examples/s]"
     ]
    },
    {
     "name": "stderr",
     "output_type": "stream",
     "text": [
      "\r",
      "Casting the dataset:  14%|███████████▍                                                                      | 20000/143386 [00:04<00:28, 4304.39 examples/s]"
     ]
    },
    {
     "name": "stderr",
     "output_type": "stream",
     "text": [
      "\r",
      "Casting the dataset:  15%|████████████                                                                      | 21000/143386 [00:04<00:25, 4872.97 examples/s]"
     ]
    },
    {
     "name": "stderr",
     "output_type": "stream",
     "text": [
      "\r",
      "Casting the dataset:  17%|██████████████                                                                   | 25000/143386 [00:04<00:11, 10267.61 examples/s]"
     ]
    },
    {
     "name": "stderr",
     "output_type": "stream",
     "text": [
      "\r",
      "Casting the dataset:  20%|███████████████▊                                                                 | 28000/143386 [00:04<00:08, 13436.14 examples/s]"
     ]
    },
    {
     "name": "stderr",
     "output_type": "stream",
     "text": [
      "\r",
      "Casting the dataset:  22%|██████████████████                                                               | 32000/143386 [00:04<00:06, 16890.13 examples/s]"
     ]
    },
    {
     "name": "stderr",
     "output_type": "stream",
     "text": [
      "\r",
      "Casting the dataset:  24%|███████████████████▏                                                             | 34000/143386 [00:04<00:08, 12841.27 examples/s]"
     ]
    },
    {
     "name": "stderr",
     "output_type": "stream",
     "text": [
      "\r",
      "Casting the dataset:  25%|████████████████████▌                                                             | 36000/143386 [00:05<00:12, 8612.16 examples/s]"
     ]
    },
    {
     "name": "stderr",
     "output_type": "stream",
     "text": [
      "\r",
      "Casting the dataset:  27%|█████████████████████▋                                                            | 38000/143386 [00:05<00:12, 8144.98 examples/s]"
     ]
    },
    {
     "name": "stderr",
     "output_type": "stream",
     "text": [
      "\r",
      "Casting the dataset:  28%|██████████████████████▉                                                           | 40000/143386 [00:06<00:14, 7358.14 examples/s]"
     ]
    },
    {
     "name": "stderr",
     "output_type": "stream",
     "text": [
      "\r",
      "Casting the dataset:  29%|███████████████████████▍                                                          | 41000/143386 [00:06<00:13, 7486.37 examples/s]"
     ]
    },
    {
     "name": "stderr",
     "output_type": "stream",
     "text": [
      "\r",
      "Casting the dataset:  29%|████████████████████████                                                          | 42000/143386 [00:06<00:13, 7737.49 examples/s]"
     ]
    },
    {
     "name": "stderr",
     "output_type": "stream",
     "text": [
      "\r",
      "Casting the dataset:  30%|████████████████████████▌                                                         | 43000/143386 [00:06<00:15, 6630.91 examples/s]"
     ]
    },
    {
     "name": "stderr",
     "output_type": "stream",
     "text": [
      "\r",
      "Casting the dataset:  31%|█████████████████████████▏                                                        | 44000/143386 [00:06<00:16, 6147.31 examples/s]"
     ]
    },
    {
     "name": "stderr",
     "output_type": "stream",
     "text": [
      "\r",
      "Casting the dataset:  32%|██████████████████████████▎                                                       | 46000/143386 [00:06<00:13, 7093.88 examples/s]"
     ]
    },
    {
     "name": "stderr",
     "output_type": "stream",
     "text": [
      "\r",
      "Casting the dataset:  33%|███████████████████████████▍                                                      | 48000/143386 [00:07<00:12, 7594.77 examples/s]"
     ]
    },
    {
     "name": "stderr",
     "output_type": "stream",
     "text": [
      "\r",
      "Casting the dataset:  35%|████████████████████████████▌                                                     | 50000/143386 [00:07<00:11, 8421.30 examples/s]"
     ]
    },
    {
     "name": "stderr",
     "output_type": "stream",
     "text": [
      "\r",
      "Casting the dataset:  36%|█████████████████████████████▏                                                    | 51000/143386 [00:07<00:11, 8199.29 examples/s]"
     ]
    },
    {
     "name": "stderr",
     "output_type": "stream",
     "text": [
      "\r",
      "Casting the dataset:  37%|██████████████████████████████▎                                                   | 53000/143386 [00:07<00:09, 9292.18 examples/s]"
     ]
    },
    {
     "name": "stderr",
     "output_type": "stream",
     "text": [
      "\r",
      "Casting the dataset:  38%|███████████████████████████████                                                  | 55000/143386 [00:07<00:08, 11005.68 examples/s]"
     ]
    },
    {
     "name": "stderr",
     "output_type": "stream",
     "text": [
      "\r",
      "Casting the dataset:  40%|████████████████████████████████▏                                                | 57000/143386 [00:07<00:07, 11078.77 examples/s]"
     ]
    },
    {
     "name": "stderr",
     "output_type": "stream",
     "text": [
      "\r",
      "Casting the dataset:  42%|█████████████████████████████████▉                                               | 60000/143386 [00:08<00:06, 12003.69 examples/s]"
     ]
    },
    {
     "name": "stderr",
     "output_type": "stream",
     "text": [
      "\r",
      "Casting the dataset:  43%|███████████████████████████████████                                              | 62000/143386 [00:08<00:07, 10341.86 examples/s]"
     ]
    },
    {
     "name": "stderr",
     "output_type": "stream",
     "text": [
      "\r",
      "Casting the dataset:  45%|████████████████████████████████████▌                                             | 64000/143386 [00:08<00:09, 8806.86 examples/s]"
     ]
    },
    {
     "name": "stderr",
     "output_type": "stream",
     "text": [
      "\r",
      "Casting the dataset:  45%|█████████████████████████████████████▏                                            | 65000/143386 [00:08<00:10, 7678.90 examples/s]"
     ]
    },
    {
     "name": "stderr",
     "output_type": "stream",
     "text": [
      "\r",
      "Casting the dataset:  47%|██████████████████████████████████████▎                                           | 67000/143386 [00:09<00:09, 8387.47 examples/s]"
     ]
    },
    {
     "name": "stderr",
     "output_type": "stream",
     "text": [
      "\r",
      "Casting the dataset:  47%|██████████████████████████████████████▉                                           | 68000/143386 [00:09<00:08, 8484.14 examples/s]"
     ]
    },
    {
     "name": "stderr",
     "output_type": "stream",
     "text": [
      "\r",
      "Casting the dataset:  49%|████████████████████████████████████████                                          | 70000/143386 [00:09<00:07, 9956.77 examples/s]"
     ]
    },
    {
     "name": "stderr",
     "output_type": "stream",
     "text": [
      "\r",
      "Casting the dataset:  50%|████████████████████████████████████████▋                                        | 72000/143386 [00:09<00:06, 10589.22 examples/s]"
     ]
    },
    {
     "name": "stderr",
     "output_type": "stream",
     "text": [
      "\r",
      "Casting the dataset:  52%|█████████████████████████████████████████▊                                       | 74000/143386 [00:09<00:06, 10024.41 examples/s]"
     ]
    },
    {
     "name": "stderr",
     "output_type": "stream",
     "text": [
      "\r",
      "Casting the dataset:  53%|███████████████████████████████████████████▍                                      | 76000/143386 [00:10<00:10, 6356.46 examples/s]"
     ]
    },
    {
     "name": "stderr",
     "output_type": "stream",
     "text": [
      "\r",
      "Casting the dataset:  54%|████████████████████████████████████████████                                      | 77000/143386 [00:10<00:11, 5668.84 examples/s]"
     ]
    },
    {
     "name": "stderr",
     "output_type": "stream",
     "text": [
      "\r",
      "Casting the dataset:  54%|████████████████████████████████████████████▌                                     | 78000/143386 [00:10<00:13, 4693.52 examples/s]"
     ]
    },
    {
     "name": "stderr",
     "output_type": "stream",
     "text": [
      "\r",
      "Casting the dataset:  55%|█████████████████████████████████████████████▏                                    | 79000/143386 [00:11<00:13, 4875.92 examples/s]"
     ]
    },
    {
     "name": "stderr",
     "output_type": "stream",
     "text": [
      "\r",
      "Casting the dataset:  56%|█████████████████████████████████████████████▊                                    | 80000/143386 [00:11<00:11, 5520.08 examples/s]"
     ]
    },
    {
     "name": "stderr",
     "output_type": "stream",
     "text": [
      "\r",
      "Casting the dataset:  59%|████████████████████████████████████████████████                                 | 85000/143386 [00:11<00:04, 12381.61 examples/s]"
     ]
    },
    {
     "name": "stderr",
     "output_type": "stream",
     "text": [
      "\r",
      "Casting the dataset:  61%|█████████████████████████████████████████████████▋                               | 88000/143386 [00:11<00:04, 13652.55 examples/s]"
     ]
    },
    {
     "name": "stderr",
     "output_type": "stream",
     "text": [
      "\r",
      "Casting the dataset:  63%|███████████████████████████████████████████████████▍                             | 91000/143386 [00:11<00:04, 12929.71 examples/s]"
     ]
    },
    {
     "name": "stderr",
     "output_type": "stream",
     "text": [
      "\r",
      "Casting the dataset:  65%|████████████████████████████████████████████████████▌                            | 93000/143386 [00:12<00:04, 10784.07 examples/s]"
     ]
    },
    {
     "name": "stderr",
     "output_type": "stream",
     "text": [
      "\r",
      "Casting the dataset:  66%|██████████████████████████████████████████████████████▎                           | 95000/143386 [00:12<00:05, 8765.21 examples/s]"
     ]
    },
    {
     "name": "stderr",
     "output_type": "stream",
     "text": [
      "\r",
      "Casting the dataset:  68%|███████████████████████████████████████████████████████▍                          | 97000/143386 [00:12<00:06, 7534.59 examples/s]"
     ]
    },
    {
     "name": "stderr",
     "output_type": "stream",
     "text": [
      "\r",
      "Casting the dataset:  68%|████████████████████████████████████████████████████████                          | 98000/143386 [00:12<00:06, 7190.37 examples/s]"
     ]
    },
    {
     "name": "stderr",
     "output_type": "stream",
     "text": [
      "\r",
      "Casting the dataset:  69%|████████████████████████████████████████████████████████▌                         | 99000/143386 [00:13<00:06, 6823.06 examples/s]"
     ]
    },
    {
     "name": "stderr",
     "output_type": "stream",
     "text": [
      "\r",
      "Casting the dataset:  71%|█████████████████████████████████████████████████████████▌                       | 102000/143386 [00:13<00:04, 8768.91 examples/s]"
     ]
    },
    {
     "name": "stderr",
     "output_type": "stream",
     "text": [
      "\r",
      "Casting the dataset:  73%|██████████████████████████████████████████████████████████▊                      | 104000/143386 [00:13<00:04, 9668.97 examples/s]"
     ]
    },
    {
     "name": "stderr",
     "output_type": "stream",
     "text": [
      "\r",
      "Casting the dataset:  74%|███████████████████████████████████████████████████████████▉                     | 106000/143386 [00:13<00:04, 8820.41 examples/s]"
     ]
    },
    {
     "name": "stderr",
     "output_type": "stream",
     "text": [
      "\r",
      "Casting the dataset:  75%|████████████████████████████████████████████████████████████▎                   | 108000/143386 [00:13<00:03, 10095.79 examples/s]"
     ]
    },
    {
     "name": "stderr",
     "output_type": "stream",
     "text": [
      "\r",
      "Casting the dataset:  77%|██████████████████████████████████████████████████████████████▏                  | 110000/143386 [00:14<00:03, 9607.04 examples/s]"
     ]
    },
    {
     "name": "stderr",
     "output_type": "stream",
     "text": [
      "\r",
      "Casting the dataset:  80%|███████████████████████████████████████████████████████████████▌                | 114000/143386 [00:14<00:02, 10469.04 examples/s]"
     ]
    },
    {
     "name": "stderr",
     "output_type": "stream",
     "text": [
      "\r",
      "Casting the dataset:  81%|█████████████████████████████████████████████████████████████████▌               | 116000/143386 [00:14<00:03, 7777.72 examples/s]"
     ]
    },
    {
     "name": "stderr",
     "output_type": "stream",
     "text": [
      "\r",
      "Casting the dataset:  82%|██████████████████████████████████████████████████████████████████▋              | 118000/143386 [00:15<00:03, 7800.86 examples/s]"
     ]
    },
    {
     "name": "stderr",
     "output_type": "stream",
     "text": [
      "\r",
      "Casting the dataset:  84%|███████████████████████████████████████████████████████████████████▊             | 120000/143386 [00:15<00:02, 7870.18 examples/s]"
     ]
    },
    {
     "name": "stderr",
     "output_type": "stream",
     "text": [
      "\r",
      "Casting the dataset:  84%|████████████████████████████████████████████████████████████████████▎            | 121000/143386 [00:15<00:02, 7577.90 examples/s]"
     ]
    },
    {
     "name": "stderr",
     "output_type": "stream",
     "text": [
      "\r",
      "Casting the dataset:  85%|████████████████████████████████████████████████████████████████████▉            | 122000/143386 [00:15<00:02, 7201.24 examples/s]"
     ]
    },
    {
     "name": "stderr",
     "output_type": "stream",
     "text": [
      "\r",
      "Casting the dataset:  86%|█████████████████████████████████████████████████████████████████████▍           | 123000/143386 [00:15<00:02, 6995.29 examples/s]"
     ]
    },
    {
     "name": "stderr",
     "output_type": "stream",
     "text": [
      "\r",
      "Casting the dataset:  86%|██████████████████████████████████████████████████████████████████████           | 124000/143386 [00:16<00:02, 7213.59 examples/s]"
     ]
    },
    {
     "name": "stderr",
     "output_type": "stream",
     "text": [
      "\r",
      "Casting the dataset:  89%|███████████████████████████████████████████████████████████████████████▋         | 127000/143386 [00:16<00:01, 9458.71 examples/s]"
     ]
    },
    {
     "name": "stderr",
     "output_type": "stream",
     "text": [
      "\r",
      "Casting the dataset:  89%|████████████████████████████████████████████████████████████████████████▎        | 128000/143386 [00:16<00:01, 9399.26 examples/s]"
     ]
    },
    {
     "name": "stderr",
     "output_type": "stream",
     "text": [
      "\r",
      "Casting the dataset:  91%|█████████████████████████████████████████████████████████████████████████▍       | 130000/143386 [00:16<00:01, 8174.70 examples/s]"
     ]
    },
    {
     "name": "stderr",
     "output_type": "stream",
     "text": [
      "\r",
      "Casting the dataset:  91%|██████████████████████████████████████████████████████████████████████████       | 131000/143386 [00:16<00:01, 8325.42 examples/s]"
     ]
    },
    {
     "name": "stderr",
     "output_type": "stream",
     "text": [
      "\r",
      "Casting the dataset:  92%|██████████████████████████████████████████████████████████████████████████▌      | 132000/143386 [00:16<00:01, 7437.02 examples/s]"
     ]
    },
    {
     "name": "stderr",
     "output_type": "stream",
     "text": [
      "\r",
      "Casting the dataset:  93%|███████████████████████████████████████████████████████████████████████████▋     | 134000/143386 [00:17<00:00, 9712.49 examples/s]"
     ]
    },
    {
     "name": "stderr",
     "output_type": "stream",
     "text": [
      "\r",
      "Casting the dataset:  95%|████████████████████████████████████████████████████████████████████████████▊    | 136000/143386 [00:17<00:00, 9140.32 examples/s]"
     ]
    },
    {
     "name": "stderr",
     "output_type": "stream",
     "text": [
      "\r",
      "Casting the dataset:  96%|████████████████████████████████████████████████████████████████████████████▉   | 138000/143386 [00:17<00:00, 10272.32 examples/s]"
     ]
    },
    {
     "name": "stderr",
     "output_type": "stream",
     "text": [
      "\r",
      "Casting the dataset:  98%|██████████████████████████████████████████████████████████████████████████████  | 140000/143386 [00:17<00:00, 11936.71 examples/s]"
     ]
    },
    {
     "name": "stderr",
     "output_type": "stream",
     "text": [
      "\r",
      "Casting the dataset:  99%|███████████████████████████████████████████████████████████████████████████████▏| 142000/143386 [00:17<00:00, 11472.23 examples/s]"
     ]
    },
    {
     "name": "stderr",
     "output_type": "stream",
     "text": [
      "\r",
      "Casting the dataset: 100%|███████████████████████████████████████████████████████████████████████████████▊| 143000/143386 [00:28<00:00, 11472.23 examples/s]"
     ]
    },
    {
     "name": "stderr",
     "output_type": "stream",
     "text": [
      "\r",
      "Casting the dataset: 100%|██████████████████████████████████████████████████████████████████████████████████| 143386/143386 [00:49<00:00, 182.42 examples/s]"
     ]
    },
    {
     "name": "stderr",
     "output_type": "stream",
     "text": [
      "\r",
      "Casting the dataset: 100%|█████████████████████████████████████████████████████████████████████████████████| 143386/143386 [00:49<00:00, 2915.92 examples/s]"
     ]
    },
    {
     "name": "stderr",
     "output_type": "stream",
     "text": [
      "\n"
     ]
    },
    {
     "name": "stderr",
     "output_type": "stream",
     "text": [
      "\r",
      "Saving the dataset (0/9 shards):   0%|                                                                                    | 0/143386 [00:00<?, ? examples/s]"
     ]
    },
    {
     "name": "stderr",
     "output_type": "stream",
     "text": [
      "\r",
      "Saving the dataset (0/9 shards):   3%|█▉                                                                    | 4000/143386 [00:00<00:05, 24322.91 examples/s]"
     ]
    },
    {
     "name": "stderr",
     "output_type": "stream",
     "text": [
      "\r",
      "Saving the dataset (0/9 shards):   6%|███▉                                                                  | 8000/143386 [00:00<00:05, 23138.13 examples/s]"
     ]
    },
    {
     "name": "stderr",
     "output_type": "stream",
     "text": [
      "\r",
      "Saving the dataset (0/9 shards):   8%|█████▊                                                               | 12000/143386 [00:00<00:05, 23554.39 examples/s]"
     ]
    },
    {
     "name": "stderr",
     "output_type": "stream",
     "text": [
      "\r",
      "Saving the dataset (0/9 shards):  11%|███████▋                                                             | 15932/143386 [00:00<00:04, 27751.68 examples/s]"
     ]
    },
    {
     "name": "stderr",
     "output_type": "stream",
     "text": [
      "\r",
      "Saving the dataset (1/9 shards):  11%|███████▋                                                             | 15932/143386 [00:00<00:04, 27751.68 examples/s]"
     ]
    },
    {
     "name": "stderr",
     "output_type": "stream",
     "text": [
      "\r",
      "Saving the dataset (1/9 shards):  13%|█████████                                                            | 18932/143386 [00:00<00:05, 22252.31 examples/s]"
     ]
    },
    {
     "name": "stderr",
     "output_type": "stream",
     "text": [
      "\r",
      "Saving the dataset (1/9 shards):  16%|███████████                                                          | 22932/143386 [00:01<00:05, 21067.53 examples/s]"
     ]
    },
    {
     "name": "stderr",
     "output_type": "stream",
     "text": [
      "\r",
      "Saving the dataset (2/9 shards):  22%|███████████████▎                                                     | 31864/143386 [00:01<00:05, 21067.53 examples/s]"
     ]
    },
    {
     "name": "stderr",
     "output_type": "stream",
     "text": [
      "\r",
      "Saving the dataset (2/9 shards):  24%|████████████████▎                                                    | 33864/143386 [00:01<00:03, 33762.65 examples/s]"
     ]
    },
    {
     "name": "stderr",
     "output_type": "stream",
     "text": [
      "\r",
      "Saving the dataset (2/9 shards):  28%|███████████████████▏                                                 | 39864/143386 [00:01<00:03, 28513.39 examples/s]"
     ]
    },
    {
     "name": "stderr",
     "output_type": "stream",
     "text": [
      "\r",
      "Saving the dataset (2/9 shards):  31%|█████████████████████                                                | 43864/143386 [00:01<00:03, 27081.57 examples/s]"
     ]
    },
    {
     "name": "stderr",
     "output_type": "stream",
     "text": [
      "\r",
      "Saving the dataset (2/9 shards):  33%|███████████████████████                                              | 47796/143386 [00:01<00:03, 28838.90 examples/s]"
     ]
    },
    {
     "name": "stderr",
     "output_type": "stream",
     "text": [
      "\r",
      "Saving the dataset (3/9 shards):  33%|███████████████████████                                              | 47796/143386 [00:01<00:03, 28838.90 examples/s]"
     ]
    },
    {
     "name": "stderr",
     "output_type": "stream",
     "text": [
      "\r",
      "Saving the dataset (3/9 shards):  38%|█████████████████████████▉                                           | 53796/143386 [00:01<00:02, 32667.65 examples/s]"
     ]
    },
    {
     "name": "stderr",
     "output_type": "stream",
     "text": [
      "\r",
      "Saving the dataset (3/9 shards):  42%|█████████████████████████████▎                                       | 60796/143386 [00:02<00:02, 37399.46 examples/s]"
     ]
    },
    {
     "name": "stderr",
     "output_type": "stream",
     "text": [
      "\r",
      "Saving the dataset (4/9 shards):  44%|██████████████████████████████▋                                      | 63728/143386 [00:02<00:02, 37399.46 examples/s]"
     ]
    },
    {
     "name": "stderr",
     "output_type": "stream",
     "text": [
      "\r",
      "Saving the dataset (4/9 shards):  45%|███████████████████████████████▏                                     | 64728/143386 [00:02<00:02, 31575.90 examples/s]"
     ]
    },
    {
     "name": "stderr",
     "output_type": "stream",
     "text": [
      "\r",
      "Saving the dataset (4/9 shards):  50%|██████████████████████████████████▌                                  | 71728/143386 [00:02<00:01, 37286.78 examples/s]"
     ]
    },
    {
     "name": "stderr",
     "output_type": "stream",
     "text": [
      "\r",
      "Saving the dataset (4/9 shards):  53%|████████████████████████████████████▍                                | 75728/143386 [00:02<00:01, 34464.39 examples/s]"
     ]
    },
    {
     "name": "stderr",
     "output_type": "stream",
     "text": [
      "\r",
      "Saving the dataset (4/9 shards):  56%|██████████████████████████████████████▎                              | 79660/143386 [00:02<00:02, 29002.83 examples/s]"
     ]
    },
    {
     "name": "stderr",
     "output_type": "stream",
     "text": [
      "\r",
      "Saving the dataset (5/9 shards):  56%|██████████████████████████████████████▎                              | 79660/143386 [00:02<00:02, 29002.83 examples/s]"
     ]
    },
    {
     "name": "stderr",
     "output_type": "stream",
     "text": [
      "\r",
      "Saving the dataset (5/9 shards):  63%|███████████████████████████████████████████▏                         | 89660/143386 [00:02<00:01, 40991.32 examples/s]"
     ]
    },
    {
     "name": "stderr",
     "output_type": "stream",
     "text": [
      "\r",
      "Saving the dataset (5/9 shards):  66%|█████████████████████████████████████████████▌                       | 94660/143386 [00:02<00:01, 40920.50 examples/s]"
     ]
    },
    {
     "name": "stderr",
     "output_type": "stream",
     "text": [
      "\r",
      "Saving the dataset (6/9 shards):  67%|██████████████████████████████████████████████                       | 95592/143386 [00:03<00:01, 40920.50 examples/s]"
     ]
    },
    {
     "name": "stderr",
     "output_type": "stream",
     "text": [
      "\r",
      "Saving the dataset (6/9 shards):  71%|████████████████████████████████████████████████▏                   | 101592/143386 [00:03<00:01, 37842.00 examples/s]"
     ]
    },
    {
     "name": "stderr",
     "output_type": "stream",
     "text": [
      "\r",
      "Saving the dataset (6/9 shards):  74%|██████████████████████████████████████████████████▌                 | 106592/143386 [00:03<00:00, 38922.84 examples/s]"
     ]
    },
    {
     "name": "stderr",
     "output_type": "stream",
     "text": [
      "\r",
      "Saving the dataset (6/9 shards):  78%|████████████████████████████████████████████████████▉               | 111524/143386 [00:03<00:00, 40692.18 examples/s]"
     ]
    },
    {
     "name": "stderr",
     "output_type": "stream",
     "text": [
      "\r",
      "Saving the dataset (7/9 shards):  78%|████████████████████████████████████████████████████▉               | 111524/143386 [00:03<00:00, 40692.18 examples/s]"
     ]
    },
    {
     "name": "stderr",
     "output_type": "stream",
     "text": [
      "\r",
      "Saving the dataset (7/9 shards):  81%|███████████████████████████████████████████████████████▎            | 116524/143386 [00:03<00:00, 32536.16 examples/s]"
     ]
    },
    {
     "name": "stderr",
     "output_type": "stream",
     "text": [
      "\r",
      "Saving the dataset (7/9 shards):  85%|█████████████████████████████████████████████████████████▋          | 121524/143386 [00:03<00:00, 32613.23 examples/s]"
     ]
    },
    {
     "name": "stderr",
     "output_type": "stream",
     "text": [
      "\r",
      "Saving the dataset (7/9 shards):  89%|████████████████████████████████████████████████████████████▍       | 127455/143386 [00:03<00:00, 35968.08 examples/s]"
     ]
    },
    {
     "name": "stderr",
     "output_type": "stream",
     "text": [
      "\r",
      "Saving the dataset (8/9 shards):  89%|████████████████████████████████████████████████████████████▍       | 127455/143386 [00:03<00:00, 35968.08 examples/s]"
     ]
    },
    {
     "name": "stderr",
     "output_type": "stream",
     "text": [
      "\r",
      "Saving the dataset (8/9 shards):  92%|██████████████████████████████████████████████████████████████▊     | 132455/143386 [00:04<00:00, 35995.09 examples/s]"
     ]
    },
    {
     "name": "stderr",
     "output_type": "stream",
     "text": [
      "\r",
      "Saving the dataset (8/9 shards):  99%|███████████████████████████████████████████████████████████████████ | 141455/143386 [00:04<00:00, 44163.86 examples/s]"
     ]
    },
    {
     "name": "stderr",
     "output_type": "stream",
     "text": [
      "\r",
      "Saving the dataset (9/9 shards): 100%|████████████████████████████████████████████████████████████████████| 143386/143386 [00:04<00:00, 44163.86 examples/s]"
     ]
    },
    {
     "name": "stderr",
     "output_type": "stream",
     "text": [
      "\r",
      "Saving the dataset (9/9 shards): 100%|████████████████████████████████████████████████████████████████████| 143386/143386 [00:04<00:00, 33956.58 examples/s]"
     ]
    },
    {
     "name": "stderr",
     "output_type": "stream",
     "text": [
      "\n"
     ]
    },
    {
     "name": "stdout",
     "output_type": "stream",
     "text": [
      "Dataset Salesforce/lotsa_data/borg_cluster_data_2011 saved to /raid/decaro/TimeSeriesForecastingFoundationModels/data/splitted_full_dataset/Salesforce_lotsa_data_borg_cluster_data_2011\n",
      "Loading buildings_900k...\n"
     ]
    },
    {
     "name": "stderr",
     "output_type": "stream",
     "text": [
      "\r",
      "Downloading data:   0%|                                                                                                          | 0/127 [00:00<?, ?files/s]"
     ]
    },
    {
     "name": "stderr",
     "output_type": "stream",
     "text": [
      "\r",
      "Downloading data:   1%|▊                                                                                                 | 1/127 [00:09<20:16,  9.65s/files]"
     ]
    },
    {
     "name": "stderr",
     "output_type": "stream",
     "text": [
      "\r",
      "Downloading data:   2%|█▌                                                                                                | 2/127 [00:18<19:30,  9.36s/files]"
     ]
    },
    {
     "name": "stderr",
     "output_type": "stream",
     "text": [
      "\r",
      "Downloading data:   2%|██▎                                                                                               | 3/127 [00:27<19:07,  9.26s/files]"
     ]
    },
    {
     "name": "stderr",
     "output_type": "stream",
     "text": [
      "\r",
      "Downloading data:   3%|███                                                                                               | 4/127 [00:37<18:51,  9.20s/files]"
     ]
    },
    {
     "name": "stderr",
     "output_type": "stream",
     "text": [
      "\r",
      "Downloading data:   4%|███▊                                                                                              | 5/127 [00:46<18:37,  9.16s/files]"
     ]
    },
    {
     "name": "stderr",
     "output_type": "stream",
     "text": [
      "\r",
      "Downloading data:   5%|████▋                                                                                             | 6/127 [00:55<18:26,  9.15s/files]"
     ]
    },
    {
     "name": "stderr",
     "output_type": "stream",
     "text": [
      "\r",
      "Downloading data:   6%|█████▍                                                                                            | 7/127 [01:04<18:18,  9.15s/files]"
     ]
    },
    {
     "name": "stderr",
     "output_type": "stream",
     "text": [
      "\r",
      "Downloading data:   6%|██████▏                                                                                           | 8/127 [01:42<36:18, 18.31s/files]"
     ]
    },
    {
     "name": "stderr",
     "output_type": "stream",
     "text": [
      "\r",
      "Downloading data:   7%|██████▉                                                                                           | 9/127 [01:53<31:51, 16.20s/files]"
     ]
    },
    {
     "name": "stderr",
     "output_type": "stream",
     "text": [
      "\r",
      "Downloading data:   8%|███████▋                                                                                         | 10/127 [02:06<29:07, 14.94s/files]"
     ]
    },
    {
     "name": "stderr",
     "output_type": "stream",
     "text": [
      "\r",
      "Downloading data:   9%|████████▍                                                                                        | 11/127 [02:15<25:23, 13.14s/files]"
     ]
    },
    {
     "name": "stderr",
     "output_type": "stream",
     "text": [
      "\r",
      "Downloading data:   9%|█████████▏                                                                                       | 12/127 [02:24<23:07, 12.06s/files]"
     ]
    },
    {
     "name": "stderr",
     "output_type": "stream",
     "text": [
      "\r",
      "Downloading data:  10%|█████████▉                                                                                       | 13/127 [02:33<21:16, 11.20s/files]"
     ]
    },
    {
     "name": "stderr",
     "output_type": "stream",
     "text": [
      "\r",
      "Downloading data:  11%|██████████▋                                                                                      | 14/127 [02:43<19:55, 10.58s/files]"
     ]
    },
    {
     "name": "stderr",
     "output_type": "stream",
     "text": [
      "\r",
      "Downloading data:  12%|███████████▍                                                                                     | 15/127 [02:45<15:03,  8.06s/files]"
     ]
    },
    {
     "name": "stderr",
     "output_type": "stream",
     "text": [
      "\r",
      "Downloading data:  13%|████████████▏                                                                                    | 16/127 [02:54<15:37,  8.44s/files]"
     ]
    },
    {
     "name": "stderr",
     "output_type": "stream",
     "text": [
      "\r",
      "Downloading data:  13%|████████████▉                                                                                    | 17/127 [03:03<15:51,  8.65s/files]"
     ]
    },
    {
     "name": "stderr",
     "output_type": "stream",
     "text": [
      "\r",
      "Downloading data:  14%|█████████████▋                                                                                   | 18/127 [03:12<16:01,  8.82s/files]"
     ]
    },
    {
     "name": "stderr",
     "output_type": "stream",
     "text": [
      "\r",
      "Downloading data:  15%|██████████████▌                                                                                  | 19/127 [03:21<15:58,  8.87s/files]"
     ]
    },
    {
     "name": "stderr",
     "output_type": "stream",
     "text": [
      "\r",
      "Downloading data:  16%|███████████████▎                                                                                 | 20/127 [03:30<15:54,  8.92s/files]"
     ]
    },
    {
     "name": "stderr",
     "output_type": "stream",
     "text": [
      "\r",
      "Downloading data:  17%|████████████████                                                                                 | 21/127 [03:40<15:56,  9.03s/files]"
     ]
    },
    {
     "name": "stderr",
     "output_type": "stream",
     "text": [
      "\r",
      "Downloading data:  17%|████████████████▊                                                                                | 22/127 [03:49<15:46,  9.01s/files]"
     ]
    },
    {
     "name": "stderr",
     "output_type": "stream",
     "text": [
      "\r",
      "Downloading data:  18%|█████████████████▌                                                                               | 23/127 [03:58<15:36,  9.00s/files]"
     ]
    },
    {
     "name": "stderr",
     "output_type": "stream",
     "text": [
      "\r",
      "Downloading data:  19%|██████████████████▎                                                                              | 24/127 [04:07<15:29,  9.03s/files]"
     ]
    },
    {
     "name": "stderr",
     "output_type": "stream",
     "text": [
      "\r",
      "Downloading data:  20%|███████████████████                                                                              | 25/127 [04:16<15:21,  9.04s/files]"
     ]
    },
    {
     "name": "stderr",
     "output_type": "stream",
     "text": [
      "\r",
      "Downloading data:  20%|███████████████████▊                                                                             | 26/127 [04:25<15:18,  9.09s/files]"
     ]
    },
    {
     "name": "stderr",
     "output_type": "stream",
     "text": [
      "\r",
      "Downloading data:  21%|████████████████████▌                                                                            | 27/127 [04:44<20:08, 12.09s/files]"
     ]
    },
    {
     "name": "stderr",
     "output_type": "stream",
     "text": [
      "\r",
      "Downloading data:  22%|█████████████████████▍                                                                           | 28/127 [04:54<18:37, 11.29s/files]"
     ]
    },
    {
     "name": "stderr",
     "output_type": "stream",
     "text": [
      "\r",
      "Downloading data:  23%|██████████████████████▏                                                                          | 29/127 [05:03<17:20, 10.62s/files]"
     ]
    },
    {
     "name": "stderr",
     "output_type": "stream",
     "text": [
      "\r",
      "Downloading data:  24%|██████████████████████▉                                                                          | 30/127 [05:13<17:00, 10.52s/files]"
     ]
    },
    {
     "name": "stderr",
     "output_type": "stream",
     "text": [
      "\r",
      "Downloading data:  24%|███████████████████████▋                                                                         | 31/127 [05:23<16:37, 10.39s/files]"
     ]
    },
    {
     "name": "stderr",
     "output_type": "stream",
     "text": [
      "\r",
      "Downloading data:  25%|████████████████████████▍                                                                        | 32/127 [05:32<15:45,  9.95s/files]"
     ]
    },
    {
     "name": "stderr",
     "output_type": "stream",
     "text": [
      "\r",
      "Downloading data:  26%|█████████████████████████▏                                                                       | 33/127 [05:41<15:13,  9.72s/files]"
     ]
    },
    {
     "name": "stderr",
     "output_type": "stream",
     "text": [
      "\r",
      "Downloading data:  27%|█████████████████████████▉                                                                       | 34/127 [05:50<14:49,  9.57s/files]"
     ]
    },
    {
     "name": "stderr",
     "output_type": "stream",
     "text": [
      "\r",
      "Downloading data:  28%|██████████████████████████▋                                                                      | 35/127 [06:03<16:06, 10.51s/files]"
     ]
    },
    {
     "name": "stderr",
     "output_type": "stream",
     "text": [
      "\r",
      "Downloading data:  28%|███████████████████████████▍                                                                     | 36/127 [06:13<15:32, 10.24s/files]"
     ]
    },
    {
     "name": "stderr",
     "output_type": "stream",
     "text": [
      "\r",
      "Downloading data:  29%|████████████████████████████▎                                                                    | 37/127 [06:42<23:51, 15.90s/files]"
     ]
    },
    {
     "name": "stderr",
     "output_type": "stream",
     "text": [
      "\r",
      "Downloading data:  30%|█████████████████████████████                                                                    | 38/127 [06:51<20:31, 13.84s/files]"
     ]
    },
    {
     "name": "stderr",
     "output_type": "stream",
     "text": [
      "\r",
      "Downloading data:  31%|█████████████████████████████▊                                                                   | 39/127 [07:00<18:18, 12.48s/files]"
     ]
    },
    {
     "name": "stderr",
     "output_type": "stream",
     "text": [
      "\r",
      "Downloading data:  31%|██████████████████████████████▌                                                                  | 40/127 [07:09<16:40, 11.50s/files]"
     ]
    },
    {
     "name": "stderr",
     "output_type": "stream",
     "text": [
      "\r",
      "Downloading data:  32%|███████████████████████████████▎                                                                 | 41/127 [07:18<15:29, 10.81s/files]"
     ]
    },
    {
     "name": "stderr",
     "output_type": "stream",
     "text": [
      "\r",
      "Downloading data:  33%|████████████████████████████████                                                                 | 42/127 [07:27<14:31, 10.25s/files]"
     ]
    },
    {
     "name": "stderr",
     "output_type": "stream",
     "text": [
      "\r",
      "Downloading data:  34%|████████████████████████████████▊                                                                | 43/127 [07:37<13:51,  9.90s/files]"
     ]
    },
    {
     "name": "stderr",
     "output_type": "stream",
     "text": [
      "\r",
      "Downloading data:  35%|█████████████████████████████████▌                                                               | 44/127 [07:46<13:30,  9.76s/files]"
     ]
    },
    {
     "name": "stderr",
     "output_type": "stream",
     "text": [
      "\r",
      "Downloading data:  35%|██████████████████████████████████▎                                                              | 45/127 [07:48<10:17,  7.53s/files]"
     ]
    },
    {
     "name": "stderr",
     "output_type": "stream",
     "text": [
      "\r",
      "Downloading data:  36%|███████████████████████████████████▏                                                             | 46/127 [07:57<10:48,  8.00s/files]"
     ]
    },
    {
     "name": "stderr",
     "output_type": "stream",
     "text": [
      "\r",
      "Downloading data:  37%|███████████████████████████████████▉                                                             | 47/127 [08:06<11:03,  8.30s/files]"
     ]
    },
    {
     "name": "stderr",
     "output_type": "stream",
     "text": [
      "\r",
      "Downloading data:  38%|████████████████████████████████████▋                                                            | 48/127 [08:16<11:19,  8.60s/files]"
     ]
    },
    {
     "name": "stderr",
     "output_type": "stream",
     "text": [
      "\r",
      "Downloading data:  39%|█████████████████████████████████████▍                                                           | 49/127 [08:25<11:24,  8.78s/files]"
     ]
    },
    {
     "name": "stderr",
     "output_type": "stream",
     "text": [
      "\r",
      "Downloading data:  39%|██████████████████████████████████████▏                                                          | 50/127 [08:34<11:23,  8.87s/files]"
     ]
    },
    {
     "name": "stderr",
     "output_type": "stream",
     "text": [
      "\r",
      "Downloading data:  40%|██████████████████████████████████████▉                                                          | 51/127 [08:44<11:37,  9.18s/files]"
     ]
    },
    {
     "name": "stderr",
     "output_type": "stream",
     "text": [
      "\r",
      "Downloading data:  41%|███████████████████████████████████████▋                                                         | 52/127 [09:08<17:11, 13.76s/files]"
     ]
    },
    {
     "name": "stderr",
     "output_type": "stream",
     "text": [
      "\r",
      "Downloading data:  42%|████████████████████████████████████████▍                                                        | 53/127 [09:17<15:14, 12.35s/files]"
     ]
    },
    {
     "name": "stderr",
     "output_type": "stream",
     "text": [
      "\r",
      "Downloading data:  43%|█████████████████████████████████████████▏                                                       | 54/127 [09:36<17:12, 14.14s/files]"
     ]
    },
    {
     "name": "stderr",
     "output_type": "stream",
     "text": [
      "\r",
      "Downloading data:  43%|██████████████████████████████████████████                                                       | 55/127 [09:45<15:08, 12.62s/files]"
     ]
    },
    {
     "name": "stderr",
     "output_type": "stream",
     "text": [
      "\r",
      "Downloading data:  44%|██████████████████████████████████████████▊                                                      | 56/127 [09:54<13:48, 11.67s/files]"
     ]
    },
    {
     "name": "stderr",
     "output_type": "stream",
     "text": [
      "\r",
      "Downloading data:  45%|███████████████████████████████████████████▌                                                     | 57/127 [10:03<12:43, 10.90s/files]"
     ]
    },
    {
     "name": "stderr",
     "output_type": "stream",
     "text": [
      "\r",
      "Downloading data:  46%|████████████████████████████████████████████▎                                                    | 58/127 [10:12<11:54, 10.35s/files]"
     ]
    },
    {
     "name": "stderr",
     "output_type": "stream",
     "text": [
      "\r",
      "Downloading data:  46%|█████████████████████████████████████████████                                                    | 59/127 [10:22<11:19, 10.00s/files]"
     ]
    },
    {
     "name": "stderr",
     "output_type": "stream",
     "text": [
      "\r",
      "Downloading data:  47%|█████████████████████████████████████████████▊                                                   | 60/127 [10:34<11:53, 10.65s/files]"
     ]
    },
    {
     "name": "stderr",
     "output_type": "stream",
     "text": [
      "\r",
      "Downloading data:  48%|██████████████████████████████████████████████▌                                                  | 61/127 [10:43<11:11, 10.17s/files]"
     ]
    },
    {
     "name": "stderr",
     "output_type": "stream",
     "text": [
      "\r",
      "Downloading data:  49%|███████████████████████████████████████████████▎                                                 | 62/127 [10:52<10:41,  9.87s/files]"
     ]
    },
    {
     "name": "stderr",
     "output_type": "stream",
     "text": [
      "\r",
      "Downloading data:  50%|████████████████████████████████████████████████                                                 | 63/127 [11:01<10:20,  9.69s/files]"
     ]
    },
    {
     "name": "stderr",
     "output_type": "stream",
     "text": [
      "\r",
      "Downloading data:  50%|████████████████████████████████████████████████▉                                                | 64/127 [11:10<10:01,  9.54s/files]"
     ]
    },
    {
     "name": "stderr",
     "output_type": "stream",
     "text": [
      "\r",
      "Downloading data:  51%|█████████████████████████████████████████████████▋                                               | 65/127 [11:20<09:52,  9.56s/files]"
     ]
    },
    {
     "name": "stderr",
     "output_type": "stream",
     "text": [
      "\r",
      "Downloading data:  52%|██████████████████████████████████████████████████▍                                              | 66/127 [11:29<09:37,  9.47s/files]"
     ]
    },
    {
     "name": "stderr",
     "output_type": "stream",
     "text": [
      "\r",
      "Downloading data:  53%|███████████████████████████████████████████████████▏                                             | 67/127 [11:40<09:58,  9.98s/files]"
     ]
    },
    {
     "name": "stderr",
     "output_type": "stream",
     "text": [
      "\r",
      "Downloading data:  54%|███████████████████████████████████████████████████▉                                             | 68/127 [11:50<09:34,  9.73s/files]"
     ]
    },
    {
     "name": "stderr",
     "output_type": "stream",
     "text": [
      "\r",
      "Downloading data:  54%|████████████████████████████████████████████████████▋                                            | 69/127 [11:59<09:12,  9.53s/files]"
     ]
    },
    {
     "name": "stderr",
     "output_type": "stream",
     "text": [
      "\r",
      "Downloading data:  55%|█████████████████████████████████████████████████████▍                                           | 70/127 [12:08<08:57,  9.44s/files]"
     ]
    },
    {
     "name": "stderr",
     "output_type": "stream",
     "text": [
      "\r",
      "Downloading data:  56%|██████████████████████████████████████████████████████▏                                          | 71/127 [12:17<08:40,  9.29s/files]"
     ]
    },
    {
     "name": "stderr",
     "output_type": "stream",
     "text": [
      "\r",
      "Downloading data:  57%|██████████████████████████████████████████████████████▉                                          | 72/127 [12:26<08:26,  9.22s/files]"
     ]
    },
    {
     "name": "stderr",
     "output_type": "stream",
     "text": [
      "\r",
      "Downloading data:  57%|███████████████████████████████████████████████████████▊                                         | 73/127 [12:35<08:17,  9.21s/files]"
     ]
    },
    {
     "name": "stderr",
     "output_type": "stream",
     "text": [
      "\r",
      "Downloading data:  58%|████████████████████████████████████████████████████████▌                                        | 74/127 [12:44<08:09,  9.24s/files]"
     ]
    },
    {
     "name": "stderr",
     "output_type": "stream",
     "text": [
      "\r",
      "Downloading data:  59%|█████████████████████████████████████████████████████████▎                                       | 75/127 [12:54<08:00,  9.24s/files]"
     ]
    },
    {
     "name": "stderr",
     "output_type": "stream",
     "text": [
      "\r",
      "Downloading data:  60%|██████████████████████████████████████████████████████████                                       | 76/127 [13:03<07:48,  9.19s/files]"
     ]
    },
    {
     "name": "stderr",
     "output_type": "stream",
     "text": [
      "\r",
      "Downloading data:  61%|██████████████████████████████████████████████████████████▊                                      | 77/127 [13:12<07:37,  9.16s/files]"
     ]
    },
    {
     "name": "stderr",
     "output_type": "stream",
     "text": [
      "\r",
      "Downloading data:  61%|███████████████████████████████████████████████████████████▌                                     | 78/127 [13:21<07:27,  9.13s/files]"
     ]
    },
    {
     "name": "stderr",
     "output_type": "stream",
     "text": [
      "\r",
      "Downloading data:  62%|████████████████████████████████████████████████████████████▎                                    | 79/127 [13:30<07:20,  9.17s/files]"
     ]
    },
    {
     "name": "stderr",
     "output_type": "stream",
     "text": [
      "\r",
      "Downloading data:  63%|█████████████████████████████████████████████████████████████                                    | 80/127 [14:02<12:33, 16.03s/files]"
     ]
    },
    {
     "name": "stderr",
     "output_type": "stream",
     "text": [
      "\r",
      "Downloading data:  64%|█████████████████████████████████████████████████████████████▊                                   | 81/127 [14:11<10:41, 13.94s/files]"
     ]
    },
    {
     "name": "stderr",
     "output_type": "stream",
     "text": [
      "\r",
      "Downloading data:  65%|██████████████████████████████████████████████████████████████▋                                  | 82/127 [14:21<09:31, 12.70s/files]"
     ]
    },
    {
     "name": "stderr",
     "output_type": "stream",
     "text": [
      "\r",
      "Downloading data:  65%|███████████████████████████████████████████████████████████████▍                                 | 83/127 [14:30<08:28, 11.55s/files]"
     ]
    },
    {
     "name": "stderr",
     "output_type": "stream",
     "text": [
      "\r",
      "Downloading data:  66%|████████████████████████████████████████████████████████████████▏                                | 84/127 [14:39<07:49, 10.92s/files]"
     ]
    },
    {
     "name": "stderr",
     "output_type": "stream",
     "text": [
      "\r",
      "Downloading data:  67%|████████████████████████████████████████████████████████████████▉                                | 85/127 [14:48<07:14, 10.33s/files]"
     ]
    },
    {
     "name": "stderr",
     "output_type": "stream",
     "text": [
      "\r",
      "Downloading data:  68%|█████████████████████████████████████████████████████████████████▋                               | 86/127 [14:58<06:50, 10.00s/files]"
     ]
    },
    {
     "name": "stderr",
     "output_type": "stream",
     "text": [
      "\r",
      "Downloading data:  69%|██████████████████████████████████████████████████████████████████▍                              | 87/127 [15:17<08:28, 12.70s/files]"
     ]
    },
    {
     "name": "stderr",
     "output_type": "stream",
     "text": [
      "\r",
      "Downloading data:  69%|███████████████████████████████████████████████████████████████████▏                             | 88/127 [15:26<07:34, 11.65s/files]"
     ]
    },
    {
     "name": "stderr",
     "output_type": "stream",
     "text": [
      "\r",
      "Downloading data:  70%|███████████████████████████████████████████████████████████████████▉                             | 89/127 [15:35<06:53, 10.88s/files]"
     ]
    },
    {
     "name": "stderr",
     "output_type": "stream",
     "text": [
      "\r",
      "Downloading data:  71%|████████████████████████████████████████████████████████████████████▋                            | 90/127 [15:44<06:22, 10.34s/files]"
     ]
    },
    {
     "name": "stderr",
     "output_type": "stream",
     "text": [
      "\r",
      "Downloading data:  72%|█████████████████████████████████████████████████████████████████████▌                           | 91/127 [15:53<05:59, 10.00s/files]"
     ]
    },
    {
     "name": "stderr",
     "output_type": "stream",
     "text": [
      "\r",
      "Downloading data:  72%|██████████████████████████████████████████████████████████████████████▎                          | 92/127 [16:02<05:40,  9.73s/files]"
     ]
    },
    {
     "name": "stderr",
     "output_type": "stream",
     "text": [
      "\r",
      "Downloading data:  73%|███████████████████████████████████████████████████████████████████████                          | 93/127 [16:11<05:23,  9.51s/files]"
     ]
    },
    {
     "name": "stderr",
     "output_type": "stream",
     "text": [
      "\r",
      "Downloading data:  74%|███████████████████████████████████████████████████████████████████████▊                         | 94/127 [16:20<05:09,  9.38s/files]"
     ]
    },
    {
     "name": "stderr",
     "output_type": "stream",
     "text": [
      "\r",
      "Downloading data:  75%|████████████████████████████████████████████████████████████████████████▌                        | 95/127 [16:29<04:56,  9.26s/files]"
     ]
    },
    {
     "name": "stderr",
     "output_type": "stream",
     "text": [
      "\r",
      "Downloading data:  76%|█████████████████████████████████████████████████████████████████████████▎                       | 96/127 [16:39<04:51,  9.41s/files]"
     ]
    },
    {
     "name": "stderr",
     "output_type": "stream",
     "text": [
      "\r",
      "Downloading data:  76%|██████████████████████████████████████████████████████████████████████████                       | 97/127 [17:17<08:58, 17.95s/files]"
     ]
    },
    {
     "name": "stderr",
     "output_type": "stream",
     "text": [
      "\r",
      "Downloading data:  77%|██████████████████████████████████████████████████████████████████████████▊                      | 98/127 [17:26<07:25, 15.36s/files]"
     ]
    },
    {
     "name": "stderr",
     "output_type": "stream",
     "text": [
      "\r",
      "Downloading data:  78%|███████████████████████████████████████████████████████████████████████████▌                     | 99/127 [17:35<06:17, 13.50s/files]"
     ]
    },
    {
     "name": "stderr",
     "output_type": "stream",
     "text": [
      "\r",
      "Downloading data:  79%|███████████████████████████████████████████████████████████████████████████▌                    | 100/127 [17:44<05:27, 12.14s/files]"
     ]
    },
    {
     "name": "stderr",
     "output_type": "stream",
     "text": [
      "\r",
      "Downloading data:  80%|████████████████████████████████████████████████████████████████████████████▎                   | 101/127 [17:53<04:51, 11.21s/files]"
     ]
    },
    {
     "name": "stderr",
     "output_type": "stream",
     "text": [
      "\r",
      "Downloading data:  80%|█████████████████████████████████████████████████████████████████████████████                   | 102/127 [18:02<04:23, 10.55s/files]"
     ]
    },
    {
     "name": "stderr",
     "output_type": "stream",
     "text": [
      "\r",
      "Downloading data:  81%|█████████████████████████████████████████████████████████████████████████████▊                  | 103/127 [18:18<04:48, 12.02s/files]"
     ]
    },
    {
     "name": "stderr",
     "output_type": "stream",
     "text": [
      "\r",
      "Downloading data:  82%|██████████████████████████████████████████████████████████████████████████████▌                 | 104/127 [18:27<04:15, 11.13s/files]"
     ]
    },
    {
     "name": "stderr",
     "output_type": "stream",
     "text": [
      "\r",
      "Downloading data:  83%|███████████████████████████████████████████████████████████████████████████████▎                | 105/127 [18:36<03:52, 10.55s/files]"
     ]
    },
    {
     "name": "stderr",
     "output_type": "stream",
     "text": [
      "\r",
      "Downloading data:  83%|████████████████████████████████████████████████████████████████████████████████▏               | 106/127 [18:45<03:32, 10.11s/files]"
     ]
    },
    {
     "name": "stderr",
     "output_type": "stream",
     "text": [
      "\r",
      "Downloading data:  84%|████████████████████████████████████████████████████████████████████████████████▉               | 107/127 [18:55<03:19, 10.00s/files]"
     ]
    },
    {
     "name": "stderr",
     "output_type": "stream",
     "text": [
      "\r",
      "Downloading data:  85%|█████████████████████████████████████████████████████████████████████████████████▋              | 108/127 [19:04<03:07,  9.86s/files]"
     ]
    },
    {
     "name": "stderr",
     "output_type": "stream",
     "text": [
      "\r",
      "Downloading data:  86%|██████████████████████████████████████████████████████████████████████████████████▍             | 109/127 [19:13<02:52,  9.60s/files]"
     ]
    },
    {
     "name": "stderr",
     "output_type": "stream",
     "text": [
      "\r",
      "Downloading data:  87%|███████████████████████████████████████████████████████████████████████████████████▏            | 110/127 [19:23<02:40,  9.45s/files]"
     ]
    },
    {
     "name": "stderr",
     "output_type": "stream",
     "text": [
      "\r",
      "Downloading data:  87%|███████████████████████████████████████████████████████████████████████████████████▉            | 111/127 [19:32<02:29,  9.33s/files]"
     ]
    },
    {
     "name": "stderr",
     "output_type": "stream",
     "text": [
      "\r",
      "Downloading data:  88%|████████████████████████████████████████████████████████████████████████████████████▋           | 112/127 [19:41<02:19,  9.27s/files]"
     ]
    },
    {
     "name": "stderr",
     "output_type": "stream",
     "text": [
      "\r",
      "Downloading data:  89%|█████████████████████████████████████████████████████████████████████████████████████▍          | 113/127 [19:53<02:21, 10.13s/files]"
     ]
    },
    {
     "name": "stderr",
     "output_type": "stream",
     "text": [
      "\r",
      "Downloading data:  90%|██████████████████████████████████████████████████████████████████████████████████████▏         | 114/127 [20:45<04:57, 22.86s/files]"
     ]
    },
    {
     "name": "stderr",
     "output_type": "stream",
     "text": [
      "\r",
      "Downloading data:  91%|██████████████████████████████████████████████████████████████████████████████████████▉         | 115/127 [20:55<03:47, 18.99s/files]"
     ]
    },
    {
     "name": "stderr",
     "output_type": "stream",
     "text": [
      "\r",
      "Downloading data:  91%|███████████████████████████████████████████████████████████████████████████████████████▋        | 116/127 [21:05<02:56, 16.07s/files]"
     ]
    },
    {
     "name": "stderr",
     "output_type": "stream",
     "text": [
      "\r",
      "Downloading data:  92%|████████████████████████████████████████████████████████████████████████████████████████▍       | 117/127 [21:15<02:24, 14.41s/files]"
     ]
    },
    {
     "name": "stderr",
     "output_type": "stream",
     "text": [
      "\r",
      "Downloading data:  93%|█████████████████████████████████████████████████████████████████████████████████████████▏      | 118/127 [21:24<01:55, 12.83s/files]"
     ]
    },
    {
     "name": "stderr",
     "output_type": "stream",
     "text": [
      "\r",
      "Downloading data:  94%|█████████████████████████████████████████████████████████████████████████████████████████▉      | 119/127 [21:34<01:34, 11.78s/files]"
     ]
    },
    {
     "name": "stderr",
     "output_type": "stream",
     "text": [
      "\r",
      "Downloading data:  94%|██████████████████████████████████████████████████████████████████████████████████████████▋     | 120/127 [21:43<01:17, 11.02s/files]"
     ]
    },
    {
     "name": "stderr",
     "output_type": "stream",
     "text": [
      "\r",
      "Downloading data:  95%|███████████████████████████████████████████████████████████████████████████████████████████▍    | 121/127 [21:52<01:02, 10.45s/files]"
     ]
    },
    {
     "name": "stderr",
     "output_type": "stream",
     "text": [
      "\r",
      "Downloading data:  96%|████████████████████████████████████████████████████████████████████████████████████████████▏   | 122/127 [22:01<00:50, 10.02s/files]"
     ]
    },
    {
     "name": "stderr",
     "output_type": "stream",
     "text": [
      "\r",
      "Downloading data:  97%|████████████████████████████████████████████████████████████████████████████████████████████▉   | 123/127 [22:10<00:39,  9.75s/files]"
     ]
    },
    {
     "name": "stderr",
     "output_type": "stream",
     "text": [
      "\r",
      "Downloading data:  98%|█████████████████████████████████████████████████████████████████████████████████████████████▋  | 124/127 [22:19<00:28,  9.55s/files]"
     ]
    },
    {
     "name": "stderr",
     "output_type": "stream",
     "text": [
      "\r",
      "Downloading data:  98%|██████████████████████████████████████████████████████████████████████████████████████████████▍ | 125/127 [22:28<00:18,  9.46s/files]"
     ]
    },
    {
     "name": "stderr",
     "output_type": "stream",
     "text": [
      "\r",
      "Downloading data:  99%|███████████████████████████████████████████████████████████████████████████████████████████████▏| 126/127 [22:37<00:09,  9.32s/files]"
     ]
    },
    {
     "name": "stderr",
     "output_type": "stream",
     "text": [
      "\r",
      "Downloading data: 100%|████████████████████████████████████████████████████████████████████████████████████████████████| 127/127 [22:47<00:00,  9.27s/files]"
     ]
    },
    {
     "name": "stderr",
     "output_type": "stream",
     "text": [
      "\r",
      "Downloading data: 100%|████████████████████████████████████████████████████████████████████████████████████████████████| 127/127 [22:47<00:00, 10.76s/files]"
     ]
    },
    {
     "name": "stderr",
     "output_type": "stream",
     "text": [
      "\n"
     ]
    },
    {
     "name": "stderr",
     "output_type": "stream",
     "text": [
      "\r",
      "Generating train split: 0 examples [00:00, ? examples/s]"
     ]
    },
    {
     "name": "stderr",
     "output_type": "stream",
     "text": [
      "\r",
      "Generating train split: 2000 examples [00:00, 17823.57 examples/s]"
     ]
    },
    {
     "name": "stderr",
     "output_type": "stream",
     "text": [
      "\r",
      "Generating train split: 5000 examples [00:00, 18121.56 examples/s]"
     ]
    },
    {
     "name": "stderr",
     "output_type": "stream",
     "text": [
      "\r",
      "Generating train split: 9000 examples [00:00, 21852.39 examples/s]"
     ]
    },
    {
     "name": "stderr",
     "output_type": "stream",
     "text": [
      "\r",
      "Generating train split: 12000 examples [00:00, 17878.23 examples/s]"
     ]
    },
    {
     "name": "stderr",
     "output_type": "stream",
     "text": [
      "\r",
      "Generating train split: 14000 examples [00:00, 12572.55 examples/s]"
     ]
    },
    {
     "name": "stderr",
     "output_type": "stream",
     "text": [
      "\r",
      "Generating train split: 17136 examples [00:01, 14701.86 examples/s]"
     ]
    },
    {
     "name": "stderr",
     "output_type": "stream",
     "text": [
      "\r",
      "Generating train split: 21136 examples [00:01, 17274.83 examples/s]"
     ]
    },
    {
     "name": "stderr",
     "output_type": "stream",
     "text": [
      "\r",
      "Generating train split: 24136 examples [00:01, 16020.09 examples/s]"
     ]
    },
    {
     "name": "stderr",
     "output_type": "stream",
     "text": [
      "\r",
      "Generating train split: 27136 examples [00:01, 15852.98 examples/s]"
     ]
    },
    {
     "name": "stderr",
     "output_type": "stream",
     "text": [
      "\r",
      "Generating train split: 29272 examples [00:01, 15168.64 examples/s]"
     ]
    },
    {
     "name": "stderr",
     "output_type": "stream",
     "text": [
      "\r",
      "Generating train split: 33272 examples [00:02, 17702.79 examples/s]"
     ]
    },
    {
     "name": "stderr",
     "output_type": "stream",
     "text": [
      "\r",
      "Generating train split: 35272 examples [00:02, 16218.86 examples/s]"
     ]
    },
    {
     "name": "stderr",
     "output_type": "stream",
     "text": [
      "\r",
      "Generating train split: 37272 examples [00:02, 15957.56 examples/s]"
     ]
    },
    {
     "name": "stderr",
     "output_type": "stream",
     "text": [
      "\r",
      "Generating train split: 40272 examples [00:02, 12333.09 examples/s]"
     ]
    },
    {
     "name": "stderr",
     "output_type": "stream",
     "text": [
      "\r",
      "Generating train split: 44408 examples [00:02, 15695.64 examples/s]"
     ]
    },
    {
     "name": "stderr",
     "output_type": "stream",
     "text": [
      "\r",
      "Generating train split: 48408 examples [00:02, 18467.14 examples/s]"
     ]
    },
    {
     "name": "stderr",
     "output_type": "stream",
     "text": [
      "\r",
      "Generating train split: 52408 examples [00:03, 20957.66 examples/s]"
     ]
    },
    {
     "name": "stderr",
     "output_type": "stream",
     "text": [
      "\r",
      "Generating train split: 55408 examples [00:03, 20999.98 examples/s]"
     ]
    },
    {
     "name": "stderr",
     "output_type": "stream",
     "text": [
      "\r",
      "Generating train split: 58544 examples [00:03, 18733.69 examples/s]"
     ]
    },
    {
     "name": "stderr",
     "output_type": "stream",
     "text": [
      "\r",
      "Generating train split: 62544 examples [00:03, 20284.50 examples/s]"
     ]
    },
    {
     "name": "stderr",
     "output_type": "stream",
     "text": [
      "\r",
      "Generating train split: 66544 examples [00:03, 21949.00 examples/s]"
     ]
    },
    {
     "name": "stderr",
     "output_type": "stream",
     "text": [
      "\r",
      "Generating train split: 70544 examples [00:03, 23307.77 examples/s]"
     ]
    },
    {
     "name": "stderr",
     "output_type": "stream",
     "text": [
      "\r",
      "Generating train split: 73680 examples [00:04, 20126.93 examples/s]"
     ]
    },
    {
     "name": "stderr",
     "output_type": "stream",
     "text": [
      "\r",
      "Generating train split: 77680 examples [00:04, 21461.54 examples/s]"
     ]
    },
    {
     "name": "stderr",
     "output_type": "stream",
     "text": [
      "\r",
      "Generating train split: 81680 examples [00:04, 23437.08 examples/s]"
     ]
    },
    {
     "name": "stderr",
     "output_type": "stream",
     "text": [
      "\r",
      "Generating train split: 85816 examples [00:04, 24916.37 examples/s]"
     ]
    },
    {
     "name": "stderr",
     "output_type": "stream",
     "text": [
      "\r",
      "Generating train split: 89816 examples [00:04, 23346.88 examples/s]"
     ]
    },
    {
     "name": "stderr",
     "output_type": "stream",
     "text": [
      "\r",
      "Generating train split: 93816 examples [00:04, 21793.90 examples/s]"
     ]
    },
    {
     "name": "stderr",
     "output_type": "stream",
     "text": [
      "\r",
      "Generating train split: 97816 examples [00:05, 23540.11 examples/s]"
     ]
    },
    {
     "name": "stderr",
     "output_type": "stream",
     "text": [
      "\r",
      "Generating train split: 101952 examples [00:05, 24941.75 examples/s]"
     ]
    },
    {
     "name": "stderr",
     "output_type": "stream",
     "text": [
      "\r",
      "Generating train split: 105952 examples [00:05, 25864.38 examples/s]"
     ]
    },
    {
     "name": "stderr",
     "output_type": "stream",
     "text": [
      "\r",
      "Generating train split: 108952 examples [00:05, 20570.56 examples/s]"
     ]
    },
    {
     "name": "stderr",
     "output_type": "stream",
     "text": [
      "\r",
      "Generating train split: 112952 examples [00:05, 22031.47 examples/s]"
     ]
    },
    {
     "name": "stderr",
     "output_type": "stream",
     "text": [
      "\r",
      "Generating train split: 117088 examples [00:05, 23686.58 examples/s]"
     ]
    },
    {
     "name": "stderr",
     "output_type": "stream",
     "text": [
      "\r",
      "Generating train split: 121088 examples [00:06, 25178.39 examples/s]"
     ]
    },
    {
     "name": "stderr",
     "output_type": "stream",
     "text": [
      "\r",
      "Generating train split: 125088 examples [00:06, 26074.03 examples/s]"
     ]
    },
    {
     "name": "stderr",
     "output_type": "stream",
     "text": [
      "\r",
      "Generating train split: 129224 examples [00:06, 26688.63 examples/s]"
     ]
    },
    {
     "name": "stderr",
     "output_type": "stream",
     "text": [
      "\r",
      "Generating train split: 132224 examples [00:06, 25188.64 examples/s]"
     ]
    },
    {
     "name": "stderr",
     "output_type": "stream",
     "text": [
      "\r",
      "Generating train split: 135224 examples [00:06, 16129.90 examples/s]"
     ]
    },
    {
     "name": "stderr",
     "output_type": "stream",
     "text": [
      "\r",
      "Generating train split: 139224 examples [00:07, 18366.51 examples/s]"
     ]
    },
    {
     "name": "stderr",
     "output_type": "stream",
     "text": [
      "\r",
      "Generating train split: 143360 examples [00:07, 18441.24 examples/s]"
     ]
    },
    {
     "name": "stderr",
     "output_type": "stream",
     "text": [
      "\r",
      "Generating train split: 146360 examples [00:07, 17337.53 examples/s]"
     ]
    },
    {
     "name": "stderr",
     "output_type": "stream",
     "text": [
      "\r",
      "Generating train split: 150360 examples [00:07, 18346.61 examples/s]"
     ]
    },
    {
     "name": "stderr",
     "output_type": "stream",
     "text": [
      "\r",
      "Generating train split: 152360 examples [00:07, 17143.07 examples/s]"
     ]
    },
    {
     "name": "stderr",
     "output_type": "stream",
     "text": [
      "\r",
      "Generating train split: 156496 examples [00:07, 19046.84 examples/s]"
     ]
    },
    {
     "name": "stderr",
     "output_type": "stream",
     "text": [
      "\r",
      "Generating train split: 159496 examples [00:08, 17059.32 examples/s]"
     ]
    },
    {
     "name": "stderr",
     "output_type": "stream",
     "text": [
      "\r",
      "Generating train split: 161496 examples [00:08, 12621.81 examples/s]"
     ]
    },
    {
     "name": "stderr",
     "output_type": "stream",
     "text": [
      "\r",
      "Generating train split: 165496 examples [00:08, 15617.01 examples/s]"
     ]
    },
    {
     "name": "stderr",
     "output_type": "stream",
     "text": [
      "\r",
      "Generating train split: 167496 examples [00:08, 14100.97 examples/s]"
     ]
    },
    {
     "name": "stderr",
     "output_type": "stream",
     "text": [
      "\r",
      "Generating train split: 169496 examples [00:09, 14198.74 examples/s]"
     ]
    },
    {
     "name": "stderr",
     "output_type": "stream",
     "text": [
      "\r",
      "Generating train split: 171632 examples [00:09, 13152.80 examples/s]"
     ]
    },
    {
     "name": "stderr",
     "output_type": "stream",
     "text": [
      "\r",
      "Generating train split: 175632 examples [00:09, 16458.64 examples/s]"
     ]
    },
    {
     "name": "stderr",
     "output_type": "stream",
     "text": [
      "\r",
      "Generating train split: 177632 examples [00:09, 15463.57 examples/s]"
     ]
    },
    {
     "name": "stderr",
     "output_type": "stream",
     "text": [
      "\r",
      "Generating train split: 179632 examples [00:09, 15741.10 examples/s]"
     ]
    },
    {
     "name": "stderr",
     "output_type": "stream",
     "text": [
      "\r",
      "Generating train split: 181632 examples [00:09, 11434.69 examples/s]"
     ]
    },
    {
     "name": "stderr",
     "output_type": "stream",
     "text": [
      "\r",
      "Generating train split: 185768 examples [00:10, 15310.64 examples/s]"
     ]
    },
    {
     "name": "stderr",
     "output_type": "stream",
     "text": [
      "\r",
      "Generating train split: 189768 examples [00:10, 16203.58 examples/s]"
     ]
    },
    {
     "name": "stderr",
     "output_type": "stream",
     "text": [
      "\r",
      "Generating train split: 192768 examples [00:10, 15314.81 examples/s]"
     ]
    },
    {
     "name": "stderr",
     "output_type": "stream",
     "text": [
      "\r",
      "Generating train split: 194768 examples [00:10, 15452.75 examples/s]"
     ]
    },
    {
     "name": "stderr",
     "output_type": "stream",
     "text": [
      "\r",
      "Generating train split: 196768 examples [00:10, 13872.93 examples/s]"
     ]
    },
    {
     "name": "stderr",
     "output_type": "stream",
     "text": [
      "\r",
      "Generating train split: 199904 examples [00:10, 15935.22 examples/s]"
     ]
    },
    {
     "name": "stderr",
     "output_type": "stream",
     "text": [
      "\r",
      "Generating train split: 201904 examples [00:11, 14326.23 examples/s]"
     ]
    },
    {
     "name": "stderr",
     "output_type": "stream",
     "text": [
      "\r",
      "Generating train split: 203904 examples [00:11, 10189.47 examples/s]"
     ]
    },
    {
     "name": "stderr",
     "output_type": "stream",
     "text": [
      "\r",
      "Generating train split: 207904 examples [00:11, 13982.03 examples/s]"
     ]
    },
    {
     "name": "stderr",
     "output_type": "stream",
     "text": [
      "\r",
      "Generating train split: 211904 examples [00:11, 16025.12 examples/s]"
     ]
    },
    {
     "name": "stderr",
     "output_type": "stream",
     "text": [
      "\r",
      "Generating train split: 214040 examples [00:12, 15493.89 examples/s]"
     ]
    },
    {
     "name": "stderr",
     "output_type": "stream",
     "text": [
      "\r",
      "Generating train split: 217040 examples [00:12, 16049.69 examples/s]"
     ]
    },
    {
     "name": "stderr",
     "output_type": "stream",
     "text": [
      "\r",
      "Generating train split: 220040 examples [00:12, 15349.70 examples/s]"
     ]
    },
    {
     "name": "stderr",
     "output_type": "stream",
     "text": [
      "\r",
      "Generating train split: 224040 examples [00:12, 18154.09 examples/s]"
     ]
    },
    {
     "name": "stderr",
     "output_type": "stream",
     "text": [
      "\r",
      "Generating train split: 226040 examples [00:12, 16480.73 examples/s]"
     ]
    },
    {
     "name": "stderr",
     "output_type": "stream",
     "text": [
      "\r",
      "Generating train split: 229176 examples [00:13, 12927.93 examples/s]"
     ]
    },
    {
     "name": "stderr",
     "output_type": "stream",
     "text": [
      "\r",
      "Generating train split: 232176 examples [00:13, 13991.08 examples/s]"
     ]
    },
    {
     "name": "stderr",
     "output_type": "stream",
     "text": [
      "\r",
      "Generating train split: 236176 examples [00:13, 16766.23 examples/s]"
     ]
    },
    {
     "name": "stderr",
     "output_type": "stream",
     "text": [
      "\r",
      "Generating train split: 240176 examples [00:13, 19484.57 examples/s]"
     ]
    },
    {
     "name": "stderr",
     "output_type": "stream",
     "text": [
      "\r",
      "Generating train split: 244312 examples [00:13, 21635.58 examples/s]"
     ]
    },
    {
     "name": "stderr",
     "output_type": "stream",
     "text": [
      "\r",
      "Generating train split: 248312 examples [00:13, 18616.10 examples/s]"
     ]
    },
    {
     "name": "stderr",
     "output_type": "stream",
     "text": [
      "\r",
      "Generating train split: 252312 examples [00:14, 20521.56 examples/s]"
     ]
    },
    {
     "name": "stderr",
     "output_type": "stream",
     "text": [
      "\r",
      "Generating train split: 256448 examples [00:14, 22842.19 examples/s]"
     ]
    },
    {
     "name": "stderr",
     "output_type": "stream",
     "text": [
      "\r",
      "Generating train split: 260448 examples [00:14, 24681.37 examples/s]"
     ]
    },
    {
     "name": "stderr",
     "output_type": "stream",
     "text": [
      "\r",
      "Generating train split: 263448 examples [00:14, 22586.58 examples/s]"
     ]
    },
    {
     "name": "stderr",
     "output_type": "stream",
     "text": [
      "\r",
      "Generating train split: 266448 examples [00:14, 18850.40 examples/s]"
     ]
    },
    {
     "name": "stderr",
     "output_type": "stream",
     "text": [
      "\r",
      "Generating train split: 270584 examples [00:14, 21152.75 examples/s]"
     ]
    },
    {
     "name": "stderr",
     "output_type": "stream",
     "text": [
      "\r",
      "Generating train split: 274584 examples [00:15, 23149.65 examples/s]"
     ]
    },
    {
     "name": "stderr",
     "output_type": "stream",
     "text": [
      "\r",
      "Generating train split: 278584 examples [00:15, 22505.74 examples/s]"
     ]
    },
    {
     "name": "stderr",
     "output_type": "stream",
     "text": [
      "\r",
      "Generating train split: 282584 examples [00:15, 20363.09 examples/s]"
     ]
    },
    {
     "name": "stderr",
     "output_type": "stream",
     "text": [
      "\r",
      "Generating train split: 286720 examples [00:15, 22197.88 examples/s]"
     ]
    },
    {
     "name": "stderr",
     "output_type": "stream",
     "text": [
      "\r",
      "Generating train split: 290720 examples [00:15, 24174.62 examples/s]"
     ]
    },
    {
     "name": "stderr",
     "output_type": "stream",
     "text": [
      "\r",
      "Generating train split: 294720 examples [00:15, 25777.13 examples/s]"
     ]
    },
    {
     "name": "stderr",
     "output_type": "stream",
     "text": [
      "\r",
      "Generating train split: 297856 examples [00:16, 20993.65 examples/s]"
     ]
    },
    {
     "name": "stderr",
     "output_type": "stream",
     "text": [
      "\r",
      "Generating train split: 301856 examples [00:16, 22365.34 examples/s]"
     ]
    },
    {
     "name": "stderr",
     "output_type": "stream",
     "text": [
      "\r",
      "Generating train split: 305856 examples [00:16, 23895.76 examples/s]"
     ]
    },
    {
     "name": "stderr",
     "output_type": "stream",
     "text": [
      "\r",
      "Generating train split: 309856 examples [00:16, 25524.99 examples/s]"
     ]
    },
    {
     "name": "stderr",
     "output_type": "stream",
     "text": [
      "\r",
      "Generating train split: 313992 examples [00:16, 26739.76 examples/s]"
     ]
    },
    {
     "name": "stderr",
     "output_type": "stream",
     "text": [
      "\r",
      "Generating train split: 317992 examples [00:16, 27101.16 examples/s]"
     ]
    },
    {
     "name": "stderr",
     "output_type": "stream",
     "text": [
      "\r",
      "Generating train split: 321992 examples [00:17, 25594.59 examples/s]"
     ]
    },
    {
     "name": "stderr",
     "output_type": "stream",
     "text": [
      "\r",
      "Generating train split: 324992 examples [00:17, 15401.70 examples/s]"
     ]
    },
    {
     "name": "stderr",
     "output_type": "stream",
     "text": [
      "\r",
      "Generating train split: 329128 examples [00:17, 17737.86 examples/s]"
     ]
    },
    {
     "name": "stderr",
     "output_type": "stream",
     "text": [
      "\r",
      "Generating train split: 333128 examples [00:17, 17634.64 examples/s]"
     ]
    },
    {
     "name": "stderr",
     "output_type": "stream",
     "text": [
      "\r",
      "Generating train split: 337128 examples [00:18, 16376.39 examples/s]"
     ]
    },
    {
     "name": "stderr",
     "output_type": "stream",
     "text": [
      "\r",
      "Generating train split: 339128 examples [00:18, 16689.59 examples/s]"
     ]
    },
    {
     "name": "stderr",
     "output_type": "stream",
     "text": [
      "\r",
      "Generating train split: 341264 examples [00:18, 15931.28 examples/s]"
     ]
    },
    {
     "name": "stderr",
     "output_type": "stream",
     "text": [
      "\r",
      "Generating train split: 345264 examples [00:18, 18392.57 examples/s]"
     ]
    },
    {
     "name": "stderr",
     "output_type": "stream",
     "text": [
      "\r",
      "Generating train split: 347264 examples [00:18, 16115.93 examples/s]"
     ]
    },
    {
     "name": "stderr",
     "output_type": "stream",
     "text": [
      "\r",
      "Generating train split: 349264 examples [00:19, 11073.52 examples/s]"
     ]
    },
    {
     "name": "stderr",
     "output_type": "stream",
     "text": [
      "\r",
      "Generating train split: 353264 examples [00:19, 14258.95 examples/s]"
     ]
    },
    {
     "name": "stderr",
     "output_type": "stream",
     "text": [
      "\r",
      "Generating train split: 355400 examples [00:19, 14216.78 examples/s]"
     ]
    },
    {
     "name": "stderr",
     "output_type": "stream",
     "text": [
      "\r",
      "Generating train split: 357400 examples [00:19, 13032.92 examples/s]"
     ]
    },
    {
     "name": "stderr",
     "output_type": "stream",
     "text": [
      "\r",
      "Generating train split: 359400 examples [00:19, 13994.88 examples/s]"
     ]
    },
    {
     "name": "stderr",
     "output_type": "stream",
     "text": [
      "\r",
      "Generating train split: 361400 examples [00:19, 14853.23 examples/s]"
     ]
    },
    {
     "name": "stderr",
     "output_type": "stream",
     "text": [
      "\r",
      "Generating train split: 364400 examples [00:20, 15573.19 examples/s]"
     ]
    },
    {
     "name": "stderr",
     "output_type": "stream",
     "text": [
      "\r",
      "Generating train split: 367400 examples [00:20, 16975.55 examples/s]"
     ]
    },
    {
     "name": "stderr",
     "output_type": "stream",
     "text": [
      "\r",
      "Generating train split: 369536 examples [00:20, 14888.65 examples/s]"
     ]
    },
    {
     "name": "stderr",
     "output_type": "stream",
     "text": [
      "\r",
      "Generating train split: 372536 examples [00:20, 11290.55 examples/s]"
     ]
    },
    {
     "name": "stderr",
     "output_type": "stream",
     "text": [
      "\r",
      "Generating train split: 375536 examples [00:20, 13481.27 examples/s]"
     ]
    },
    {
     "name": "stderr",
     "output_type": "stream",
     "text": [
      "\r",
      "Generating train split: 377536 examples [00:21, 12418.88 examples/s]"
     ]
    },
    {
     "name": "stderr",
     "output_type": "stream",
     "text": [
      "\r",
      "Generating train split: 379536 examples [00:21, 12671.88 examples/s]"
     ]
    },
    {
     "name": "stderr",
     "output_type": "stream",
     "text": [
      "\r",
      "Generating train split: 381536 examples [00:21, 13189.93 examples/s]"
     ]
    },
    {
     "name": "stderr",
     "output_type": "stream",
     "text": [
      "\r",
      "Generating train split: 384672 examples [00:21, 14573.43 examples/s]"
     ]
    },
    {
     "name": "stderr",
     "output_type": "stream",
     "text": [
      "\r",
      "Generating train split: 387672 examples [00:21, 16055.46 examples/s]"
     ]
    },
    {
     "name": "stderr",
     "output_type": "stream",
     "text": [
      "\r",
      "Generating train split: 389672 examples [00:21, 14394.76 examples/s]"
     ]
    },
    {
     "name": "stderr",
     "output_type": "stream",
     "text": [
      "\r",
      "Generating train split: 392672 examples [00:22, 11369.10 examples/s]"
     ]
    },
    {
     "name": "stderr",
     "output_type": "stream",
     "text": [
      "\r",
      "Generating train split: 395672 examples [00:22, 13472.35 examples/s]"
     ]
    },
    {
     "name": "stderr",
     "output_type": "stream",
     "text": [
      "\r",
      "Generating train split: 397808 examples [00:22, 12446.19 examples/s]"
     ]
    },
    {
     "name": "stderr",
     "output_type": "stream",
     "text": [
      "\r",
      "Generating train split: 399808 examples [00:22, 12545.41 examples/s]"
     ]
    },
    {
     "name": "stderr",
     "output_type": "stream",
     "text": [
      "\r",
      "Generating train split: 401808 examples [00:22, 12841.19 examples/s]"
     ]
    },
    {
     "name": "stderr",
     "output_type": "stream",
     "text": [
      "\r",
      "Generating train split: 404808 examples [00:23, 14172.09 examples/s]"
     ]
    },
    {
     "name": "stderr",
     "output_type": "stream",
     "text": [
      "\r",
      "Generating train split: 407808 examples [00:23, 14901.33 examples/s]"
     ]
    },
    {
     "name": "stderr",
     "output_type": "stream",
     "text": [
      "\r",
      "Generating train split: 409808 examples [00:23, 14443.91 examples/s]"
     ]
    },
    {
     "name": "stderr",
     "output_type": "stream",
     "text": [
      "\r",
      "Generating train split: 412944 examples [00:23, 11527.15 examples/s]"
     ]
    },
    {
     "name": "stderr",
     "output_type": "stream",
     "text": [
      "\r",
      "Generating train split: 415944 examples [00:23, 13676.60 examples/s]"
     ]
    },
    {
     "name": "stderr",
     "output_type": "stream",
     "text": [
      "\r",
      "Generating train split: 419944 examples [00:24, 17016.73 examples/s]"
     ]
    },
    {
     "name": "stderr",
     "output_type": "stream",
     "text": [
      "\r",
      "Generating train split: 423944 examples [00:24, 20039.02 examples/s]"
     ]
    },
    {
     "name": "stderr",
     "output_type": "stream",
     "text": [
      "\r",
      "Generating train split: 427080 examples [00:24, 19491.63 examples/s]"
     ]
    },
    {
     "name": "stderr",
     "output_type": "stream",
     "text": [
      "\r",
      "Generating train split: 430080 examples [00:24, 18278.12 examples/s]"
     ]
    },
    {
     "name": "stderr",
     "output_type": "stream",
     "text": [
      "\r",
      "Generating train split: 434080 examples [00:24, 20546.74 examples/s]"
     ]
    },
    {
     "name": "stderr",
     "output_type": "stream",
     "text": [
      "\r",
      "Generating train split: 438080 examples [00:24, 22781.61 examples/s]"
     ]
    },
    {
     "name": "stderr",
     "output_type": "stream",
     "text": [
      "\r",
      "Generating train split: 442216 examples [00:25, 24238.83 examples/s]"
     ]
    },
    {
     "name": "stderr",
     "output_type": "stream",
     "text": [
      "\r",
      "Generating train split: 446216 examples [00:25, 19971.26 examples/s]"
     ]
    },
    {
     "name": "stderr",
     "output_type": "stream",
     "text": [
      "\r",
      "Generating train split: 450216 examples [00:25, 21625.11 examples/s]"
     ]
    },
    {
     "name": "stderr",
     "output_type": "stream",
     "text": [
      "\r",
      "Generating train split: 454352 examples [00:25, 23692.55 examples/s]"
     ]
    },
    {
     "name": "stderr",
     "output_type": "stream",
     "text": [
      "\r",
      "Generating train split: 458352 examples [00:25, 24920.29 examples/s]"
     ]
    },
    {
     "name": "stderr",
     "output_type": "stream",
     "text": [
      "\r",
      "Generating train split: 462352 examples [00:25, 20656.37 examples/s]"
     ]
    },
    {
     "name": "stderr",
     "output_type": "stream",
     "text": [
      "\r",
      "Generating train split: 466352 examples [00:26, 21861.49 examples/s]"
     ]
    },
    {
     "name": "stderr",
     "output_type": "stream",
     "text": [
      "\r",
      "Generating train split: 470488 examples [00:26, 23768.51 examples/s]"
     ]
    },
    {
     "name": "stderr",
     "output_type": "stream",
     "text": [
      "\r",
      "Generating train split: 474488 examples [00:26, 25405.91 examples/s]"
     ]
    },
    {
     "name": "stderr",
     "output_type": "stream",
     "text": [
      "\r",
      "Generating train split: 477488 examples [00:26, 22932.22 examples/s]"
     ]
    },
    {
     "name": "stderr",
     "output_type": "stream",
     "text": [
      "\r",
      "Generating train split: 480488 examples [00:26, 20617.15 examples/s]"
     ]
    },
    {
     "name": "stderr",
     "output_type": "stream",
     "text": [
      "\r",
      "Generating train split: 484624 examples [00:26, 22808.43 examples/s]"
     ]
    },
    {
     "name": "stderr",
     "output_type": "stream",
     "text": [
      "\r",
      "Generating train split: 488624 examples [00:27, 24909.20 examples/s]"
     ]
    },
    {
     "name": "stderr",
     "output_type": "stream",
     "text": [
      "\r",
      "Generating train split: 492624 examples [00:27, 26501.59 examples/s]"
     ]
    },
    {
     "name": "stderr",
     "output_type": "stream",
     "text": [
      "\r",
      "Generating train split: 496760 examples [00:27, 27749.53 examples/s]"
     ]
    },
    {
     "name": "stderr",
     "output_type": "stream",
     "text": [
      "\r",
      "Generating train split: 500760 examples [00:27, 28509.55 examples/s]"
     ]
    },
    {
     "name": "stderr",
     "output_type": "stream",
     "text": [
      "\r",
      "Generating train split: 504760 examples [00:27, 15550.60 examples/s]"
     ]
    },
    {
     "name": "stderr",
     "output_type": "stream",
     "text": [
      "\r",
      "Generating train split: 508760 examples [00:28, 17469.36 examples/s]"
     ]
    },
    {
     "name": "stderr",
     "output_type": "stream",
     "text": [
      "\r",
      "Generating train split: 511896 examples [00:28, 17387.74 examples/s]"
     ]
    },
    {
     "name": "stderr",
     "output_type": "stream",
     "text": [
      "\r",
      "Generating train split: 514896 examples [00:28, 15859.32 examples/s]"
     ]
    },
    {
     "name": "stderr",
     "output_type": "stream",
     "text": [
      "\r",
      "Generating train split: 516896 examples [00:28, 15991.98 examples/s]"
     ]
    },
    {
     "name": "stderr",
     "output_type": "stream",
     "text": [
      "\r",
      "Generating train split: 518896 examples [00:28, 15180.61 examples/s]"
     ]
    },
    {
     "name": "stderr",
     "output_type": "stream",
     "text": [
      "\r",
      "Generating train split: 522896 examples [00:28, 17875.35 examples/s]"
     ]
    },
    {
     "name": "stderr",
     "output_type": "stream",
     "text": [
      "\r",
      "Generating train split: 525032 examples [00:29, 15911.45 examples/s]"
     ]
    },
    {
     "name": "stderr",
     "output_type": "stream",
     "text": [
      "\r",
      "Generating train split: 528032 examples [00:29, 12273.48 examples/s]"
     ]
    },
    {
     "name": "stderr",
     "output_type": "stream",
     "text": [
      "\r",
      "Generating train split: 531032 examples [00:29, 14522.20 examples/s]"
     ]
    },
    {
     "name": "stderr",
     "output_type": "stream",
     "text": [
      "\r",
      "Generating train split: 534032 examples [00:29, 15039.34 examples/s]"
     ]
    },
    {
     "name": "stderr",
     "output_type": "stream",
     "text": [
      "\r",
      "Generating train split: 537032 examples [00:30, 14447.02 examples/s]"
     ]
    },
    {
     "name": "stderr",
     "output_type": "stream",
     "text": [
      "\r",
      "Generating train split: 539168 examples [00:30, 14517.66 examples/s]"
     ]
    },
    {
     "name": "stderr",
     "output_type": "stream",
     "text": [
      "\r",
      "Generating train split: 541168 examples [00:30, 14544.06 examples/s]"
     ]
    },
    {
     "name": "stderr",
     "output_type": "stream",
     "text": [
      "\r",
      "Generating train split: 545168 examples [00:30, 16676.90 examples/s]"
     ]
    },
    {
     "name": "stderr",
     "output_type": "stream",
     "text": [
      "\r",
      "Generating train split: 547168 examples [00:30, 14993.54 examples/s]"
     ]
    },
    {
     "name": "stderr",
     "output_type": "stream",
     "text": [
      "\r",
      "Generating train split: 549168 examples [00:31, 11189.56 examples/s]"
     ]
    },
    {
     "name": "stderr",
     "output_type": "stream",
     "text": [
      "\r",
      "Generating train split: 553304 examples [00:31, 14836.85 examples/s]"
     ]
    },
    {
     "name": "stderr",
     "output_type": "stream",
     "text": [
      "\r",
      "Generating train split: 555304 examples [00:31, 14485.40 examples/s]"
     ]
    },
    {
     "name": "stderr",
     "output_type": "stream",
     "text": [
      "\r",
      "Generating train split: 557304 examples [00:31, 13453.29 examples/s]"
     ]
    },
    {
     "name": "stderr",
     "output_type": "stream",
     "text": [
      "\r",
      "Generating train split: 559304 examples [00:31, 14273.78 examples/s]"
     ]
    },
    {
     "name": "stderr",
     "output_type": "stream",
     "text": [
      "\r",
      "Generating train split: 561304 examples [00:31, 14213.61 examples/s]"
     ]
    },
    {
     "name": "stderr",
     "output_type": "stream",
     "text": [
      "\r",
      "Generating train split: 564304 examples [00:31, 16284.30 examples/s]"
     ]
    },
    {
     "name": "stderr",
     "output_type": "stream",
     "text": [
      "\r",
      "Generating train split: 567440 examples [00:32, 15512.35 examples/s]"
     ]
    },
    {
     "name": "stderr",
     "output_type": "stream",
     "text": [
      "\r",
      "Generating train split: 570440 examples [00:32, 12110.06 examples/s]"
     ]
    },
    {
     "name": "stderr",
     "output_type": "stream",
     "text": [
      "\r",
      "Generating train split: 573440 examples [00:32, 14358.60 examples/s]"
     ]
    },
    {
     "name": "stderr",
     "output_type": "stream",
     "text": [
      "\r",
      "Generating train split: 577440 examples [00:32, 15522.34 examples/s]"
     ]
    },
    {
     "name": "stderr",
     "output_type": "stream",
     "text": [
      "\r",
      "Generating train split: 579440 examples [00:33, 14379.55 examples/s]"
     ]
    },
    {
     "name": "stderr",
     "output_type": "stream",
     "text": [
      "\r",
      "Generating train split: 581576 examples [00:33, 14562.87 examples/s]"
     ]
    },
    {
     "name": "stderr",
     "output_type": "stream",
     "text": [
      "\r",
      "Generating train split: 583576 examples [00:33, 14615.99 examples/s]"
     ]
    },
    {
     "name": "stderr",
     "output_type": "stream",
     "text": [
      "\r",
      "Generating train split: 586576 examples [00:33, 16727.77 examples/s]"
     ]
    },
    {
     "name": "stderr",
     "output_type": "stream",
     "text": [
      "\r",
      "Generating train split: 589576 examples [00:33, 17242.19 examples/s]"
     ]
    },
    {
     "name": "stderr",
     "output_type": "stream",
     "text": [
      "\r",
      "Generating train split: 591576 examples [00:33, 15690.22 examples/s]"
     ]
    },
    {
     "name": "stderr",
     "output_type": "stream",
     "text": [
      "\r",
      "Generating train split: 593576 examples [00:34, 11081.04 examples/s]"
     ]
    },
    {
     "name": "stderr",
     "output_type": "stream",
     "text": [
      "\r",
      "Generating train split: 597712 examples [00:34, 14923.94 examples/s]"
     ]
    },
    {
     "name": "stderr",
     "output_type": "stream",
     "text": [
      "\r",
      "Generating train split: 601712 examples [00:34, 17441.16 examples/s]"
     ]
    },
    {
     "name": "stderr",
     "output_type": "stream",
     "text": [
      "\r",
      "Generating train split: 605712 examples [00:34, 19812.38 examples/s]"
     ]
    },
    {
     "name": "stderr",
     "output_type": "stream",
     "text": [
      "\r",
      "Generating train split: 609848 examples [00:34, 19053.82 examples/s]"
     ]
    },
    {
     "name": "stderr",
     "output_type": "stream",
     "text": [
      "\r",
      "Generating train split: 613848 examples [00:34, 21291.72 examples/s]"
     ]
    },
    {
     "name": "stderr",
     "output_type": "stream",
     "text": [
      "\r",
      "Generating train split: 617848 examples [00:35, 23183.98 examples/s]"
     ]
    },
    {
     "name": "stderr",
     "output_type": "stream",
     "text": [
      "\r",
      "Generating train split: 621848 examples [00:35, 24576.42 examples/s]"
     ]
    },
    {
     "name": "stderr",
     "output_type": "stream",
     "text": [
      "\r",
      "Generating train split: 624984 examples [00:35, 23846.91 examples/s]"
     ]
    },
    {
     "name": "stderr",
     "output_type": "stream",
     "text": [
      "\r",
      "Generating train split: 628984 examples [00:35, 23240.73 examples/s]"
     ]
    },
    {
     "name": "stderr",
     "output_type": "stream",
     "text": [
      "\r",
      "Generating train split: 632984 examples [00:35, 24649.23 examples/s]"
     ]
    },
    {
     "name": "stderr",
     "output_type": "stream",
     "text": [
      "\r",
      "Generating train split: 637120 examples [00:35, 25658.86 examples/s]"
     ]
    },
    {
     "name": "stderr",
     "output_type": "stream",
     "text": [
      "\r",
      "Generating train split: 641120 examples [00:36, 21264.91 examples/s]"
     ]
    },
    {
     "name": "stderr",
     "output_type": "stream",
     "text": [
      "\r",
      "Generating train split: 645120 examples [00:36, 22078.78 examples/s]"
     ]
    },
    {
     "name": "stderr",
     "output_type": "stream",
     "text": [
      "\r",
      "Generating train split: 648120 examples [00:36, 21910.80 examples/s]"
     ]
    },
    {
     "name": "stderr",
     "output_type": "stream",
     "text": [
      "\r",
      "Generating train split: 652256 examples [00:36, 23816.54 examples/s]"
     ]
    },
    {
     "name": "stderr",
     "output_type": "stream",
     "text": [
      "\r",
      "Generating train split: 655256 examples [00:36, 21812.88 examples/s]"
     ]
    },
    {
     "name": "stderr",
     "output_type": "stream",
     "text": [
      "\r",
      "Generating train split: 658256 examples [00:36, 20034.06 examples/s]"
     ]
    },
    {
     "name": "stderr",
     "output_type": "stream",
     "text": [
      "\r",
      "Generating train split: 662256 examples [00:37, 22177.69 examples/s]"
     ]
    },
    {
     "name": "stderr",
     "output_type": "stream",
     "text": [
      "\r",
      "Generating train split: 666392 examples [00:37, 24062.16 examples/s]"
     ]
    },
    {
     "name": "stderr",
     "output_type": "stream",
     "text": [
      "\r",
      "Generating train split: 670392 examples [00:37, 25738.49 examples/s]"
     ]
    },
    {
     "name": "stderr",
     "output_type": "stream",
     "text": [
      "\r",
      "Generating train split: 674392 examples [00:37, 27312.08 examples/s]"
     ]
    },
    {
     "name": "stderr",
     "output_type": "stream",
     "text": [
      "\r",
      "Generating train split: 678392 examples [00:37, 28611.95 examples/s]"
     ]
    },
    {
     "name": "stderr",
     "output_type": "stream",
     "text": [
      "\r",
      "Generating train split: 682528 examples [00:37, 29215.22 examples/s]"
     ]
    },
    {
     "name": "stderr",
     "output_type": "stream",
     "text": [
      "\r",
      "Generating train split: 686528 examples [00:37, 28677.61 examples/s]"
     ]
    },
    {
     "name": "stderr",
     "output_type": "stream",
     "text": [
      "\r",
      "Generating train split: 689528 examples [00:38, 17609.49 examples/s]"
     ]
    },
    {
     "name": "stderr",
     "output_type": "stream",
     "text": [
      "\r",
      "Generating train split: 692664 examples [00:38, 19129.81 examples/s]"
     ]
    },
    {
     "name": "stderr",
     "output_type": "stream",
     "text": [
      "\r",
      "Generating train split: 696664 examples [00:38, 21082.13 examples/s]"
     ]
    },
    {
     "name": "stderr",
     "output_type": "stream",
     "text": [
      "\r",
      "Generating train split: 699664 examples [00:38, 18254.17 examples/s]"
     ]
    },
    {
     "name": "stderr",
     "output_type": "stream",
     "text": [
      "\r",
      "Generating train split: 702664 examples [00:38, 17065.86 examples/s]"
     ]
    },
    {
     "name": "stderr",
     "output_type": "stream",
     "text": [
      "\r",
      "Generating train split: 704664 examples [00:39, 17451.39 examples/s]"
     ]
    },
    {
     "name": "stderr",
     "output_type": "stream",
     "text": [
      "\r",
      "Generating train split: 707800 examples [00:39, 17792.45 examples/s]"
     ]
    },
    {
     "name": "stderr",
     "output_type": "stream",
     "text": [
      "\r",
      "Generating train split: 710800 examples [00:39, 18298.11 examples/s]"
     ]
    },
    {
     "name": "stderr",
     "output_type": "stream",
     "text": [
      "\r",
      "Generating train split: 712800 examples [00:39, 16817.38 examples/s]"
     ]
    },
    {
     "name": "stderr",
     "output_type": "stream",
     "text": [
      "\r",
      "Generating train split: 715800 examples [00:39, 12511.88 examples/s]"
     ]
    },
    {
     "name": "stderr",
     "output_type": "stream",
     "text": [
      "\r",
      "Generating train split: 718800 examples [00:40, 14389.99 examples/s]"
     ]
    },
    {
     "name": "stderr",
     "output_type": "stream",
     "text": [
      "\r",
      "Generating train split: 720800 examples [00:40, 13937.83 examples/s]"
     ]
    },
    {
     "name": "stderr",
     "output_type": "stream",
     "text": [
      "\r",
      "Generating train split: 722936 examples [00:40, 13779.50 examples/s]"
     ]
    },
    {
     "name": "stderr",
     "output_type": "stream",
     "text": [
      "\r",
      "Generating train split: 724936 examples [00:40, 14687.87 examples/s]"
     ]
    },
    {
     "name": "stderr",
     "output_type": "stream",
     "text": [
      "\r",
      "Generating train split: 726936 examples [00:40, 14207.75 examples/s]"
     ]
    },
    {
     "name": "stderr",
     "output_type": "stream",
     "text": [
      "\r",
      "Generating train split: 730936 examples [00:40, 17580.57 examples/s]"
     ]
    },
    {
     "name": "stderr",
     "output_type": "stream",
     "text": [
      "\r",
      "Generating train split: 732936 examples [00:40, 15227.05 examples/s]"
     ]
    },
    {
     "name": "stderr",
     "output_type": "stream",
     "text": [
      "\r",
      "Generating train split: 734936 examples [00:41, 11358.05 examples/s]"
     ]
    },
    {
     "name": "stderr",
     "output_type": "stream",
     "text": [
      "\r",
      "Generating train split: 739072 examples [00:41, 15255.01 examples/s]"
     ]
    },
    {
     "name": "stderr",
     "output_type": "stream",
     "text": [
      "\r",
      "Generating train split: 742072 examples [00:41, 15973.96 examples/s]"
     ]
    },
    {
     "name": "stderr",
     "output_type": "stream",
     "text": [
      "\r",
      "Generating train split: 744072 examples [00:41, 14461.18 examples/s]"
     ]
    },
    {
     "name": "stderr",
     "output_type": "stream",
     "text": [
      "\r",
      "Generating train split: 747072 examples [00:41, 15307.79 examples/s]"
     ]
    },
    {
     "name": "stderr",
     "output_type": "stream",
     "text": [
      "\r",
      "Generating train split: 750208 examples [00:42, 16619.06 examples/s]"
     ]
    },
    {
     "name": "stderr",
     "output_type": "stream",
     "text": [
      "\r",
      "Generating train split: 753208 examples [00:42, 17941.68 examples/s]"
     ]
    },
    {
     "name": "stderr",
     "output_type": "stream",
     "text": [
      "\r",
      "Generating train split: 755208 examples [00:42, 16067.64 examples/s]"
     ]
    },
    {
     "name": "stderr",
     "output_type": "stream",
     "text": [
      "\r",
      "Generating train split: 758208 examples [00:42, 12961.27 examples/s]"
     ]
    },
    {
     "name": "stderr",
     "output_type": "stream",
     "text": [
      "\r",
      "Generating train split: 762208 examples [00:42, 15828.88 examples/s]"
     ]
    },
    {
     "name": "stderr",
     "output_type": "stream",
     "text": [
      "\r",
      "Generating train split: 764344 examples [00:43, 14753.40 examples/s]"
     ]
    },
    {
     "name": "stderr",
     "output_type": "stream",
     "text": [
      "\r",
      "Generating train split: 767344 examples [00:43, 15582.34 examples/s]"
     ]
    },
    {
     "name": "stderr",
     "output_type": "stream",
     "text": [
      "\r",
      "Generating train split: 769344 examples [00:43, 16190.91 examples/s]"
     ]
    },
    {
     "name": "stderr",
     "output_type": "stream",
     "text": [
      "\r",
      "Generating train split: 772344 examples [00:43, 16872.60 examples/s]"
     ]
    },
    {
     "name": "stderr",
     "output_type": "stream",
     "text": [
      "\r",
      "Generating train split: 775344 examples [00:43, 18170.98 examples/s]"
     ]
    },
    {
     "name": "stderr",
     "output_type": "stream",
     "text": [
      "\r",
      "Generating train split: 777344 examples [00:43, 16094.60 examples/s]"
     ]
    },
    {
     "name": "stderr",
     "output_type": "stream",
     "text": [
      "\r",
      "Generating train split: 780480 examples [00:44, 12458.71 examples/s]"
     ]
    },
    {
     "name": "stderr",
     "output_type": "stream",
     "text": [
      "\r",
      "Generating train split: 784480 examples [00:44, 15442.83 examples/s]"
     ]
    },
    {
     "name": "stderr",
     "output_type": "stream",
     "text": [
      "\r",
      "Generating train split: 788480 examples [00:44, 18451.04 examples/s]"
     ]
    },
    {
     "name": "stderr",
     "output_type": "stream",
     "text": [
      "\r",
      "Generating train split: 792616 examples [00:44, 21243.55 examples/s]"
     ]
    },
    {
     "name": "stderr",
     "output_type": "stream",
     "text": [
      "\r",
      "Generating train split: 795616 examples [00:44, 18191.70 examples/s]"
     ]
    },
    {
     "name": "stderr",
     "output_type": "stream",
     "text": [
      "\r",
      "Generating train split: 799616 examples [00:44, 20111.46 examples/s]"
     ]
    },
    {
     "name": "stderr",
     "output_type": "stream",
     "text": [
      "\r",
      "Generating train split: 803616 examples [00:45, 22371.20 examples/s]"
     ]
    },
    {
     "name": "stderr",
     "output_type": "stream",
     "text": [
      "\r",
      "Generating train split: 807752 examples [00:45, 24243.27 examples/s]"
     ]
    },
    {
     "name": "stderr",
     "output_type": "stream",
     "text": [
      "\r",
      "Generating train split: 811752 examples [00:45, 23329.51 examples/s]"
     ]
    },
    {
     "name": "stderr",
     "output_type": "stream",
     "text": [
      "\r",
      "Generating train split: 814752 examples [00:45, 21620.85 examples/s]"
     ]
    },
    {
     "name": "stderr",
     "output_type": "stream",
     "text": [
      "\r",
      "Generating train split: 818752 examples [00:45, 23285.40 examples/s]"
     ]
    },
    {
     "name": "stderr",
     "output_type": "stream",
     "text": [
      "\r",
      "Generating train split: 822888 examples [00:45, 25088.62 examples/s]"
     ]
    },
    {
     "name": "stderr",
     "output_type": "stream",
     "text": [
      "\r",
      "Generating train split: 826888 examples [00:46, 26397.28 examples/s]"
     ]
    },
    {
     "name": "stderr",
     "output_type": "stream",
     "text": [
      "\r",
      "Generating train split: 829888 examples [00:46, 21506.24 examples/s]"
     ]
    },
    {
     "name": "stderr",
     "output_type": "stream",
     "text": [
      "\r",
      "Generating train split: 832888 examples [00:46, 21892.81 examples/s]"
     ]
    },
    {
     "name": "stderr",
     "output_type": "stream",
     "text": [
      "\r",
      "Generating train split: 836024 examples [00:46, 22604.81 examples/s]"
     ]
    },
    {
     "name": "stderr",
     "output_type": "stream",
     "text": [
      "\r",
      "Generating train split: 840024 examples [00:46, 24882.04 examples/s]"
     ]
    },
    {
     "name": "stderr",
     "output_type": "stream",
     "text": [
      "\r",
      "Generating train split: 844024 examples [00:46, 26623.35 examples/s]"
     ]
    },
    {
     "name": "stderr",
     "output_type": "stream",
     "text": [
      "\r",
      "Generating train split: 847024 examples [00:46, 21900.84 examples/s]"
     ]
    },
    {
     "name": "stderr",
     "output_type": "stream",
     "text": [
      "\r",
      "Generating train split: 851160 examples [00:47, 23039.76 examples/s]"
     ]
    },
    {
     "name": "stderr",
     "output_type": "stream",
     "text": [
      "\r",
      "Generating train split: 855160 examples [00:47, 24746.64 examples/s]"
     ]
    },
    {
     "name": "stderr",
     "output_type": "stream",
     "text": [
      "\r",
      "Generating train split: 859160 examples [00:47, 26038.20 examples/s]"
     ]
    },
    {
     "name": "stderr",
     "output_type": "stream",
     "text": [
      "\r",
      "Generating train split: 863296 examples [00:47, 26972.48 examples/s]"
     ]
    },
    {
     "name": "stderr",
     "output_type": "stream",
     "text": [
      "\r",
      "Generating train split: 867296 examples [00:47, 27905.75 examples/s]"
     ]
    },
    {
     "name": "stderr",
     "output_type": "stream",
     "text": [
      "\r",
      "Generating train split: 870296 examples [00:47, 26704.27 examples/s]"
     ]
    },
    {
     "name": "stderr",
     "output_type": "stream",
     "text": [
      "\r",
      "Generating train split: 873296 examples [00:48, 16822.87 examples/s]"
     ]
    },
    {
     "name": "stderr",
     "output_type": "stream",
     "text": [
      "\r",
      "Generating train split: 877432 examples [00:48, 19088.70 examples/s]"
     ]
    },
    {
     "name": "stderr",
     "output_type": "stream",
     "text": [
      "\r",
      "Generating train split: 881432 examples [00:48, 19346.36 examples/s]"
     ]
    },
    {
     "name": "stderr",
     "output_type": "stream",
     "text": [
      "\r",
      "Generating train split: 884432 examples [00:48, 17340.25 examples/s]"
     ]
    },
    {
     "name": "stderr",
     "output_type": "stream",
     "text": [
      "\r",
      "Generating train split: 887432 examples [00:48, 18228.52 examples/s]"
     ]
    },
    {
     "name": "stderr",
     "output_type": "stream",
     "text": [
      "\r",
      "Generating train split: 889432 examples [00:49, 17492.15 examples/s]"
     ]
    },
    {
     "name": "stderr",
     "output_type": "stream",
     "text": [
      "\r",
      "Generating train split: 893568 examples [00:49, 19900.75 examples/s]"
     ]
    },
    {
     "name": "stderr",
     "output_type": "stream",
     "text": [
      "\r",
      "Generating train split: 896568 examples [00:49, 17794.34 examples/s]"
     ]
    },
    {
     "name": "stderr",
     "output_type": "stream",
     "text": [
      "\r",
      "Generating train split: 899568 examples [00:49, 13319.14 examples/s]"
     ]
    },
    {
     "name": "stderr",
     "output_type": "stream",
     "text": [
      "\r",
      "Generating train split: 902568 examples [00:49, 15145.80 examples/s]"
     ]
    },
    {
     "name": "stderr",
     "output_type": "stream",
     "text": [
      "\r",
      "Generating train split: 904568 examples [00:50, 14535.09 examples/s]"
     ]
    },
    {
     "name": "stderr",
     "output_type": "stream",
     "text": [
      "\r",
      "Generating train split: 907704 examples [00:50, 15786.69 examples/s]"
     ]
    },
    {
     "name": "stderr",
     "output_type": "stream",
     "text": [
      "\r",
      "Generating train split: 910704 examples [00:50, 15525.02 examples/s]"
     ]
    },
    {
     "name": "stderr",
     "output_type": "stream",
     "text": [
      "\r",
      "Generating train split: 914704 examples [00:50, 18449.84 examples/s]"
     ]
    },
    {
     "name": "stderr",
     "output_type": "stream",
     "text": [
      "\r",
      "Generating train split: 916704 examples [00:50, 16772.82 examples/s]"
     ]
    },
    {
     "name": "stderr",
     "output_type": "stream",
     "text": [
      "\r",
      "Generating train split: 918840 examples [00:50, 14173.97 examples/s]"
     ]
    },
    {
     "name": "stderr",
     "output_type": "stream",
     "text": [
      "\r",
      "Generating train split: 921840 examples [00:51, 13730.00 examples/s]"
     ]
    },
    {
     "name": "stderr",
     "output_type": "stream",
     "text": [
      "\r",
      "Generating train split: 925840 examples [00:51, 15425.01 examples/s]"
     ]
    },
    {
     "name": "stderr",
     "output_type": "stream",
     "text": [
      "\r",
      "Generating train split: 928840 examples [00:51, 14923.70 examples/s]"
     ]
    },
    {
     "name": "stderr",
     "output_type": "stream",
     "text": [
      "\r",
      "Generating train split: 930840 examples [00:51, 15739.26 examples/s]"
     ]
    },
    {
     "name": "stderr",
     "output_type": "stream",
     "text": [
      "\r",
      "Generating train split: 932840 examples [00:51, 15283.76 examples/s]"
     ]
    },
    {
     "name": "stderr",
     "output_type": "stream",
     "text": [
      "\r",
      "Generating train split: 936976 examples [00:52, 18085.66 examples/s]"
     ]
    },
    {
     "name": "stderr",
     "output_type": "stream",
     "text": [
      "\r",
      "Generating train split: 938976 examples [00:52, 15831.02 examples/s]"
     ]
    },
    {
     "name": "stderr",
     "output_type": "stream",
     "text": [
      "\r",
      "Generating train split: 940976 examples [00:52, 11898.07 examples/s]"
     ]
    },
    {
     "name": "stderr",
     "output_type": "stream",
     "text": [
      "\r",
      "Generating train split: 944976 examples [00:52, 15409.68 examples/s]"
     ]
    },
    {
     "name": "stderr",
     "output_type": "stream",
     "text": [
      "\r",
      "Generating train split: 946976 examples [00:52, 15139.92 examples/s]"
     ]
    },
    {
     "name": "stderr",
     "output_type": "stream",
     "text": [
      "\r",
      "Generating train split: 949112 examples [00:52, 14401.40 examples/s]"
     ]
    },
    {
     "name": "stderr",
     "output_type": "stream",
     "text": [
      "\r",
      "Generating train split: 952112 examples [00:53, 15699.85 examples/s]"
     ]
    },
    {
     "name": "stderr",
     "output_type": "stream",
     "text": [
      "\r",
      "Generating train split: 954112 examples [00:53, 15436.37 examples/s]"
     ]
    },
    {
     "name": "stderr",
     "output_type": "stream",
     "text": [
      "\r",
      "Generating train split: 958112 examples [00:53, 18632.93 examples/s]"
     ]
    },
    {
     "name": "stderr",
     "output_type": "stream",
     "text": [
      "\r",
      "Generating train split: 960112 examples [00:53, 15859.31 examples/s]"
     ]
    },
    {
     "name": "stderr",
     "output_type": "stream",
     "text": [
      "\r",
      "Generating train split: 962248 examples [00:53, 11474.70 examples/s]"
     ]
    },
    {
     "name": "stderr",
     "output_type": "stream",
     "text": [
      "\r",
      "Generating train split: 966248 examples [00:54, 14938.93 examples/s]"
     ]
    },
    {
     "name": "stderr",
     "output_type": "stream",
     "text": [
      "\r",
      "Generating train split: 970248 examples [00:54, 17797.40 examples/s]"
     ]
    },
    {
     "name": "stderr",
     "output_type": "stream",
     "text": [
      "\r",
      "Generating train split: 974248 examples [00:54, 20585.97 examples/s]"
     ]
    },
    {
     "name": "stderr",
     "output_type": "stream",
     "text": [
      "\r",
      "Generating train split: 978384 examples [00:54, 20727.05 examples/s]"
     ]
    },
    {
     "name": "stderr",
     "output_type": "stream",
     "text": [
      "\r",
      "Generating train split: 981384 examples [00:54, 19268.64 examples/s]"
     ]
    },
    {
     "name": "stderr",
     "output_type": "stream",
     "text": [
      "\r",
      "Generating train split: 985384 examples [00:54, 21193.32 examples/s]"
     ]
    },
    {
     "name": "stderr",
     "output_type": "stream",
     "text": [
      "\r",
      "Generating train split: 989384 examples [00:55, 23668.58 examples/s]"
     ]
    },
    {
     "name": "stderr",
     "output_type": "stream",
     "text": [
      "\r",
      "Generating train split: 993520 examples [00:55, 25684.43 examples/s]"
     ]
    },
    {
     "name": "stderr",
     "output_type": "stream",
     "text": [
      "\r",
      "Generating train split: 996520 examples [00:55, 21426.17 examples/s]"
     ]
    },
    {
     "name": "stderr",
     "output_type": "stream",
     "text": [
      "\r",
      "Generating train split: 1000520 examples [00:55, 22864.54 examples/s]"
     ]
    },
    {
     "name": "stderr",
     "output_type": "stream",
     "text": [
      "\r",
      "Generating train split: 1004656 examples [00:55, 24478.58 examples/s]"
     ]
    },
    {
     "name": "stderr",
     "output_type": "stream",
     "text": [
      "\r",
      "Generating train split: 1008656 examples [00:55, 26213.82 examples/s]"
     ]
    },
    {
     "name": "stderr",
     "output_type": "stream",
     "text": [
      "\r",
      "Generating train split: 1012656 examples [00:55, 26886.28 examples/s]"
     ]
    },
    {
     "name": "stderr",
     "output_type": "stream",
     "text": [
      "\r",
      "Generating train split: 1016656 examples [00:56, 21840.19 examples/s]"
     ]
    },
    {
     "name": "stderr",
     "output_type": "stream",
     "text": [
      "\r",
      "Generating train split: 1020792 examples [00:56, 23882.78 examples/s]"
     ]
    },
    {
     "name": "stderr",
     "output_type": "stream",
     "text": [
      "\r",
      "Generating train split: 1024792 examples [00:56, 25817.81 examples/s]"
     ]
    },
    {
     "name": "stderr",
     "output_type": "stream",
     "text": [
      "\r",
      "Generating train split: 1028792 examples [00:56, 26748.67 examples/s]"
     ]
    },
    {
     "name": "stderr",
     "output_type": "stream",
     "text": [
      "\r",
      "Generating train split: 1031792 examples [00:56, 22419.26 examples/s]"
     ]
    },
    {
     "name": "stderr",
     "output_type": "stream",
     "text": [
      "\r",
      "Generating train split: 1035928 examples [00:56, 23419.36 examples/s]"
     ]
    },
    {
     "name": "stderr",
     "output_type": "stream",
     "text": [
      "\r",
      "Generating train split: 1039928 examples [00:57, 25134.24 examples/s]"
     ]
    },
    {
     "name": "stderr",
     "output_type": "stream",
     "text": [
      "\r",
      "Generating train split: 1043928 examples [00:57, 26359.43 examples/s]"
     ]
    },
    {
     "name": "stderr",
     "output_type": "stream",
     "text": [
      "\r",
      "Generating train split: 1048064 examples [00:57, 27685.70 examples/s]"
     ]
    },
    {
     "name": "stderr",
     "output_type": "stream",
     "text": [
      "\r",
      "Generating train split: 1052064 examples [00:57, 27829.69 examples/s]"
     ]
    },
    {
     "name": "stderr",
     "output_type": "stream",
     "text": [
      "\r",
      "Generating train split: 1056064 examples [00:57, 27544.83 examples/s]"
     ]
    },
    {
     "name": "stderr",
     "output_type": "stream",
     "text": [
      "\r",
      "Generating train split: 1059064 examples [00:58, 16927.79 examples/s]"
     ]
    },
    {
     "name": "stderr",
     "output_type": "stream",
     "text": [
      "\r",
      "Generating train split: 1063200 examples [00:58, 19162.77 examples/s]"
     ]
    },
    {
     "name": "stderr",
     "output_type": "stream",
     "text": [
      "\r",
      "Generating train split: 1066200 examples [00:58, 18593.93 examples/s]"
     ]
    },
    {
     "name": "stderr",
     "output_type": "stream",
     "text": [
      "\r",
      "Generating train split: 1070200 examples [00:58, 17628.66 examples/s]"
     ]
    },
    {
     "name": "stderr",
     "output_type": "stream",
     "text": [
      "\r",
      "Generating train split: 1072200 examples [00:58, 17870.34 examples/s]"
     ]
    },
    {
     "name": "stderr",
     "output_type": "stream",
     "text": [
      "\r",
      "Generating train split: 1074200 examples [00:58, 16869.59 examples/s]"
     ]
    },
    {
     "name": "stderr",
     "output_type": "stream",
     "text": [
      "\r",
      "Generating train split: 1078336 examples [00:59, 19525.21 examples/s]"
     ]
    },
    {
     "name": "stderr",
     "output_type": "stream",
     "text": [
      "\r",
      "Generating train split: 1082336 examples [00:59, 12954.70 examples/s]"
     ]
    },
    {
     "name": "stderr",
     "output_type": "stream",
     "text": [
      "\r",
      "Generating train split: 1086336 examples [00:59, 15565.60 examples/s]"
     ]
    },
    {
     "name": "stderr",
     "output_type": "stream",
     "text": [
      "\r",
      "Generating train split: 1088336 examples [00:59, 15336.92 examples/s]"
     ]
    },
    {
     "name": "stderr",
     "output_type": "stream",
     "text": [
      "\r",
      "Generating train split: 1090472 examples [00:59, 15194.04 examples/s]"
     ]
    },
    {
     "name": "stderr",
     "output_type": "stream",
     "text": [
      "\r",
      "Generating train split: 1093472 examples [01:00, 16533.89 examples/s]"
     ]
    },
    {
     "name": "stderr",
     "output_type": "stream",
     "text": [
      "\r",
      "Generating train split: 1095472 examples [01:00, 16045.20 examples/s]"
     ]
    },
    {
     "name": "stderr",
     "output_type": "stream",
     "text": [
      "\r",
      "Generating train split: 1099472 examples [01:00, 19095.27 examples/s]"
     ]
    },
    {
     "name": "stderr",
     "output_type": "stream",
     "text": [
      "\r",
      "Generating train split: 1101472 examples [01:00, 17131.41 examples/s]"
     ]
    },
    {
     "name": "stderr",
     "output_type": "stream",
     "text": [
      "\r",
      "Generating train split: 1103608 examples [01:00, 13801.45 examples/s]"
     ]
    },
    {
     "name": "stderr",
     "output_type": "stream",
     "text": [
      "\r",
      "Generating train split: 1106608 examples [01:01, 14123.03 examples/s]"
     ]
    },
    {
     "name": "stderr",
     "output_type": "stream",
     "text": [
      "\r",
      "Generating train split: 1110608 examples [01:01, 15091.78 examples/s]"
     ]
    },
    {
     "name": "stderr",
     "output_type": "stream",
     "text": [
      "\r",
      "Generating train split: 1112608 examples [01:01, 14841.94 examples/s]"
     ]
    },
    {
     "name": "stderr",
     "output_type": "stream",
     "text": [
      "\r",
      "Generating train split: 1114608 examples [01:01, 15470.74 examples/s]"
     ]
    },
    {
     "name": "stderr",
     "output_type": "stream",
     "text": [
      "\r",
      "Generating train split: 1116608 examples [01:01, 15051.05 examples/s]"
     ]
    },
    {
     "name": "stderr",
     "output_type": "stream",
     "text": [
      "\r",
      "Generating train split: 1120744 examples [01:01, 18142.50 examples/s]"
     ]
    },
    {
     "name": "stderr",
     "output_type": "stream",
     "text": [
      "\r",
      "Generating train split: 1122744 examples [01:01, 16137.64 examples/s]"
     ]
    },
    {
     "name": "stderr",
     "output_type": "stream",
     "text": [
      "\r",
      "Generating train split: 1124744 examples [01:02, 11846.46 examples/s]"
     ]
    },
    {
     "name": "stderr",
     "output_type": "stream",
     "text": [
      "\r",
      "Generating train split: 1128744 examples [01:02, 15420.09 examples/s]"
     ]
    },
    {
     "name": "stderr",
     "output_type": "stream",
     "text": [
      "\r",
      "Generating train split: 1130744 examples [01:02, 15562.66 examples/s]"
     ]
    },
    {
     "name": "stderr",
     "output_type": "stream",
     "text": [
      "\r",
      "Generating train split: 1132880 examples [01:02, 14998.95 examples/s]"
     ]
    },
    {
     "name": "stderr",
     "output_type": "stream",
     "text": [
      "\r",
      "Generating train split: 1135880 examples [01:02, 16120.61 examples/s]"
     ]
    },
    {
     "name": "stderr",
     "output_type": "stream",
     "text": [
      "\r",
      "Generating train split: 1137880 examples [01:03, 15774.04 examples/s]"
     ]
    },
    {
     "name": "stderr",
     "output_type": "stream",
     "text": [
      "\r",
      "Generating train split: 1141880 examples [01:03, 19032.40 examples/s]"
     ]
    },
    {
     "name": "stderr",
     "output_type": "stream",
     "text": [
      "\r",
      "Generating train split: 1143880 examples [01:03, 16899.18 examples/s]"
     ]
    },
    {
     "name": "stderr",
     "output_type": "stream",
     "text": [
      "\r",
      "Generating train split: 1146016 examples [01:03, 11856.70 examples/s]"
     ]
    },
    {
     "name": "stderr",
     "output_type": "stream",
     "text": [
      "\r",
      "Generating train split: 1150016 examples [01:03, 15264.71 examples/s]"
     ]
    },
    {
     "name": "stderr",
     "output_type": "stream",
     "text": [
      "\r",
      "Generating train split: 1154016 examples [01:03, 18246.89 examples/s]"
     ]
    },
    {
     "name": "stderr",
     "output_type": "stream",
     "text": [
      "\r",
      "Generating train split: 1158016 examples [01:04, 20960.55 examples/s]"
     ]
    },
    {
     "name": "stderr",
     "output_type": "stream",
     "text": [
      "\r",
      "Generating train split: 1162152 examples [01:04, 23317.76 examples/s]"
     ]
    },
    {
     "name": "stderr",
     "output_type": "stream",
     "text": [
      "\r",
      "Generating train split: 1165152 examples [01:04, 18636.51 examples/s]"
     ]
    },
    {
     "name": "stderr",
     "output_type": "stream",
     "text": [
      "\r",
      "Generating train split: 1169152 examples [01:04, 20942.86 examples/s]"
     ]
    },
    {
     "name": "stderr",
     "output_type": "stream",
     "text": [
      "\r",
      "Generating train split: 1173152 examples [01:04, 23289.39 examples/s]"
     ]
    },
    {
     "name": "stderr",
     "output_type": "stream",
     "text": [
      "\r",
      "Generating train split: 1177288 examples [01:04, 25306.74 examples/s]"
     ]
    },
    {
     "name": "stderr",
     "output_type": "stream",
     "text": [
      "\r",
      "Generating train split: 1180288 examples [01:05, 23648.86 examples/s]"
     ]
    },
    {
     "name": "stderr",
     "output_type": "stream",
     "text": [
      "\r",
      "Generating train split: 1183288 examples [01:05, 22059.80 examples/s]"
     ]
    },
    {
     "name": "stderr",
     "output_type": "stream",
     "text": [
      "\r",
      "Generating train split: 1187288 examples [01:05, 23381.49 examples/s]"
     ]
    },
    {
     "name": "stderr",
     "output_type": "stream",
     "text": [
      "\r",
      "Generating train split: 1191424 examples [01:05, 25117.17 examples/s]"
     ]
    },
    {
     "name": "stderr",
     "output_type": "stream",
     "text": [
      "\r",
      "Generating train split: 1195424 examples [01:05, 26765.81 examples/s]"
     ]
    },
    {
     "name": "stderr",
     "output_type": "stream",
     "text": [
      "\r",
      "Generating train split: 1198424 examples [01:05, 24139.66 examples/s]"
     ]
    },
    {
     "name": "stderr",
     "output_type": "stream",
     "text": [
      "\r",
      "Generating train split: 1201424 examples [01:05, 21282.78 examples/s]"
     ]
    },
    {
     "name": "stderr",
     "output_type": "stream",
     "text": [
      "\r",
      "Generating train split: 1205560 examples [01:06, 22761.46 examples/s]"
     ]
    },
    {
     "name": "stderr",
     "output_type": "stream",
     "text": [
      "\r",
      "Generating train split: 1209560 examples [01:06, 24621.68 examples/s]"
     ]
    },
    {
     "name": "stderr",
     "output_type": "stream",
     "text": [
      "\r",
      "Generating train split: 1213560 examples [01:06, 26494.25 examples/s]"
     ]
    },
    {
     "name": "stderr",
     "output_type": "stream",
     "text": [
      "\r",
      "Generating train split: 1216696 examples [01:06, 21757.80 examples/s]"
     ]
    },
    {
     "name": "stderr",
     "output_type": "stream",
     "text": [
      "\r",
      "Generating train split: 1220696 examples [01:06, 22818.49 examples/s]"
     ]
    },
    {
     "name": "stderr",
     "output_type": "stream",
     "text": [
      "\r",
      "Generating train split: 1224696 examples [01:06, 24673.94 examples/s]"
     ]
    },
    {
     "name": "stderr",
     "output_type": "stream",
     "text": [
      "\r",
      "Generating train split: 1228696 examples [01:07, 26372.94 examples/s]"
     ]
    },
    {
     "name": "stderr",
     "output_type": "stream",
     "text": [
      "\r",
      "Generating train split: 1232832 examples [01:07, 27790.36 examples/s]"
     ]
    },
    {
     "name": "stderr",
     "output_type": "stream",
     "text": [
      "\r",
      "Generating train split: 1236832 examples [01:07, 28574.54 examples/s]"
     ]
    },
    {
     "name": "stderr",
     "output_type": "stream",
     "text": [
      "\r",
      "Generating train split: 1240832 examples [01:07, 25899.68 examples/s]"
     ]
    },
    {
     "name": "stderr",
     "output_type": "stream",
     "text": [
      "\r",
      "Generating train split: 1244968 examples [01:07, 17258.73 examples/s]"
     ]
    },
    {
     "name": "stderr",
     "output_type": "stream",
     "text": [
      "\r",
      "Generating train split: 1248968 examples [01:08, 19505.07 examples/s]"
     ]
    },
    {
     "name": "stderr",
     "output_type": "stream",
     "text": [
      "\r",
      "Generating train split: 1251968 examples [01:08, 17815.09 examples/s]"
     ]
    },
    {
     "name": "stderr",
     "output_type": "stream",
     "text": [
      "\r",
      "Generating train split: 1254968 examples [01:08, 18131.41 examples/s]"
     ]
    },
    {
     "name": "stderr",
     "output_type": "stream",
     "text": [
      "\r",
      "Generating train split: 1257968 examples [01:08, 18634.36 examples/s]"
     ]
    },
    {
     "name": "stderr",
     "output_type": "stream",
     "text": [
      "\r",
      "Generating train split: 1261104 examples [01:08, 18715.39 examples/s]"
     ]
    },
    {
     "name": "stderr",
     "output_type": "stream",
     "text": [
      "\r",
      "Generating train split: 1264104 examples [01:08, 18083.61 examples/s]"
     ]
    },
    {
     "name": "stderr",
     "output_type": "stream",
     "text": [
      "\r",
      "Generating train split: 1266104 examples [01:09, 17974.39 examples/s]"
     ]
    },
    {
     "name": "stderr",
     "output_type": "stream",
     "text": [
      "\r",
      "Generating train split: 1269104 examples [01:09, 13188.41 examples/s]"
     ]
    },
    {
     "name": "stderr",
     "output_type": "stream",
     "text": [
      "\r",
      "Generating train split: 1272104 examples [01:09, 14794.69 examples/s]"
     ]
    },
    {
     "name": "stderr",
     "output_type": "stream",
     "text": [
      "\r",
      "Generating train split: 1274240 examples [01:09, 14245.33 examples/s]"
     ]
    },
    {
     "name": "stderr",
     "output_type": "stream",
     "text": [
      "\r",
      "Generating train split: 1277240 examples [01:09, 15425.91 examples/s]"
     ]
    },
    {
     "name": "stderr",
     "output_type": "stream",
     "text": [
      "\r",
      "Generating train split: 1279240 examples [01:10, 14876.82 examples/s]"
     ]
    },
    {
     "name": "stderr",
     "output_type": "stream",
     "text": [
      "\r",
      "Generating train split: 1283240 examples [01:10, 17814.99 examples/s]"
     ]
    },
    {
     "name": "stderr",
     "output_type": "stream",
     "text": [
      "\r",
      "Generating train split: 1285240 examples [01:10, 15922.16 examples/s]"
     ]
    },
    {
     "name": "stderr",
     "output_type": "stream",
     "text": [
      "\r",
      "Generating train split: 1287376 examples [01:10, 12097.70 examples/s]"
     ]
    },
    {
     "name": "stderr",
     "output_type": "stream",
     "text": [
      "\r",
      "Generating train split: 1291376 examples [01:10, 15540.46 examples/s]"
     ]
    },
    {
     "name": "stderr",
     "output_type": "stream",
     "text": [
      "\r",
      "Generating train split: 1293376 examples [01:10, 15424.24 examples/s]"
     ]
    },
    {
     "name": "stderr",
     "output_type": "stream",
     "text": [
      "\r",
      "Generating train split: 1296376 examples [01:11, 15138.61 examples/s]"
     ]
    },
    {
     "name": "stderr",
     "output_type": "stream",
     "text": [
      "\r",
      "Generating train split: 1298376 examples [01:11, 15756.51 examples/s]"
     ]
    },
    {
     "name": "stderr",
     "output_type": "stream",
     "text": [
      "\r",
      "Generating train split: 1300376 examples [01:11, 15288.31 examples/s]"
     ]
    },
    {
     "name": "stderr",
     "output_type": "stream",
     "text": [
      "\r",
      "Generating train split: 1304512 examples [01:11, 17973.94 examples/s]"
     ]
    },
    {
     "name": "stderr",
     "output_type": "stream",
     "text": [
      "\r",
      "Generating train split: 1306512 examples [01:11, 16225.54 examples/s]"
     ]
    },
    {
     "name": "stderr",
     "output_type": "stream",
     "text": [
      "\r",
      "Generating train split: 1308512 examples [01:12, 11735.62 examples/s]"
     ]
    },
    {
     "name": "stderr",
     "output_type": "stream",
     "text": [
      "\r",
      "Generating train split: 1312512 examples [01:12, 14928.66 examples/s]"
     ]
    },
    {
     "name": "stderr",
     "output_type": "stream",
     "text": [
      "\r",
      "Generating train split: 1314512 examples [01:12, 14088.58 examples/s]"
     ]
    },
    {
     "name": "stderr",
     "output_type": "stream",
     "text": [
      "\r",
      "Generating train split: 1316648 examples [01:12, 14067.71 examples/s]"
     ]
    },
    {
     "name": "stderr",
     "output_type": "stream",
     "text": [
      "\r",
      "Generating train split: 1318648 examples [01:12, 15199.83 examples/s]"
     ]
    },
    {
     "name": "stderr",
     "output_type": "stream",
     "text": [
      "\r",
      "Generating train split: 1320648 examples [01:12, 14981.89 examples/s]"
     ]
    },
    {
     "name": "stderr",
     "output_type": "stream",
     "text": [
      "\r",
      "Generating train split: 1324648 examples [01:12, 18069.34 examples/s]"
     ]
    },
    {
     "name": "stderr",
     "output_type": "stream",
     "text": [
      "\r",
      "Generating train split: 1326648 examples [01:13, 14797.49 examples/s]"
     ]
    },
    {
     "name": "stderr",
     "output_type": "stream",
     "text": [
      "\r",
      "Generating train split: 1328648 examples [01:13, 11067.87 examples/s]"
     ]
    },
    {
     "name": "stderr",
     "output_type": "stream",
     "text": [
      "\r",
      "Generating train split: 1332784 examples [01:13, 14276.63 examples/s]"
     ]
    },
    {
     "name": "stderr",
     "output_type": "stream",
     "text": [
      "\r",
      "Generating train split: 1336784 examples [01:13, 17196.42 examples/s]"
     ]
    },
    {
     "name": "stderr",
     "output_type": "stream",
     "text": [
      "\r",
      "Generating train split: 1340784 examples [01:13, 19963.91 examples/s]"
     ]
    },
    {
     "name": "stderr",
     "output_type": "stream",
     "text": [
      "\r",
      "Generating train split: 1343920 examples [01:14, 18398.20 examples/s]"
     ]
    },
    {
     "name": "stderr",
     "output_type": "stream",
     "text": [
      "\r",
      "Generating train split: 1346920 examples [01:14, 19387.40 examples/s]"
     ]
    },
    {
     "name": "stderr",
     "output_type": "stream",
     "text": [
      "\r",
      "Generating train split: 1350920 examples [01:14, 21490.11 examples/s]"
     ]
    },
    {
     "name": "stderr",
     "output_type": "stream",
     "text": [
      "\r",
      "Generating train split: 1354920 examples [01:14, 23436.85 examples/s]"
     ]
    },
    {
     "name": "stderr",
     "output_type": "stream",
     "text": [
      "\r",
      "Generating train split: 1359056 examples [01:14, 24480.26 examples/s]"
     ]
    },
    {
     "name": "stderr",
     "output_type": "stream",
     "text": [
      "\r",
      "Generating train split: 1363056 examples [01:14, 19852.16 examples/s]"
     ]
    },
    {
     "name": "stderr",
     "output_type": "stream",
     "text": [
      "\r",
      "Generating train split: 1367056 examples [01:15, 21280.14 examples/s]"
     ]
    },
    {
     "name": "stderr",
     "output_type": "stream",
     "text": [
      "\r",
      "Generating train split: 1371056 examples [01:15, 22682.84 examples/s]"
     ]
    },
    {
     "name": "stderr",
     "output_type": "stream",
     "text": [
      "\r",
      "Generating train split: 1375192 examples [01:15, 21175.69 examples/s]"
     ]
    },
    {
     "name": "stderr",
     "output_type": "stream",
     "text": [
      "\r",
      "Generating train split: 1379192 examples [01:15, 20475.97 examples/s]"
     ]
    },
    {
     "name": "stderr",
     "output_type": "stream",
     "text": [
      "\r",
      "Generating train split: 1383192 examples [01:15, 21843.38 examples/s]"
     ]
    },
    {
     "name": "stderr",
     "output_type": "stream",
     "text": [
      "\r",
      "Generating train split: 1387328 examples [01:16, 23198.88 examples/s]"
     ]
    },
    {
     "name": "stderr",
     "output_type": "stream",
     "text": [
      "\r",
      "Generating train split: 1390328 examples [01:16, 22436.68 examples/s]"
     ]
    },
    {
     "name": "stderr",
     "output_type": "stream",
     "text": [
      "\r",
      "Generating train split: 1393328 examples [01:16, 20679.47 examples/s]"
     ]
    },
    {
     "name": "stderr",
     "output_type": "stream",
     "text": [
      "\r",
      "Generating train split: 1397328 examples [01:16, 22230.46 examples/s]"
     ]
    },
    {
     "name": "stderr",
     "output_type": "stream",
     "text": [
      "\r",
      "Generating train split: 1401464 examples [01:16, 23808.48 examples/s]"
     ]
    },
    {
     "name": "stderr",
     "output_type": "stream",
     "text": [
      "\r",
      "Generating train split: 1405464 examples [01:16, 25261.31 examples/s]"
     ]
    },
    {
     "name": "stderr",
     "output_type": "stream",
     "text": [
      "\r",
      "Generating train split: 1409464 examples [01:16, 26385.49 examples/s]"
     ]
    },
    {
     "name": "stderr",
     "output_type": "stream",
     "text": [
      "\r",
      "Generating train split: 1413464 examples [01:17, 25639.27 examples/s]"
     ]
    },
    {
     "name": "stderr",
     "output_type": "stream",
     "text": [
      "\r",
      "Generating train split: 1416600 examples [01:17, 13980.43 examples/s]"
     ]
    },
    {
     "name": "stderr",
     "output_type": "stream",
     "text": [
      "\r",
      "Generating train split: 1419600 examples [01:17, 15400.64 examples/s]"
     ]
    },
    {
     "name": "stderr",
     "output_type": "stream",
     "text": [
      "\r",
      "Generating train split: 1423600 examples [01:17, 17201.73 examples/s]"
     ]
    },
    {
     "name": "stderr",
     "output_type": "stream",
     "text": [
      "\r",
      "Generating train split: 1426600 examples [01:18, 15584.65 examples/s]"
     ]
    },
    {
     "name": "stderr",
     "output_type": "stream",
     "text": [
      "\r",
      "Generating train split: 1429736 examples [01:18, 15359.06 examples/s]"
     ]
    },
    {
     "name": "stderr",
     "output_type": "stream",
     "text": [
      "\r",
      "Generating train split: 1431736 examples [01:18, 15633.36 examples/s]"
     ]
    },
    {
     "name": "stderr",
     "output_type": "stream",
     "text": [
      "\r",
      "Generating train split: 1433736 examples [01:18, 14223.16 examples/s]"
     ]
    },
    {
     "name": "stderr",
     "output_type": "stream",
     "text": [
      "\r",
      "Generating train split: 1437736 examples [01:18, 17003.07 examples/s]"
     ]
    },
    {
     "name": "stderr",
     "output_type": "stream",
     "text": [
      "\r",
      "Generating train split: 1439736 examples [01:19, 14391.32 examples/s]"
     ]
    },
    {
     "name": "stderr",
     "output_type": "stream",
     "text": [
      "\r",
      "Generating train split: 1441736 examples [01:19, 15211.77 examples/s]"
     ]
    },
    {
     "name": "stderr",
     "output_type": "stream",
     "text": [
      "\r",
      "Generating train split: 1443872 examples [01:19, 9651.32 examples/s] "
     ]
    },
    {
     "name": "stderr",
     "output_type": "stream",
     "text": [
      "\r",
      "Generating train split: 1447872 examples [01:19, 12698.28 examples/s]"
     ]
    },
    {
     "name": "stderr",
     "output_type": "stream",
     "text": [
      "\r",
      "Generating train split: 1449872 examples [01:20, 9838.89 examples/s] "
     ]
    },
    {
     "name": "stderr",
     "output_type": "stream",
     "text": [
      "\r",
      "Generating train split: 1451872 examples [01:20, 11163.61 examples/s]"
     ]
    },
    {
     "name": "stderr",
     "output_type": "stream",
     "text": [
      "\r",
      "Generating train split: 1453872 examples [01:20, 11549.98 examples/s]"
     ]
    },
    {
     "name": "stderr",
     "output_type": "stream",
     "text": [
      "\r",
      "Generating train split: 1456008 examples [01:20, 12105.49 examples/s]"
     ]
    },
    {
     "name": "stderr",
     "output_type": "stream",
     "text": [
      "\r",
      "Generating train split: 1460008 examples [01:20, 12780.07 examples/s]"
     ]
    },
    {
     "name": "stderr",
     "output_type": "stream",
     "text": [
      "\r",
      "Generating train split: 1462008 examples [01:21, 11292.23 examples/s]"
     ]
    },
    {
     "name": "stderr",
     "output_type": "stream",
     "text": [
      "\r",
      "Generating train split: 1465008 examples [01:21, 10778.87 examples/s]"
     ]
    },
    {
     "name": "stderr",
     "output_type": "stream",
     "text": [
      "\r",
      "Generating train split: 1468008 examples [01:21, 12842.82 examples/s]"
     ]
    },
    {
     "name": "stderr",
     "output_type": "stream",
     "text": [
      "\r",
      "Generating train split: 1470008 examples [01:21, 12328.85 examples/s]"
     ]
    },
    {
     "name": "stderr",
     "output_type": "stream",
     "text": [
      "\r",
      "Generating train split: 1472144 examples [01:21, 11476.61 examples/s]"
     ]
    },
    {
     "name": "stderr",
     "output_type": "stream",
     "text": [
      "\r",
      "Generating train split: 1474144 examples [01:22, 12479.77 examples/s]"
     ]
    },
    {
     "name": "stderr",
     "output_type": "stream",
     "text": [
      "\r",
      "Generating train split: 1476144 examples [01:22, 13317.57 examples/s]"
     ]
    },
    {
     "name": "stderr",
     "output_type": "stream",
     "text": [
      "\r",
      "Generating train split: 1479144 examples [01:22, 14299.75 examples/s]"
     ]
    },
    {
     "name": "stderr",
     "output_type": "stream",
     "text": [
      "\r",
      "Generating train split: 1482144 examples [01:22, 15436.64 examples/s]"
     ]
    },
    {
     "name": "stderr",
     "output_type": "stream",
     "text": [
      "\r",
      "Generating train split: 1484144 examples [01:22, 14124.77 examples/s]"
     ]
    },
    {
     "name": "stderr",
     "output_type": "stream",
     "text": [
      "\r",
      "Generating train split: 1486280 examples [01:23, 9690.19 examples/s] "
     ]
    },
    {
     "name": "stderr",
     "output_type": "stream",
     "text": [
      "\r",
      "Generating train split: 1489280 examples [01:23, 12095.38 examples/s]"
     ]
    },
    {
     "name": "stderr",
     "output_type": "stream",
     "text": [
      "\r",
      "Generating train split: 1492280 examples [01:23, 12514.76 examples/s]"
     ]
    },
    {
     "name": "stderr",
     "output_type": "stream",
     "text": [
      "\r",
      "Generating train split: 1494280 examples [01:23, 12462.07 examples/s]"
     ]
    },
    {
     "name": "stderr",
     "output_type": "stream",
     "text": [
      "\r",
      "Generating train split: 1496280 examples [01:23, 12637.63 examples/s]"
     ]
    },
    {
     "name": "stderr",
     "output_type": "stream",
     "text": [
      "\r",
      "Generating train split: 1498280 examples [01:23, 13237.83 examples/s]"
     ]
    },
    {
     "name": "stderr",
     "output_type": "stream",
     "text": [
      "\r",
      "Generating train split: 1500416 examples [01:24, 12855.85 examples/s]"
     ]
    },
    {
     "name": "stderr",
     "output_type": "stream",
     "text": [
      "\r",
      "Generating train split: 1504416 examples [01:24, 16257.67 examples/s]"
     ]
    },
    {
     "name": "stderr",
     "output_type": "stream",
     "text": [
      "\r",
      "Generating train split: 1506416 examples [01:24, 15760.59 examples/s]"
     ]
    },
    {
     "name": "stderr",
     "output_type": "stream",
     "text": [
      "\r",
      "Generating train split: 1508416 examples [01:24, 14252.92 examples/s]"
     ]
    },
    {
     "name": "stderr",
     "output_type": "stream",
     "text": [
      "\r",
      "Generating train split: 1510416 examples [01:24, 9553.62 examples/s] "
     ]
    },
    {
     "name": "stderr",
     "output_type": "stream",
     "text": [
      "\r",
      "Generating train split: 1514552 examples [01:25, 13110.11 examples/s]"
     ]
    },
    {
     "name": "stderr",
     "output_type": "stream",
     "text": [
      "\r",
      "Generating train split: 1518552 examples [01:25, 15866.08 examples/s]"
     ]
    },
    {
     "name": "stderr",
     "output_type": "stream",
     "text": [
      "\r",
      "Generating train split: 1522552 examples [01:25, 18460.98 examples/s]"
     ]
    },
    {
     "name": "stderr",
     "output_type": "stream",
     "text": [
      "\r",
      "Generating train split: 1526552 examples [01:25, 20736.83 examples/s]"
     ]
    },
    {
     "name": "stderr",
     "output_type": "stream",
     "text": [
      "\r",
      "Generating train split: 1530688 examples [01:25, 18126.55 examples/s]"
     ]
    },
    {
     "name": "stderr",
     "output_type": "stream",
     "text": [
      "\r",
      "Generating train split: 1533688 examples [01:26, 19270.94 examples/s]"
     ]
    },
    {
     "name": "stderr",
     "output_type": "stream",
     "text": [
      "\r",
      "Generating train split: 1537688 examples [01:26, 21478.21 examples/s]"
     ]
    },
    {
     "name": "stderr",
     "output_type": "stream",
     "text": [
      "\r",
      "Generating train split: 1541824 examples [01:26, 23265.87 examples/s]"
     ]
    },
    {
     "name": "stderr",
     "output_type": "stream",
     "text": [
      "\r",
      "Generating train split: 1544824 examples [01:26, 21274.04 examples/s]"
     ]
    },
    {
     "name": "stderr",
     "output_type": "stream",
     "text": [
      "\r",
      "Generating train split: 1548824 examples [01:26, 20220.00 examples/s]"
     ]
    },
    {
     "name": "stderr",
     "output_type": "stream",
     "text": [
      "\r",
      "Generating train split: 1552824 examples [01:26, 21703.48 examples/s]"
     ]
    },
    {
     "name": "stderr",
     "output_type": "stream",
     "text": [
      "\r",
      "Generating train split: 1556960 examples [01:27, 23317.84 examples/s]"
     ]
    },
    {
     "name": "stderr",
     "output_type": "stream",
     "text": [
      "\r",
      "Generating train split: 1560960 examples [01:27, 24607.07 examples/s]"
     ]
    },
    {
     "name": "stderr",
     "output_type": "stream",
     "text": [
      "\r",
      "Generating train split: 1563960 examples [01:27, 19521.40 examples/s]"
     ]
    },
    {
     "name": "stderr",
     "output_type": "stream",
     "text": [
      "\r",
      "Generating train split: 1566960 examples [01:27, 20186.77 examples/s]"
     ]
    },
    {
     "name": "stderr",
     "output_type": "stream",
     "text": [
      "\r",
      "Generating train split: 1571096 examples [01:27, 22195.42 examples/s]"
     ]
    },
    {
     "name": "stderr",
     "output_type": "stream",
     "text": [
      "\r",
      "Generating train split: 1575096 examples [01:27, 23748.86 examples/s]"
     ]
    },
    {
     "name": "stderr",
     "output_type": "stream",
     "text": [
      "\r",
      "Generating train split: 1579096 examples [01:27, 24749.40 examples/s]"
     ]
    },
    {
     "name": "stderr",
     "output_type": "stream",
     "text": [
      "\r",
      "Generating train split: 1583096 examples [01:28, 19777.26 examples/s]"
     ]
    },
    {
     "name": "stderr",
     "output_type": "stream",
     "text": [
      "\r",
      "Generating train split: 1586231 examples [01:28, 21032.85 examples/s]"
     ]
    },
    {
     "name": "stderr",
     "output_type": "stream",
     "text": [
      "\r",
      "Generating train split: 1590231 examples [01:28, 22815.16 examples/s]"
     ]
    },
    {
     "name": "stderr",
     "output_type": "stream",
     "text": [
      "\r",
      "Generating train split: 1594231 examples [01:28, 24046.77 examples/s]"
     ]
    },
    {
     "name": "stderr",
     "output_type": "stream",
     "text": [
      "\r",
      "Generating train split: 1598366 examples [01:28, 25207.78 examples/s]"
     ]
    },
    {
     "name": "stderr",
     "output_type": "stream",
     "text": [
      "\r",
      "Generating train split: 1602366 examples [01:28, 25947.42 examples/s]"
     ]
    },
    {
     "name": "stderr",
     "output_type": "stream",
     "text": [
      "\r",
      "Generating train split: 1605366 examples [01:29, 21402.11 examples/s]"
     ]
    },
    {
     "name": "stderr",
     "output_type": "stream",
     "text": [
      "\r",
      "Generating train split: 1608366 examples [01:29, 13341.05 examples/s]"
     ]
    },
    {
     "name": "stderr",
     "output_type": "stream",
     "text": [
      "\r",
      "Generating train split: 1612501 examples [01:29, 15923.21 examples/s]"
     ]
    },
    {
     "name": "stderr",
     "output_type": "stream",
     "text": [
      "\r",
      "Generating train split: 1615501 examples [01:30, 13997.60 examples/s]"
     ]
    },
    {
     "name": "stderr",
     "output_type": "stream",
     "text": [
      "\r",
      "Generating train split: 1617501 examples [01:30, 13354.96 examples/s]"
     ]
    },
    {
     "name": "stderr",
     "output_type": "stream",
     "text": [
      "\r",
      "Generating train split: 1620501 examples [01:30, 14819.19 examples/s]"
     ]
    },
    {
     "name": "stderr",
     "output_type": "stream",
     "text": [
      "\r",
      "Generating train split: 1622501 examples [01:30, 14011.74 examples/s]"
     ]
    },
    {
     "name": "stderr",
     "output_type": "stream",
     "text": [
      "\r",
      "Generating train split: 1625636 examples [01:30, 16110.76 examples/s]"
     ]
    },
    {
     "name": "stderr",
     "output_type": "stream",
     "text": [
      "\r",
      "Generating train split: 1627636 examples [01:30, 16485.26 examples/s]"
     ]
    },
    {
     "name": "stderr",
     "output_type": "stream",
     "text": [
      "\r",
      "Generating train split: 1629636 examples [01:31, 13876.74 examples/s]"
     ]
    },
    {
     "name": "stderr",
     "output_type": "stream",
     "text": [
      "\r",
      "Generating train split: 1631636 examples [01:31, 8619.64 examples/s] "
     ]
    },
    {
     "name": "stderr",
     "output_type": "stream",
     "text": [
      "\r",
      "Generating train split: 1635636 examples [01:31, 11722.53 examples/s]"
     ]
    },
    {
     "name": "stderr",
     "output_type": "stream",
     "text": [
      "\r",
      "Generating train split: 1637636 examples [01:31, 11089.73 examples/s]"
     ]
    },
    {
     "name": "stderr",
     "output_type": "stream",
     "text": [
      "\r",
      "Generating train split: 1639636 examples [01:32, 11406.65 examples/s]"
     ]
    },
    {
     "name": "stderr",
     "output_type": "stream",
     "text": [
      "\r",
      "Generating train split: 1641771 examples [01:32, 12715.68 examples/s]"
     ]
    },
    {
     "name": "stderr",
     "output_type": "stream",
     "text": [
      "\r",
      "Generating train split: 1643771 examples [01:32, 12093.17 examples/s]"
     ]
    },
    {
     "name": "stderr",
     "output_type": "stream",
     "text": [
      "\r",
      "Generating train split: 1646771 examples [01:32, 14260.19 examples/s]"
     ]
    },
    {
     "name": "stderr",
     "output_type": "stream",
     "text": [
      "\r",
      "Generating train split: 1649771 examples [01:32, 14488.52 examples/s]"
     ]
    },
    {
     "name": "stderr",
     "output_type": "stream",
     "text": [
      "\r",
      "Generating train split: 1651771 examples [01:32, 13982.90 examples/s]"
     ]
    },
    {
     "name": "stderr",
     "output_type": "stream",
     "text": [
      "\r",
      "Generating train split: 1653771 examples [01:33, 9045.90 examples/s] "
     ]
    },
    {
     "name": "stderr",
     "output_type": "stream",
     "text": [
      "\r",
      "Generating train split: 1657906 examples [01:33, 12583.68 examples/s]"
     ]
    },
    {
     "name": "stderr",
     "output_type": "stream",
     "text": [
      "\r",
      "Generating train split: 1659906 examples [01:33, 12295.66 examples/s]"
     ]
    },
    {
     "name": "stderr",
     "output_type": "stream",
     "text": [
      "\r",
      "Generating train split: 1661906 examples [01:33, 12337.04 examples/s]"
     ]
    },
    {
     "name": "stderr",
     "output_type": "stream",
     "text": [
      "\r",
      "Generating train split: 1663906 examples [01:34, 11574.06 examples/s]"
     ]
    },
    {
     "name": "stderr",
     "output_type": "stream",
     "text": [
      "\r",
      "Generating train split: 1665906 examples [01:34, 12510.64 examples/s]"
     ]
    },
    {
     "name": "stderr",
     "output_type": "stream",
     "text": [
      "\r",
      "Generating train split: 1668041 examples [01:34, 12726.61 examples/s]"
     ]
    },
    {
     "name": "stderr",
     "output_type": "stream",
     "text": [
      "\r",
      "Generating train split: 1672041 examples [01:34, 14628.34 examples/s]"
     ]
    },
    {
     "name": "stderr",
     "output_type": "stream",
     "text": [
      "\r",
      "Generating train split: 1674041 examples [01:34, 13610.30 examples/s]"
     ]
    },
    {
     "name": "stderr",
     "output_type": "stream",
     "text": [
      "\r",
      "Generating train split: 1676041 examples [01:35, 8943.24 examples/s] "
     ]
    },
    {
     "name": "stderr",
     "output_type": "stream",
     "text": [
      "\r",
      "Generating train split: 1680041 examples [01:35, 12343.91 examples/s]"
     ]
    },
    {
     "name": "stderr",
     "output_type": "stream",
     "text": [
      "\r",
      "Generating train split: 1682041 examples [01:35, 12674.49 examples/s]"
     ]
    },
    {
     "name": "stderr",
     "output_type": "stream",
     "text": [
      "\r",
      "Generating train split: 1684176 examples [01:35, 9818.60 examples/s] "
     ]
    },
    {
     "name": "stderr",
     "output_type": "stream",
     "text": [
      "\r",
      "Generating train split: 1686176 examples [01:35, 10802.57 examples/s]"
     ]
    },
    {
     "name": "stderr",
     "output_type": "stream",
     "text": [
      "\r",
      "Generating train split: 1688176 examples [01:36, 11109.47 examples/s]"
     ]
    },
    {
     "name": "stderr",
     "output_type": "stream",
     "text": [
      "\r",
      "Generating train split: 1692176 examples [01:36, 14342.96 examples/s]"
     ]
    },
    {
     "name": "stderr",
     "output_type": "stream",
     "text": [
      "\r",
      "Generating train split: 1694176 examples [01:36, 12752.46 examples/s]"
     ]
    },
    {
     "name": "stderr",
     "output_type": "stream",
     "text": [
      "\r",
      "Generating train split: 1696176 examples [01:37, 8154.53 examples/s] "
     ]
    },
    {
     "name": "stderr",
     "output_type": "stream",
     "text": [
      "\r",
      "Generating train split: 1700311 examples [01:37, 11340.52 examples/s]"
     ]
    },
    {
     "name": "stderr",
     "output_type": "stream",
     "text": [
      "\r",
      "Generating train split: 1703311 examples [01:37, 13571.99 examples/s]"
     ]
    },
    {
     "name": "stderr",
     "output_type": "stream",
     "text": [
      "\r",
      "Generating train split: 1707311 examples [01:37, 16530.18 examples/s]"
     ]
    },
    {
     "name": "stderr",
     "output_type": "stream",
     "text": [
      "\r",
      "Generating train split: 1711446 examples [01:37, 17144.38 examples/s]"
     ]
    },
    {
     "name": "stderr",
     "output_type": "stream",
     "text": [
      "\r",
      "Generating train split: 1714446 examples [01:37, 16199.84 examples/s]"
     ]
    },
    {
     "name": "stderr",
     "output_type": "stream",
     "text": [
      "\r",
      "Generating train split: 1718446 examples [01:38, 18595.23 examples/s]"
     ]
    },
    {
     "name": "stderr",
     "output_type": "stream",
     "text": [
      "\r",
      "Generating train split: 1722446 examples [01:38, 20466.24 examples/s]"
     ]
    },
    {
     "name": "stderr",
     "output_type": "stream",
     "text": [
      "\r",
      "Generating train split: 1726581 examples [01:38, 22764.58 examples/s]"
     ]
    },
    {
     "name": "stderr",
     "output_type": "stream",
     "text": [
      "\r",
      "Generating train split: 1729581 examples [01:38, 18284.09 examples/s]"
     ]
    },
    {
     "name": "stderr",
     "output_type": "stream",
     "text": [
      "\r",
      "Generating train split: 1732581 examples [01:38, 19212.47 examples/s]"
     ]
    },
    {
     "name": "stderr",
     "output_type": "stream",
     "text": [
      "\r",
      "Generating train split: 1736581 examples [01:38, 21284.31 examples/s]"
     ]
    },
    {
     "name": "stderr",
     "output_type": "stream",
     "text": [
      "\r",
      "Generating train split: 1740716 examples [01:39, 23449.25 examples/s]"
     ]
    },
    {
     "name": "stderr",
     "output_type": "stream",
     "text": [
      "\r",
      "Generating train split: 1744716 examples [01:39, 22478.20 examples/s]"
     ]
    },
    {
     "name": "stderr",
     "output_type": "stream",
     "text": [
      "\r",
      "Generating train split: 1748716 examples [01:39, 19145.47 examples/s]"
     ]
    },
    {
     "name": "stderr",
     "output_type": "stream",
     "text": [
      "\r",
      "Generating train split: 1752716 examples [01:39, 21041.02 examples/s]"
     ]
    },
    {
     "name": "stderr",
     "output_type": "stream",
     "text": [
      "\r",
      "Generating train split: 1756851 examples [01:39, 23137.52 examples/s]"
     ]
    },
    {
     "name": "stderr",
     "output_type": "stream",
     "text": [
      "\r",
      "Generating train split: 1760851 examples [01:39, 24605.04 examples/s]"
     ]
    },
    {
     "name": "stderr",
     "output_type": "stream",
     "text": [
      "\r",
      "Generating train split: 1764851 examples [01:40, 18451.08 examples/s]"
     ]
    },
    {
     "name": "stderr",
     "output_type": "stream",
     "text": [
      "\r",
      "Generating train split: 1768986 examples [01:40, 20376.50 examples/s]"
     ]
    },
    {
     "name": "stderr",
     "output_type": "stream",
     "text": [
      "\r",
      "Generating train split: 1772986 examples [01:40, 22242.17 examples/s]"
     ]
    },
    {
     "name": "stderr",
     "output_type": "stream",
     "text": [
      "\r",
      "Generating train split: 1776986 examples [01:40, 23648.34 examples/s]"
     ]
    },
    {
     "name": "stderr",
     "output_type": "stream",
     "text": [
      "\r",
      "Generating train split: 1780986 examples [01:40, 25503.11 examples/s]"
     ]
    },
    {
     "name": "stderr",
     "output_type": "stream",
     "text": [
      "\r",
      "Generating train split: 1785121 examples [01:40, 27222.43 examples/s]"
     ]
    },
    {
     "name": "stderr",
     "output_type": "stream",
     "text": [
      "\r",
      "Generating train split: 1789121 examples [01:41, 28700.83 examples/s]"
     ]
    },
    {
     "name": "stderr",
     "output_type": "stream",
     "text": [
      "\r",
      "Generating train split: 1793121 examples [01:41, 29834.48 examples/s]"
     ]
    },
    {
     "name": "stderr",
     "output_type": "stream",
     "text": [
      "\r",
      "Generating train split: 1795256 examples [01:41, 17721.74 examples/s]"
     ]
    },
    {
     "name": "stderr",
     "output_type": "stream",
     "text": [
      "\n"
     ]
    },
    {
     "name": "stderr",
     "output_type": "stream",
     "text": [
      "\r",
      "Casting the dataset:   0%|                                                                                               | 0/1795256 [00:00<?, ? examples/s]"
     ]
    },
    {
     "name": "stderr",
     "output_type": "stream",
     "text": [
      "\r",
      "Casting the dataset:   0%|▎                                                                                | 6000/1795256 [00:00<00:43, 40893.64 examples/s]"
     ]
    },
    {
     "name": "stderr",
     "output_type": "stream",
     "text": [
      "\r",
      "Casting the dataset:   1%|▌                                                                               | 12000/1795256 [00:00<00:42, 42087.13 examples/s]"
     ]
    },
    {
     "name": "stderr",
     "output_type": "stream",
     "text": [
      "\r",
      "Casting the dataset:   1%|▊                                                                               | 17000/1795256 [00:00<01:04, 27517.08 examples/s]"
     ]
    },
    {
     "name": "stderr",
     "output_type": "stream",
     "text": [
      "\r",
      "Casting the dataset:   1%|▉                                                                               | 21000/1795256 [00:00<01:20, 21940.05 examples/s]"
     ]
    },
    {
     "name": "stderr",
     "output_type": "stream",
     "text": [
      "\r",
      "Casting the dataset:   1%|█                                                                               | 24000/1795256 [00:01<01:29, 19799.28 examples/s]"
     ]
    },
    {
     "name": "stderr",
     "output_type": "stream",
     "text": [
      "\r",
      "Casting the dataset:   2%|█▏                                                                              | 27000/1795256 [00:01<01:36, 18356.05 examples/s]"
     ]
    },
    {
     "name": "stderr",
     "output_type": "stream",
     "text": [
      "\r",
      "Casting the dataset:   2%|█▎                                                                              | 29000/1795256 [00:01<01:40, 17638.47 examples/s]"
     ]
    },
    {
     "name": "stderr",
     "output_type": "stream",
     "text": [
      "\r",
      "Casting the dataset:   2%|█▍                                                                              | 31000/1795256 [00:01<01:43, 17074.78 examples/s]"
     ]
    },
    {
     "name": "stderr",
     "output_type": "stream",
     "text": [
      "\r",
      "Casting the dataset:   2%|█▍                                                                              | 33000/1795256 [00:01<01:46, 16559.11 examples/s]"
     ]
    },
    {
     "name": "stderr",
     "output_type": "stream",
     "text": [
      "\r",
      "Casting the dataset:   2%|█▌                                                                              | 35000/1795256 [00:01<01:48, 16184.56 examples/s]"
     ]
    },
    {
     "name": "stderr",
     "output_type": "stream",
     "text": [
      "\r",
      "Casting the dataset:   2%|█▋                                                                              | 37000/1795256 [00:01<01:50, 15909.87 examples/s]"
     ]
    },
    {
     "name": "stderr",
     "output_type": "stream",
     "text": [
      "\r",
      "Casting the dataset:   2%|█▋                                                                              | 39000/1795256 [00:01<01:51, 15723.75 examples/s]"
     ]
    },
    {
     "name": "stderr",
     "output_type": "stream",
     "text": [
      "\r",
      "Casting the dataset:   2%|█▊                                                                              | 41000/1795256 [00:02<01:52, 15583.67 examples/s]"
     ]
    },
    {
     "name": "stderr",
     "output_type": "stream",
     "text": [
      "\r",
      "Casting the dataset:   2%|█▉                                                                              | 43000/1795256 [00:02<01:53, 15481.69 examples/s]"
     ]
    },
    {
     "name": "stderr",
     "output_type": "stream",
     "text": [
      "\r",
      "Casting the dataset:   3%|██                                                                              | 45000/1795256 [00:02<01:53, 15373.89 examples/s]"
     ]
    },
    {
     "name": "stderr",
     "output_type": "stream",
     "text": [
      "\r",
      "Casting the dataset:   3%|██                                                                              | 47000/1795256 [00:02<01:54, 15323.39 examples/s]"
     ]
    },
    {
     "name": "stderr",
     "output_type": "stream",
     "text": [
      "\r",
      "Casting the dataset:   3%|██▏                                                                             | 49000/1795256 [00:02<01:54, 15221.54 examples/s]"
     ]
    },
    {
     "name": "stderr",
     "output_type": "stream",
     "text": [
      "\r",
      "Casting the dataset:   3%|██▎                                                                             | 51000/1795256 [00:02<01:59, 14648.86 examples/s]"
     ]
    },
    {
     "name": "stderr",
     "output_type": "stream",
     "text": [
      "\r",
      "Casting the dataset:   3%|██▎                                                                             | 53000/1795256 [00:02<01:56, 14910.33 examples/s]"
     ]
    },
    {
     "name": "stderr",
     "output_type": "stream",
     "text": [
      "\r",
      "Casting the dataset:   3%|██▍                                                                             | 55000/1795256 [00:03<01:55, 15015.11 examples/s]"
     ]
    },
    {
     "name": "stderr",
     "output_type": "stream",
     "text": [
      "\r",
      "Casting the dataset:   3%|██▌                                                                             | 57000/1795256 [00:03<01:55, 15071.90 examples/s]"
     ]
    },
    {
     "name": "stderr",
     "output_type": "stream",
     "text": [
      "\r",
      "Casting the dataset:   3%|██▋                                                                             | 59000/1795256 [00:03<01:54, 15216.16 examples/s]"
     ]
    },
    {
     "name": "stderr",
     "output_type": "stream",
     "text": [
      "\r",
      "Casting the dataset:   3%|██▋                                                                             | 61000/1795256 [00:03<01:53, 15303.34 examples/s]"
     ]
    },
    {
     "name": "stderr",
     "output_type": "stream",
     "text": [
      "\r",
      "Casting the dataset:   4%|██▊                                                                             | 63000/1795256 [00:03<01:52, 15349.73 examples/s]"
     ]
    },
    {
     "name": "stderr",
     "output_type": "stream",
     "text": [
      "\r",
      "Casting the dataset:   4%|██▉                                                                             | 65000/1795256 [00:03<01:52, 15324.95 examples/s]"
     ]
    },
    {
     "name": "stderr",
     "output_type": "stream",
     "text": [
      "\r",
      "Casting the dataset:   4%|██▉                                                                             | 67000/1795256 [00:03<01:52, 15372.23 examples/s]"
     ]
    },
    {
     "name": "stderr",
     "output_type": "stream",
     "text": [
      "\r",
      "Casting the dataset:   4%|███                                                                              | 67000/1795256 [00:07<03:26, 8375.45 examples/s]"
     ]
    },
    {
     "name": "stderr",
     "output_type": "stream",
     "text": [
      "\n"
     ]
    },
    {
     "name": "stdout",
     "output_type": "stream",
     "text": [
      "Failed to load buildings_900k from Salesforce/lotsa_data: [Errno 28] No space left on device\n",
      "Loading bull...\n"
     ]
    },
    {
     "name": "stdout",
     "output_type": "stream",
     "text": [
      "Failed to load bull from Salesforce/lotsa_data: [Errno 28] No space left on device: '/raid/decaro/Salesforce___lotsa_data/bull'\n",
      "Loading car_parts_with_missing...\n"
     ]
    },
    {
     "name": "stdout",
     "output_type": "stream",
     "text": [
      "Failed to load car_parts_with_missing from Salesforce/lotsa_data: [Errno 28] No space left on device: '/raid/decaro/Salesforce___lotsa_data/car_parts_with_missing'\n",
      "Loading cdc_fluview_ilinet...\n"
     ]
    },
    {
     "name": "stdout",
     "output_type": "stream",
     "text": [
      "Failed to load cdc_fluview_ilinet from Salesforce/lotsa_data: [Errno 28] No space left on device: '/raid/decaro/Salesforce___lotsa_data/cdc_fluview_ilinet'\n",
      "Loading cdc_fluview_who_nrevss...\n"
     ]
    },
    {
     "name": "stdout",
     "output_type": "stream",
     "text": [
      "Failed to load cdc_fluview_who_nrevss from Salesforce/lotsa_data: [Errno 28] No space left on device: '/raid/decaro/Salesforce___lotsa_data/cdc_fluview_who_nrevss'\n",
      "Loading china_air_quality...\n"
     ]
    },
    {
     "name": "stdout",
     "output_type": "stream",
     "text": [
      "Failed to load china_air_quality from Salesforce/lotsa_data: [Errno 28] No space left on device: '/raid/decaro/Salesforce___lotsa_data/china_air_quality'\n",
      "Loading cif_2016_12...\n"
     ]
    },
    {
     "name": "stdout",
     "output_type": "stream",
     "text": [
      "Failed to load cif_2016_12 from Salesforce/lotsa_data: [Errno 28] No space left on device: '/raid/decaro/Salesforce___lotsa_data/cif_2016_12'\n",
      "Loading cif_2016_6...\n"
     ]
    },
    {
     "name": "stdout",
     "output_type": "stream",
     "text": [
      "Failed to load cif_2016_6 from Salesforce/lotsa_data: [Errno 28] No space left on device: '/raid/decaro/Salesforce___lotsa_data/cif_2016_6'\n",
      "Loading cmip6...\n"
     ]
    },
    {
     "name": "stdout",
     "output_type": "stream",
     "text": [
      "Failed to load cmip6 from Salesforce/lotsa_data: [Errno 28] No space left on device: '/raid/decaro/Salesforce___lotsa_data/cmip6'\n",
      "Loading cmip6_1850...\n"
     ]
    },
    {
     "name": "stdout",
     "output_type": "stream",
     "text": [
      "Failed to load cmip6_1850 from Salesforce/lotsa_data: [Errno 28] No space left on device: '/raid/decaro/Salesforce___lotsa_data/cmip6_1850'\n",
      "Loading cmip6_1855...\n"
     ]
    },
    {
     "name": "stdout",
     "output_type": "stream",
     "text": [
      "Failed to load cmip6_1855 from Salesforce/lotsa_data: [Errno 28] No space left on device: '/raid/decaro/Salesforce___lotsa_data/cmip6_1855'\n",
      "Loading cmip6_1860...\n"
     ]
    },
    {
     "name": "stdout",
     "output_type": "stream",
     "text": [
      "Failed to load cmip6_1860 from Salesforce/lotsa_data: [Errno 28] No space left on device: '/raid/decaro/Salesforce___lotsa_data/cmip6_1860'\n",
      "Loading cmip6_1865...\n"
     ]
    },
    {
     "name": "stdout",
     "output_type": "stream",
     "text": [
      "Failed to load cmip6_1865 from Salesforce/lotsa_data: [Errno 28] No space left on device: '/raid/decaro/Salesforce___lotsa_data/cmip6_1865'\n",
      "Loading cmip6_1870...\n"
     ]
    },
    {
     "name": "stdout",
     "output_type": "stream",
     "text": [
      "Failed to load cmip6_1870 from Salesforce/lotsa_data: [Errno 28] No space left on device: '/raid/decaro/Salesforce___lotsa_data/cmip6_1870'\n",
      "Loading cmip6_1875...\n"
     ]
    },
    {
     "name": "stdout",
     "output_type": "stream",
     "text": [
      "Failed to load cmip6_1875 from Salesforce/lotsa_data: [Errno 28] No space left on device: '/raid/decaro/Salesforce___lotsa_data/cmip6_1875'\n",
      "Loading cmip6_1880...\n"
     ]
    },
    {
     "name": "stdout",
     "output_type": "stream",
     "text": [
      "Failed to load cmip6_1880 from Salesforce/lotsa_data: [Errno 28] No space left on device: '/raid/decaro/Salesforce___lotsa_data/cmip6_1880'\n",
      "Loading cmip6_1885...\n"
     ]
    },
    {
     "name": "stdout",
     "output_type": "stream",
     "text": [
      "Failed to load cmip6_1885 from Salesforce/lotsa_data: [Errno 28] No space left on device: '/raid/decaro/Salesforce___lotsa_data/cmip6_1885'\n",
      "Loading cmip6_1890...\n"
     ]
    },
    {
     "name": "stdout",
     "output_type": "stream",
     "text": [
      "Failed to load cmip6_1890 from Salesforce/lotsa_data: [Errno 28] No space left on device: '/raid/decaro/Salesforce___lotsa_data/cmip6_1890'\n",
      "Loading cmip6_1895...\n"
     ]
    },
    {
     "name": "stdout",
     "output_type": "stream",
     "text": [
      "Failed to load cmip6_1895 from Salesforce/lotsa_data: [Errno 28] No space left on device: '/raid/decaro/_raid_decaro_Salesforce___lotsa_data_cmip6_1895_0.0.0_8191fd29eb5cf906ec55effca44d8059888b615d.lock'\n",
      "Loading cmip6_1900...\n"
     ]
    },
    {
     "name": "stdout",
     "output_type": "stream",
     "text": [
      "Failed to load cmip6_1900 from Salesforce/lotsa_data: [Errno 28] No space left on device: '/raid/decaro/_raid_decaro_Salesforce___lotsa_data_cmip6_1900_0.0.0_8191fd29eb5cf906ec55effca44d8059888b615d.lock'\n",
      "Loading cmip6_1905...\n"
     ]
    },
    {
     "name": "stdout",
     "output_type": "stream",
     "text": [
      "Failed to load cmip6_1905 from Salesforce/lotsa_data: [Errno 28] No space left on device: '/raid/decaro/_raid_decaro_Salesforce___lotsa_data_cmip6_1905_0.0.0_8191fd29eb5cf906ec55effca44d8059888b615d.lock'\n",
      "Loading cmip6_1910...\n"
     ]
    },
    {
     "name": "stdout",
     "output_type": "stream",
     "text": [
      "Failed to load cmip6_1910 from Salesforce/lotsa_data: [Errno 28] No space left on device: '/raid/decaro/Salesforce___lotsa_data/cmip6_1910'\n",
      "Loading cmip6_1915...\n"
     ]
    },
    {
     "name": "stdout",
     "output_type": "stream",
     "text": [
      "Failed to load cmip6_1915 from Salesforce/lotsa_data: [Errno 28] No space left on device: '/raid/decaro/_raid_decaro_Salesforce___lotsa_data_cmip6_1915_0.0.0_8191fd29eb5cf906ec55effca44d8059888b615d.lock'\n",
      "Loading cmip6_1920...\n"
     ]
    },
    {
     "name": "stdout",
     "output_type": "stream",
     "text": [
      "Failed to load cmip6_1920 from Salesforce/lotsa_data: [Errno 28] No space left on device: '/raid/decaro/_raid_decaro_Salesforce___lotsa_data_cmip6_1920_0.0.0_8191fd29eb5cf906ec55effca44d8059888b615d.lock'\n",
      "Loading cmip6_1925...\n"
     ]
    },
    {
     "name": "stdout",
     "output_type": "stream",
     "text": [
      "Failed to load cmip6_1925 from Salesforce/lotsa_data: [Errno 28] No space left on device: '/raid/decaro/_raid_decaro_Salesforce___lotsa_data_cmip6_1925_0.0.0_8191fd29eb5cf906ec55effca44d8059888b615d.lock'\n",
      "Loading cmip6_1930...\n"
     ]
    },
    {
     "name": "stdout",
     "output_type": "stream",
     "text": [
      "Failed to load cmip6_1930 from Salesforce/lotsa_data: [Errno 28] No space left on device: '/raid/decaro/_raid_decaro_Salesforce___lotsa_data_cmip6_1930_0.0.0_8191fd29eb5cf906ec55effca44d8059888b615d.lock'\n",
      "Loading cmip6_1935...\n"
     ]
    },
    {
     "name": "stdout",
     "output_type": "stream",
     "text": [
      "Failed to load cmip6_1935 from Salesforce/lotsa_data: [Errno 28] No space left on device: '/raid/decaro/_raid_decaro_Salesforce___lotsa_data_cmip6_1935_0.0.0_8191fd29eb5cf906ec55effca44d8059888b615d.lock'\n",
      "Loading cmip6_1940...\n"
     ]
    },
    {
     "name": "stdout",
     "output_type": "stream",
     "text": [
      "Failed to load cmip6_1940 from Salesforce/lotsa_data: [Errno 28] No space left on device: '/raid/decaro/_raid_decaro_Salesforce___lotsa_data_cmip6_1940_0.0.0_8191fd29eb5cf906ec55effca44d8059888b615d.lock'\n",
      "Loading cmip6_1945...\n"
     ]
    },
    {
     "name": "stdout",
     "output_type": "stream",
     "text": [
      "Failed to load cmip6_1945 from Salesforce/lotsa_data: [Errno 28] No space left on device: '/raid/decaro/_raid_decaro_Salesforce___lotsa_data_cmip6_1945_0.0.0_8191fd29eb5cf906ec55effca44d8059888b615d.lock'\n",
      "Loading cmip6_1950...\n"
     ]
    },
    {
     "name": "stdout",
     "output_type": "stream",
     "text": [
      "Failed to load cmip6_1950 from Salesforce/lotsa_data: [Errno 28] No space left on device: '/raid/decaro/_raid_decaro_Salesforce___lotsa_data_cmip6_1950_0.0.0_8191fd29eb5cf906ec55effca44d8059888b615d.lock'\n",
      "Loading cmip6_1955...\n"
     ]
    },
    {
     "name": "stdout",
     "output_type": "stream",
     "text": [
      "Failed to load cmip6_1955 from Salesforce/lotsa_data: [Errno 28] No space left on device: '/raid/decaro/_raid_decaro_Salesforce___lotsa_data_cmip6_1955_0.0.0_8191fd29eb5cf906ec55effca44d8059888b615d.lock'\n",
      "Loading cmip6_1960...\n"
     ]
    },
    {
     "name": "stdout",
     "output_type": "stream",
     "text": [
      "Failed to load cmip6_1960 from Salesforce/lotsa_data: [Errno 28] No space left on device: '/raid/decaro/_raid_decaro_Salesforce___lotsa_data_cmip6_1960_0.0.0_8191fd29eb5cf906ec55effca44d8059888b615d.lock'\n",
      "Loading cmip6_1965...\n"
     ]
    },
    {
     "name": "stdout",
     "output_type": "stream",
     "text": [
      "Failed to load cmip6_1965 from Salesforce/lotsa_data: [Errno 28] No space left on device: '/raid/decaro/_raid_decaro_Salesforce___lotsa_data_cmip6_1965_0.0.0_8191fd29eb5cf906ec55effca44d8059888b615d.lock'\n",
      "Loading cmip6_1970...\n"
     ]
    },
    {
     "name": "stdout",
     "output_type": "stream",
     "text": [
      "Failed to load cmip6_1970 from Salesforce/lotsa_data: [Errno 28] No space left on device: '/raid/decaro/_raid_decaro_Salesforce___lotsa_data_cmip6_1970_0.0.0_8191fd29eb5cf906ec55effca44d8059888b615d.lock'\n",
      "Loading cmip6_1975...\n"
     ]
    },
    {
     "name": "stdout",
     "output_type": "stream",
     "text": [
      "Failed to load cmip6_1975 from Salesforce/lotsa_data: [Errno 28] No space left on device: '/raid/decaro/_raid_decaro_Salesforce___lotsa_data_cmip6_1975_0.0.0_8191fd29eb5cf906ec55effca44d8059888b615d.lock'\n",
      "Loading cmip6_1980...\n"
     ]
    },
    {
     "name": "stdout",
     "output_type": "stream",
     "text": [
      "Failed to load cmip6_1980 from Salesforce/lotsa_data: [Errno 28] No space left on device: '/raid/decaro/_raid_decaro_Salesforce___lotsa_data_cmip6_1980_0.0.0_8191fd29eb5cf906ec55effca44d8059888b615d.lock'\n",
      "Loading cmip6_1985...\n"
     ]
    },
    {
     "name": "stdout",
     "output_type": "stream",
     "text": [
      "Failed to load cmip6_1985 from Salesforce/lotsa_data: [Errno 28] No space left on device: '/raid/decaro/_raid_decaro_Salesforce___lotsa_data_cmip6_1985_0.0.0_8191fd29eb5cf906ec55effca44d8059888b615d.lock'\n",
      "Loading cmip6_1990...\n"
     ]
    },
    {
     "name": "stdout",
     "output_type": "stream",
     "text": [
      "Failed to load cmip6_1990 from Salesforce/lotsa_data: [Errno 28] No space left on device: '/raid/decaro/_raid_decaro_Salesforce___lotsa_data_cmip6_1990_0.0.0_8191fd29eb5cf906ec55effca44d8059888b615d.lock'\n",
      "Loading cmip6_1995...\n"
     ]
    },
    {
     "name": "stdout",
     "output_type": "stream",
     "text": [
      "Failed to load cmip6_1995 from Salesforce/lotsa_data: [Errno 28] No space left on device: '/raid/decaro/_raid_decaro_Salesforce___lotsa_data_cmip6_1995_0.0.0_8191fd29eb5cf906ec55effca44d8059888b615d.lock'\n",
      "Loading cmip6_2000...\n"
     ]
    },
    {
     "name": "stdout",
     "output_type": "stream",
     "text": [
      "Failed to load cmip6_2000 from Salesforce/lotsa_data: [Errno 28] No space left on device: '/raid/decaro/_raid_decaro_Salesforce___lotsa_data_cmip6_2000_0.0.0_8191fd29eb5cf906ec55effca44d8059888b615d.lock'\n",
      "Loading cmip6_2005...\n"
     ]
    },
    {
     "name": "stdout",
     "output_type": "stream",
     "text": [
      "Failed to load cmip6_2005 from Salesforce/lotsa_data: [Errno 28] No space left on device: '/raid/decaro/_raid_decaro_Salesforce___lotsa_data_cmip6_2005_0.0.0_8191fd29eb5cf906ec55effca44d8059888b615d.lock'\n",
      "Loading cmip6_2010...\n"
     ]
    },
    {
     "name": "stdout",
     "output_type": "stream",
     "text": [
      "Failed to load cmip6_2010 from Salesforce/lotsa_data: [Errno 28] No space left on device: '/raid/decaro/_raid_decaro_Salesforce___lotsa_data_cmip6_2010_0.0.0_8191fd29eb5cf906ec55effca44d8059888b615d.lock'\n",
      "Loading cockatoo...\n"
     ]
    },
    {
     "name": "stdout",
     "output_type": "stream",
     "text": [
      "Failed to load cockatoo from Salesforce/lotsa_data: [Errno 28] No space left on device: '/raid/decaro/_raid_decaro_Salesforce___lotsa_data_cockatoo_0.0.0_8191fd29eb5cf906ec55effca44d8059888b615d.lock'\n",
      "Loading covid19_energy...\n"
     ]
    },
    {
     "name": "stdout",
     "output_type": "stream",
     "text": [
      "Failed to load covid19_energy from Salesforce/lotsa_data: [Errno 28] No space left on device: '/raid/decaro/_raid_decaro_Salesforce___lotsa_data_covid19_energy_0.0.0_8191fd29eb5cf906ec55effca44d8059888b615d.lock'\n",
      "Loading covid_deaths...\n"
     ]
    },
    {
     "name": "stdout",
     "output_type": "stream",
     "text": [
      "Failed to load covid_deaths from Salesforce/lotsa_data: [Errno 28] No space left on device: '/raid/decaro/_raid_decaro_Salesforce___lotsa_data_covid_deaths_0.0.0_8191fd29eb5cf906ec55effca44d8059888b615d.lock'\n",
      "Loading covid_mobility...\n"
     ]
    },
    {
     "name": "stdout",
     "output_type": "stream",
     "text": [
      "Failed to load covid_mobility from Salesforce/lotsa_data: [Errno 28] No space left on device: '/raid/decaro/_raid_decaro_Salesforce___lotsa_data_covid_mobility_0.0.0_8191fd29eb5cf906ec55effca44d8059888b615d.lock'\n",
      "Loading elecdemand...\n"
     ]
    },
    {
     "name": "stdout",
     "output_type": "stream",
     "text": [
      "Failed to load elecdemand from Salesforce/lotsa_data: [Errno 28] No space left on device: '/raid/decaro/_raid_decaro_Salesforce___lotsa_data_elecdemand_0.0.0_8191fd29eb5cf906ec55effca44d8059888b615d.lock'\n",
      "Loading elf...\n"
     ]
    },
    {
     "name": "stdout",
     "output_type": "stream",
     "text": [
      "Failed to load elf from Salesforce/lotsa_data: [Errno 28] No space left on device: '/raid/decaro/_raid_decaro_Salesforce___lotsa_data_elf_0.0.0_8191fd29eb5cf906ec55effca44d8059888b615d.lock'\n",
      "Loading era5...\n"
     ]
    },
    {
     "name": "stdout",
     "output_type": "stream",
     "text": [
      "Failed to load era5 from Salesforce/lotsa_data: [Errno 28] No space left on device: '/raid/decaro/_raid_decaro_Salesforce___lotsa_data_era5_0.0.0_8191fd29eb5cf906ec55effca44d8059888b615d.lock'\n",
      "Loading era5_1989...\n"
     ]
    },
    {
     "name": "stdout",
     "output_type": "stream",
     "text": [
      "Failed to load era5_1989 from Salesforce/lotsa_data: [Errno 28] No space left on device: '/raid/decaro/_raid_decaro_Salesforce___lotsa_data_era5_1989_0.0.0_8191fd29eb5cf906ec55effca44d8059888b615d.lock'\n",
      "Loading era5_1990...\n"
     ]
    },
    {
     "name": "stdout",
     "output_type": "stream",
     "text": [
      "Failed to load era5_1990 from Salesforce/lotsa_data: [Errno 28] No space left on device: '/raid/decaro/_raid_decaro_Salesforce___lotsa_data_era5_1990_0.0.0_8191fd29eb5cf906ec55effca44d8059888b615d.lock'\n",
      "Loading era5_1991...\n"
     ]
    },
    {
     "name": "stdout",
     "output_type": "stream",
     "text": [
      "Failed to load era5_1991 from Salesforce/lotsa_data: [Errno 28] No space left on device: '/raid/decaro/_raid_decaro_Salesforce___lotsa_data_era5_1991_0.0.0_8191fd29eb5cf906ec55effca44d8059888b615d.lock'\n",
      "Loading era5_1992...\n"
     ]
    },
    {
     "name": "stdout",
     "output_type": "stream",
     "text": [
      "Failed to load era5_1992 from Salesforce/lotsa_data: [Errno 28] No space left on device: '/raid/decaro/_raid_decaro_Salesforce___lotsa_data_era5_1992_0.0.0_8191fd29eb5cf906ec55effca44d8059888b615d.lock'\n",
      "Loading era5_1993...\n"
     ]
    },
    {
     "name": "stdout",
     "output_type": "stream",
     "text": [
      "Failed to load era5_1993 from Salesforce/lotsa_data: [Errno 28] No space left on device: '/raid/decaro/_raid_decaro_Salesforce___lotsa_data_era5_1993_0.0.0_8191fd29eb5cf906ec55effca44d8059888b615d.lock'\n",
      "Loading era5_1994...\n"
     ]
    },
    {
     "name": "stdout",
     "output_type": "stream",
     "text": [
      "Failed to load era5_1994 from Salesforce/lotsa_data: [Errno 28] No space left on device: '/raid/decaro/_raid_decaro_Salesforce___lotsa_data_era5_1994_0.0.0_8191fd29eb5cf906ec55effca44d8059888b615d.lock'\n",
      "Loading era5_1995...\n"
     ]
    },
    {
     "name": "stdout",
     "output_type": "stream",
     "text": [
      "Failed to load era5_1995 from Salesforce/lotsa_data: [Errno 28] No space left on device: '/raid/decaro/_raid_decaro_Salesforce___lotsa_data_era5_1995_0.0.0_8191fd29eb5cf906ec55effca44d8059888b615d.lock'\n",
      "Loading era5_1996...\n"
     ]
    },
    {
     "name": "stdout",
     "output_type": "stream",
     "text": [
      "Failed to load era5_1996 from Salesforce/lotsa_data: [Errno 28] No space left on device: '/raid/decaro/_raid_decaro_Salesforce___lotsa_data_era5_1996_0.0.0_8191fd29eb5cf906ec55effca44d8059888b615d.lock'\n",
      "Loading era5_1997...\n"
     ]
    },
    {
     "name": "stdout",
     "output_type": "stream",
     "text": [
      "Failed to load era5_1997 from Salesforce/lotsa_data: [Errno 28] No space left on device: '/raid/decaro/_raid_decaro_Salesforce___lotsa_data_era5_1997_0.0.0_8191fd29eb5cf906ec55effca44d8059888b615d.lock'\n",
      "Loading era5_1998...\n"
     ]
    },
    {
     "name": "stdout",
     "output_type": "stream",
     "text": [
      "Failed to load era5_1998 from Salesforce/lotsa_data: [Errno 28] No space left on device: '/raid/decaro/_raid_decaro_Salesforce___lotsa_data_era5_1998_0.0.0_8191fd29eb5cf906ec55effca44d8059888b615d.lock'\n",
      "Loading era5_1999...\n"
     ]
    },
    {
     "name": "stdout",
     "output_type": "stream",
     "text": [
      "Failed to load era5_1999 from Salesforce/lotsa_data: [Errno 28] No space left on device: '/raid/decaro/_raid_decaro_Salesforce___lotsa_data_era5_1999_0.0.0_8191fd29eb5cf906ec55effca44d8059888b615d.lock'\n",
      "Loading era5_2000...\n"
     ]
    },
    {
     "name": "stdout",
     "output_type": "stream",
     "text": [
      "Failed to load era5_2000 from Salesforce/lotsa_data: [Errno 28] No space left on device: '/raid/decaro/_raid_decaro_Salesforce___lotsa_data_era5_2000_0.0.0_8191fd29eb5cf906ec55effca44d8059888b615d.lock'\n",
      "Loading era5_2001...\n"
     ]
    },
    {
     "name": "stdout",
     "output_type": "stream",
     "text": [
      "Failed to load era5_2001 from Salesforce/lotsa_data: [Errno 28] No space left on device: '/raid/decaro/_raid_decaro_Salesforce___lotsa_data_era5_2001_0.0.0_8191fd29eb5cf906ec55effca44d8059888b615d.lock'\n",
      "Loading era5_2002...\n"
     ]
    },
    {
     "name": "stdout",
     "output_type": "stream",
     "text": [
      "Failed to load era5_2002 from Salesforce/lotsa_data: [Errno 28] No space left on device: '/raid/decaro/_raid_decaro_Salesforce___lotsa_data_era5_2002_0.0.0_8191fd29eb5cf906ec55effca44d8059888b615d.lock'\n",
      "Loading era5_2003...\n"
     ]
    },
    {
     "name": "stdout",
     "output_type": "stream",
     "text": [
      "Failed to load era5_2003 from Salesforce/lotsa_data: [Errno 28] No space left on device: '/raid/decaro/_raid_decaro_Salesforce___lotsa_data_era5_2003_0.0.0_8191fd29eb5cf906ec55effca44d8059888b615d.lock'\n",
      "Loading era5_2004...\n"
     ]
    },
    {
     "name": "stdout",
     "output_type": "stream",
     "text": [
      "Failed to load era5_2004 from Salesforce/lotsa_data: [Errno 28] No space left on device: '/raid/decaro/_raid_decaro_Salesforce___lotsa_data_era5_2004_0.0.0_8191fd29eb5cf906ec55effca44d8059888b615d.lock'\n",
      "Loading era5_2005...\n"
     ]
    },
    {
     "name": "stdout",
     "output_type": "stream",
     "text": [
      "Failed to load era5_2005 from Salesforce/lotsa_data: [Errno 28] No space left on device: '/raid/decaro/_raid_decaro_Salesforce___lotsa_data_era5_2005_0.0.0_8191fd29eb5cf906ec55effca44d8059888b615d.lock'\n",
      "Loading era5_2006...\n"
     ]
    },
    {
     "name": "stdout",
     "output_type": "stream",
     "text": [
      "Failed to load era5_2006 from Salesforce/lotsa_data: [Errno 28] No space left on device: '/raid/decaro/_raid_decaro_Salesforce___lotsa_data_era5_2006_0.0.0_8191fd29eb5cf906ec55effca44d8059888b615d.lock'\n",
      "Loading era5_2007...\n"
     ]
    },
    {
     "name": "stdout",
     "output_type": "stream",
     "text": [
      "Failed to load era5_2007 from Salesforce/lotsa_data: [Errno 28] No space left on device: '/raid/decaro/_raid_decaro_Salesforce___lotsa_data_era5_2007_0.0.0_8191fd29eb5cf906ec55effca44d8059888b615d.lock'\n",
      "Loading era5_2008...\n"
     ]
    },
    {
     "name": "stdout",
     "output_type": "stream",
     "text": [
      "Failed to load era5_2008 from Salesforce/lotsa_data: [Errno 28] No space left on device: '/raid/decaro/_raid_decaro_Salesforce___lotsa_data_era5_2008_0.0.0_8191fd29eb5cf906ec55effca44d8059888b615d.lock'\n",
      "Loading era5_2009...\n"
     ]
    },
    {
     "name": "stdout",
     "output_type": "stream",
     "text": [
      "Failed to load era5_2009 from Salesforce/lotsa_data: [Errno 28] No space left on device: '/raid/decaro/_raid_decaro_Salesforce___lotsa_data_era5_2009_0.0.0_8191fd29eb5cf906ec55effca44d8059888b615d.lock'\n",
      "Loading era5_2010...\n"
     ]
    },
    {
     "name": "stdout",
     "output_type": "stream",
     "text": [
      "Failed to load era5_2010 from Salesforce/lotsa_data: [Errno 28] No space left on device: '/raid/decaro/_raid_decaro_Salesforce___lotsa_data_era5_2010_0.0.0_8191fd29eb5cf906ec55effca44d8059888b615d.lock'\n",
      "Loading era5_2011...\n"
     ]
    },
    {
     "name": "stdout",
     "output_type": "stream",
     "text": [
      "Failed to load era5_2011 from Salesforce/lotsa_data: [Errno 28] No space left on device: '/raid/decaro/_raid_decaro_Salesforce___lotsa_data_era5_2011_0.0.0_8191fd29eb5cf906ec55effca44d8059888b615d.lock'\n",
      "Loading era5_2012...\n"
     ]
    },
    {
     "name": "stdout",
     "output_type": "stream",
     "text": [
      "Failed to load era5_2012 from Salesforce/lotsa_data: [Errno 28] No space left on device: '/raid/decaro/_raid_decaro_Salesforce___lotsa_data_era5_2012_0.0.0_8191fd29eb5cf906ec55effca44d8059888b615d.lock'\n",
      "Loading era5_2013...\n"
     ]
    },
    {
     "name": "stdout",
     "output_type": "stream",
     "text": [
      "Failed to load era5_2013 from Salesforce/lotsa_data: [Errno 28] No space left on device: '/raid/decaro/_raid_decaro_Salesforce___lotsa_data_era5_2013_0.0.0_8191fd29eb5cf906ec55effca44d8059888b615d.lock'\n",
      "Loading era5_2014...\n"
     ]
    },
    {
     "name": "stdout",
     "output_type": "stream",
     "text": [
      "Failed to load era5_2014 from Salesforce/lotsa_data: [Errno 28] No space left on device: '/raid/decaro/_raid_decaro_Salesforce___lotsa_data_era5_2014_0.0.0_8191fd29eb5cf906ec55effca44d8059888b615d.lock'\n",
      "Loading era5_2015...\n"
     ]
    },
    {
     "name": "stdout",
     "output_type": "stream",
     "text": [
      "Failed to load era5_2015 from Salesforce/lotsa_data: [Errno 28] No space left on device: '/raid/decaro/_raid_decaro_Salesforce___lotsa_data_era5_2015_0.0.0_8191fd29eb5cf906ec55effca44d8059888b615d.lock'\n",
      "Loading era5_2016...\n"
     ]
    },
    {
     "name": "stdout",
     "output_type": "stream",
     "text": [
      "Failed to load era5_2016 from Salesforce/lotsa_data: [Errno 28] No space left on device: '/raid/decaro/_raid_decaro_Salesforce___lotsa_data_era5_2016_0.0.0_8191fd29eb5cf906ec55effca44d8059888b615d.lock'\n",
      "Loading era5_2017...\n"
     ]
    },
    {
     "name": "stdout",
     "output_type": "stream",
     "text": [
      "Failed to load era5_2017 from Salesforce/lotsa_data: [Errno 28] No space left on device: '/raid/decaro/_raid_decaro_Salesforce___lotsa_data_era5_2017_0.0.0_8191fd29eb5cf906ec55effca44d8059888b615d.lock'\n",
      "Loading era5_2018...\n"
     ]
    },
    {
     "name": "stdout",
     "output_type": "stream",
     "text": [
      "Failed to load era5_2018 from Salesforce/lotsa_data: [Errno 28] No space left on device: '/raid/decaro/_raid_decaro_Salesforce___lotsa_data_era5_2018_0.0.0_8191fd29eb5cf906ec55effca44d8059888b615d.lock'\n",
      "Loading extended_web_traffic_with_missing...\n"
     ]
    },
    {
     "name": "stdout",
     "output_type": "stream",
     "text": [
      "Failed to load extended_web_traffic_with_missing from Salesforce/lotsa_data: [Errno 28] No space left on device: '/raid/decaro/_raid_decaro_Salesforce___lotsa_data_extended_web_traffic_with_missing_0.0.0_8191fd29eb5cf906ec55effca44d8059888b615d.lock'\n",
      "Loading favorita_sales...\n"
     ]
    },
    {
     "name": "stdout",
     "output_type": "stream",
     "text": [
      "Failed to load favorita_sales from Salesforce/lotsa_data: [Errno 28] No space left on device: '/raid/decaro/_raid_decaro_Salesforce___lotsa_data_favorita_sales_0.0.0_8191fd29eb5cf906ec55effca44d8059888b615d.lock'\n",
      "Loading favorita_transactions...\n"
     ]
    },
    {
     "name": "stdout",
     "output_type": "stream",
     "text": [
      "Failed to load favorita_transactions from Salesforce/lotsa_data: [Errno 28] No space left on device: '/raid/decaro/_raid_decaro_Salesforce___lotsa_data_favorita_transactions_0.0.0_8191fd29eb5cf906ec55effca44d8059888b615d.lock'\n",
      "Loading fred_md...\n"
     ]
    },
    {
     "name": "stdout",
     "output_type": "stream",
     "text": [
      "Failed to load fred_md from Salesforce/lotsa_data: [Errno 28] No space left on device: '/raid/decaro/_raid_decaro_Salesforce___lotsa_data_fred_md_0.0.0_8191fd29eb5cf906ec55effca44d8059888b615d.lock'\n",
      "Loading gfc12_load...\n"
     ]
    },
    {
     "name": "stdout",
     "output_type": "stream",
     "text": [
      "Failed to load gfc12_load from Salesforce/lotsa_data: [Errno 28] No space left on device: '/raid/decaro/_raid_decaro_Salesforce___lotsa_data_gfc12_load_0.0.0_8191fd29eb5cf906ec55effca44d8059888b615d.lock'\n",
      "Loading gfc14_load...\n"
     ]
    },
    {
     "name": "stdout",
     "output_type": "stream",
     "text": [
      "Failed to load gfc14_load from Salesforce/lotsa_data: [Errno 28] No space left on device: '/raid/decaro/_raid_decaro_Salesforce___lotsa_data_gfc14_load_0.0.0_8191fd29eb5cf906ec55effca44d8059888b615d.lock'\n",
      "Loading gfc17_load...\n"
     ]
    },
    {
     "name": "stdout",
     "output_type": "stream",
     "text": [
      "Failed to load gfc17_load from Salesforce/lotsa_data: [Errno 28] No space left on device: '/raid/decaro/_raid_decaro_Salesforce___lotsa_data_gfc17_load_0.0.0_8191fd29eb5cf906ec55effca44d8059888b615d.lock'\n",
      "Loading godaddy...\n"
     ]
    },
    {
     "name": "stdout",
     "output_type": "stream",
     "text": [
      "Failed to load godaddy from Salesforce/lotsa_data: [Errno 28] No space left on device: '/raid/decaro/_raid_decaro_Salesforce___lotsa_data_godaddy_0.0.0_8191fd29eb5cf906ec55effca44d8059888b615d.lock'\n",
      "Loading hierarchical_sales...\n"
     ]
    },
    {
     "name": "stdout",
     "output_type": "stream",
     "text": [
      "Failed to load hierarchical_sales from Salesforce/lotsa_data: [Errno 28] No space left on device: '/raid/decaro/_raid_decaro_Salesforce___lotsa_data_hierarchical_sales_0.0.0_8191fd29eb5cf906ec55effca44d8059888b615d.lock'\n",
      "Loading hog...\n"
     ]
    },
    {
     "name": "stdout",
     "output_type": "stream",
     "text": [
      "Failed to load hog from Salesforce/lotsa_data: [Errno 28] No space left on device: '/raid/decaro/_raid_decaro_Salesforce___lotsa_data_hog_0.0.0_8191fd29eb5cf906ec55effca44d8059888b615d.lock'\n",
      "Loading hospital...\n"
     ]
    },
    {
     "name": "stdout",
     "output_type": "stream",
     "text": [
      "Failed to load hospital from Salesforce/lotsa_data: [Errno 28] No space left on device: '/raid/decaro/_raid_decaro_Salesforce___lotsa_data_hospital_0.0.0_8191fd29eb5cf906ec55effca44d8059888b615d.lock'\n",
      "Loading ideal...\n"
     ]
    },
    {
     "name": "stdout",
     "output_type": "stream",
     "text": [
      "Failed to load ideal from Salesforce/lotsa_data: [Errno 28] No space left on device: '/raid/decaro/_raid_decaro_Salesforce___lotsa_data_ideal_0.0.0_8191fd29eb5cf906ec55effca44d8059888b615d.lock'\n",
      "Loading kaggle_web_traffic_weekly...\n"
     ]
    },
    {
     "name": "stdout",
     "output_type": "stream",
     "text": [
      "Failed to load kaggle_web_traffic_weekly from Salesforce/lotsa_data: [Errno 28] No space left on device: '/raid/decaro/_raid_decaro_Salesforce___lotsa_data_kaggle_web_traffic_weekly_0.0.0_8191fd29eb5cf906ec55effca44d8059888b615d.lock'\n",
      "Loading kdd2022...\n"
     ]
    },
    {
     "name": "stdout",
     "output_type": "stream",
     "text": [
      "Failed to load kdd2022 from Salesforce/lotsa_data: [Errno 28] No space left on device: '/raid/decaro/_raid_decaro_Salesforce___lotsa_data_kdd2022_0.0.0_8191fd29eb5cf906ec55effca44d8059888b615d.lock'\n",
      "Loading kdd_cup_2018_with_missing...\n"
     ]
    },
    {
     "name": "stdout",
     "output_type": "stream",
     "text": [
      "Failed to load kdd_cup_2018_with_missing from Salesforce/lotsa_data: [Errno 28] No space left on device: '/raid/decaro/_raid_decaro_Salesforce___lotsa_data_kdd_cup_2018_with_missing_0.0.0_8191fd29eb5cf906ec55effca44d8059888b615d.lock'\n",
      "Loading largest...\n"
     ]
    },
    {
     "name": "stdout",
     "output_type": "stream",
     "text": [
      "Failed to load largest from Salesforce/lotsa_data: [Errno 28] No space left on device: '/raid/decaro/_raid_decaro_Salesforce___lotsa_data_largest_0.0.0_8191fd29eb5cf906ec55effca44d8059888b615d.lock'\n",
      "Loading largest_2017...\n"
     ]
    },
    {
     "name": "stdout",
     "output_type": "stream",
     "text": [
      "Failed to load largest_2017 from Salesforce/lotsa_data: [Errno 28] No space left on device: '/raid/decaro/_raid_decaro_Salesforce___lotsa_data_largest_2017_0.0.0_8191fd29eb5cf906ec55effca44d8059888b615d.lock'\n",
      "Loading largest_2018...\n"
     ]
    },
    {
     "name": "stdout",
     "output_type": "stream",
     "text": [
      "Failed to load largest_2018 from Salesforce/lotsa_data: [Errno 28] No space left on device: '/raid/decaro/_raid_decaro_Salesforce___lotsa_data_largest_2018_0.0.0_8191fd29eb5cf906ec55effca44d8059888b615d.lock'\n",
      "Loading largest_2019...\n"
     ]
    },
    {
     "name": "stdout",
     "output_type": "stream",
     "text": [
      "Failed to load largest_2019 from Salesforce/lotsa_data: [Errno 28] No space left on device: '/raid/decaro/_raid_decaro_Salesforce___lotsa_data_largest_2019_0.0.0_8191fd29eb5cf906ec55effca44d8059888b615d.lock'\n",
      "Loading largest_2020...\n"
     ]
    },
    {
     "name": "stdout",
     "output_type": "stream",
     "text": [
      "Failed to load largest_2020 from Salesforce/lotsa_data: [Errno 28] No space left on device: '/raid/decaro/_raid_decaro_Salesforce___lotsa_data_largest_2020_0.0.0_8191fd29eb5cf906ec55effca44d8059888b615d.lock'\n",
      "Loading largest_2021...\n"
     ]
    },
    {
     "name": "stdout",
     "output_type": "stream",
     "text": [
      "Failed to load largest_2021 from Salesforce/lotsa_data: [Errno 28] No space left on device: '/raid/decaro/_raid_decaro_Salesforce___lotsa_data_largest_2021_0.0.0_8191fd29eb5cf906ec55effca44d8059888b615d.lock'\n",
      "Loading lcl...\n"
     ]
    },
    {
     "name": "stdout",
     "output_type": "stream",
     "text": [
      "Failed to load lcl from Salesforce/lotsa_data: [Errno 28] No space left on device: '/raid/decaro/_raid_decaro_Salesforce___lotsa_data_lcl_0.0.0_8191fd29eb5cf906ec55effca44d8059888b615d.lock'\n",
      "Loading london_smart_meters_with_missing...\n"
     ]
    },
    {
     "name": "stdout",
     "output_type": "stream",
     "text": [
      "Failed to load london_smart_meters_with_missing from Salesforce/lotsa_data: [Errno 28] No space left on device: '/raid/decaro/_raid_decaro_Salesforce___lotsa_data_london_smart_meters_with_missing_0.0.0_8191fd29eb5cf906ec55effca44d8059888b615d.lock'\n",
      "Loading m1_monthly...\n"
     ]
    },
    {
     "name": "stdout",
     "output_type": "stream",
     "text": [
      "Failed to load m1_monthly from Salesforce/lotsa_data: [Errno 28] No space left on device: '/raid/decaro/_raid_decaro_Salesforce___lotsa_data_m1_monthly_0.0.0_8191fd29eb5cf906ec55effca44d8059888b615d.lock'\n",
      "Loading m1_quarterly...\n"
     ]
    },
    {
     "name": "stdout",
     "output_type": "stream",
     "text": [
      "Failed to load m1_quarterly from Salesforce/lotsa_data: [Errno 28] No space left on device: '/raid/decaro/_raid_decaro_Salesforce___lotsa_data_m1_quarterly_0.0.0_8191fd29eb5cf906ec55effca44d8059888b615d.lock'\n",
      "Loading m1_yearly...\n"
     ]
    },
    {
     "name": "stdout",
     "output_type": "stream",
     "text": [
      "Failed to load m1_yearly from Salesforce/lotsa_data: [Errno 28] No space left on device: '/raid/decaro/_raid_decaro_Salesforce___lotsa_data_m1_yearly_0.0.0_8191fd29eb5cf906ec55effca44d8059888b615d.lock'\n",
      "Loading m4_daily...\n"
     ]
    },
    {
     "name": "stdout",
     "output_type": "stream",
     "text": [
      "Failed to load m4_daily from Salesforce/lotsa_data: [Errno 28] No space left on device: '/raid/decaro/_raid_decaro_Salesforce___lotsa_data_m4_daily_0.0.0_8191fd29eb5cf906ec55effca44d8059888b615d.lock'\n",
      "Loading m4_hourly...\n"
     ]
    },
    {
     "name": "stdout",
     "output_type": "stream",
     "text": [
      "Failed to load m4_hourly from Salesforce/lotsa_data: [Errno 28] No space left on device: '/raid/decaro/_raid_decaro_Salesforce___lotsa_data_m4_hourly_0.0.0_8191fd29eb5cf906ec55effca44d8059888b615d.lock'\n",
      "Loading m4_monthly...\n"
     ]
    },
    {
     "name": "stdout",
     "output_type": "stream",
     "text": [
      "Failed to load m4_monthly from Salesforce/lotsa_data: [Errno 28] No space left on device: '/raid/decaro/_raid_decaro_Salesforce___lotsa_data_m4_monthly_0.0.0_8191fd29eb5cf906ec55effca44d8059888b615d.lock'\n",
      "Loading m4_quarterly...\n"
     ]
    },
    {
     "name": "stdout",
     "output_type": "stream",
     "text": [
      "Failed to load m4_quarterly from Salesforce/lotsa_data: [Errno 28] No space left on device: '/raid/decaro/_raid_decaro_Salesforce___lotsa_data_m4_quarterly_0.0.0_8191fd29eb5cf906ec55effca44d8059888b615d.lock'\n",
      "Loading m4_weekly...\n"
     ]
    },
    {
     "name": "stdout",
     "output_type": "stream",
     "text": [
      "Failed to load m4_weekly from Salesforce/lotsa_data: [Errno 28] No space left on device: '/raid/decaro/_raid_decaro_Salesforce___lotsa_data_m4_weekly_0.0.0_8191fd29eb5cf906ec55effca44d8059888b615d.lock'\n",
      "Loading m4_yearly...\n"
     ]
    },
    {
     "name": "stdout",
     "output_type": "stream",
     "text": [
      "Failed to load m4_yearly from Salesforce/lotsa_data: [Errno 28] No space left on device: '/raid/decaro/_raid_decaro_Salesforce___lotsa_data_m4_yearly_0.0.0_8191fd29eb5cf906ec55effca44d8059888b615d.lock'\n",
      "Loading m5...\n"
     ]
    },
    {
     "name": "stdout",
     "output_type": "stream",
     "text": [
      "Failed to load m5 from Salesforce/lotsa_data: [Errno 28] No space left on device: '/raid/decaro/_raid_decaro_Salesforce___lotsa_data_m5_0.0.0_8191fd29eb5cf906ec55effca44d8059888b615d.lock'\n",
      "Loading monash_m3_monthly...\n"
     ]
    },
    {
     "name": "stdout",
     "output_type": "stream",
     "text": [
      "Failed to load monash_m3_monthly from Salesforce/lotsa_data: [Errno 28] No space left on device: '/raid/decaro/_raid_decaro_Salesforce___lotsa_data_monash_m3_monthly_0.0.0_8191fd29eb5cf906ec55effca44d8059888b615d.lock'\n",
      "Loading monash_m3_other...\n"
     ]
    },
    {
     "name": "stdout",
     "output_type": "stream",
     "text": [
      "Failed to load monash_m3_other from Salesforce/lotsa_data: [Errno 28] No space left on device: '/raid/decaro/_raid_decaro_Salesforce___lotsa_data_monash_m3_other_0.0.0_8191fd29eb5cf906ec55effca44d8059888b615d.lock'\n",
      "Loading monash_m3_quarterly...\n"
     ]
    },
    {
     "name": "stdout",
     "output_type": "stream",
     "text": [
      "Failed to load monash_m3_quarterly from Salesforce/lotsa_data: [Errno 28] No space left on device: '/raid/decaro/_raid_decaro_Salesforce___lotsa_data_monash_m3_quarterly_0.0.0_8191fd29eb5cf906ec55effca44d8059888b615d.lock'\n",
      "Loading monash_m3_yearly...\n"
     ]
    },
    {
     "name": "stdout",
     "output_type": "stream",
     "text": [
      "Failed to load monash_m3_yearly from Salesforce/lotsa_data: [Errno 28] No space left on device: '/raid/decaro/_raid_decaro_Salesforce___lotsa_data_monash_m3_yearly_0.0.0_8191fd29eb5cf906ec55effca44d8059888b615d.lock'\n",
      "Loading nn5_daily_with_missing...\n"
     ]
    },
    {
     "name": "stdout",
     "output_type": "stream",
     "text": [
      "Failed to load nn5_daily_with_missing from Salesforce/lotsa_data: [Errno 28] No space left on device: '/raid/decaro/_raid_decaro_Salesforce___lotsa_data_nn5_daily_with_missing_0.0.0_8191fd29eb5cf906ec55effca44d8059888b615d.lock'\n",
      "Loading nn5_weekly...\n"
     ]
    },
    {
     "name": "stdout",
     "output_type": "stream",
     "text": [
      "Failed to load nn5_weekly from Salesforce/lotsa_data: [Errno 28] No space left on device: '/raid/decaro/_raid_decaro_Salesforce___lotsa_data_nn5_weekly_0.0.0_8191fd29eb5cf906ec55effca44d8059888b615d.lock'\n",
      "Loading oikolab_weather...\n"
     ]
    },
    {
     "name": "stdout",
     "output_type": "stream",
     "text": [
      "Failed to load oikolab_weather from Salesforce/lotsa_data: [Errno 28] No space left on device: '/raid/decaro/_raid_decaro_Salesforce___lotsa_data_oikolab_weather_0.0.0_8191fd29eb5cf906ec55effca44d8059888b615d.lock'\n",
      "Loading pdb...\n"
     ]
    },
    {
     "name": "stdout",
     "output_type": "stream",
     "text": [
      "Failed to load pdb from Salesforce/lotsa_data: [Errno 28] No space left on device: '/raid/decaro/_raid_decaro_Salesforce___lotsa_data_pdb_0.0.0_8191fd29eb5cf906ec55effca44d8059888b615d.lock'\n",
      "Loading pedestrian_counts...\n"
     ]
    },
    {
     "name": "stdout",
     "output_type": "stream",
     "text": [
      "Failed to load pedestrian_counts from Salesforce/lotsa_data: [Errno 28] No space left on device: '/raid/decaro/_raid_decaro_Salesforce___lotsa_data_pedestrian_counts_0.0.0_8191fd29eb5cf906ec55effca44d8059888b615d.lock'\n",
      "Loading project_tycho...\n"
     ]
    },
    {
     "name": "stdout",
     "output_type": "stream",
     "text": [
      "Failed to load project_tycho from Salesforce/lotsa_data: [Errno 28] No space left on device: '/raid/decaro/_raid_decaro_Salesforce___lotsa_data_project_tycho_0.0.0_8191fd29eb5cf906ec55effca44d8059888b615d.lock'\n",
      "Loading residential_load_power...\n"
     ]
    },
    {
     "name": "stdout",
     "output_type": "stream",
     "text": [
      "Failed to load residential_load_power from Salesforce/lotsa_data: [Errno 28] No space left on device: '/raid/decaro/_raid_decaro_Salesforce___lotsa_data_residential_load_power_0.0.0_8191fd29eb5cf906ec55effca44d8059888b615d.lock'\n",
      "Loading residential_pv_power...\n"
     ]
    },
    {
     "name": "stdout",
     "output_type": "stream",
     "text": [
      "Failed to load residential_pv_power from Salesforce/lotsa_data: [Errno 28] No space left on device: '/raid/decaro/_raid_decaro_Salesforce___lotsa_data_residential_pv_power_0.0.0_8191fd29eb5cf906ec55effca44d8059888b615d.lock'\n",
      "Loading restaurant...\n"
     ]
    },
    {
     "name": "stdout",
     "output_type": "stream",
     "text": [
      "Failed to load restaurant from Salesforce/lotsa_data: [Errno 28] No space left on device: '/raid/decaro/_raid_decaro_Salesforce___lotsa_data_restaurant_0.0.0_8191fd29eb5cf906ec55effca44d8059888b615d.lock'\n",
      "Loading rideshare_with_missing...\n"
     ]
    },
    {
     "name": "stdout",
     "output_type": "stream",
     "text": [
      "Failed to load rideshare_with_missing from Salesforce/lotsa_data: [Errno 28] No space left on device: '/raid/decaro/_raid_decaro_Salesforce___lotsa_data_rideshare_with_missing_0.0.0_8191fd29eb5cf906ec55effca44d8059888b615d.lock'\n",
      "Loading saugeenday...\n"
     ]
    },
    {
     "name": "stdout",
     "output_type": "stream",
     "text": [
      "Failed to load saugeenday from Salesforce/lotsa_data: [Errno 28] No space left on device: '/raid/decaro/_raid_decaro_Salesforce___lotsa_data_saugeenday_0.0.0_8191fd29eb5cf906ec55effca44d8059888b615d.lock'\n",
      "Loading sceaux...\n"
     ]
    },
    {
     "name": "stdout",
     "output_type": "stream",
     "text": [
      "Failed to load sceaux from Salesforce/lotsa_data: [Errno 28] No space left on device: '/raid/decaro/_raid_decaro_Salesforce___lotsa_data_sceaux_0.0.0_8191fd29eb5cf906ec55effca44d8059888b615d.lock'\n",
      "Loading smart...\n"
     ]
    },
    {
     "name": "stdout",
     "output_type": "stream",
     "text": [
      "Failed to load smart from Salesforce/lotsa_data: [Errno 28] No space left on device: '/raid/decaro/_raid_decaro_Salesforce___lotsa_data_smart_0.0.0_8191fd29eb5cf906ec55effca44d8059888b615d.lock'\n",
      "Loading solar_power...\n"
     ]
    },
    {
     "name": "stdout",
     "output_type": "stream",
     "text": [
      "Failed to load solar_power from Salesforce/lotsa_data: [Errno 28] No space left on device: '/raid/decaro/_raid_decaro_Salesforce___lotsa_data_solar_power_0.0.0_8191fd29eb5cf906ec55effca44d8059888b615d.lock'\n",
      "Loading spain...\n"
     ]
    },
    {
     "name": "stdout",
     "output_type": "stream",
     "text": [
      "Failed to load spain from Salesforce/lotsa_data: [Errno 28] No space left on device: '/raid/decaro/_raid_decaro_Salesforce___lotsa_data_spain_0.0.0_8191fd29eb5cf906ec55effca44d8059888b615d.lock'\n",
      "Loading subseasonal...\n"
     ]
    },
    {
     "name": "stdout",
     "output_type": "stream",
     "text": [
      "Failed to load subseasonal from Salesforce/lotsa_data: [Errno 28] No space left on device: '/raid/decaro/_raid_decaro_Salesforce___lotsa_data_subseasonal_0.0.0_8191fd29eb5cf906ec55effca44d8059888b615d.lock'\n",
      "Loading subseasonal_precip...\n"
     ]
    },
    {
     "name": "stdout",
     "output_type": "stream",
     "text": [
      "Failed to load subseasonal_precip from Salesforce/lotsa_data: [Errno 28] No space left on device: '/raid/decaro/_raid_decaro_Salesforce___lotsa_data_subseasonal_precip_0.0.0_8191fd29eb5cf906ec55effca44d8059888b615d.lock'\n",
      "Loading sunspot_with_missing...\n"
     ]
    },
    {
     "name": "stdout",
     "output_type": "stream",
     "text": [
      "Failed to load sunspot_with_missing from Salesforce/lotsa_data: [Errno 28] No space left on device: '/raid/decaro/_raid_decaro_Salesforce___lotsa_data_sunspot_with_missing_0.0.0_8191fd29eb5cf906ec55effca44d8059888b615d.lock'\n",
      "Loading taxi_30min...\n"
     ]
    },
    {
     "name": "stdout",
     "output_type": "stream",
     "text": [
      "Failed to load taxi_30min from Salesforce/lotsa_data: [Errno 28] No space left on device: '/raid/decaro/_raid_decaro_Salesforce___lotsa_data_taxi_30min_0.0.0_8191fd29eb5cf906ec55effca44d8059888b615d.lock'\n",
      "Loading temperature_rain_with_missing...\n"
     ]
    },
    {
     "name": "stdout",
     "output_type": "stream",
     "text": [
      "Failed to load temperature_rain_with_missing from Salesforce/lotsa_data: [Errno 28] No space left on device: '/raid/decaro/_raid_decaro_Salesforce___lotsa_data_temperature_rain_with_missing_0.0.0_8191fd29eb5cf906ec55effca44d8059888b615d.lock'\n",
      "Loading tourism_monthly...\n"
     ]
    },
    {
     "name": "stdout",
     "output_type": "stream",
     "text": [
      "Failed to load tourism_monthly from Salesforce/lotsa_data: [Errno 28] No space left on device: '/raid/decaro/_raid_decaro_Salesforce___lotsa_data_tourism_monthly_0.0.0_8191fd29eb5cf906ec55effca44d8059888b615d.lock'\n",
      "Loading tourism_quarterly...\n"
     ]
    },
    {
     "name": "stdout",
     "output_type": "stream",
     "text": [
      "Failed to load tourism_quarterly from Salesforce/lotsa_data: [Errno 28] No space left on device: '/raid/decaro/_raid_decaro_Salesforce___lotsa_data_tourism_quarterly_0.0.0_8191fd29eb5cf906ec55effca44d8059888b615d.lock'\n",
      "Loading tourism_yearly...\n"
     ]
    },
    {
     "name": "stdout",
     "output_type": "stream",
     "text": [
      "Failed to load tourism_yearly from Salesforce/lotsa_data: [Errno 28] No space left on device: '/raid/decaro/_raid_decaro_Salesforce___lotsa_data_tourism_yearly_0.0.0_8191fd29eb5cf906ec55effca44d8059888b615d.lock'\n",
      "Loading traffic_hourly...\n"
     ]
    },
    {
     "name": "stdout",
     "output_type": "stream",
     "text": [
      "Failed to load traffic_hourly from Salesforce/lotsa_data: [Errno 28] No space left on device: '/raid/decaro/_raid_decaro_Salesforce___lotsa_data_traffic_hourly_0.0.0_8191fd29eb5cf906ec55effca44d8059888b615d.lock'\n",
      "Loading traffic_weekly...\n"
     ]
    },
    {
     "name": "stdout",
     "output_type": "stream",
     "text": [
      "Failed to load traffic_weekly from Salesforce/lotsa_data: [Errno 28] No space left on device: '/raid/decaro/_raid_decaro_Salesforce___lotsa_data_traffic_weekly_0.0.0_8191fd29eb5cf906ec55effca44d8059888b615d.lock'\n",
      "Loading uber_tlc_daily...\n"
     ]
    },
    {
     "name": "stdout",
     "output_type": "stream",
     "text": [
      "Failed to load uber_tlc_daily from Salesforce/lotsa_data: [Errno 28] No space left on device: '/raid/decaro/_raid_decaro_Salesforce___lotsa_data_uber_tlc_daily_0.0.0_8191fd29eb5cf906ec55effca44d8059888b615d.lock'\n",
      "Loading uber_tlc_hourly...\n"
     ]
    },
    {
     "name": "stdout",
     "output_type": "stream",
     "text": [
      "Failed to load uber_tlc_hourly from Salesforce/lotsa_data: [Errno 28] No space left on device: '/raid/decaro/_raid_decaro_Salesforce___lotsa_data_uber_tlc_hourly_0.0.0_8191fd29eb5cf906ec55effca44d8059888b615d.lock'\n",
      "Loading us_births...\n"
     ]
    },
    {
     "name": "stdout",
     "output_type": "stream",
     "text": [
      "Failed to load us_births from Salesforce/lotsa_data: [Errno 28] No space left on device: '/raid/decaro/_raid_decaro_Salesforce___lotsa_data_us_births_0.0.0_8191fd29eb5cf906ec55effca44d8059888b615d.lock'\n",
      "Loading vehicle_trips_with_missing...\n"
     ]
    },
    {
     "name": "stdout",
     "output_type": "stream",
     "text": [
      "Failed to load vehicle_trips_with_missing from Salesforce/lotsa_data: [Errno 28] No space left on device: '/raid/decaro/_raid_decaro_Salesforce___lotsa_data_vehicle_trips_with_missing_0.0.0_8191fd29eb5cf906ec55effca44d8059888b615d.lock'\n",
      "Loading weather...\n"
     ]
    },
    {
     "name": "stdout",
     "output_type": "stream",
     "text": [
      "Failed to load weather from Salesforce/lotsa_data: [Errno 28] No space left on device: '/raid/decaro/_raid_decaro_Salesforce___lotsa_data_weather_0.0.0_8191fd29eb5cf906ec55effca44d8059888b615d.lock'\n",
      "Loading wiki-rolling_nips...\n"
     ]
    },
    {
     "name": "stdout",
     "output_type": "stream",
     "text": [
      "Failed to load wiki-rolling_nips from Salesforce/lotsa_data: [Errno 28] No space left on device: '/raid/decaro/_raid_decaro_Salesforce___lotsa_data_wiki-rolling_nips_0.0.0_8191fd29eb5cf906ec55effca44d8059888b615d.lock'\n",
      "Loading wind_farms_with_missing...\n"
     ]
    },
    {
     "name": "stdout",
     "output_type": "stream",
     "text": [
      "Failed to load wind_farms_with_missing from Salesforce/lotsa_data: [Errno 28] No space left on device: '/raid/decaro/_raid_decaro_Salesforce___lotsa_data_wind_farms_with_missing_0.0.0_8191fd29eb5cf906ec55effca44d8059888b615d.lock'\n",
      "Loading wind_power...\n"
     ]
    },
    {
     "name": "stdout",
     "output_type": "stream",
     "text": [
      "Failed to load wind_power from Salesforce/lotsa_data: [Errno 28] No space left on device: '/raid/decaro/_raid_decaro_Salesforce___lotsa_data_wind_power_0.0.0_8191fd29eb5cf906ec55effca44d8059888b615d.lock'\n"
     ]
    },
    {
     "ename": "TypeError",
     "evalue": "load_dataset_from_disk() missing 1 required positional argument: 'path'",
     "output_type": "error",
     "traceback": [
      "\u001b[0;31m---------------------------------------------------------------------------\u001b[0m",
      "\u001b[0;31mTypeError\u001b[0m                                 Traceback (most recent call last)",
      "Cell \u001b[0;32mIn[4], line 1\u001b[0m\n\u001b[0;32m----> 1\u001b[0m \u001b[43msave_train_and_val_datasets\u001b[49m\u001b[43m(\u001b[49m\n\u001b[1;32m      2\u001b[0m \u001b[43m    \u001b[49m\u001b[43myaml_path\u001b[49m\u001b[38;5;241;43m=\u001b[39;49m\u001b[38;5;124;43m\"\u001b[39;49m\u001b[38;5;124;43m/raid/decaro/TimeSeriesForecastingFoundationModels/data/lotsa.yaml\u001b[39;49m\u001b[38;5;124;43m\"\u001b[39;49m\u001b[43m,\u001b[49m\n\u001b[1;32m      3\u001b[0m \u001b[43m    \u001b[49m\u001b[43mdataset_path\u001b[49m\u001b[38;5;241;43m=\u001b[39;49m\u001b[38;5;124;43m\"\u001b[39;49m\u001b[38;5;124;43m/raid/decaro/TimeSeriesForecastingFoundationModels/data/full_dataset\u001b[39;49m\u001b[38;5;124;43m\"\u001b[39;49m\n\u001b[1;32m      4\u001b[0m \u001b[43m    \u001b[49m\u001b[43m)\u001b[49m\n",
      "Cell \u001b[0;32mIn[3], line 3\u001b[0m, in \u001b[0;36msave_train_and_val_datasets\u001b[0;34m(yaml_path, dataset_path)\u001b[0m\n\u001b[1;32m      1\u001b[0m \u001b[38;5;28;01mdef\u001b[39;00m\u001b[38;5;250m \u001b[39m\u001b[38;5;21msave_train_and_val_datasets\u001b[39m(yaml_path, dataset_path):\n\u001b[1;32m      2\u001b[0m     partial_ds_path \u001b[38;5;241m=\u001b[39m \u001b[38;5;124m\"\u001b[39m\u001b[38;5;124m/raid/decaro/TimeSeriesForecastingFoundationModels/data/splitted_full_dataset\u001b[39m\u001b[38;5;124m\"\u001b[39m\n\u001b[0;32m----> 3\u001b[0m     full_dataset \u001b[38;5;241m=\u001b[39m \u001b[43mload_data\u001b[49m\u001b[43m(\u001b[49m\u001b[43myaml_path\u001b[49m\u001b[38;5;241;43m=\u001b[39;49m\u001b[43myaml_path\u001b[49m\u001b[43m,\u001b[49m\u001b[43m \u001b[49m\u001b[43mpath\u001b[49m\u001b[38;5;241;43m=\u001b[39;49m\u001b[43mpartial_ds_path\u001b[49m\u001b[43m)\u001b[49m\n\u001b[1;32m      5\u001b[0m     \u001b[38;5;66;03m# Save datasets to disk\u001b[39;00m\n\u001b[1;32m      6\u001b[0m     os\u001b[38;5;241m.\u001b[39mmakedirs(\u001b[38;5;124m\"\u001b[39m\u001b[38;5;124mdata\u001b[39m\u001b[38;5;124m\"\u001b[39m, exist_ok\u001b[38;5;241m=\u001b[39m\u001b[38;5;28;01mTrue\u001b[39;00m)\n",
      "File \u001b[0;32m~/TimeSeriesForecastingFoundationModels/src/utils/full_dataset_loader.py:168\u001b[0m, in \u001b[0;36mload_data\u001b[0;34m(yaml_path, path)\u001b[0m\n\u001b[1;32m    166\u001b[0m \u001b[38;5;28;01mif\u001b[39;00m dataset_name_list:\n\u001b[1;32m    167\u001b[0m     \u001b[38;5;28;01mfor\u001b[39;00m ds_name \u001b[38;5;129;01min\u001b[39;00m dataset_name_list:\n\u001b[0;32m--> 168\u001b[0m         ds \u001b[38;5;241m=\u001b[39m \u001b[43mload_dataset_from_disk\u001b[49m\u001b[43m(\u001b[49m\u001b[43mds_name\u001b[49m\u001b[43m)\u001b[49m\n\u001b[1;32m    169\u001b[0m         datasets_list\u001b[38;5;241m.\u001b[39mappend(ds)\n\u001b[1;32m    171\u001b[0m     indexed_data \u001b[38;5;241m=\u001b[39m []\n",
      "\u001b[0;31mTypeError\u001b[0m: load_dataset_from_disk() missing 1 required positional argument: 'path'"
     ]
    }
   ],
   "source": [
    "save_train_and_val_datasets(\n",
    "    yaml_path=\"/raid/decaro/TimeSeriesForecastingFoundationModels/data/lotsa.yaml\",\n",
    "    dataset_path=\"/raid/decaro/TimeSeriesForecastingFoundationModels/data/full_dataset\"\n",
    "    )"
   ]
  }
 ],
 "metadata": {
  "kernelspec": {
   "display_name": "moirai",
   "language": "python",
   "name": "python3"
  },
  "language_info": {
   "codemirror_mode": {
    "name": "ipython",
    "version": 3
   },
   "file_extension": ".py",
   "mimetype": "text/x-python",
   "name": "python",
   "nbconvert_exporter": "python",
   "pygments_lexer": "ipython3",
   "version": "3.9.23"
  },
  "papermill": {
   "default_parameters": {},
   "duration": 2693.444041,
   "end_time": "2025-07-30T21:30:01.544510",
   "environment_variables": {},
   "exception": true,
   "input_path": "load_lotsa.ipynb",
   "output_path": "load_lotsa.ipynb",
   "parameters": {},
   "start_time": "2025-07-30T20:45:08.100469",
   "version": "2.6.0"
  }
 },
 "nbformat": 4,
 "nbformat_minor": 5
}