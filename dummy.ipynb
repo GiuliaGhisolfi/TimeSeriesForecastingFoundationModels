{
 "cells": [
  {
   "cell_type": "code",
   "execution_count": 1,
   "id": "a2171ca9",
   "metadata": {},
   "outputs": [
    {
     "name": "stdout",
     "output_type": "stream",
     "text": [
      "\n",
      "Loading group: autogluon/chronos_datasets\n",
      "Loading electricity_15min...\n",
      "\n",
      "Loading group: ett\n",
      "Loading m1...\n",
      "Loading m2...\n",
      "Loading h1...\n",
      "Loading h2...\n",
      "\n",
      "Loading group: Salesforce/lotsa_data\n",
      "Loading HZMETRO...\n"
     ]
    },
    {
     "data": {
      "application/vnd.jupyter.widget-view+json": {
       "model_id": "1659fbb1d1604cac804f7d9ebd9ad89d",
       "version_major": 2,
       "version_minor": 0
      },
      "text/plain": [
       "Resolving data files:   0%|          | 0/6388 [00:00<?, ?it/s]"
      ]
     },
     "metadata": {},
     "output_type": "display_data"
    },
    {
     "data": {
      "application/vnd.jupyter.widget-view+json": {
       "model_id": "2774b352fc394bfda48d420c05e367ae",
       "version_major": 2,
       "version_minor": 0
      },
      "text/plain": [
       "Map:   0%|          | 0/370 [00:00<?, ? examples/s]"
      ]
     },
     "metadata": {},
     "output_type": "display_data"
    }
   ],
   "source": [
    "from src.utils.load_data import load_data\n",
    "\n",
    "ds = load_data()"
   ]
  },
  {
   "cell_type": "code",
   "execution_count": 2,
   "id": "d490a738",
   "metadata": {},
   "outputs": [
    {
     "data": {
      "text/plain": [
       "Dataset({\n",
       "    features: ['item_id', 'start', 'freq', 'target', 'dataset'],\n",
       "    num_rows: 382\n",
       "})"
      ]
     },
     "execution_count": 2,
     "metadata": {},
     "output_type": "execute_result"
    }
   ],
   "source": [
    "ds"
   ]
  },
  {
   "cell_type": "code",
   "execution_count": 3,
   "id": "e22c3249",
   "metadata": {},
   "outputs": [
    {
     "data": {
      "text/plain": [
       "{'item_id': Value(dtype='string', id=None),\n",
       " 'start': Value(dtype='timestamp[ns]', id=None),\n",
       " 'freq': Value(dtype='string', id=None),\n",
       " 'target': Sequence(feature=Sequence(feature=Value(dtype='float32', id=None), length=-1, id=None), length=-1, id=None),\n",
       " 'dataset': Value(dtype='string', id=None)}"
      ]
     },
     "execution_count": 3,
     "metadata": {},
     "output_type": "execute_result"
    }
   ],
   "source": [
    "ds.features"
   ]
  },
  {
   "cell_type": "code",
   "execution_count": 16,
   "id": "292cb40a",
   "metadata": {},
   "outputs": [],
   "source": [
    "full_dataset = ds\n",
    "split = full_dataset.train_test_split(test_size=0.2, seed=42)\n",
    "train_dataset = split[\"train\"]\n",
    "val_dataset = split[\"test\"]"
   ]
  },
  {
   "cell_type": "code",
   "execution_count": 9,
   "id": "e7aadda3",
   "metadata": {},
   "outputs": [
    {
     "data": {
      "text/plain": [
       "(Dataset({\n",
       "     features: ['item_id', 'start', 'freq', 'target', 'dataset'],\n",
       "     num_rows: 77\n",
       " }),\n",
       " Dataset({\n",
       "     features: ['item_id', 'start', 'freq', 'target', 'dataset'],\n",
       "     num_rows: 305\n",
       " }))"
      ]
     },
     "execution_count": 9,
     "metadata": {},
     "output_type": "execute_result"
    }
   ],
   "source": [
    "val_dataset, train_dataset"
   ]
  },
  {
   "cell_type": "code",
   "execution_count": null,
   "id": "ea0b9fc5",
   "metadata": {},
   "outputs": [],
   "source": [
    "from torch.utils.data import DataLoader\n",
    "\n",
    "train_dataloader = DataLoader(train_dataset, batch_size=32, shuffle=True)\n",
    "val_dataloader = DataLoader(val_dataset, batch_size=32, shuffle=False)"
   ]
  },
  {
   "cell_type": "code",
   "execution_count": 10,
   "id": "9cf76f31",
   "metadata": {},
   "outputs": [
    {
     "data": {
      "text/plain": [
       "(<torch.utils.data.dataloader.DataLoader at 0x22b443dc3a0>,\n",
       " <torch.utils.data.dataloader.DataLoader at 0x22b443de2c0>)"
      ]
     },
     "execution_count": 10,
     "metadata": {},
     "output_type": "execute_result"
    }
   ],
   "source": [
    "val_dataloader, train_dataloader"
   ]
  },
  {
   "cell_type": "code",
   "execution_count": 15,
   "id": "7988679f",
   "metadata": {},
   "outputs": [
    {
     "data": {
      "text/plain": [
       "(Dataset({\n",
       "     features: ['item_id', 'start', 'freq', 'target', 'dataset'],\n",
       "     num_rows: 75\n",
       " }),\n",
       " Dataset({\n",
       "     features: ['item_id', 'start', 'freq', 'target', 'dataset'],\n",
       "     num_rows: 307\n",
       " }))"
      ]
     },
     "execution_count": 15,
     "metadata": {},
     "output_type": "execute_result"
    }
   ],
   "source": [
    "from src.utils.utils import stratified_split\n",
    "\n",
    "train_dataset, val_dataset = stratified_split(\n",
    "        full_dataset, stratify_col=\"dataset\", test_size=0.2)\n",
    "\n",
    "val_dataset, train_dataset"
   ]
  },
  {
   "cell_type": "code",
   "execution_count": 17,
   "id": "2a977f84",
   "metadata": {},
   "outputs": [],
   "source": [
    "train_dataloader = DataLoader(train_dataset, batch_size=32, shuffle=True)\n",
    "val_dataloader = DataLoader(val_dataset, batch_size=32, shuffle=False)"
   ]
  },
  {
   "cell_type": "markdown",
   "id": "b2b94415",
   "metadata": {},
   "source": [
    "### Save the datasets"
   ]
  },
  {
   "cell_type": "code",
   "execution_count": 18,
   "id": "a97c843a",
   "metadata": {},
   "outputs": [
    {
     "data": {
      "application/vnd.jupyter.widget-view+json": {
       "model_id": "8fb232e00a1847f3bee31a6a46dea037",
       "version_major": 2,
       "version_minor": 0
      },
      "text/plain": [
       "Saving the dataset (0/1 shards):   0%|          | 0/305 [00:00<?, ? examples/s]"
      ]
     },
     "metadata": {},
     "output_type": "display_data"
    },
    {
     "data": {
      "application/vnd.jupyter.widget-view+json": {
       "model_id": "7e57ce93316e4d538ae4c942267d2e25",
       "version_major": 2,
       "version_minor": 0
      },
      "text/plain": [
       "Saving the dataset (0/1 shards):   0%|          | 0/77 [00:00<?, ? examples/s]"
      ]
     },
     "metadata": {},
     "output_type": "display_data"
    }
   ],
   "source": [
    "import os\n",
    "os.makedirs(\"data\", exist_ok=True)\n",
    "\n",
    "train_dataset.save_to_disk(\"data/train_dataset\")\n",
    "val_dataset.save_to_disk(\"data/val_dataset\")"
   ]
  },
  {
   "cell_type": "code",
   "execution_count": 19,
   "id": "24cf1d7f",
   "metadata": {},
   "outputs": [
    {
     "data": {
      "text/plain": [
       "(Dataset({\n",
       "     features: ['item_id', 'start', 'freq', 'target', 'dataset'],\n",
       "     num_rows: 305\n",
       " }),\n",
       " Dataset({\n",
       "     features: ['item_id', 'start', 'freq', 'target', 'dataset'],\n",
       "     num_rows: 77\n",
       " }))"
      ]
     },
     "execution_count": 19,
     "metadata": {},
     "output_type": "execute_result"
    }
   ],
   "source": [
    "# load\n",
    "from datasets import load_from_disk\n",
    "train_dataset = load_from_disk(\"data/train_dataset\")\n",
    "val_dataset = load_from_disk(\"data/val_dataset\")\n",
    "train_dataset, val_dataset"
   ]
  }
 ],
 "metadata": {
  "kernelspec": {
   "display_name": "base",
   "language": "python",
   "name": "python3"
  },
  "language_info": {
   "codemirror_mode": {
    "name": "ipython",
    "version": 3
   },
   "file_extension": ".py",
   "mimetype": "text/x-python",
   "name": "python",
   "nbconvert_exporter": "python",
   "pygments_lexer": "ipython3",
   "version": "3.10.9"
  }
 },
 "nbformat": 4,
 "nbformat_minor": 5
}
