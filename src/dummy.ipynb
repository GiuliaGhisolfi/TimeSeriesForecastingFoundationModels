{
 "cells": [
  {
   "cell_type": "code",
   "execution_count": 1,
   "id": "a2171ca9",
   "metadata": {},
   "outputs": [
    {
     "name": "stdout",
     "output_type": "stream",
     "text": [
      "\n",
      "Loading group: autogluon/chronos_datasets\n",
      "\n",
      "Loading group: ett\n",
      "Loading m1...\n",
      "Loading m2...\n",
      "Loading h1...\n",
      "Loading h2...\n",
      "\n",
      "Loading group: Salesforce/lotsa_data\n",
      "Loading LOS_LOOP...\n"
     ]
    },
    {
     "data": {
      "application/vnd.jupyter.widget-view+json": {
       "model_id": "3864abf3f9fb4c9e9674ac71f3a4147a",
       "version_major": 2,
       "version_minor": 0
      },
      "text/plain": [
       "Resolving data files:   0%|          | 0/6388 [00:00<?, ?it/s]"
      ]
     },
     "metadata": {},
     "output_type": "display_data"
    },
    {
     "data": {
      "application/vnd.jupyter.widget-view+json": {
       "model_id": "2cac61729f5e4144aef2d5b4f1d32e6c",
       "version_major": 2,
       "version_minor": 0
      },
      "text/plain": [
       "Casting the dataset:   0%|          | 0/20 [00:00<?, ? examples/s]"
      ]
     },
     "metadata": {},
     "output_type": "display_data"
    },
    {
     "data": {
      "application/vnd.jupyter.widget-view+json": {
       "model_id": "d9d24e84fa254ae08b804dcd965f1e7d",
       "version_major": 2,
       "version_minor": 0
      },
      "text/plain": [
       "Map:   0%|          | 0/20 [00:00<?, ? examples/s]"
      ]
     },
     "metadata": {},
     "output_type": "display_data"
    }
   ],
   "source": [
    "from src.utils.load_moirai_data import load_data\n",
    "\n",
    "ds = load_data()"
   ]
  },
  {
   "cell_type": "code",
   "execution_count": 2,
   "id": "0782df6d",
   "metadata": {},
   "outputs": [
    {
     "data": {
      "text/plain": [
       "Dataset({\n",
       "    features: ['item_id', 'start', 'freq', 'target', 'dataset'],\n",
       "    num_rows: 24\n",
       "})"
      ]
     },
     "execution_count": 2,
     "metadata": {},
     "output_type": "execute_result"
    }
   ],
   "source": [
    "ds"
   ]
  },
  {
   "cell_type": "code",
   "execution_count": 3,
   "id": "645fb781",
   "metadata": {},
   "outputs": [
    {
     "name": "stdout",
     "output_type": "stream",
     "text": [
      "\n",
      "Loading group: autogluon/chronos_datasets\n",
      "\n",
      "Loading group: ett\n",
      "Loading m1...\n",
      "Loading m2...\n",
      "Loading h1...\n",
      "Loading h2...\n",
      "\n",
      "Loading group: Salesforce/lotsa_data\n",
      "Loading LOS_LOOP...\n"
     ]
    },
    {
     "data": {
      "application/vnd.jupyter.widget-view+json": {
       "model_id": "f8d598e7161745b1b611f92889472366",
       "version_major": 2,
       "version_minor": 0
      },
      "text/plain": [
       "Resolving data files:   0%|          | 0/6388 [00:00<?, ?it/s]"
      ]
     },
     "metadata": {},
     "output_type": "display_data"
    },
    {
     "data": {
      "application/vnd.jupyter.widget-view+json": {
       "model_id": "4ce165d62131446da394cc32743bb72d",
       "version_major": 2,
       "version_minor": 0
      },
      "text/plain": [
       "Saving the dataset (0/1 shards):   0%|          | 0/20 [00:00<?, ? examples/s]"
      ]
     },
     "metadata": {},
     "output_type": "display_data"
    },
    {
     "data": {
      "application/vnd.jupyter.widget-view+json": {
       "model_id": "00cf3e91ee06466c885c20760a517f1f",
       "version_major": 2,
       "version_minor": 0
      },
      "text/plain": [
       "Saving the dataset (0/1 shards):   0%|          | 0/4 [00:00<?, ? examples/s]"
      ]
     },
     "metadata": {},
     "output_type": "display_data"
    },
    {
     "name": "stdout",
     "output_type": "stream",
     "text": [
      "Train dataset saved to data/moirai/train_dataset\n",
      "Validation dataset saved to data/moirai/val_dataset\n"
     ]
    }
   ],
   "source": [
    "# save_datasets.py\n",
    "from src.utils.moirai_utils import save_train_and_val_datasets\n",
    "\n",
    "save_train_and_val_datasets(yaml_path=\"data/datasets.yaml\", stratify_col=\"dataset\", test_size=0.2)"
   ]
  },
  {
   "cell_type": "code",
   "execution_count": null,
   "id": "7c7b22e8",
   "metadata": {},
   "outputs": [
    {
     "data": {
      "text/plain": [
       "(Dataset({\n",
       "     features: ['item_id', 'start', 'freq', 'target', 'dataset'],\n",
       "     num_rows: 20\n",
       " }),\n",
       " Dataset({\n",
       "     features: ['item_id', 'start', 'freq', 'target', 'dataset'],\n",
       "     num_rows: 4\n",
       " }))"
      ]
     },
     "execution_count": 5,
     "metadata": {},
     "output_type": "execute_result"
    }
   ],
   "source": [
    "from datasets import load_from_disk\n",
    "\n",
    "train_dataset = load_from_disk(\"data/moirai/train_dataset\")\n",
    "val_dataset = load_from_disk(\"data/moirai/val_dataset\")\n",
    "\n",
    "train_dataset, val_dataset"
   ]
  },
  {
   "cell_type": "code",
   "execution_count": null,
   "id": "ea0b9fc5",
   "metadata": {},
   "outputs": [],
   "source": [
    "from torch.utils.data import DataLoader\n",
    "\n",
    "train_dataloader = DataLoader(train_dataset, batch_size=32, shuffle=True)\n",
    "val_dataloader = DataLoader(val_dataset, batch_size=32, shuffle=False)"
   ]
  },
  {
   "cell_type": "code",
   "execution_count": 7,
   "id": "9cf76f31",
   "metadata": {},
   "outputs": [
    {
     "data": {
      "text/plain": [
       "(<torch.utils.data.dataloader.DataLoader at 0x26ca8357e50>,\n",
       " <torch.utils.data.dataloader.DataLoader at 0x26ca8fdab60>)"
      ]
     },
     "execution_count": 7,
     "metadata": {},
     "output_type": "execute_result"
    }
   ],
   "source": [
    "val_dataloader, train_dataloader"
   ]
  }
 ],
 "metadata": {
  "kernelspec": {
   "display_name": "base",
   "language": "python",
   "name": "python3"
  },
  "language_info": {
   "codemirror_mode": {
    "name": "ipython",
    "version": 3
   },
   "file_extension": ".py",
   "mimetype": "text/x-python",
   "name": "python",
   "nbconvert_exporter": "python",
   "pygments_lexer": "ipython3",
   "version": "3.10.9"
  }
 },
 "nbformat": 4,
 "nbformat_minor": 5
}
