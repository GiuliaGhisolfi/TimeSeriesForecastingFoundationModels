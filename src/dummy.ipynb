{
 "cells": [
  {
   "cell_type": "code",
   "execution_count": 1,
   "id": "0eab12c9",
   "metadata": {},
   "outputs": [],
   "source": [
    "import pickle\n",
    "import pandas as pd"
   ]
  },
  {
   "cell_type": "code",
   "execution_count": 2,
   "id": "520fd3d0",
   "metadata": {},
   "outputs": [
    {
     "name": "stderr",
     "output_type": "stream",
     "text": [
      "/home/valerio/miniconda3/envs/moirai/lib/python3.9/site-packages/tqdm/auto.py:21: TqdmWarning: IProgress not found. Please update jupyter and ipywidgets. See https://ipywidgets.readthedocs.io/en/stable/user_install.html\n",
      "  from .autonotebook import tqdm as notebook_tqdm\n"
     ]
    }
   ],
   "source": [
    "with open(\"/raid/decaro/TimeSeriesForecastingFoundationModels/data/train_dataset.pkl\", \"rb\") as f:\n",
    "    train_dataset = pickle.load(f)\n",
    "    \n",
    "with open(\"/raid/decaro/TimeSeriesForecastingFoundationModels/data/val_dataset.pkl\", \"rb\") as f:\n",
    "    val_dataset = pickle.load(f)"
   ]
  },
  {
   "cell_type": "code",
   "execution_count": null,
   "id": "548074d2",
   "metadata": {},
   "outputs": [
    {
     "data": {
      "text/plain": [
       "(790249, 197535)"
      ]
     },
     "execution_count": 13,
     "metadata": {},
     "output_type": "execute_result"
    }
   ],
   "source": [
    "len(train_dataset), len(val_dataset)"
   ]
  },
  {
   "cell_type": "code",
   "execution_count": 23,
   "id": "758736bb",
   "metadata": {},
   "outputs": [],
   "source": [
    "train_freqs = [train_dataset._get_data(idx)[\"freq\"] for idx in range(len(train_dataset))]\n",
    "val_freqs = [val_dataset._get_data(idx)[\"freq\"] for idx in range(len(val_dataset))]"
   ]
  },
  {
   "cell_type": "code",
   "execution_count": 26,
   "id": "ec0c882a",
   "metadata": {},
   "outputs": [
    {
     "name": "stdout",
     "output_type": "stream",
     "text": [
      "{'M', 'A-DEC', 'W-SUN', '30T', 'D', 'H', 'W', 'Q-DEC', '15T', 'T', '5T'}\n"
     ]
    }
   ],
   "source": [
    "print(set(train_freqs+val_freqs))"
   ]
  },
  {
   "cell_type": "code",
   "execution_count": 27,
   "id": "482d6f22",
   "metadata": {},
   "outputs": [
    {
     "name": "stdout",
     "output_type": "stream",
     "text": [
      "{'M', 'A-DEC', 'W-SUN', '30T', 'D', 'H', 'W', 'Q-DEC', '15T', 'T', '5T'}\n"
     ]
    }
   ],
   "source": [
    "print(set(train_freqs))"
   ]
  },
  {
   "cell_type": "code",
   "execution_count": 28,
   "id": "796f1a44",
   "metadata": {},
   "outputs": [
    {
     "name": "stdout",
     "output_type": "stream",
     "text": [
      "{'M', 'A-DEC', 'W-SUN', '30T', 'D', 'H', 'W', 'Q-DEC', '15T', 'T', '5T'}\n"
     ]
    }
   ],
   "source": [
    "print(set(val_freqs))"
   ]
  }
 ],
 "metadata": {
  "kernelspec": {
   "display_name": "moirai",
   "language": "python",
   "name": "python3"
  },
  "language_info": {
   "codemirror_mode": {
    "name": "ipython",
    "version": 3
   },
   "file_extension": ".py",
   "mimetype": "text/x-python",
   "name": "python",
   "nbconvert_exporter": "python",
   "pygments_lexer": "ipython3",
   "version": "3.9.23"
  }
 },
 "nbformat": 4,
 "nbformat_minor": 5
}
