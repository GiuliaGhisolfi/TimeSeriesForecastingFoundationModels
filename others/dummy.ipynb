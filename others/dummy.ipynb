{
 "cells": [
  {
   "cell_type": "code",
   "execution_count": 1,
   "id": "0eab12c9",
   "metadata": {},
   "outputs": [],
   "source": [
    "import pickle\n",
    "import pandas as pd"
   ]
  },
  {
   "cell_type": "code",
   "execution_count": 2,
   "id": "520fd3d0",
   "metadata": {},
   "outputs": [
    {
     "name": "stderr",
     "output_type": "stream",
     "text": [
      "/home/valerio/miniconda3/envs/moirai/lib/python3.9/site-packages/tqdm/auto.py:21: TqdmWarning: IProgress not found. Please update jupyter and ipywidgets. See https://ipywidgets.readthedocs.io/en/stable/user_install.html\n",
      "  from .autonotebook import tqdm as notebook_tqdm\n"
     ]
    }
   ],
   "source": [
    "with open(\"/raid/decaro/TimeSeriesForecastingFoundationModels/data/train_dataset.pkl\", \"rb\") as f:\n",
    "    train_dataset = pickle.load(f)\n",
    "    \n",
    "with open(\"/raid/decaro/TimeSeriesForecastingFoundationModels/data/val_dataset.pkl\", \"rb\") as f:\n",
    "    val_dataset = pickle.load(f)"
   ]
  },
  {
   "cell_type": "code",
   "execution_count": 3,
   "id": "548074d2",
   "metadata": {},
   "outputs": [
    {
     "data": {
      "text/plain": [
       "(1841795, 460423)"
      ]
     },
     "execution_count": 3,
     "metadata": {},
     "output_type": "execute_result"
    }
   ],
   "source": [
    "len(train_dataset), len(val_dataset)"
   ]
  },
  {
   "cell_type": "code",
   "execution_count": 4,
   "id": "758736bb",
   "metadata": {},
   "outputs": [],
   "source": [
    "train_freqs = [train_dataset._get_data(idx)[\"freq\"] for idx in range(len(train_dataset))]\n",
    "val_freqs = [val_dataset._get_data(idx)[\"freq\"] for idx in range(len(val_dataset))]"
   ]
  },
  {
   "cell_type": "code",
   "execution_count": 5,
   "id": "ec0c882a",
   "metadata": {},
   "outputs": [
    {
     "name": "stdout",
     "output_type": "stream",
     "text": [
      "{'1H', '5T', 'H', 'D', '15T', 'T', '10T', 'Q-DEC', 'W', 'W-SUN', 'M', '30T'}\n"
     ]
    }
   ],
   "source": [
    "print(set(train_freqs+val_freqs))"
   ]
  },
  {
   "cell_type": "code",
   "execution_count": 6,
   "id": "482d6f22",
   "metadata": {},
   "outputs": [
    {
     "name": "stdout",
     "output_type": "stream",
     "text": [
      "{'1H', '5T', 'H', 'D', '15T', 'T', '10T', 'Q-DEC', 'W', 'W-SUN', 'M', '30T'}\n"
     ]
    }
   ],
   "source": [
    "print(set(train_freqs))"
   ]
  },
  {
   "cell_type": "code",
   "execution_count": 7,
   "id": "796f1a44",
   "metadata": {},
   "outputs": [
    {
     "name": "stdout",
     "output_type": "stream",
     "text": [
      "{'1H', '5T', 'H', 'D', '15T', '10T', 'T', 'W', 'W-SUN', 'M', '30T'}\n"
     ]
    }
   ],
   "source": [
    "print(set(val_freqs))"
   ]
  },
  {
   "cell_type": "code",
   "execution_count": 8,
   "id": "954b74b7",
   "metadata": {},
   "outputs": [
    {
     "data": {
      "text/plain": [
       "<uni2ts.data.dataset.TimeSeriesDataset at 0x7f230026e520>"
      ]
     },
     "execution_count": 8,
     "metadata": {},
     "output_type": "execute_result"
    }
   ],
   "source": [
    "train_dataset"
   ]
  },
  {
   "cell_type": "markdown",
   "id": "eefc16c3",
   "metadata": {},
   "source": [
    "Data"
   ]
  },
  {
   "cell_type": "code",
   "execution_count": 9,
   "id": "0f236ff3",
   "metadata": {},
   "outputs": [],
   "source": [
    "import pandas as pd\n",
    "from datasets import Dataset, concatenate_datasets, load_from_disk"
   ]
  },
  {
   "cell_type": "code",
   "execution_count": 10,
   "id": "d8274847",
   "metadata": {},
   "outputs": [],
   "source": [
    "DATA_PATH = \"/raid/decaro/TimeSeriesForecastingFoundationModels/data/\"\n",
    "train_idx, val_idx = 55, 53\n",
    "\n",
    "train_datasets = [load_from_disk(f\"{DATA_PATH}moirai_tmp/train/chunk_{i}\") for i in range(train_idx + 1)]\n",
    "val_datasets = [load_from_disk(f\"{DATA_PATH}moirai_tmp/val/chunk_{i}\") for i in range(val_idx + 1)]\n",
    "\n",
    "train_dataset = concatenate_datasets(train_datasets)\n",
    "val_dataset = concatenate_datasets(val_datasets)"
   ]
  },
  {
   "cell_type": "code",
   "execution_count": 11,
   "id": "90518610",
   "metadata": {},
   "outputs": [
    {
     "data": {
      "text/plain": [
       "Dataset({\n",
       "    features: ['target', 'item_id', 'start', 'freq', 'dataset'],\n",
       "    num_rows: 1841795\n",
       "})"
      ]
     },
     "execution_count": 11,
     "metadata": {},
     "output_type": "execute_result"
    }
   ],
   "source": [
    "train_dataset"
   ]
  },
  {
   "cell_type": "code",
   "execution_count": 7,
   "id": "b3308cab",
   "metadata": {},
   "outputs": [],
   "source": [
    "import os\n",
    "from datasets import load_from_disk, Dataset\n",
    "\n",
    "DATA_PATH = \"/raid/decaro/TimeSeriesForecastingFoundationModels/data/\" # \"data/\"\n",
    "\n",
    "def load_dataset_from_disk(dataset_name, path=f\"{DATA_PATH}splitted_moirai_dataset\"):\n",
    "    save_path = f\"{path}/{dataset_name.replace('/', '_')}\"\n",
    "    \n",
    "    if os.path.exists(save_path):\n",
    "        return Dataset.load_from_disk(save_path)\n",
    "    else:\n",
    "        raise FileNotFoundError(f\"Dataset {dataset_name} not found in {save_path}\")"
   ]
  },
  {
   "cell_type": "code",
   "execution_count": 8,
   "id": "194f0921",
   "metadata": {},
   "outputs": [
    {
     "data": {
      "text/plain": [
       "Dataset({\n",
       "    features: ['item_id', 'target', 'freq', 'start', 'dataset'],\n",
       "    num_rows: 370\n",
       "})"
      ]
     },
     "execution_count": 8,
     "metadata": {},
     "output_type": "execute_result"
    }
   ],
   "source": [
    "ds = load_dataset_from_disk(dataset_name=\"autogluon_chronos_datasets_electricity_15min\")\n",
    "ds"
   ]
  }
 ],
 "metadata": {
  "kernelspec": {
   "display_name": "moirai",
   "language": "python",
   "name": "python3"
  },
  "language_info": {
   "codemirror_mode": {
    "name": "ipython",
    "version": 3
   },
   "file_extension": ".py",
   "mimetype": "text/x-python",
   "name": "python",
   "nbconvert_exporter": "python",
   "pygments_lexer": "ipython3",
   "version": "3.9.23"
  }
 },
 "nbformat": 4,
 "nbformat_minor": 5
}
