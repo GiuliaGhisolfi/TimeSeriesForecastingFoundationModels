{
 "cells": [
  {
   "cell_type": "code",
   "execution_count": 1,
   "id": "a22d02b3",
   "metadata": {
    "execution": {
     "iopub.execute_input": "2025-07-30T20:37:08.160883Z",
     "iopub.status.busy": "2025-07-30T20:37:08.160681Z",
     "iopub.status.idle": "2025-07-30T20:37:08.168971Z",
     "shell.execute_reply": "2025-07-30T20:37:08.168438Z"
    },
    "papermill": {
     "duration": 0.011766,
     "end_time": "2025-07-30T20:37:08.169774",
     "exception": false,
     "start_time": "2025-07-30T20:37:08.158008",
     "status": "completed"
    },
    "tags": []
   },
   "outputs": [],
   "source": [
    "import os\n",
    "\n",
    "os.environ[\"HF_DATASETS_CACHE\"] = \"/raid/decaro\"\n",
    "os.environ[\"HF_HOME\"] = \"/raid/decaro\"\n",
    "os.environ[\"TRANSFORMERS_CACHE\"] = \"/raid/decaro\"\n",
    "os.environ[\"HUGGINGFACE_HUB_CACHE\"] = \"/raid/decaro\"\n"
   ]
  },
  {
   "cell_type": "code",
   "execution_count": 2,
   "id": "427904ee",
   "metadata": {
    "execution": {
     "iopub.execute_input": "2025-07-30T20:37:08.172586Z",
     "iopub.status.busy": "2025-07-30T20:37:08.172435Z",
     "iopub.status.idle": "2025-07-30T20:37:09.547220Z",
     "shell.execute_reply": "2025-07-30T20:37:09.545884Z"
    },
    "papermill": {
     "duration": 1.377385,
     "end_time": "2025-07-30T20:37:09.548497",
     "exception": false,
     "start_time": "2025-07-30T20:37:08.171112",
     "status": "completed"
    },
    "tags": []
   },
   "outputs": [
    {
     "name": "stderr",
     "output_type": "stream",
     "text": [
      "/home/valerio/miniconda3/envs/moirai/lib/python3.9/site-packages/tqdm/auto.py:21: TqdmWarning: IProgress not found. Please update jupyter and ipywidgets. See https://ipywidgets.readthedocs.io/en/stable/user_install.html\n",
      "  from .autonotebook import tqdm as notebook_tqdm\n"
     ]
    }
   ],
   "source": [
    "from src.utils.full_dataset_loader import load_data"
   ]
  },
  {
   "cell_type": "code",
   "execution_count": 3,
   "id": "7290c33b",
   "metadata": {
    "execution": {
     "iopub.execute_input": "2025-07-30T20:37:09.553457Z",
     "iopub.status.busy": "2025-07-30T20:37:09.551556Z",
     "iopub.status.idle": "2025-07-30T20:37:09.557244Z",
     "shell.execute_reply": "2025-07-30T20:37:09.556715Z"
    },
    "papermill": {
     "duration": 0.008305,
     "end_time": "2025-07-30T20:37:09.558049",
     "exception": false,
     "start_time": "2025-07-30T20:37:09.549744",
     "status": "completed"
    },
    "tags": []
   },
   "outputs": [],
   "source": [
    "def save_train_and_val_datasets(yaml_path, dataset_path):\n",
    "    partial_ds_path = \"/raid/decaro/TimeSeriesForecastingFoundationModels/data/splitted_full_dataset\"\n",
    "    full_dataset = load_data(yaml_path=yaml_path, path=partial_ds_path)\n",
    "\n",
    "    # Save datasets to disk\n",
    "    os.makedirs(\"data\", exist_ok=True)\n",
    "    full_dataset.save_to_disk(dataset_path)\n",
    "\n",
    "    print(f\"Dataset saved to {dataset_path}\")"
   ]
  },
  {
   "cell_type": "code",
   "execution_count": 4,
   "id": "7ed5f8e4",
   "metadata": {
    "execution": {
     "iopub.execute_input": "2025-07-30T20:37:09.560535Z",
     "iopub.status.busy": "2025-07-30T20:37:09.560382Z"
    },
    "papermill": {
     "duration": 31662.619677,
     "end_time": "2025-07-31T05:24:52.178677",
     "exception": false,
     "start_time": "2025-07-30T20:37:09.559000",
     "status": "completed"
    },
    "tags": []
   },
   "outputs": [
    {
     "name": "stdout",
     "output_type": "stream",
     "text": [
      "\n",
      "Loading group: autogluon/chronos_datasets\n",
      "Loading training_corpus_tsmixup_10m...\n"
     ]
    }
   ],
   "source": [
    "save_train_and_val_datasets(\n",
    "    yaml_path=\"/raid/decaro/TimeSeriesForecastingFoundationModels/data/datasets_final.yaml\",\n",
    "    dataset_path=\"/raid/decaro/TimeSeriesForecastingFoundationModels/data/full_dataset\"\n",
    "    )"
   ]
  }
 ],
 "metadata": {
  "kernelspec": {
   "display_name": "moirai",
   "language": "python",
   "name": "python3"
  },
  "language_info": {
   "codemirror_mode": {
    "name": "ipython",
    "version": 3
   },
   "file_extension": ".py",
   "mimetype": "text/x-python",
   "name": "python",
   "nbconvert_exporter": "python",
   "pygments_lexer": "ipython3",
   "version": "3.9.23"
  },
  "papermill": {
   "default_parameters": {},
   "duration": 31666.018655,
   "end_time": "2025-07-31T05:24:53.141723",
   "environment_variables": {},
   "exception": null,
   "input_path": "load_full_dataset.ipynb",
   "output_path": "load_full_dataset.ipynb",
   "parameters": {},
   "start_time": "2025-07-30T20:37:07.123068",
   "version": "2.6.0"
  }
 },
 "nbformat": 4,
 "nbformat_minor": 5
}