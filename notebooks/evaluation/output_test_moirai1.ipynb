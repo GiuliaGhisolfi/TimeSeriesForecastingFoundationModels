{
 "cells": [
  {
   "cell_type": "code",
   "execution_count": null,
   "id": "f5659025",
   "metadata": {
    "execution": {
     "iopub.execute_input": "2025-07-25T11:04:25.334064Z",
     "iopub.status.busy": "2025-07-25T11:04:25.333302Z",
     "iopub.status.idle": "2025-07-25T11:04:25.350262Z",
     "shell.execute_reply": "2025-07-25T11:04:25.349577Z"
    },
    "papermill": {
     "duration": 0.027622,
     "end_time": "2025-07-25T11:04:25.351471",
     "exception": false,
     "start_time": "2025-07-25T11:04:25.323849",
     "status": "completed"
    },
    "tags": []
   },
   "outputs": [],
   "source": [
    "import os\n",
    "from src.evaluation.save_results import create_output_file, save_results\n",
    "\n",
    "output_file_name = \"moirai_small_test_results1.csv\"\n",
    "\n",
    "output_dir=\"results/test\"\n",
    "csv_file_path = os.path.join(output_dir, output_file_name)\n",
    "\n",
    "create_output_file(output_file_name, output_dir)\n"
   ]
  },
  {
   "cell_type": "code",
   "execution_count": null,
   "id": "d5edc711",
   "metadata": {
    "execution": {
     "iopub.execute_input": "2025-07-25T11:04:25.361465Z",
     "iopub.status.busy": "2025-07-25T11:04:25.360786Z",
     "iopub.status.idle": "2025-07-25T11:04:27.470573Z",
     "shell.execute_reply": "2025-07-25T11:04:27.469892Z"
    },
    "papermill": {
     "duration": 2.1157,
     "end_time": "2025-07-25T11:04:27.472366",
     "exception": false,
     "start_time": "2025-07-25T11:04:25.356666",
     "status": "completed"
    },
    "tags": []
   },
   "outputs": [],
   "source": [
    "import torch\n",
    "print(f\"Using device: {torch.cuda.get_device_name(0) if torch.cuda.is_available() else 'CPU'}\")"
   ]
  },
  {
   "cell_type": "code",
   "execution_count": null,
   "id": "d5ffa6c3",
   "metadata": {
    "execution": {
     "iopub.execute_input": "2025-07-25T11:04:27.479436Z",
     "iopub.status.busy": "2025-07-25T11:04:27.478905Z",
     "iopub.status.idle": "2025-07-25T11:04:28.025807Z",
     "shell.execute_reply": "2025-07-25T11:04:28.013188Z"
    },
    "papermill": {
     "duration": 0.552905,
     "end_time": "2025-07-25T11:04:28.028045",
     "exception": false,
     "start_time": "2025-07-25T11:04:27.475140",
     "status": "completed"
    },
    "tags": []
   },
   "outputs": [],
   "source": [
    "from gluonts.model import evaluate_model\n",
    "from gluonts.time_feature import get_seasonality\n",
    "from src.evaluation.load_chronos_data import load_data"
   ]
  },
  {
   "cell_type": "code",
   "execution_count": null,
   "id": "4429873e",
   "metadata": {
    "execution": {
     "iopub.execute_input": "2025-07-25T11:04:28.042800Z",
     "iopub.status.busy": "2025-07-25T11:04:28.036087Z",
     "iopub.status.idle": "2025-07-25T11:04:28.054549Z",
     "shell.execute_reply": "2025-07-25T11:04:28.053547Z"
    },
    "papermill": {
     "duration": 0.024015,
     "end_time": "2025-07-25T11:04:28.055720",
     "exception": false,
     "start_time": "2025-07-25T11:04:28.031705",
     "status": "completed"
    },
    "tags": []
   },
   "outputs": [],
   "source": [
    "from src.evaluation.metrics import get_metrics\n",
    "\n",
    "# Instantiate the metrics\n",
    "metrics = get_metrics()"
   ]
  },
  {
   "cell_type": "markdown",
   "id": "340f5d5e",
   "metadata": {
    "papermill": {
     "duration": 0.00266,
     "end_time": "2025-07-25T11:04:28.060843",
     "exception": false,
     "start_time": "2025-07-25T11:04:28.058183",
     "status": "completed"
    },
    "tags": []
   },
   "source": [
    "### Data"
   ]
  },
  {
   "cell_type": "code",
   "execution_count": null,
   "id": "a9ab7e45",
   "metadata": {
    "execution": {
     "iopub.execute_input": "2025-07-25T11:04:28.069536Z",
     "iopub.status.busy": "2025-07-25T11:04:28.066924Z",
     "iopub.status.idle": "2025-07-25T11:04:28.078518Z",
     "shell.execute_reply": "2025-07-25T11:04:28.077542Z"
    },
    "papermill": {
     "duration": 0.021949,
     "end_time": "2025-07-25T11:04:28.085011",
     "exception": false,
     "start_time": "2025-07-25T11:04:28.063062",
     "status": "completed"
    },
    "tags": []
   },
   "outputs": [],
   "source": [
    "import json\n",
    "from dotenv import load_dotenv\n",
    "\n",
    "# Load environment variables\n",
    "load_dotenv()\n",
    "\n",
    "short_datasets = \"solar/10T solar/H solar/D solar/W jena_weather/10T jena_weather/H jena_weather/D \" \\\n",
    "\"bitbrains_fast_storage/5T bitbrains_fast_storage/H bitbrains_rnd/5T bitbrains_rnd/H bizitobs_application \" \\\n",
    "\"bizitobs_service bizitobs_l2c/5T bizitobs_l2c/H\"\n",
    "\n",
    "med_long_datasets = \"solar/10T solar/H jena_weather/10T jena_weather/H \" \\\n",
    "\"bitbrains_fast_storage/5T bitbrains_rnd/5T bizitobs_application bizitobs_service bizitobs_l2c/5T bizitobs_l2c/H\"\n",
    "\n",
    "# Get union of short and med_long datasets\n",
    "all_datasets = list(set(short_datasets.split() + med_long_datasets.split()))\n",
    "\n",
    "dataset_properties_map = json.load(open(\"./data/dataset_properties.json\"))"
   ]
  },
  {
   "cell_type": "code",
   "execution_count": null,
   "id": "ee355eee",
   "metadata": {
    "execution": {
     "iopub.execute_input": "2025-07-25T11:04:28.096631Z",
     "iopub.status.busy": "2025-07-25T11:04:28.096338Z",
     "iopub.status.idle": "2025-07-25T11:04:28.605228Z",
     "shell.execute_reply": "2025-07-25T11:04:28.604260Z"
    },
    "papermill": {
     "duration": 0.516139,
     "end_time": "2025-07-25T11:04:28.607663",
     "exception": false,
     "start_time": "2025-07-25T11:04:28.091524",
     "status": "completed"
    },
    "tags": []
   },
   "outputs": [],
   "source": [
    "from src.evaluation.load_data import load_gift_data\n",
    "\n",
    "#load_gift_data()"
   ]
  },
  {
   "cell_type": "code",
   "execution_count": null,
   "id": "93a2a11b",
   "metadata": {
    "execution": {
     "iopub.execute_input": "2025-07-25T11:04:28.619383Z",
     "iopub.status.busy": "2025-07-25T11:04:28.618341Z",
     "iopub.status.idle": "2025-07-25T11:04:28.624307Z",
     "shell.execute_reply": "2025-07-25T11:04:28.623028Z"
    },
    "papermill": {
     "duration": 0.012783,
     "end_time": "2025-07-25T11:04:28.625582",
     "exception": false,
     "start_time": "2025-07-25T11:04:28.612799",
     "status": "completed"
    },
    "tags": []
   },
   "outputs": [],
   "source": [
    "DATASET_NAME = [\n",
    "    'bizitobs_l2c/5T',\n",
    "    'bitbrains_fast_storage/5T',\n",
    "    'bitbrains_rnd/H',\n",
    "    'bizitobs_l2c/H',\n",
    "    'jena_weather/H',\n",
    "    'bizitobs_application',\n",
    "    'bizitobs_service',\n",
    "    'bitbrains_fast_storage/H',\n",
    "    'solar/D',\n",
    "    'jena_weather/10T',\n",
    "    'solar/W',\n",
    "    'jena_weather/D',\n",
    "    'bitbrains_rnd/5T',\n",
    "    'solar/10T',\n",
    "    'solar/H',\n",
    "]"
   ]
  },
  {
   "cell_type": "code",
   "execution_count": null,
   "id": "f29123ec",
   "metadata": {
    "execution": {
     "iopub.execute_input": "2025-07-25T11:04:28.632356Z",
     "iopub.status.busy": "2025-07-25T11:04:28.631970Z",
     "iopub.status.idle": "2025-07-25T11:04:28.635452Z",
     "shell.execute_reply": "2025-07-25T11:04:28.634766Z"
    },
    "papermill": {
     "duration": 0.008138,
     "end_time": "2025-07-25T11:04:28.636759",
     "exception": false,
     "start_time": "2025-07-25T11:04:28.628621",
     "status": "completed"
    },
    "tags": []
   },
   "outputs": [],
   "source": [
    "CHRONOS_DATASET_NAME = [\n",
    "    #\"exchange_rate\", \n",
    "    \"ercot\", \"dominick\"\n",
    "    ]"
   ]
  },
  {
   "cell_type": "markdown",
   "id": "0b296a39",
   "metadata": {
    "papermill": {
     "duration": 0.00226,
     "end_time": "2025-07-25T11:04:28.642297",
     "exception": false,
     "start_time": "2025-07-25T11:04:28.640037",
     "status": "completed"
    },
    "tags": []
   },
   "source": [
    "### Evaluation"
   ]
  },
  {
   "cell_type": "code",
   "execution_count": null,
   "id": "3271f917",
   "metadata": {
    "execution": {
     "iopub.execute_input": "2025-07-25T11:04:28.647700Z",
     "iopub.status.busy": "2025-07-25T11:04:28.647335Z",
     "iopub.status.idle": "2025-07-25T11:04:28.651139Z",
     "shell.execute_reply": "2025-07-25T11:04:28.650621Z"
    },
    "papermill": {
     "duration": 0.008258,
     "end_time": "2025-07-25T11:04:28.652827",
     "exception": false,
     "start_time": "2025-07-25T11:04:28.644569",
     "status": "completed"
    },
    "tags": []
   },
   "outputs": [],
   "source": [
    "MODEL_PATH = \"/raid/decaro/TimeSeriesForecastingFoundationModels/moirai_checkpoints/\"\n",
    "MODEL_NAME = \"moirai_small\"\n",
    "MODULE = \"Salesforce/moirai-1.1-R-small\"\n",
    "\n",
    "CHECKPOINTS = [f\"moirai_small_epoch_epoch={i}.ckpt\" for i in range(1)]"
   ]
  },
  {
   "cell_type": "code",
   "execution_count": null,
   "id": "746a02e8",
   "metadata": {
    "execution": {
     "iopub.execute_input": "2025-07-25T11:04:28.666108Z",
     "iopub.status.busy": "2025-07-25T11:04:28.665470Z",
     "iopub.status.idle": "2025-07-25T11:04:28.668868Z",
     "shell.execute_reply": "2025-07-25T11:04:28.668338Z"
    },
    "papermill": {
     "duration": 0.009417,
     "end_time": "2025-07-25T11:04:28.670151",
     "exception": false,
     "start_time": "2025-07-25T11:04:28.660734",
     "status": "completed"
    },
    "tags": []
   },
   "outputs": [],
   "source": [
    "import sys\n",
    "sys.path.insert(0, \"src\")"
   ]
  },
  {
   "cell_type": "code",
   "execution_count": null,
   "id": "1d96ae20",
   "metadata": {
    "execution": {
     "iopub.execute_input": "2025-07-25T11:04:28.679416Z",
     "iopub.status.busy": "2025-07-25T11:04:28.679041Z",
     "iopub.status.idle": "2025-07-25T11:04:48.356376Z",
     "shell.execute_reply": "2025-07-25T11:04:48.353915Z"
    },
    "papermill": {
     "duration": 19.693017,
     "end_time": "2025-07-25T11:04:48.367432",
     "exception": true,
     "start_time": "2025-07-25T11:04:28.674415",
     "status": "failed"
    },
    "tags": []
   },
   "outputs": [],
   "source": [
    "from src.evaluation.moirai_predictor import load_predictor\n",
    "from src.gift_eval.data import Dataset\n",
    "\n",
    "for train_step, model_name in enumerate(CHECKPOINTS):    \n",
    "    for ds_name in CHRONOS_DATASET_NAME:\n",
    "        print(f\"Processing dataset: {ds_name}\")\n",
    "\n",
    "        terms = [\"short\", \"medium\", \"long\"]\n",
    "        if ds_name == \"ercot\":\n",
    "            terms = [\"medium\", \"long\"]\n",
    "\n",
    "        for term in terms:\n",
    "            ds_config = f\"{ds_name}/{term}\"\n",
    "\n",
    "            dataset, prediction_length, frequency, domain, num_variates = load_data(ds_name, term)\n",
    "            season_length = get_seasonality(frequency)\n",
    "\n",
    "            predictor = load_predictor(\n",
    "                checkpoint=MODEL_PATH+model_name, \n",
    "                module=MODULE,\n",
    "                prediction_length=prediction_length, \n",
    "                target_dim=num_variates,\n",
    "                device_map=\"cuda\"\n",
    "                )\n",
    "\n",
    "            res = evaluate_model(\n",
    "                predictor,\n",
    "                test_data=dataset,\n",
    "                metrics=metrics,\n",
    "                batch_size=1,\n",
    "                axis=None,\n",
    "                mask_invalid_label=True,\n",
    "                allow_nan_forecast=False,\n",
    "                seasonality=season_length,\n",
    "            )\n",
    "\n",
    "            # Append the results to the CSV file\n",
    "            save_results(res, ds_config, MODEL_NAME, train_step, domain, num_variates, ds_name, csv_file_path)\n",
    "\n",
    "    for ds_name in DATASET_NAME:\n",
    "        ds_key = ds_name.split(\"/\")[0]\n",
    "        print(f\"Processing dataset: {ds_name}\")\n",
    "        terms = [\"short\", \"medium\", \"long\"]\n",
    "        for term in terms:\n",
    "            if (\n",
    "                term == \"medium\" or term == \"long\"\n",
    "            ) and ds_name not in med_long_datasets.split():\n",
    "                continue\n",
    "\n",
    "            if \"/\" in ds_name:\n",
    "                ds_key = ds_name.split(\"/\")[0]\n",
    "                ds_freq = ds_name.split(\"/\")[1]\n",
    "                ds_key = ds_key.lower()\n",
    "            else:\n",
    "                ds_key = ds_name.lower()\n",
    "                ds_freq = dataset_properties_map[ds_key][\"frequency\"]\n",
    "            ds_config = f\"{ds_key}/{ds_freq}/{term}\"\n",
    "\n",
    "            # Initialize the dataset\n",
    "            to_univariate = False\n",
    "            \"\"\"(\n",
    "                False\n",
    "                if Dataset(name=ds_name, term=term, to_univariate=False).target_dim == 1\n",
    "                else True\n",
    "            )\"\"\"\n",
    "            dataset = Dataset(name=ds_name, term=term, to_univariate=to_univariate)\n",
    "            season_length = get_seasonality(dataset.freq)\n",
    "\n",
    "            predictor = load_predictor(\n",
    "                checkpoint=MODEL_PATH+model_name, \n",
    "                module=MODULE,\n",
    "                prediction_length=dataset.prediction_length, \n",
    "                target_dim=dataset.target_dim,\n",
    "                device_map=\"cuda\"\n",
    "                )\n",
    "\n",
    "            # Measure the time taken for evaluation\n",
    "            res = evaluate_model(\n",
    "                predictor,\n",
    "                test_data=dataset.test_data,\n",
    "                metrics=metrics,\n",
    "                batch_size=1,\n",
    "                axis=None,\n",
    "                mask_invalid_label=True,\n",
    "                allow_nan_forecast=False,\n",
    "                seasonality=season_length,\n",
    "            )\n",
    "\n",
    "            domain = dataset_properties_map[ds_key][\"domain\"]\n",
    "            num_variates = dataset_properties_map[ds_key][\"num_variates\"]\n",
    "\n",
    "            # Append the results to the CSV file\n",
    "            save_results(res, ds_config, MODEL_NAME, train_step, domain, num_variates, ds_name, csv_file_path)\n"
   ]
  }
 ],
 "metadata": {
  "kernelspec": {
   "display_name": "moirai",
   "language": "python",
   "name": "python3"
  },
  "language_info": {
   "codemirror_mode": {
    "name": "ipython",
    "version": 3
   },
   "file_extension": ".py",
   "mimetype": "text/x-python",
   "name": "python",
   "nbconvert_exporter": "python",
   "pygments_lexer": "ipython3",
   "version": "3.9.23"
  },
  "papermill": {
   "default_parameters": {},
   "duration": 27.278376,
   "end_time": "2025-07-25T11:04:51.610753",
   "environment_variables": {},
   "exception": true,
   "input_path": "output_test_moirai.ipynb",
   "output_path": "output_test_moirai.ipynb",
   "parameters": {},
   "start_time": "2025-07-25T11:04:24.332377",
   "version": "2.6.0"
  }
 },
 "nbformat": 4,
 "nbformat_minor": 5
}
