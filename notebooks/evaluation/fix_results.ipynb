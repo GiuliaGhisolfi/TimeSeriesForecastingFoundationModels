{
 "cells": [
  {
   "cell_type": "code",
   "execution_count": 1,
   "id": "2dc71953",
   "metadata": {},
   "outputs": [],
   "source": [
    "import json\n",
    "import pandas as pd"
   ]
  },
  {
   "cell_type": "code",
   "execution_count": 2,
   "id": "9b4a3d8c",
   "metadata": {},
   "outputs": [],
   "source": [
    "dataset_properties_map = json.load(open(\"data/dataset_properties.json\"))"
   ]
  },
  {
   "cell_type": "code",
   "execution_count": 3,
   "id": "a02ff06c",
   "metadata": {},
   "outputs": [],
   "source": [
    "def get_info(ds_key):\n",
    "    domain = dataset_properties_map[ds_key][\"domain\"]\n",
    "    num_variates = dataset_properties_map[ds_key][\"num_variates\"]\n",
    "\n",
    "    return domain, num_variates\n",
    "\n",
    "def fix_df(row):\n",
    "    ds_config = row[\"dataset\"]\n",
    "    ds_key = ds_config.split(\"/\")[0]\n",
    "\n",
    "    if ds_key in [\"exchange_rate\", \"ercot\", \"dominick\"]:\n",
    "        return row\n",
    "    else:\n",
    "        domain, num_variates = get_info(ds_key)\n",
    "        row[\"domain\"] = domain\n",
    "        row[\"num_variates\"] = num_variates\n",
    "\n",
    "        return row"
   ]
  },
  {
   "cell_type": "code",
   "execution_count": 4,
   "id": "21288260",
   "metadata": {},
   "outputs": [],
   "source": [
    "paths_list = [\n",
    "    \"/home/valerio/TimeSeriesForecastingFoundationModels/results/test/chronos_bolt_base_test_results.csv\",\n",
    "    \"/home/valerio/TimeSeriesForecastingFoundationModels/results/test/chronos_bolt_mini_test_results.csv\",\n",
    "    \"/home/valerio/TimeSeriesForecastingFoundationModels/results/test/chronos_bolt_small_test_results.csv\",\n",
    "    \"/home/valerio/TimeSeriesForecastingFoundationModels/results/test/chronos_bolt_tiny_test_results.csv\",\n",
    "]\n",
    "\n",
    "\n",
    "for path in paths_list:\n",
    "    df = pd.read_csv(path)\n",
    "    df_fixed = df.apply(fix_df, axis=1)\n",
    "    df_fixed.to_csv(path)"
   ]
  }
 ],
 "metadata": {
  "kernelspec": {
   "display_name": "chronos2",
   "language": "python",
   "name": "python3"
  },
  "language_info": {
   "codemirror_mode": {
    "name": "ipython",
    "version": 3
   },
   "file_extension": ".py",
   "mimetype": "text/x-python",
   "name": "python",
   "nbconvert_exporter": "python",
   "pygments_lexer": "ipython3",
   "version": "3.9.23"
  }
 },
 "nbformat": 4,
 "nbformat_minor": 5
}
