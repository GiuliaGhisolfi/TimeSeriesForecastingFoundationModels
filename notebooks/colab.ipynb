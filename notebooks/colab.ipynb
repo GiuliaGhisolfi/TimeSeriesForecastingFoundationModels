{
 "cells": [
  {
   "cell_type": "code",
   "execution_count": null,
   "id": "f9360cee",
   "metadata": {},
   "outputs": [],
   "source": [
    "!pip install jaxtyping\n",
    "!pip install gluonts\n",
    "!pip install --upgrade datasets"
   ]
  },
  {
   "cell_type": "code",
   "execution_count": null,
   "id": "b8ad332c",
   "metadata": {},
   "outputs": [],
   "source": [
    "!git clone https://github.com/GiuliaGhisolfi/TimeSeriesForecastingFoundationModels.git\n",
    "%cd TimeSeriesForecastingFoundationModels"
   ]
  },
  {
   "cell_type": "code",
   "execution_count": null,
   "id": "7290c33b",
   "metadata": {},
   "outputs": [],
   "source": [
    "%cd src\n",
    "from moirai_utils.moirai_utils import save_train_and_val_datasets"
   ]
  },
  {
   "cell_type": "code",
   "execution_count": null,
   "id": "ecbc5ada",
   "metadata": {},
   "outputs": [],
   "source": [
    "%cd .."
   ]
  },
  {
   "cell_type": "code",
   "execution_count": null,
   "id": "aa664ed2",
   "metadata": {},
   "outputs": [],
   "source": [
    "import shutil\n",
    "shutil.rmtree('/root/.cache/huggingface/', ignore_errors=True)"
   ]
  },
  {
   "cell_type": "code",
   "execution_count": null,
   "id": "7ed5f8e4",
   "metadata": {},
   "outputs": [],
   "source": [
    "save_train_and_val_datasets(yaml_path=\"data/datasets.yaml\", dataset_path=\"data/moirai_dataset\")"
   ]
  },
  {
   "cell_type": "code",
   "execution_count": null,
   "id": "f9ebb6b5",
   "metadata": {},
   "outputs": [],
   "source": [
    "!zip -r splitted_moirai_dataset.zip data/splitted_moirai_dataset\n",
    "# !zip -r splitted_moirai_dataset.zip /content/TimeSeriesForecastingFoundationModels/data/splitted_moirai_dataset"
   ]
  }
 ],
 "metadata": {
  "language_info": {
   "name": "python"
  }
 },
 "nbformat": 4,
 "nbformat_minor": 5
}
