{
 "cells": [
  {
   "cell_type": "markdown",
   "id": "5a2dbdb6",
   "metadata": {},
   "source": [
    "### Train"
   ]
  },
  {
   "cell_type": "code",
   "execution_count": null,
   "id": "ad0ad172",
   "metadata": {},
   "outputs": [],
   "source": [
    "import json\n",
    "import matplotlib.pyplot as plt\n",
    "\n",
    "# Load training log JSON file\n",
    "training_log_path = \"/raid/decaro/TimeSeriesForecastingFoundationModels/chronos_output/chronos-bolt-base/run-0/training_log.json\"\n",
    "with open(training_log_path, \"r\") as f:\n",
    "    training_logs = json.load(f)"
   ]
  },
  {
   "cell_type": "code",
   "execution_count": null,
   "id": "b60adcd5",
   "metadata": {},
   "outputs": [],
   "source": [
    "summary = training_logs[-2]\n",
    "training_logs = training_logs[:-2]"
   ]
  },
  {
   "cell_type": "code",
   "execution_count": null,
   "id": "71a8bd47",
   "metadata": {},
   "outputs": [],
   "source": [
    "# Pretty-print training summary\n",
    "print(\"=== Final Training Summary ===\")\n",
    "print(f\"Total training time:           {summary['train_runtime']:.2f} seconds\")\n",
    "print(f\"Samples per second:            {summary['train_samples_per_second']:.2f}\")\n",
    "print(f\"Steps per second:              {summary['train_steps_per_second']:.3f}\")\n",
    "print(f\"Total FLOPs:                   {summary['total_flos']:.2e}\")\n",
    "print(f\"Final training loss:           {summary['train_loss']:.4f}\")\n",
    "\n",
    "# Find best model (based on minimum loss)\n",
    "best_entry = min(training_logs, key=lambda x: x[\"loss\"])\n",
    "best_epoch = best_entry[\"epoch\"]\n",
    "best_loss = best_entry[\"loss\"]\n",
    "\n",
    "print(\"=== Best Model During Training ===\")\n",
    "print(f\"Epoch:                         {best_epoch}\")\n",
    "print(f\"Step:                          {int(best_epoch*200_000)}\")\n",
    "print(f\"Loss:                          {best_loss:.4f}\")"
   ]
  },
  {
   "cell_type": "code",
   "execution_count": null,
   "id": "07359d17",
   "metadata": {},
   "outputs": [],
   "source": [
    "# Extract metrics from the log\n",
    "epochs = [entry[\"epoch\"] for entry in training_logs]\n",
    "steps = [entry[\"epoch\"]*200_000 for entry in training_logs]\n",
    "losses = [entry[\"loss\"] for entry in training_logs]\n",
    "grad_norms = [entry[\"grad_norm\"] for entry in training_logs]\n",
    "learning_rates = [entry[\"learning_rate\"] for entry in training_logs]"
   ]
  },
  {
   "cell_type": "code",
   "execution_count": null,
   "id": "f176bcc6",
   "metadata": {},
   "outputs": [],
   "source": [
    "# Plot: Loss vs. Epoch\n",
    "plt.figure(figsize=(10, 4))\n",
    "plt.plot(steps, losses, label=\"Loss\", color=\"tab:blue\")\n",
    "plt.xlabel(\"Train Step\")\n",
    "plt.ylabel(\"Loss\")\n",
    "plt.title(\"Training Loss\")\n",
    "plt.grid(True)\n",
    "plt.legend()\n",
    "plt.tight_layout()\n",
    "plt.show()"
   ]
  },
  {
   "cell_type": "code",
   "execution_count": null,
   "id": "bcfdd52e",
   "metadata": {},
   "outputs": [],
   "source": [
    "# Plot: Gradient Norm vs. Epoch\n",
    "plt.figure(figsize=(10, 4))\n",
    "plt.plot(steps, grad_norms, label=\"Gradient Norm\", color=\"tab:orange\")\n",
    "plt.xlabel(\"Train Step\")\n",
    "plt.ylabel(\"Gradient Norm\")\n",
    "plt.title(\"Gradient Norm\")\n",
    "plt.grid(True)\n",
    "plt.legend()\n",
    "plt.tight_layout()\n",
    "plt.show()"
   ]
  },
  {
   "cell_type": "code",
   "execution_count": null,
   "id": "2416301e",
   "metadata": {},
   "outputs": [],
   "source": [
    "# Plot: Learning Rate vs. Epoch\n",
    "plt.figure(figsize=(10, 4))\n",
    "plt.plot(steps, learning_rates, label=\"Learning Rate\", color=\"tab:green\")\n",
    "plt.xlabel(\"Train Step\")\n",
    "plt.ylabel(\"Learning Rate\")\n",
    "plt.title(\"Learning Rate Schedule\")\n",
    "plt.grid(True)\n",
    "plt.legend()\n",
    "plt.tight_layout()\n",
    "plt.show()"
   ]
  },
  {
   "cell_type": "markdown",
   "id": "6f597fe8",
   "metadata": {},
   "source": [
    "### Test"
   ]
  },
  {
   "cell_type": "code",
   "execution_count": null,
   "id": "b6900c09",
   "metadata": {},
   "outputs": [],
   "source": [
    "import pandas as pd\n",
    "\n",
    "result_path = \"results/test/chronos_bolt_base_test_results.csv\""
   ]
  },
  {
   "cell_type": "code",
   "execution_count": null,
   "id": "562f9676",
   "metadata": {},
   "outputs": [],
   "source": [
    "df = pd.read_csv(result_path)\n",
    "df = df[[\"dataset\", \"domain\", \"num_variates\", \"model\", \"train_step\",\n",
    "    \"eval_metrics/MASE[0.5]\", \"eval_metrics/mean_weighted_sum_quantile_loss\"]]\n",
    "df = df.rename(columns={\"eval_metrics/MASE[0.5]\": \"MASE\"})\n",
    "df = df.rename(columns={\"eval_metrics/mean_weighted_sum_quantile_loss\": \"Qloss\"})\n",
    "df = df.rename(columns={\"train_step\": \"train step\"})"
   ]
  },
  {
   "cell_type": "code",
   "execution_count": null,
   "id": "bc1d4df4",
   "metadata": {},
   "outputs": [],
   "source": [
    "df.head()"
   ]
  },
  {
   "cell_type": "code",
   "execution_count": null,
   "id": "d04a2ab7",
   "metadata": {},
   "outputs": [],
   "source": [
    "def parse_dataset_string(s):\n",
    "    parts = s.split('/')\n",
    "    if len(parts) == 2:\n",
    "        dataset = parts[0]\n",
    "        freq = None\n",
    "        term = parts[1]\n",
    "    elif len(parts) == 3:\n",
    "        dataset, freq, term = parts\n",
    "    else:\n",
    "        raise ValueError(f\"Unexpected dataset format: {s}\")\n",
    "    return pd.Series([dataset, freq, term])\n",
    "\n",
    "# Apply the parsing\n",
    "df[['dataset_name', 'freq', 'term']] = df['dataset'].apply(parse_dataset_string)\n",
    "\n",
    "# Manually fill missing frequencies\n",
    "freq_map = {\n",
    "    'exchange_rate': 'D',\n",
    "    'ercot': 'H',\n",
    "    'dominick': 'W'\n",
    "}\n",
    "\n",
    "df['freq'] = df.apply(lambda row: freq_map.get(row['dataset_name'], row['freq']), axis=1)\n",
    "df.drop(columns='dataset', inplace=True)\n",
    "\n",
    "df = df.rename(columns={\"dataset_name\": \"dataset\"})\n",
    "df = df[[\"dataset\", \"freq\", \"term\", \"domain\", \"num_variates\", \"model\", \"train step\",\n",
    "    \"MASE\", \"Qloss\"]]\n"
   ]
  },
  {
   "cell_type": "code",
   "execution_count": null,
   "id": "1e06eed8",
   "metadata": {},
   "outputs": [],
   "source": [
    "df.head()"
   ]
  },
  {
   "cell_type": "code",
   "execution_count": null,
   "id": "f02962a1",
   "metadata": {},
   "outputs": [],
   "source": [
    "grouped_domain = df.groupby(['train step', 'domain'], as_index=False).mean(numeric_only=True)\n",
    "grouped_domain = grouped_domain.sort_values(by=['train step', 'domain'])\n",
    "grouped_domain"
   ]
  },
  {
   "cell_type": "code",
   "execution_count": null,
   "id": "adedd66d",
   "metadata": {},
   "outputs": [],
   "source": [
    "grouped_freq = df.groupby(['train step', 'freq'], as_index=False).mean(numeric_only=True)\n",
    "grouped_freq = grouped_freq.sort_values(by=['train step', 'freq'])\n",
    "grouped_freq"
   ]
  },
  {
   "cell_type": "code",
   "execution_count": null,
   "id": "ac10c0a5",
   "metadata": {},
   "outputs": [],
   "source": [
    "grouped_term = df.groupby(['train step', 'term'], as_index=False).mean(numeric_only=True)\n",
    "grouped_term = grouped_term.sort_values(by=['train step', 'term'])\n",
    "grouped_term"
   ]
  },
  {
   "cell_type": "code",
   "execution_count": null,
   "id": "12c84031",
   "metadata": {},
   "outputs": [],
   "source": [
    "MODEL = \"chronos_bolt_base\"\n",
    "baseline_results = pd.read_csv(f\"results/baseline_test/{MODEL}_results.csv\")\n",
    "\n",
    "\n",
    "chronos_benchmark = pd.read_csv(\"results/baseline_test/chronos_benchmark_results.csv\")\n",
    "chronos_benchmark = chronos_benchmark[chronos_benchmark[\"model\"] == MODEL]\n",
    "\n",
    "baseline_results = pd.concat([baseline_results, chronos_benchmark])"
   ]
  },
  {
   "cell_type": "code",
   "execution_count": null,
   "id": "7acae0f9",
   "metadata": {},
   "outputs": [],
   "source": [
    "baseline_results = baseline_results[[\"dataset\", \"domain\", \"num_variates\", \"model\",\n",
    "    \"eval_metrics/MASE[0.5]\", \"eval_metrics/mean_weighted_sum_quantile_loss\"]]\n",
    "baseline_results = baseline_results.rename(columns={\"eval_metrics/MASE[0.5]\": \"MASE\"})\n",
    "baseline_results = baseline_results.rename(columns={\"eval_metrics/mean_weighted_sum_quantile_loss\": \"Qloss\"})\n",
    "\n",
    "baseline_results[['dataset_name', 'freq', 'term']] = baseline_results['dataset'].apply(parse_dataset_string)\n",
    "\n",
    "baseline_results['freq'] = baseline_results.apply(lambda row: freq_map.get(row['dataset_name'], row['freq']), axis=1)\n",
    "baseline_results.drop(columns='dataset', inplace=True)\n",
    "\n",
    "baseline_results = baseline_results.rename(columns={\"dataset_name\": \"dataset\"})\n",
    "baseline_results = baseline_results[[\"dataset\", \"freq\", \"term\", \"domain\", \"num_variates\", \"model\",\n",
    "    \"MASE\", \"Qloss\"]]"
   ]
  },
  {
   "cell_type": "code",
   "execution_count": null,
   "id": "44af4ac7",
   "metadata": {},
   "outputs": [],
   "source": [
    "baseline_results.head()"
   ]
  },
  {
   "cell_type": "code",
   "execution_count": null,
   "id": "417e75c2",
   "metadata": {},
   "outputs": [],
   "source": [
    "baseline_term = baseline_results.groupby(['term'], as_index=False).mean(numeric_only=True)\n",
    "baseline_domain = baseline_results.groupby(['domain'], as_index=False).mean(numeric_only=True)\n",
    "baseline_freq = baseline_results.groupby(['freq'], as_index=False).mean(numeric_only=True)"
   ]
  },
  {
   "cell_type": "code",
   "execution_count": null,
   "id": "493d64ba",
   "metadata": {},
   "outputs": [],
   "source": [
    "import matplotlib.pyplot as plt\n",
    "\n",
    "def plot_metric_vs_train_step(grouped, baseline, group_col, metric_cols, title_prefix):\n",
    "    \"\"\"\n",
    "    For each unique value in group_col (e.g. 'term', 'domain', 'freq'), plot the metric vs train step.\n",
    "    \n",
    "    Parameters:\n",
    "        grouped: DataFrame with columns ['train step', group_col, ...metric_cols]\n",
    "        baseline: DataFrame with columns [group_col, ...metric_cols]\n",
    "        group_col: str, name of group column\n",
    "        metric_cols: list of str, metric names (e.g. ['MASE', 'Qloss'])\n",
    "        title_prefix: str, to prefix plot titles\n",
    "    \"\"\"\n",
    "    unique_groups = sorted(grouped[group_col].unique())\n",
    "    \n",
    "    for metric in metric_cols:\n",
    "        for group_value in unique_groups:\n",
    "            # Filter Chronos results for this group value\n",
    "            df_sub = grouped[grouped[group_col] == group_value]\n",
    "\n",
    "            if df_sub.empty:\n",
    "                continue  # Skip empty group\n",
    "            \n",
    "            # Get baseline value for this group (if available)\n",
    "            baseline_value = baseline.loc[baseline[group_col] == group_value, metric]\n",
    "            baseline_y = baseline_value.iloc[0] if not baseline_value.empty else None\n",
    "\n",
    "            # Plot\n",
    "            plt.figure(figsize=(5, 3))\n",
    "            plt.plot(df_sub[\"train step\"], df_sub[metric], marker='o', label=\"Finetuned\")\n",
    "            \n",
    "            if baseline_y is not None:\n",
    "                plt.axhline(y=baseline_y, color=\"black\", linestyle=\"--\", label=\"Baseline\")\n",
    "\n",
    "            plt.xlabel(\"Train step\")\n",
    "            plt.ylabel(metric)\n",
    "            plt.title(f\"{title_prefix}: {group_value}\")\n",
    "            #.grid(True)\n",
    "            plt.legend()\n",
    "            plt.tight_layout()\n",
    "            plt.show()"
   ]
  },
  {
   "cell_type": "code",
   "execution_count": null,
   "id": "962b80f9",
   "metadata": {},
   "outputs": [],
   "source": [
    "# Plot: One plot for each TERM value (short, medium, long)\n",
    "plot_metric_vs_train_step(grouped_term, baseline_term, group_col=\"term\", metric_cols=[\"MASE\", \"Qloss\"], title_prefix=\"Term\")"
   ]
  },
  {
   "cell_type": "code",
   "execution_count": null,
   "id": "b77c4459",
   "metadata": {},
   "outputs": [],
   "source": [
    "# Plot: One plot for each DOMAIN value (Econ/Fin, Weather, ecc.)\n",
    "plot_metric_vs_train_step(grouped_domain, baseline_domain, group_col=\"domain\", metric_cols=[\"MASE\", \"Qloss\"], title_prefix=\"Domain\")"
   ]
  },
  {
   "cell_type": "code",
   "execution_count": null,
   "id": "1eb35857",
   "metadata": {},
   "outputs": [],
   "source": [
    "# Plot: One plot for each FREQ value\n",
    "plot_metric_vs_train_step(grouped_freq, baseline_freq, group_col=\"freq\", metric_cols=[\"MASE\", \"Qloss\"], title_prefix=\"Frequency\")"
   ]
  }
 ],
 "metadata": {
  "kernelspec": {
   "display_name": "chronos2",
   "language": "python",
   "name": "python3"
  },
  "language_info": {
   "codemirror_mode": {
    "name": "ipython",
    "version": 3
   },
   "file_extension": ".py",
   "mimetype": "text/x-python",
   "name": "python",
   "nbconvert_exporter": "python",
   "pygments_lexer": "ipython3",
   "version": "3.9.23"
  }
 },
 "nbformat": 4,
 "nbformat_minor": 5
}
