{
 "cells": [
  {
   "cell_type": "markdown",
   "id": "d970e532",
   "metadata": {
    "tags": [
     "papermill-error-cell-tag"
    ]
   },
   "source": [
    "<span style=\"color:red; font-family:Helvetica Neue, Helvetica, Arial, sans-serif; font-size:2em;\">An Exception was encountered at '<a href=\"#papermill-error-cell\">In [4]</a>'.</span>"
   ]
  },
  {
   "cell_type": "code",
   "execution_count": 1,
   "id": "a22d02b3",
   "metadata": {
    "execution": {
     "iopub.execute_input": "2025-07-30T20:45:54.617403Z",
     "iopub.status.busy": "2025-07-30T20:45:54.617245Z",
     "iopub.status.idle": "2025-07-30T20:45:54.624880Z",
     "shell.execute_reply": "2025-07-30T20:45:54.624375Z"
    },
    "papermill": {
     "duration": 0.010637,
     "end_time": "2025-07-30T20:45:54.625627",
     "exception": false,
     "start_time": "2025-07-30T20:45:54.614990",
     "status": "completed"
    },
    "tags": []
   },
   "outputs": [],
   "source": [
    "import os\n",
    "\n",
    "os.environ[\"HF_DATASETS_CACHE\"] = \"/raid/decaro\"\n",
    "os.environ[\"HF_HOME\"] = \"/raid/decaro\"\n",
    "os.environ[\"TRANSFORMERS_CACHE\"] = \"/raid/decaro\"\n",
    "os.environ[\"HUGGINGFACE_HUB_CACHE\"] = \"/raid/decaro\"\n"
   ]
  },
  {
   "cell_type": "code",
   "execution_count": 2,
   "id": "427904ee",
   "metadata": {
    "execution": {
     "iopub.execute_input": "2025-07-30T20:45:54.628405Z",
     "iopub.status.busy": "2025-07-30T20:45:54.628257Z",
     "iopub.status.idle": "2025-07-30T20:45:55.690609Z",
     "shell.execute_reply": "2025-07-30T20:45:55.689898Z"
    },
    "papermill": {
     "duration": 1.064518,
     "end_time": "2025-07-30T20:45:55.691481",
     "exception": false,
     "start_time": "2025-07-30T20:45:54.626963",
     "status": "completed"
    },
    "tags": []
   },
   "outputs": [
    {
     "name": "stderr",
     "output_type": "stream",
     "text": [
      "/home/valerio/miniconda3/envs/moirai/lib/python3.9/site-packages/tqdm/auto.py:21: TqdmWarning: IProgress not found. Please update jupyter and ipywidgets. See https://ipywidgets.readthedocs.io/en/stable/user_install.html\n",
      "  from .autonotebook import tqdm as notebook_tqdm\n"
     ]
    }
   ],
   "source": [
    "from src.utils.full_dataset_loader import load_data"
   ]
  },
  {
   "cell_type": "code",
   "execution_count": 3,
   "id": "7290c33b",
   "metadata": {
    "execution": {
     "iopub.execute_input": "2025-07-30T20:45:55.694420Z",
     "iopub.status.busy": "2025-07-30T20:45:55.694101Z",
     "iopub.status.idle": "2025-07-30T20:45:55.697716Z",
     "shell.execute_reply": "2025-07-30T20:45:55.697354Z"
    },
    "papermill": {
     "duration": 0.005715,
     "end_time": "2025-07-30T20:45:55.698396",
     "exception": false,
     "start_time": "2025-07-30T20:45:55.692681",
     "status": "completed"
    },
    "tags": []
   },
   "outputs": [],
   "source": [
    "def save_train_and_val_datasets(yaml_path, dataset_path):\n",
    "    partial_ds_path = \"/raid/decaro/TimeSeriesForecastingFoundationModels/data/splitted_full_dataset\"\n",
    "    full_dataset = load_data(yaml_path=yaml_path, path=partial_ds_path)\n",
    "\n",
    "    # Save datasets to disk\n",
    "    os.makedirs(\"data\", exist_ok=True)\n",
    "    full_dataset.save_to_disk(dataset_path)\n",
    "\n",
    "    print(f\"Dataset saved to {dataset_path}\")"
   ]
  },
  {
   "cell_type": "markdown",
   "id": "ada748b7",
   "metadata": {
    "tags": [
     "papermill-error-cell-tag"
    ]
   },
   "source": [
    "<span id=\"papermill-error-cell\" style=\"color:red; font-family:Helvetica Neue, Helvetica, Arial, sans-serif; font-size:2em;\">Execution using papermill encountered an exception here and stopped:</span>"
   ]
  },
  {
   "cell_type": "code",
   "execution_count": 4,
   "id": "7ed5f8e4",
   "metadata": {
    "execution": {
     "iopub.execute_input": "2025-07-30T20:45:55.700781Z",
     "iopub.status.busy": "2025-07-30T20:45:55.700631Z",
     "iopub.status.idle": "2025-07-30T23:32:59.696115Z",
     "shell.execute_reply": "2025-07-30T23:32:59.695271Z"
    },
    "papermill": {
     "duration": 10023.998297,
     "end_time": "2025-07-30T23:32:59.697621",
     "exception": true,
     "start_time": "2025-07-30T20:45:55.699324",
     "status": "failed"
    },
    "tags": []
   },
   "outputs": [
    {
     "name": "stdout",
     "output_type": "stream",
     "text": [
      "\n",
      "Loading group: autogluon/chronos_datasets\n",
      "Loading uber_tlc_daily...\n"
     ]
    },
    {
     "name": "stderr",
     "output_type": "stream",
     "text": [
      "\r",
      "Generating train split:   0%|                                                                                                | 0/262 [00:00<?, ? examples/s]"
     ]
    },
    {
     "name": "stderr",
     "output_type": "stream",
     "text": [
      "\r",
      "Generating train split: 100%|███████████████████████████████████████████████████████████████████████████████████| 262/262 [00:00<00:00, 39431.18 examples/s]"
     ]
    },
    {
     "name": "stderr",
     "output_type": "stream",
     "text": [
      "\n"
     ]
    },
    {
     "name": "stderr",
     "output_type": "stream",
     "text": [
      "\r",
      "Saving the dataset (0/1 shards):   0%|                                                                                       | 0/262 [00:00<?, ? examples/s]"
     ]
    },
    {
     "name": "stderr",
     "output_type": "stream",
     "text": [
      "\r",
      "Saving the dataset (1/1 shards): 100%|██████████████████████████████████████████████████████████████████████████| 262/262 [00:00<00:00, 66067.92 examples/s]"
     ]
    },
    {
     "name": "stderr",
     "output_type": "stream",
     "text": [
      "\r",
      "Saving the dataset (1/1 shards): 100%|██████████████████████████████████████████████████████████████████████████| 262/262 [00:00<00:00, 58843.78 examples/s]"
     ]
    },
    {
     "name": "stderr",
     "output_type": "stream",
     "text": [
      "\n"
     ]
    },
    {
     "name": "stdout",
     "output_type": "stream",
     "text": [
      "Dataset autogluon/chronos_datasets/uber_tlc_daily saved to /raid/decaro/TimeSeriesForecastingFoundationModels/data/splitted_full_dataset/autogluon_chronos_datasets_uber_tlc_daily\n",
      "Loading uber_tlc_hourly...\n"
     ]
    },
    {
     "name": "stderr",
     "output_type": "stream",
     "text": [
      "\r",
      "Generating train split:   0%|                                                                                                | 0/262 [00:00<?, ? examples/s]"
     ]
    },
    {
     "name": "stderr",
     "output_type": "stream",
     "text": [
      "\r",
      "Generating train split: 100%|███████████████████████████████████████████████████████████████████████████████████| 262/262 [00:00<00:00, 10979.09 examples/s]"
     ]
    },
    {
     "name": "stderr",
     "output_type": "stream",
     "text": [
      "\n"
     ]
    },
    {
     "name": "stderr",
     "output_type": "stream",
     "text": [
      "\r",
      "Saving the dataset (0/1 shards):   0%|                                                                                       | 0/262 [00:00<?, ? examples/s]"
     ]
    },
    {
     "name": "stderr",
     "output_type": "stream",
     "text": [
      "\r",
      "Saving the dataset (1/1 shards): 100%|██████████████████████████████████████████████████████████████████████████| 262/262 [00:00<00:00, 10419.35 examples/s]"
     ]
    },
    {
     "name": "stderr",
     "output_type": "stream",
     "text": [
      "\r",
      "Saving the dataset (1/1 shards): 100%|██████████████████████████████████████████████████████████████████████████| 262/262 [00:00<00:00, 10022.23 examples/s]"
     ]
    },
    {
     "name": "stderr",
     "output_type": "stream",
     "text": [
      "\n"
     ]
    },
    {
     "name": "stdout",
     "output_type": "stream",
     "text": [
      "Dataset autogluon/chronos_datasets/uber_tlc_hourly saved to /raid/decaro/TimeSeriesForecastingFoundationModels/data/splitted_full_dataset/autogluon_chronos_datasets_uber_tlc_hourly\n",
      "Loading ushcn_daily...\n"
     ]
    },
    {
     "name": "stderr",
     "output_type": "stream",
     "text": [
      "\r",
      "Generating train split:   0%|                                                                                               | 0/1218 [00:00<?, ? examples/s]"
     ]
    },
    {
     "name": "stderr",
     "output_type": "stream",
     "text": [
      "\r",
      "Generating train split:  33%|████████████████████████████                                                        | 406/1218 [00:00<00:01, 451.62 examples/s]"
     ]
    },
    {
     "name": "stderr",
     "output_type": "stream",
     "text": [
      "\r",
      "Generating train split:  67%|████████████████████████████████████████████████████████                            | 812/1218 [00:01<00:00, 452.53 examples/s]"
     ]
    },
    {
     "name": "stderr",
     "output_type": "stream",
     "text": [
      "\r",
      "Generating train split: 100%|███████████████████████████████████████████████████████████████████████████████████| 1218/1218 [00:02<00:00, 457.86 examples/s]"
     ]
    },
    {
     "name": "stderr",
     "output_type": "stream",
     "text": [
      "\r",
      "Generating train split: 100%|███████████████████████████████████████████████████████████████████████████████████| 1218/1218 [00:02<00:00, 448.89 examples/s]"
     ]
    },
    {
     "name": "stderr",
     "output_type": "stream",
     "text": [
      "\n"
     ]
    },
    {
     "name": "stderr",
     "output_type": "stream",
     "text": [
      "\r",
      "Saving the dataset (0/1 shards):   0%|                                                                                      | 0/1218 [00:00<?, ? examples/s]"
     ]
    },
    {
     "name": "stderr",
     "output_type": "stream",
     "text": [
      "\r",
      "Saving the dataset (0/1 shards):  82%|███████████████████████████████████████████████████████████▉             | 1000/1218 [00:00<00:00, 2203.79 examples/s]"
     ]
    },
    {
     "name": "stderr",
     "output_type": "stream",
     "text": [
      "\r",
      "Saving the dataset (1/1 shards): 100%|█████████████████████████████████████████████████████████████████████████| 1218/1218 [00:00<00:00, 2203.79 examples/s]"
     ]
    },
    {
     "name": "stderr",
     "output_type": "stream",
     "text": [
      "\r",
      "Saving the dataset (1/1 shards): 100%|█████████████████████████████████████████████████████████████████████████| 1218/1218 [00:00<00:00, 2328.38 examples/s]"
     ]
    },
    {
     "name": "stderr",
     "output_type": "stream",
     "text": [
      "\n"
     ]
    },
    {
     "name": "stdout",
     "output_type": "stream",
     "text": [
      "Dataset autogluon/chronos_datasets/ushcn_daily saved to /raid/decaro/TimeSeriesForecastingFoundationModels/data/splitted_full_dataset/autogluon_chronos_datasets_ushcn_daily\n",
      "Loading weatherbench_daily...\n"
     ]
    },
    {
     "name": "stderr",
     "output_type": "stream",
     "text": [
      "\r",
      "Downloading data:   0%|                                                                                                           | 0/40 [00:00<?, ?files/s]"
     ]
    },
    {
     "name": "stderr",
     "output_type": "stream",
     "text": [
      "\r",
      "Downloading data:   2%|██▍                                                                                                | 1/40 [00:09<06:04,  9.35s/files]"
     ]
    },
    {
     "name": "stderr",
     "output_type": "stream",
     "text": [
      "\r",
      "Downloading data:   5%|████▉                                                                                              | 2/40 [00:18<05:48,  9.16s/files]"
     ]
    },
    {
     "name": "stderr",
     "output_type": "stream",
     "text": [
      "\r",
      "Downloading data:   8%|███████▍                                                                                           | 3/40 [00:26<05:29,  8.91s/files]"
     ]
    },
    {
     "name": "stderr",
     "output_type": "stream",
     "text": [
      "\r",
      "Downloading data:  10%|█████████▉                                                                                         | 4/40 [00:37<05:39,  9.42s/files]"
     ]
    },
    {
     "name": "stderr",
     "output_type": "stream",
     "text": [
      "\r",
      "Downloading data:  12%|████████████▍                                                                                      | 5/40 [00:47<05:39,  9.69s/files]"
     ]
    },
    {
     "name": "stderr",
     "output_type": "stream",
     "text": [
      "\r",
      "Downloading data:  15%|██████████████▊                                                                                    | 6/40 [00:56<05:21,  9.46s/files]"
     ]
    },
    {
     "name": "stderr",
     "output_type": "stream",
     "text": [
      "\r",
      "Downloading data:  18%|█████████████████▎                                                                                 | 7/40 [01:05<05:07,  9.33s/files]"
     ]
    },
    {
     "name": "stderr",
     "output_type": "stream",
     "text": [
      "\r",
      "Downloading data:  20%|███████████████████▊                                                                               | 8/40 [01:14<04:51,  9.11s/files]"
     ]
    },
    {
     "name": "stderr",
     "output_type": "stream",
     "text": [
      "\r",
      "Downloading data:  22%|██████████████████████▎                                                                            | 9/40 [01:23<04:47,  9.28s/files]"
     ]
    },
    {
     "name": "stderr",
     "output_type": "stream",
     "text": [
      "\r",
      "Downloading data:  25%|████████████████████████▌                                                                         | 10/40 [01:32<04:31,  9.04s/files]"
     ]
    },
    {
     "name": "stderr",
     "output_type": "stream",
     "text": [
      "\r",
      "Downloading data:  28%|██████████████████████████▉                                                                       | 11/40 [01:40<04:13,  8.74s/files]"
     ]
    },
    {
     "name": "stderr",
     "output_type": "stream",
     "text": [
      "\r",
      "Downloading data:  30%|█████████████████████████████▍                                                                    | 12/40 [01:48<04:02,  8.65s/files]"
     ]
    },
    {
     "name": "stderr",
     "output_type": "stream",
     "text": [
      "\r",
      "Downloading data:  32%|███████████████████████████████▊                                                                  | 13/40 [01:57<03:53,  8.65s/files]"
     ]
    },
    {
     "name": "stderr",
     "output_type": "stream",
     "text": [
      "\r",
      "Downloading data:  35%|██████████████████████████████████▎                                                               | 14/40 [02:05<03:41,  8.51s/files]"
     ]
    },
    {
     "name": "stderr",
     "output_type": "stream",
     "text": [
      "\r",
      "Downloading data:  38%|████████████████████████████████████▊                                                             | 15/40 [02:14<03:35,  8.62s/files]"
     ]
    },
    {
     "name": "stderr",
     "output_type": "stream",
     "text": [
      "\r",
      "Downloading data:  40%|███████████████████████████████████████▏                                                          | 16/40 [02:23<03:31,  8.80s/files]"
     ]
    },
    {
     "name": "stderr",
     "output_type": "stream",
     "text": [
      "\r",
      "Downloading data:  42%|█████████████████████████████████████████▋                                                        | 17/40 [02:33<03:26,  8.97s/files]"
     ]
    },
    {
     "name": "stderr",
     "output_type": "stream",
     "text": [
      "\r",
      "Downloading data:  45%|████████████████████████████████████████████                                                      | 18/40 [02:47<03:54, 10.66s/files]"
     ]
    },
    {
     "name": "stderr",
     "output_type": "stream",
     "text": [
      "\r",
      "Downloading data:  48%|██████████████████████████████████████████████▌                                                   | 19/40 [02:56<03:33, 10.17s/files]"
     ]
    },
    {
     "name": "stderr",
     "output_type": "stream",
     "text": [
      "\r",
      "Downloading data:  50%|█████████████████████████████████████████████████                                                 | 20/40 [03:05<03:14,  9.70s/files]"
     ]
    },
    {
     "name": "stderr",
     "output_type": "stream",
     "text": [
      "\r",
      "Downloading data:  52%|███████████████████████████████████████████████████▍                                              | 21/40 [03:14<03:01,  9.54s/files]"
     ]
    },
    {
     "name": "stderr",
     "output_type": "stream",
     "text": [
      "\r",
      "Downloading data:  55%|█████████████████████████████████████████████████████▉                                            | 22/40 [03:36<03:58, 13.25s/files]"
     ]
    },
    {
     "name": "stderr",
     "output_type": "stream",
     "text": [
      "\r",
      "Downloading data:  57%|████████████████████████████████████████████████████████▎                                         | 23/40 [03:45<03:26, 12.15s/files]"
     ]
    },
    {
     "name": "stderr",
     "output_type": "stream",
     "text": [
      "\r",
      "Downloading data:  60%|██████████████████████████████████████████████████████████▊                                       | 24/40 [04:01<03:29, 13.12s/files]"
     ]
    },
    {
     "name": "stderr",
     "output_type": "stream",
     "text": [
      "\r",
      "Downloading data:  62%|█████████████████████████████████████████████████████████████▎                                    | 25/40 [04:09<02:56, 11.77s/files]"
     ]
    },
    {
     "name": "stderr",
     "output_type": "stream",
     "text": [
      "\r",
      "Downloading data:  65%|███████████████████████████████████████████████████████████████▋                                  | 26/40 [04:18<02:32, 10.89s/files]"
     ]
    },
    {
     "name": "stderr",
     "output_type": "stream",
     "text": [
      "\r",
      "Downloading data:  68%|██████████████████████████████████████████████████████████████████▏                               | 27/40 [04:28<02:16, 10.47s/files]"
     ]
    },
    {
     "name": "stderr",
     "output_type": "stream",
     "text": [
      "\r",
      "Downloading data:  70%|████████████████████████████████████████████████████████████████████▌                             | 28/40 [04:37<01:59, 10.00s/files]"
     ]
    },
    {
     "name": "stderr",
     "output_type": "stream",
     "text": [
      "\r",
      "Downloading data:  72%|███████████████████████████████████████████████████████████████████████                           | 29/40 [04:46<01:47,  9.81s/files]"
     ]
    },
    {
     "name": "stderr",
     "output_type": "stream",
     "text": [
      "\r",
      "Downloading data:  75%|█████████████████████████████████████████████████████████████████████████▌                        | 30/40 [04:55<01:35,  9.53s/files]"
     ]
    },
    {
     "name": "stderr",
     "output_type": "stream",
     "text": [
      "\r",
      "Downloading data:  78%|███████████████████████████████████████████████████████████████████████████▉                      | 31/40 [05:05<01:26,  9.59s/files]"
     ]
    },
    {
     "name": "stderr",
     "output_type": "stream",
     "text": [
      "\r",
      "Downloading data:  80%|██████████████████████████████████████████████████████████████████████████████▍                   | 32/40 [05:14<01:15,  9.50s/files]"
     ]
    },
    {
     "name": "stderr",
     "output_type": "stream",
     "text": [
      "\r",
      "Downloading data:  82%|████████████████████████████████████████████████████████████████████████████████▊                 | 33/40 [05:23<01:04,  9.26s/files]"
     ]
    },
    {
     "name": "stderr",
     "output_type": "stream",
     "text": [
      "\r",
      "Downloading data:  85%|███████████████████████████████████████████████████████████████████████████████████▎              | 34/40 [05:31<00:54,  9.11s/files]"
     ]
    },
    {
     "name": "stderr",
     "output_type": "stream",
     "text": [
      "\r",
      "Downloading data:  88%|█████████████████████████████████████████████████████████████████████████████████████▊            | 35/40 [05:47<00:54, 11.00s/files]"
     ]
    },
    {
     "name": "stderr",
     "output_type": "stream",
     "text": [
      "\r",
      "Downloading data:  90%|████████████████████████████████████████████████████████████████████████████████████████▏         | 36/40 [06:18<01:08, 17.00s/files]"
     ]
    },
    {
     "name": "stderr",
     "output_type": "stream",
     "text": [
      "\r",
      "Downloading data:  92%|██████████████████████████████████████████████████████████████████████████████████████████▋       | 37/40 [06:26<00:43, 14.50s/files]"
     ]
    },
    {
     "name": "stderr",
     "output_type": "stream",
     "text": [
      "\r",
      "Downloading data:  95%|█████████████████████████████████████████████████████████████████████████████████████████████     | 38/40 [06:37<00:26, 13.21s/files]"
     ]
    },
    {
     "name": "stderr",
     "output_type": "stream",
     "text": [
      "\r",
      "Downloading data:  98%|███████████████████████████████████████████████████████████████████████████████████████████████▌  | 39/40 [06:46<00:11, 11.98s/files]"
     ]
    },
    {
     "name": "stderr",
     "output_type": "stream",
     "text": [
      "\r",
      "Downloading data: 100%|██████████████████████████████████████████████████████████████████████████████████████████████████| 40/40 [06:54<00:00, 10.96s/files]"
     ]
    },
    {
     "name": "stderr",
     "output_type": "stream",
     "text": [
      "\r",
      "Downloading data: 100%|██████████████████████████████████████████████████████████████████████████████████████████████████| 40/40 [06:54<00:00, 10.37s/files]"
     ]
    },
    {
     "name": "stderr",
     "output_type": "stream",
     "text": [
      "\n"
     ]
    },
    {
     "name": "stderr",
     "output_type": "stream",
     "text": [
      "\r",
      "Generating train split:   0%|                                                                                             | 0/225280 [00:00<?, ? examples/s]"
     ]
    },
    {
     "name": "stderr",
     "output_type": "stream",
     "text": [
      "\r",
      "Generating train split:   0%|▎                                                                               | 1000/225280 [00:00<03:26, 1087.27 examples/s]"
     ]
    },
    {
     "name": "stderr",
     "output_type": "stream",
     "text": [
      "\r",
      "Generating train split:   1%|▋                                                                               | 2000/225280 [00:01<02:11, 1702.28 examples/s]"
     ]
    },
    {
     "name": "stderr",
     "output_type": "stream",
     "text": [
      "\r",
      "Generating train split:   1%|█                                                                               | 3000/225280 [00:01<01:49, 2023.76 examples/s]"
     ]
    },
    {
     "name": "stderr",
     "output_type": "stream",
     "text": [
      "\r",
      "Generating train split:   2%|█▍                                                                              | 4000/225280 [00:02<01:41, 2184.56 examples/s]"
     ]
    },
    {
     "name": "stderr",
     "output_type": "stream",
     "text": [
      "\r",
      "Generating train split:   2%|█▊                                                                              | 5000/225280 [00:02<01:29, 2447.69 examples/s]"
     ]
    },
    {
     "name": "stderr",
     "output_type": "stream",
     "text": [
      "\r",
      "Generating train split:   2%|██                                                                              | 5632/225280 [00:02<01:16, 2858.08 examples/s]"
     ]
    },
    {
     "name": "stderr",
     "output_type": "stream",
     "text": [
      "\r",
      "Generating train split:   3%|██▎                                                                             | 6632/225280 [00:03<02:27, 1485.73 examples/s]"
     ]
    },
    {
     "name": "stderr",
     "output_type": "stream",
     "text": [
      "\r",
      "Generating train split:   3%|██▋                                                                             | 7632/225280 [00:04<02:29, 1455.34 examples/s]"
     ]
    },
    {
     "name": "stderr",
     "output_type": "stream",
     "text": [
      "\r",
      "Generating train split:   4%|███                                                                             | 8632/225280 [00:05<02:27, 1470.16 examples/s]"
     ]
    },
    {
     "name": "stderr",
     "output_type": "stream",
     "text": [
      "\r",
      "Generating train split:   4%|███▍                                                                            | 9632/225280 [00:05<02:00, 1786.27 examples/s]"
     ]
    },
    {
     "name": "stderr",
     "output_type": "stream",
     "text": [
      "\r",
      "Generating train split:   5%|███▋                                                                           | 10632/225280 [00:05<01:42, 2095.62 examples/s]"
     ]
    },
    {
     "name": "stderr",
     "output_type": "stream",
     "text": [
      "\r",
      "Generating train split:   5%|████▎                                                                          | 12264/225280 [00:06<02:01, 1756.00 examples/s]"
     ]
    },
    {
     "name": "stderr",
     "output_type": "stream",
     "text": [
      "\r",
      "Generating train split:   6%|████▋                                                                          | 13264/225280 [00:07<01:53, 1874.89 examples/s]"
     ]
    },
    {
     "name": "stderr",
     "output_type": "stream",
     "text": [
      "\r",
      "Generating train split:   6%|█████                                                                          | 14264/225280 [00:07<01:50, 1906.87 examples/s]"
     ]
    },
    {
     "name": "stderr",
     "output_type": "stream",
     "text": [
      "\r",
      "Generating train split:   7%|█████▎                                                                         | 15264/225280 [00:08<01:38, 2133.60 examples/s]"
     ]
    },
    {
     "name": "stderr",
     "output_type": "stream",
     "text": [
      "\r",
      "Generating train split:   7%|█████▋                                                                         | 16264/225280 [00:08<01:33, 2245.39 examples/s]"
     ]
    },
    {
     "name": "stderr",
     "output_type": "stream",
     "text": [
      "\r",
      "Generating train split:   8%|█████▉                                                                         | 16896/225280 [00:08<01:21, 2565.67 examples/s]"
     ]
    },
    {
     "name": "stderr",
     "output_type": "stream",
     "text": [
      "\r",
      "Generating train split:   8%|██████▎                                                                        | 17896/225280 [00:09<02:01, 1712.17 examples/s]"
     ]
    },
    {
     "name": "stderr",
     "output_type": "stream",
     "text": [
      "\r",
      "Generating train split:   8%|██████▋                                                                        | 18896/225280 [00:09<01:42, 2010.75 examples/s]"
     ]
    },
    {
     "name": "stderr",
     "output_type": "stream",
     "text": [
      "\r",
      "Generating train split:   9%|██████▉                                                                        | 19896/225280 [00:10<01:29, 2296.37 examples/s]"
     ]
    },
    {
     "name": "stderr",
     "output_type": "stream",
     "text": [
      "\r",
      "Generating train split:   9%|███████▎                                                                       | 20896/225280 [00:10<01:24, 2422.38 examples/s]"
     ]
    },
    {
     "name": "stderr",
     "output_type": "stream",
     "text": [
      "\r",
      "Generating train split:  10%|███████▋                                                                       | 21896/225280 [00:10<01:17, 2626.68 examples/s]"
     ]
    },
    {
     "name": "stderr",
     "output_type": "stream",
     "text": [
      "\r",
      "Generating train split:  10%|████████▎                                                                      | 23528/225280 [00:11<01:33, 2154.45 examples/s]"
     ]
    },
    {
     "name": "stderr",
     "output_type": "stream",
     "text": [
      "\r",
      "Generating train split:  11%|████████▌                                                                      | 24528/225280 [00:12<01:24, 2380.64 examples/s]"
     ]
    },
    {
     "name": "stderr",
     "output_type": "stream",
     "text": [
      "\r",
      "Generating train split:  11%|████████▉                                                                      | 25528/225280 [00:12<01:19, 2521.27 examples/s]"
     ]
    },
    {
     "name": "stderr",
     "output_type": "stream",
     "text": [
      "\r",
      "Generating train split:  12%|█████████▎                                                                     | 26528/225280 [00:12<01:13, 2692.74 examples/s]"
     ]
    },
    {
     "name": "stderr",
     "output_type": "stream",
     "text": [
      "\r",
      "Generating train split:  12%|█████████▋                                                                     | 27528/225280 [00:13<01:05, 3038.10 examples/s]"
     ]
    },
    {
     "name": "stderr",
     "output_type": "stream",
     "text": [
      "\r",
      "Generating train split:  13%|██████████▏                                                                    | 29160/225280 [00:13<01:20, 2431.97 examples/s]"
     ]
    },
    {
     "name": "stderr",
     "output_type": "stream",
     "text": [
      "\r",
      "Generating train split:  13%|██████████▌                                                                    | 30160/225280 [00:14<01:21, 2399.53 examples/s]"
     ]
    },
    {
     "name": "stderr",
     "output_type": "stream",
     "text": [
      "\r",
      "Generating train split:  14%|██████████▉                                                                    | 31160/225280 [00:14<01:17, 2517.38 examples/s]"
     ]
    },
    {
     "name": "stderr",
     "output_type": "stream",
     "text": [
      "\r",
      "Generating train split:  14%|███████████▎                                                                   | 32160/225280 [00:14<01:08, 2814.19 examples/s]"
     ]
    },
    {
     "name": "stderr",
     "output_type": "stream",
     "text": [
      "\r",
      "Generating train split:  15%|███████████▋                                                                   | 33160/225280 [00:15<00:59, 3226.00 examples/s]"
     ]
    },
    {
     "name": "stderr",
     "output_type": "stream",
     "text": [
      "\r",
      "Generating train split:  15%|████████████▏                                                                  | 34792/225280 [00:15<01:13, 2592.75 examples/s]"
     ]
    },
    {
     "name": "stderr",
     "output_type": "stream",
     "text": [
      "\r",
      "Generating train split:  16%|████████████▌                                                                  | 35792/225280 [00:16<01:07, 2794.15 examples/s]"
     ]
    },
    {
     "name": "stderr",
     "output_type": "stream",
     "text": [
      "\r",
      "Generating train split:  16%|████████████▉                                                                  | 36792/225280 [00:16<01:03, 2984.68 examples/s]"
     ]
    },
    {
     "name": "stderr",
     "output_type": "stream",
     "text": [
      "\r",
      "Generating train split:  17%|█████████████▎                                                                 | 37792/225280 [00:16<01:06, 2829.18 examples/s]"
     ]
    },
    {
     "name": "stderr",
     "output_type": "stream",
     "text": [
      "\r",
      "Generating train split:  17%|█████████████▌                                                                 | 38792/225280 [00:17<01:03, 2947.83 examples/s]"
     ]
    },
    {
     "name": "stderr",
     "output_type": "stream",
     "text": [
      "\r",
      "Generating train split:  18%|█████████████▊                                                                 | 39424/225280 [00:17<00:56, 3267.28 examples/s]"
     ]
    },
    {
     "name": "stderr",
     "output_type": "stream",
     "text": [
      "\r",
      "Generating train split:  18%|██████████████▏                                                                | 40424/225280 [00:17<01:17, 2376.89 examples/s]"
     ]
    },
    {
     "name": "stderr",
     "output_type": "stream",
     "text": [
      "\r",
      "Generating train split:  18%|██████████████▌                                                                | 41424/225280 [00:18<01:09, 2656.00 examples/s]"
     ]
    },
    {
     "name": "stderr",
     "output_type": "stream",
     "text": [
      "\r",
      "Generating train split:  19%|██████████████▉                                                                | 42424/225280 [00:18<01:01, 2996.16 examples/s]"
     ]
    },
    {
     "name": "stderr",
     "output_type": "stream",
     "text": [
      "\r",
      "Generating train split:  19%|███████████████▏                                                               | 43424/225280 [00:18<00:57, 3165.15 examples/s]"
     ]
    },
    {
     "name": "stderr",
     "output_type": "stream",
     "text": [
      "\r",
      "Generating train split:  20%|███████████████▌                                                               | 44424/225280 [00:18<00:50, 3604.05 examples/s]"
     ]
    },
    {
     "name": "stderr",
     "output_type": "stream",
     "text": [
      "\r",
      "Generating train split:  20%|████████████████▏                                                              | 46056/225280 [00:19<01:03, 2805.20 examples/s]"
     ]
    },
    {
     "name": "stderr",
     "output_type": "stream",
     "text": [
      "\r",
      "Generating train split:  21%|████████████████▌                                                              | 47056/225280 [00:19<00:57, 3116.13 examples/s]"
     ]
    },
    {
     "name": "stderr",
     "output_type": "stream",
     "text": [
      "\r",
      "Generating train split:  21%|████████████████▊                                                              | 48056/225280 [00:20<00:54, 3265.47 examples/s]"
     ]
    },
    {
     "name": "stderr",
     "output_type": "stream",
     "text": [
      "\r",
      "Generating train split:  22%|█████████████████▏                                                             | 49056/225280 [00:20<00:51, 3451.60 examples/s]"
     ]
    },
    {
     "name": "stderr",
     "output_type": "stream",
     "text": [
      "\r",
      "Generating train split:  22%|█████████████████▌                                                             | 50056/225280 [00:20<00:45, 3874.88 examples/s]"
     ]
    },
    {
     "name": "stderr",
     "output_type": "stream",
     "text": [
      "\r",
      "Generating train split:  23%|██████████████████▏                                                            | 51688/225280 [00:21<01:00, 2880.53 examples/s]"
     ]
    },
    {
     "name": "stderr",
     "output_type": "stream",
     "text": [
      "\r",
      "Generating train split:  23%|██████████████████▍                                                            | 52688/225280 [00:21<00:55, 3086.52 examples/s]"
     ]
    },
    {
     "name": "stderr",
     "output_type": "stream",
     "text": [
      "\r",
      "Generating train split:  24%|██████████████████▊                                                            | 53688/225280 [00:21<00:51, 3339.92 examples/s]"
     ]
    },
    {
     "name": "stderr",
     "output_type": "stream",
     "text": [
      "\r",
      "Generating train split:  24%|███████████████████▏                                                           | 54688/225280 [00:22<00:49, 3474.58 examples/s]"
     ]
    },
    {
     "name": "stderr",
     "output_type": "stream",
     "text": [
      "\r",
      "Generating train split:  25%|███████████████████▌                                                           | 55688/225280 [00:22<00:44, 3800.60 examples/s]"
     ]
    },
    {
     "name": "stderr",
     "output_type": "stream",
     "text": [
      "\r",
      "Generating train split:  25%|████████████████████                                                           | 57320/225280 [00:23<00:55, 3021.96 examples/s]"
     ]
    },
    {
     "name": "stderr",
     "output_type": "stream",
     "text": [
      "\r",
      "Generating train split:  26%|████████████████████▍                                                          | 58320/225280 [00:23<00:51, 3240.67 examples/s]"
     ]
    },
    {
     "name": "stderr",
     "output_type": "stream",
     "text": [
      "\r",
      "Generating train split:  26%|████████████████████▊                                                          | 59320/225280 [00:23<01:03, 2593.84 examples/s]"
     ]
    },
    {
     "name": "stderr",
     "output_type": "stream",
     "text": [
      "\r",
      "Generating train split:  27%|█████████████████████▏                                                         | 60320/225280 [00:24<00:57, 2866.62 examples/s]"
     ]
    },
    {
     "name": "stderr",
     "output_type": "stream",
     "text": [
      "\r",
      "Generating train split:  27%|█████████████████████▌                                                         | 61320/225280 [00:24<00:49, 3331.47 examples/s]"
     ]
    },
    {
     "name": "stderr",
     "output_type": "stream",
     "text": [
      "\r",
      "Generating train split:  28%|██████████████████████                                                         | 62952/225280 [00:25<01:01, 2627.96 examples/s]"
     ]
    },
    {
     "name": "stderr",
     "output_type": "stream",
     "text": [
      "\r",
      "Generating train split:  28%|██████████████████████▍                                                        | 63952/225280 [00:25<00:55, 2926.72 examples/s]"
     ]
    },
    {
     "name": "stderr",
     "output_type": "stream",
     "text": [
      "\r",
      "Generating train split:  29%|██████████████████████▊                                                        | 64952/225280 [00:25<00:50, 3199.34 examples/s]"
     ]
    },
    {
     "name": "stderr",
     "output_type": "stream",
     "text": [
      "\r",
      "Generating train split:  29%|███████████████████████▏                                                       | 65952/225280 [00:26<00:56, 2798.88 examples/s]"
     ]
    },
    {
     "name": "stderr",
     "output_type": "stream",
     "text": [
      "\r",
      "Generating train split:  30%|███████████████████████▍                                                       | 66952/225280 [00:26<00:49, 3189.69 examples/s]"
     ]
    },
    {
     "name": "stderr",
     "output_type": "stream",
     "text": [
      "\r",
      "Generating train split:  30%|████████████████████████                                                       | 68584/225280 [00:26<00:55, 2827.42 examples/s]"
     ]
    },
    {
     "name": "stderr",
     "output_type": "stream",
     "text": [
      "\r",
      "Generating train split:  31%|████████████████████████▍                                                      | 69584/225280 [00:27<00:53, 2922.72 examples/s]"
     ]
    },
    {
     "name": "stderr",
     "output_type": "stream",
     "text": [
      "\r",
      "Generating train split:  31%|████████████████████████▊                                                      | 70584/225280 [00:27<00:48, 3208.85 examples/s]"
     ]
    },
    {
     "name": "stderr",
     "output_type": "stream",
     "text": [
      "\r",
      "Generating train split:  32%|█████████████████████████                                                      | 71584/225280 [00:27<00:47, 3264.73 examples/s]"
     ]
    },
    {
     "name": "stderr",
     "output_type": "stream",
     "text": [
      "\r",
      "Generating train split:  32%|█████████████████████████▍                                                     | 72584/225280 [00:27<00:40, 3768.25 examples/s]"
     ]
    },
    {
     "name": "stderr",
     "output_type": "stream",
     "text": [
      "\r",
      "Generating train split:  33%|██████████████████████████                                                     | 74216/225280 [00:28<00:57, 2644.95 examples/s]"
     ]
    },
    {
     "name": "stderr",
     "output_type": "stream",
     "text": [
      "\r",
      "Generating train split:  33%|██████████████████████████▍                                                    | 75216/225280 [00:29<00:50, 2968.93 examples/s]"
     ]
    },
    {
     "name": "stderr",
     "output_type": "stream",
     "text": [
      "\r",
      "Generating train split:  34%|██████████████████████████▋                                                    | 76216/225280 [00:29<00:46, 3238.20 examples/s]"
     ]
    },
    {
     "name": "stderr",
     "output_type": "stream",
     "text": [
      "\r",
      "Generating train split:  34%|███████████████████████████                                                    | 77216/225280 [00:29<00:44, 3329.24 examples/s]"
     ]
    },
    {
     "name": "stderr",
     "output_type": "stream",
     "text": [
      "\r",
      "Generating train split:  35%|███████████████████████████▍                                                   | 78216/225280 [00:29<00:39, 3693.20 examples/s]"
     ]
    },
    {
     "name": "stderr",
     "output_type": "stream",
     "text": [
      "\r",
      "Generating train split:  35%|████████████████████████████                                                   | 79848/225280 [00:30<00:47, 3059.79 examples/s]"
     ]
    },
    {
     "name": "stderr",
     "output_type": "stream",
     "text": [
      "\r",
      "Generating train split:  36%|████████████████████████████▎                                                  | 80848/225280 [00:30<00:53, 2713.05 examples/s]"
     ]
    },
    {
     "name": "stderr",
     "output_type": "stream",
     "text": [
      "\r",
      "Generating train split:  36%|████████████████████████████▋                                                  | 81848/225280 [00:31<00:50, 2849.22 examples/s]"
     ]
    },
    {
     "name": "stderr",
     "output_type": "stream",
     "text": [
      "\r",
      "Generating train split:  37%|█████████████████████████████                                                  | 82848/225280 [00:31<00:44, 3190.04 examples/s]"
     ]
    },
    {
     "name": "stderr",
     "output_type": "stream",
     "text": [
      "\r",
      "Generating train split:  37%|█████████████████████████████▍                                                 | 83848/225280 [00:31<00:39, 3580.34 examples/s]"
     ]
    },
    {
     "name": "stderr",
     "output_type": "stream",
     "text": [
      "\r",
      "Generating train split:  38%|█████████████████████████████▉                                                 | 85480/225280 [00:32<00:48, 2855.60 examples/s]"
     ]
    },
    {
     "name": "stderr",
     "output_type": "stream",
     "text": [
      "\r",
      "Generating train split:  38%|██████████████████████████████▎                                                | 86480/225280 [00:32<00:44, 3105.20 examples/s]"
     ]
    },
    {
     "name": "stderr",
     "output_type": "stream",
     "text": [
      "\r",
      "Generating train split:  39%|██████████████████████████████▋                                                | 87480/225280 [00:32<00:43, 3196.32 examples/s]"
     ]
    },
    {
     "name": "stderr",
     "output_type": "stream",
     "text": [
      "\r",
      "Generating train split:  39%|███████████████████████████████                                                | 88480/225280 [00:33<00:40, 3389.71 examples/s]"
     ]
    },
    {
     "name": "stderr",
     "output_type": "stream",
     "text": [
      "\r",
      "Generating train split:  40%|███████████████████████████████▍                                               | 89480/225280 [00:33<00:34, 3934.42 examples/s]"
     ]
    },
    {
     "name": "stderr",
     "output_type": "stream",
     "text": [
      "\r",
      "Generating train split:  40%|███████████████████████████████▉                                               | 91112/225280 [00:34<00:43, 3107.37 examples/s]"
     ]
    },
    {
     "name": "stderr",
     "output_type": "stream",
     "text": [
      "\r",
      "Generating train split:  41%|████████████████████████████████▎                                              | 92112/225280 [00:34<00:40, 3273.65 examples/s]"
     ]
    },
    {
     "name": "stderr",
     "output_type": "stream",
     "text": [
      "\r",
      "Generating train split:  41%|████████████████████████████████▋                                              | 93112/225280 [00:34<00:38, 3431.91 examples/s]"
     ]
    },
    {
     "name": "stderr",
     "output_type": "stream",
     "text": [
      "\r",
      "Generating train split:  42%|█████████████████████████████████                                              | 94112/225280 [00:34<00:37, 3501.15 examples/s]"
     ]
    },
    {
     "name": "stderr",
     "output_type": "stream",
     "text": [
      "\r",
      "Generating train split:  42%|█████████████████████████████████▎                                             | 95112/225280 [00:34<00:32, 3962.94 examples/s]"
     ]
    },
    {
     "name": "stderr",
     "output_type": "stream",
     "text": [
      "\r",
      "Generating train split:  43%|█████████████████████████████████▉                                             | 96744/225280 [00:35<00:46, 2780.01 examples/s]"
     ]
    },
    {
     "name": "stderr",
     "output_type": "stream",
     "text": [
      "\r",
      "Generating train split:  43%|██████████████████████████████████▎                                            | 97744/225280 [00:36<00:45, 2811.14 examples/s]"
     ]
    },
    {
     "name": "stderr",
     "output_type": "stream",
     "text": [
      "\r",
      "Generating train split:  44%|██████████████████████████████████▋                                            | 98744/225280 [00:36<00:40, 3110.04 examples/s]"
     ]
    },
    {
     "name": "stderr",
     "output_type": "stream",
     "text": [
      "\r",
      "Generating train split:  44%|██████████████████████████████████▉                                            | 99744/225280 [00:36<00:41, 3057.60 examples/s]"
     ]
    },
    {
     "name": "stderr",
     "output_type": "stream",
     "text": [
      "\r",
      "Generating train split:  45%|██████████████████████████████████▉                                           | 100744/225280 [00:36<00:37, 3334.66 examples/s]"
     ]
    },
    {
     "name": "stderr",
     "output_type": "stream",
     "text": [
      "\r",
      "Generating train split:  45%|███████████████████████████████████▍                                          | 102376/225280 [00:37<00:43, 2807.71 examples/s]"
     ]
    },
    {
     "name": "stderr",
     "output_type": "stream",
     "text": [
      "\r",
      "Generating train split:  46%|███████████████████████████████████▊                                          | 103376/225280 [00:37<00:39, 3067.71 examples/s]"
     ]
    },
    {
     "name": "stderr",
     "output_type": "stream",
     "text": [
      "\r",
      "Generating train split:  46%|████████████████████████████████████▏                                         | 104376/225280 [00:38<00:37, 3238.80 examples/s]"
     ]
    },
    {
     "name": "stderr",
     "output_type": "stream",
     "text": [
      "\r",
      "Generating train split:  47%|████████████████████████████████████▍                                         | 105376/225280 [00:38<00:33, 3601.12 examples/s]"
     ]
    },
    {
     "name": "stderr",
     "output_type": "stream",
     "text": [
      "\r",
      "Generating train split:  47%|████████████████████████████████████▊                                         | 106376/225280 [00:38<00:29, 4072.58 examples/s]"
     ]
    },
    {
     "name": "stderr",
     "output_type": "stream",
     "text": [
      "\r",
      "Generating train split:  48%|█████████████████████████████████████▍                                        | 108008/225280 [00:39<00:37, 3130.67 examples/s]"
     ]
    },
    {
     "name": "stderr",
     "output_type": "stream",
     "text": [
      "\r",
      "Generating train split:  48%|█████████████████████████████████████▋                                        | 109008/225280 [00:39<00:37, 3075.61 examples/s]"
     ]
    },
    {
     "name": "stderr",
     "output_type": "stream",
     "text": [
      "\r",
      "Generating train split:  49%|██████████████████████████████████████                                        | 110008/225280 [00:39<00:37, 3113.87 examples/s]"
     ]
    },
    {
     "name": "stderr",
     "output_type": "stream",
     "text": [
      "\r",
      "Generating train split:  49%|██████████████████████████████████████▍                                       | 111008/225280 [00:40<00:34, 3319.86 examples/s]"
     ]
    },
    {
     "name": "stderr",
     "output_type": "stream",
     "text": [
      "\r",
      "Generating train split:  50%|██████████████████████████████████████▊                                       | 112008/225280 [00:40<00:30, 3725.83 examples/s]"
     ]
    },
    {
     "name": "stderr",
     "output_type": "stream",
     "text": [
      "\r",
      "Generating train split:  50%|███████████████████████████████████████▎                                      | 113640/225280 [00:41<00:37, 2962.89 examples/s]"
     ]
    },
    {
     "name": "stderr",
     "output_type": "stream",
     "text": [
      "\r",
      "Generating train split:  51%|███████████████████████████████████████▋                                      | 114640/225280 [00:41<00:34, 3245.25 examples/s]"
     ]
    },
    {
     "name": "stderr",
     "output_type": "stream",
     "text": [
      "\r",
      "Generating train split:  51%|████████████████████████████████████████                                      | 115640/225280 [00:41<00:32, 3408.65 examples/s]"
     ]
    },
    {
     "name": "stderr",
     "output_type": "stream",
     "text": [
      "\r",
      "Generating train split:  52%|████████████████████████████████████████▍                                     | 116640/225280 [00:41<00:29, 3660.17 examples/s]"
     ]
    },
    {
     "name": "stderr",
     "output_type": "stream",
     "text": [
      "\r",
      "Generating train split:  52%|████████████████████████████████████████▋                                     | 117640/225280 [00:41<00:26, 4069.83 examples/s]"
     ]
    },
    {
     "name": "stderr",
     "output_type": "stream",
     "text": [
      "\r",
      "Generating train split:  53%|█████████████████████████████████████████▎                                    | 119272/225280 [00:42<00:34, 3068.71 examples/s]"
     ]
    },
    {
     "name": "stderr",
     "output_type": "stream",
     "text": [
      "\r",
      "Generating train split:  53%|█████████████████████████████████████████▋                                    | 120272/225280 [00:42<00:31, 3330.50 examples/s]"
     ]
    },
    {
     "name": "stderr",
     "output_type": "stream",
     "text": [
      "\r",
      "Generating train split:  54%|█████████████████████████████████████████▉                                    | 121272/225280 [00:43<00:29, 3477.50 examples/s]"
     ]
    },
    {
     "name": "stderr",
     "output_type": "stream",
     "text": [
      "\r",
      "Generating train split:  54%|██████████████████████████████████████████▎                                   | 122272/225280 [00:43<00:28, 3561.75 examples/s]"
     ]
    },
    {
     "name": "stderr",
     "output_type": "stream",
     "text": [
      "\r",
      "Generating train split:  55%|██████████████████████████████████████████▋                                   | 123272/225280 [00:43<00:25, 3960.76 examples/s]"
     ]
    },
    {
     "name": "stderr",
     "output_type": "stream",
     "text": [
      "\r",
      "Generating train split:  55%|███████████████████████████████████████████▏                                  | 124904/225280 [00:44<00:32, 3117.06 examples/s]"
     ]
    },
    {
     "name": "stderr",
     "output_type": "stream",
     "text": [
      "\r",
      "Generating train split:  56%|███████████████████████████████████████████▌                                  | 125904/225280 [00:44<00:31, 3160.14 examples/s]"
     ]
    },
    {
     "name": "stderr",
     "output_type": "stream",
     "text": [
      "\r",
      "Generating train split:  56%|███████████████████████████████████████████▉                                  | 126904/225280 [00:44<00:28, 3400.55 examples/s]"
     ]
    },
    {
     "name": "stderr",
     "output_type": "stream",
     "text": [
      "\r",
      "Generating train split:  57%|████████████████████████████████████████████▎                                 | 127904/225280 [00:45<00:27, 3529.86 examples/s]"
     ]
    },
    {
     "name": "stderr",
     "output_type": "stream",
     "text": [
      "\r",
      "Generating train split:  57%|████████████████████████████████████████████▋                                 | 128904/225280 [00:45<00:24, 3900.79 examples/s]"
     ]
    },
    {
     "name": "stderr",
     "output_type": "stream",
     "text": [
      "\r",
      "Generating train split:  58%|█████████████████████████████████████████████▏                                | 130536/225280 [00:46<00:35, 2660.88 examples/s]"
     ]
    },
    {
     "name": "stderr",
     "output_type": "stream",
     "text": [
      "\r",
      "Generating train split:  58%|█████████████████████████████████████████████▌                                | 131536/225280 [00:46<00:29, 3159.88 examples/s]"
     ]
    },
    {
     "name": "stderr",
     "output_type": "stream",
     "text": [
      "\r",
      "Generating train split:  59%|█████████████████████████████████████████████▉                                | 132536/225280 [00:46<00:27, 3374.92 examples/s]"
     ]
    },
    {
     "name": "stderr",
     "output_type": "stream",
     "text": [
      "\r",
      "Generating train split:  59%|██████████████████████████████████████████████▏                               | 133536/225280 [00:46<00:25, 3592.87 examples/s]"
     ]
    },
    {
     "name": "stderr",
     "output_type": "stream",
     "text": [
      "\r",
      "Generating train split:  60%|██████████████████████████████████████████████▌                               | 134536/225280 [00:47<00:23, 3812.79 examples/s]"
     ]
    },
    {
     "name": "stderr",
     "output_type": "stream",
     "text": [
      "\r",
      "Generating train split:  60%|███████████████████████████████████████████████▏                              | 136168/225280 [00:47<00:29, 3005.40 examples/s]"
     ]
    },
    {
     "name": "stderr",
     "output_type": "stream",
     "text": [
      "\r",
      "Generating train split:  61%|███████████████████████████████████████████████▍                              | 137168/225280 [00:48<00:30, 2911.20 examples/s]"
     ]
    },
    {
     "name": "stderr",
     "output_type": "stream",
     "text": [
      "\r",
      "Generating train split:  61%|███████████████████████████████████████████████▊                              | 138168/225280 [00:48<00:27, 3181.66 examples/s]"
     ]
    },
    {
     "name": "stderr",
     "output_type": "stream",
     "text": [
      "\r",
      "Generating train split:  62%|████████████████████████████████████████████████▏                             | 139168/225280 [00:48<00:25, 3396.76 examples/s]"
     ]
    },
    {
     "name": "stderr",
     "output_type": "stream",
     "text": [
      "\r",
      "Generating train split:  62%|████████████████████████████████████████████████▌                             | 140168/225280 [00:48<00:21, 3894.50 examples/s]"
     ]
    },
    {
     "name": "stderr",
     "output_type": "stream",
     "text": [
      "\r",
      "Generating train split:  63%|█████████████████████████████████████████████████                             | 141800/225280 [00:49<00:27, 3014.65 examples/s]"
     ]
    },
    {
     "name": "stderr",
     "output_type": "stream",
     "text": [
      "\r",
      "Generating train split:  63%|█████████████████████████████████████████████████▍                            | 142800/225280 [00:49<00:25, 3235.23 examples/s]"
     ]
    },
    {
     "name": "stderr",
     "output_type": "stream",
     "text": [
      "\r",
      "Generating train split:  64%|█████████████████████████████████████████████████▊                            | 143800/225280 [00:49<00:23, 3492.81 examples/s]"
     ]
    },
    {
     "name": "stderr",
     "output_type": "stream",
     "text": [
      "\r",
      "Generating train split:  64%|██████████████████████████████████████████████████▏                           | 144800/225280 [00:50<00:22, 3617.43 examples/s]"
     ]
    },
    {
     "name": "stderr",
     "output_type": "stream",
     "text": [
      "\r",
      "Generating train split:  65%|██████████████████████████████████████████████████▍                           | 145800/225280 [00:50<00:20, 3908.34 examples/s]"
     ]
    },
    {
     "name": "stderr",
     "output_type": "stream",
     "text": [
      "\r",
      "Generating train split:  65%|███████████████████████████████████████████████████                           | 147432/225280 [00:51<00:26, 2936.56 examples/s]"
     ]
    },
    {
     "name": "stderr",
     "output_type": "stream",
     "text": [
      "\r",
      "Generating train split:  66%|███████████████████████████████████████████████████▍                          | 148432/225280 [00:51<00:24, 3182.47 examples/s]"
     ]
    },
    {
     "name": "stderr",
     "output_type": "stream",
     "text": [
      "\r",
      "Generating train split:  66%|███████████████████████████████████████████████████▋                          | 149432/225280 [00:51<00:22, 3388.86 examples/s]"
     ]
    },
    {
     "name": "stderr",
     "output_type": "stream",
     "text": [
      "\r",
      "Generating train split:  67%|████████████████████████████████████████████████████                          | 150432/225280 [00:51<00:20, 3568.13 examples/s]"
     ]
    },
    {
     "name": "stderr",
     "output_type": "stream",
     "text": [
      "\r",
      "Generating train split:  67%|████████████████████████████████████████████████████▍                         | 151432/225280 [00:52<00:18, 3935.71 examples/s]"
     ]
    },
    {
     "name": "stderr",
     "output_type": "stream",
     "text": [
      "\r",
      "Generating train split:  68%|████████████████████████████████████████████████████▉                         | 153064/225280 [00:52<00:22, 3163.32 examples/s]"
     ]
    },
    {
     "name": "stderr",
     "output_type": "stream",
     "text": [
      "\r",
      "Generating train split:  68%|█████████████████████████████████████████████████████▎                        | 154064/225280 [00:52<00:20, 3405.25 examples/s]"
     ]
    },
    {
     "name": "stderr",
     "output_type": "stream",
     "text": [
      "\r",
      "Generating train split:  69%|█████████████████████████████████████████████████████▋                        | 155064/225280 [00:53<00:19, 3577.50 examples/s]"
     ]
    },
    {
     "name": "stderr",
     "output_type": "stream",
     "text": [
      "\r",
      "Generating train split:  69%|██████████████████████████████████████████████████████                        | 156064/225280 [00:53<00:18, 3746.59 examples/s]"
     ]
    },
    {
     "name": "stderr",
     "output_type": "stream",
     "text": [
      "\r",
      "Generating train split:  70%|██████████████████████████████████████████████████████▍                       | 157064/225280 [00:53<00:15, 4267.95 examples/s]"
     ]
    },
    {
     "name": "stderr",
     "output_type": "stream",
     "text": [
      "\r",
      "Generating train split:  70%|██████████████████████████████████████████████████████▉                       | 158696/225280 [00:54<00:20, 3187.38 examples/s]"
     ]
    },
    {
     "name": "stderr",
     "output_type": "stream",
     "text": [
      "\r",
      "Generating train split:  71%|███████████████████████████████████████████████████████▎                      | 159696/225280 [00:54<00:20, 3261.59 examples/s]"
     ]
    },
    {
     "name": "stderr",
     "output_type": "stream",
     "text": [
      "\r",
      "Generating train split:  71%|███████████████████████████████████████████████████████▋                      | 160696/225280 [00:54<00:18, 3476.28 examples/s]"
     ]
    },
    {
     "name": "stderr",
     "output_type": "stream",
     "text": [
      "\r",
      "Generating train split:  72%|███████████████████████████████████████████████████████▉                      | 161696/225280 [00:55<00:17, 3659.71 examples/s]"
     ]
    },
    {
     "name": "stderr",
     "output_type": "stream",
     "text": [
      "\r",
      "Generating train split:  72%|████████████████████████████████████████████████████████▎                     | 162696/225280 [00:55<00:15, 4153.83 examples/s]"
     ]
    },
    {
     "name": "stderr",
     "output_type": "stream",
     "text": [
      "\r",
      "Generating train split:  73%|████████████████████████████████████████████████████████▉                     | 164328/225280 [00:55<00:19, 3195.46 examples/s]"
     ]
    },
    {
     "name": "stderr",
     "output_type": "stream",
     "text": [
      "\r",
      "Generating train split:  73%|█████████████████████████████████████████████████████████▏                    | 165328/225280 [00:56<00:17, 3462.48 examples/s]"
     ]
    },
    {
     "name": "stderr",
     "output_type": "stream",
     "text": [
      "\r",
      "Generating train split:  74%|█████████████████████████████████████████████████████████▌                    | 166328/225280 [00:56<00:16, 3602.60 examples/s]"
     ]
    },
    {
     "name": "stderr",
     "output_type": "stream",
     "text": [
      "\r",
      "Generating train split:  74%|█████████████████████████████████████████████████████████▉                    | 167328/225280 [00:56<00:15, 3748.59 examples/s]"
     ]
    },
    {
     "name": "stderr",
     "output_type": "stream",
     "text": [
      "\r",
      "Generating train split:  75%|██████████████████████████████████████████████████████████▎                   | 168328/225280 [00:56<00:13, 4207.55 examples/s]"
     ]
    },
    {
     "name": "stderr",
     "output_type": "stream",
     "text": [
      "\r",
      "Generating train split:  75%|██████████████████████████████████████████████████████████▊                   | 169960/225280 [00:57<00:17, 3117.75 examples/s]"
     ]
    },
    {
     "name": "stderr",
     "output_type": "stream",
     "text": [
      "\r",
      "Generating train split:  76%|███████████████████████████████████████████████████████████▏                  | 170960/225280 [00:57<00:16, 3272.85 examples/s]"
     ]
    },
    {
     "name": "stderr",
     "output_type": "stream",
     "text": [
      "\r",
      "Generating train split:  76%|███████████████████████████████████████████████████████████▌                  | 171960/225280 [00:58<00:15, 3407.57 examples/s]"
     ]
    },
    {
     "name": "stderr",
     "output_type": "stream",
     "text": [
      "\r",
      "Generating train split:  77%|███████████████████████████████████████████████████████████▉                  | 172960/225280 [00:58<00:14, 3526.00 examples/s]"
     ]
    },
    {
     "name": "stderr",
     "output_type": "stream",
     "text": [
      "\r",
      "Generating train split:  77%|████████████████████████████████████████████████████████████▏                 | 173960/225280 [00:58<00:12, 4034.34 examples/s]"
     ]
    },
    {
     "name": "stderr",
     "output_type": "stream",
     "text": [
      "\r",
      "Generating train split:  78%|████████████████████████████████████████████████████████████▊                 | 175592/225280 [00:59<00:15, 3157.58 examples/s]"
     ]
    },
    {
     "name": "stderr",
     "output_type": "stream",
     "text": [
      "\r",
      "Generating train split:  78%|█████████████████████████████████████████████████████████████▏                | 176592/225280 [00:59<00:14, 3405.75 examples/s]"
     ]
    },
    {
     "name": "stderr",
     "output_type": "stream",
     "text": [
      "\r",
      "Generating train split:  79%|█████████████████████████████████████████████████████████████▍                | 177592/225280 [00:59<00:13, 3536.14 examples/s]"
     ]
    },
    {
     "name": "stderr",
     "output_type": "stream",
     "text": [
      "\r",
      "Generating train split:  79%|█████████████████████████████████████████████████████████████▊                | 178592/225280 [00:59<00:12, 3805.76 examples/s]"
     ]
    },
    {
     "name": "stderr",
     "output_type": "stream",
     "text": [
      "\r",
      "Generating train split:  80%|██████████████████████████████████████████████████████████████▏               | 179592/225280 [00:59<00:10, 4240.59 examples/s]"
     ]
    },
    {
     "name": "stderr",
     "output_type": "stream",
     "text": [
      "\r",
      "Generating train split:  80%|██████████████████████████████████████████████████████████████▋               | 181224/225280 [01:00<00:13, 3163.01 examples/s]"
     ]
    },
    {
     "name": "stderr",
     "output_type": "stream",
     "text": [
      "\r",
      "Generating train split:  81%|███████████████████████████████████████████████████████████████               | 182224/225280 [01:00<00:12, 3344.96 examples/s]"
     ]
    },
    {
     "name": "stderr",
     "output_type": "stream",
     "text": [
      "\r",
      "Generating train split:  81%|███████████████████████████████████████████████████████████████▍              | 183224/225280 [01:01<00:12, 3488.10 examples/s]"
     ]
    },
    {
     "name": "stderr",
     "output_type": "stream",
     "text": [
      "\r",
      "Generating train split:  82%|███████████████████████████████████████████████████████████████▊              | 184224/225280 [01:01<00:11, 3600.56 examples/s]"
     ]
    },
    {
     "name": "stderr",
     "output_type": "stream",
     "text": [
      "\r",
      "Generating train split:  82%|████████████████████████████████████████████████████████████████▏             | 185224/225280 [01:01<00:09, 4151.35 examples/s]"
     ]
    },
    {
     "name": "stderr",
     "output_type": "stream",
     "text": [
      "\r",
      "Generating train split:  83%|████████████████████████████████████████████████████████████████▋             | 186856/225280 [01:02<00:12, 3121.85 examples/s]"
     ]
    },
    {
     "name": "stderr",
     "output_type": "stream",
     "text": [
      "\r",
      "Generating train split:  83%|█████████████████████████████████████████████████████████████████             | 187856/225280 [01:02<00:11, 3296.41 examples/s]"
     ]
    },
    {
     "name": "stderr",
     "output_type": "stream",
     "text": [
      "\r",
      "Generating train split:  84%|█████████████████████████████████████████████████████████████████▍            | 188856/225280 [01:02<00:10, 3551.85 examples/s]"
     ]
    },
    {
     "name": "stderr",
     "output_type": "stream",
     "text": [
      "\r",
      "Generating train split:  84%|█████████████████████████████████████████████████████████████████▋            | 189856/225280 [01:03<00:09, 3616.76 examples/s]"
     ]
    },
    {
     "name": "stderr",
     "output_type": "stream",
     "text": [
      "\r",
      "Generating train split:  85%|██████████████████████████████████████████████████████████████████            | 190856/225280 [01:03<00:08, 3981.21 examples/s]"
     ]
    },
    {
     "name": "stderr",
     "output_type": "stream",
     "text": [
      "\r",
      "Generating train split:  85%|██████████████████████████████████████████████████████████████████▋           | 192488/225280 [01:03<00:10, 3134.19 examples/s]"
     ]
    },
    {
     "name": "stderr",
     "output_type": "stream",
     "text": [
      "\r",
      "Generating train split:  86%|██████████████████████████████████████████████████████████████████▉           | 193488/225280 [01:04<00:09, 3298.19 examples/s]"
     ]
    },
    {
     "name": "stderr",
     "output_type": "stream",
     "text": [
      "\r",
      "Generating train split:  86%|███████████████████████████████████████████████████████████████████▎          | 194488/225280 [01:04<00:09, 3360.16 examples/s]"
     ]
    },
    {
     "name": "stderr",
     "output_type": "stream",
     "text": [
      "\r",
      "Generating train split:  87%|███████████████████████████████████████████████████████████████████▋          | 195488/225280 [01:04<00:08, 3501.65 examples/s]"
     ]
    },
    {
     "name": "stderr",
     "output_type": "stream",
     "text": [
      "\r",
      "Generating train split:  87%|████████████████████████████████████████████████████████████████████          | 196488/225280 [01:04<00:07, 3986.81 examples/s]"
     ]
    },
    {
     "name": "stderr",
     "output_type": "stream",
     "text": [
      "\r",
      "Generating train split:  88%|████████████████████████████████████████████████████████████████████▌         | 198120/225280 [01:05<00:08, 3110.78 examples/s]"
     ]
    },
    {
     "name": "stderr",
     "output_type": "stream",
     "text": [
      "\r",
      "Generating train split:  88%|████████████████████████████████████████████████████████████████████▉         | 199120/225280 [01:05<00:07, 3287.56 examples/s]"
     ]
    },
    {
     "name": "stderr",
     "output_type": "stream",
     "text": [
      "\r",
      "Generating train split:  89%|█████████████████████████████████████████████████████████████████████▎        | 200120/225280 [01:06<00:07, 3426.95 examples/s]"
     ]
    },
    {
     "name": "stderr",
     "output_type": "stream",
     "text": [
      "\r",
      "Generating train split:  89%|█████████████████████████████████████████████████████████████████████▋        | 201120/225280 [01:06<00:06, 3496.21 examples/s]"
     ]
    },
    {
     "name": "stderr",
     "output_type": "stream",
     "text": [
      "\r",
      "Generating train split:  90%|█████████████████████████████████████████████████████████████████████▉        | 202120/225280 [01:06<00:05, 4002.68 examples/s]"
     ]
    },
    {
     "name": "stderr",
     "output_type": "stream",
     "text": [
      "\r",
      "Generating train split:  90%|██████████████████████████████████████████████████████████████████████▌       | 203752/225280 [01:07<00:06, 3109.65 examples/s]"
     ]
    },
    {
     "name": "stderr",
     "output_type": "stream",
     "text": [
      "\r",
      "Generating train split:  91%|██████████████████████████████████████████████████████████████████████▉       | 204752/225280 [01:07<00:05, 3439.42 examples/s]"
     ]
    },
    {
     "name": "stderr",
     "output_type": "stream",
     "text": [
      "\r",
      "Generating train split:  91%|███████████████████████████████████████████████████████████████████████▏      | 205752/225280 [01:07<00:05, 3667.07 examples/s]"
     ]
    },
    {
     "name": "stderr",
     "output_type": "stream",
     "text": [
      "\r",
      "Generating train split:  92%|███████████████████████████████████████████████████████████████████████▌      | 206752/225280 [01:07<00:05, 3667.79 examples/s]"
     ]
    },
    {
     "name": "stderr",
     "output_type": "stream",
     "text": [
      "\r",
      "Generating train split:  92%|███████████████████████████████████████████████████████████████████████▉      | 207752/225280 [01:08<00:04, 4154.89 examples/s]"
     ]
    },
    {
     "name": "stderr",
     "output_type": "stream",
     "text": [
      "\r",
      "Generating train split:  93%|████████████████████████████████████████████████████████████████████████▍     | 209384/225280 [01:08<00:05, 3045.55 examples/s]"
     ]
    },
    {
     "name": "stderr",
     "output_type": "stream",
     "text": [
      "\r",
      "Generating train split:  93%|████████████████████████████████████████████████████████████████████████▊     | 210384/225280 [01:09<00:04, 3233.97 examples/s]"
     ]
    },
    {
     "name": "stderr",
     "output_type": "stream",
     "text": [
      "\r",
      "Generating train split:  94%|█████████████████████████████████████████████████████████████████████████▏    | 211384/225280 [01:09<00:04, 3449.52 examples/s]"
     ]
    },
    {
     "name": "stderr",
     "output_type": "stream",
     "text": [
      "\r",
      "Generating train split:  94%|█████████████████████████████████████████████████████████████████████████▌    | 212384/225280 [01:09<00:03, 3362.22 examples/s]"
     ]
    },
    {
     "name": "stderr",
     "output_type": "stream",
     "text": [
      "\r",
      "Generating train split:  95%|█████████████████████████████████████████████████████████████████████████▉    | 213384/225280 [01:09<00:03, 3821.27 examples/s]"
     ]
    },
    {
     "name": "stderr",
     "output_type": "stream",
     "text": [
      "\r",
      "Generating train split:  95%|██████████████████████████████████████████████████████████████████████████▍   | 215016/225280 [01:10<00:03, 2960.03 examples/s]"
     ]
    },
    {
     "name": "stderr",
     "output_type": "stream",
     "text": [
      "\r",
      "Generating train split:  96%|██████████████████████████████████████████████████████████████████████████▊   | 216016/225280 [01:10<00:03, 2982.71 examples/s]"
     ]
    },
    {
     "name": "stderr",
     "output_type": "stream",
     "text": [
      "\r",
      "Generating train split:  96%|███████████████████████████████████████████████████████████████████████████▏  | 217016/225280 [01:11<00:02, 3215.26 examples/s]"
     ]
    },
    {
     "name": "stderr",
     "output_type": "stream",
     "text": [
      "\r",
      "Generating train split:  97%|███████████████████████████████████████████████████████████████████████████▍  | 218016/225280 [01:11<00:02, 3417.91 examples/s]"
     ]
    },
    {
     "name": "stderr",
     "output_type": "stream",
     "text": [
      "\r",
      "Generating train split:  97%|███████████████████████████████████████████████████████████████████████████▊  | 219016/225280 [01:11<00:01, 3773.45 examples/s]"
     ]
    },
    {
     "name": "stderr",
     "output_type": "stream",
     "text": [
      "\r",
      "Generating train split:  98%|████████████████████████████████████████████████████████████████████████████▍ | 220648/225280 [01:12<00:01, 2998.94 examples/s]"
     ]
    },
    {
     "name": "stderr",
     "output_type": "stream",
     "text": [
      "\r",
      "Generating train split:  98%|████████████████████████████████████████████████████████████████████████████▋ | 221648/225280 [01:12<00:01, 3252.53 examples/s]"
     ]
    },
    {
     "name": "stderr",
     "output_type": "stream",
     "text": [
      "\r",
      "Generating train split:  99%|█████████████████████████████████████████████████████████████████████████████ | 222648/225280 [01:12<00:00, 3409.02 examples/s]"
     ]
    },
    {
     "name": "stderr",
     "output_type": "stream",
     "text": [
      "\r",
      "Generating train split:  99%|█████████████████████████████████████████████████████████████████████████████▍| 223648/225280 [01:13<00:00, 3611.19 examples/s]"
     ]
    },
    {
     "name": "stderr",
     "output_type": "stream",
     "text": [
      "\r",
      "Generating train split: 100%|█████████████████████████████████████████████████████████████████████████████▊| 224648/225280 [01:13<00:00, 4113.49 examples/s]"
     ]
    },
    {
     "name": "stderr",
     "output_type": "stream",
     "text": [
      "\r",
      "Generating train split: 100%|██████████████████████████████████████████████████████████████████████████████| 225280/225280 [01:13<00:00, 4409.24 examples/s]"
     ]
    },
    {
     "name": "stderr",
     "output_type": "stream",
     "text": [
      "\r",
      "Generating train split: 100%|██████████████████████████████████████████████████████████████████████████████| 225280/225280 [01:13<00:00, 3073.90 examples/s]"
     ]
    },
    {
     "name": "stderr",
     "output_type": "stream",
     "text": [
      "\n"
     ]
    },
    {
     "name": "stderr",
     "output_type": "stream",
     "text": [
      "\r",
      "Saving the dataset (0/27 shards):   0%|                                                                                   | 0/225280 [00:00<?, ? examples/s]"
     ]
    },
    {
     "name": "stderr",
     "output_type": "stream",
     "text": [
      "\r",
      "Saving the dataset (0/27 shards):   1%|▌                                                                    | 2000/225280 [00:00<00:20, 11066.58 examples/s]"
     ]
    },
    {
     "name": "stderr",
     "output_type": "stream",
     "text": [
      "\r",
      "Saving the dataset (0/27 shards):   2%|█▏                                                                   | 4000/225280 [00:00<00:19, 11108.89 examples/s]"
     ]
    },
    {
     "name": "stderr",
     "output_type": "stream",
     "text": [
      "\r",
      "Saving the dataset (0/27 shards):   3%|█▊                                                                   | 6000/225280 [00:00<00:21, 10346.68 examples/s]"
     ]
    },
    {
     "name": "stderr",
     "output_type": "stream",
     "text": [
      "\r",
      "Saving the dataset (0/27 shards):   4%|██▍                                                                   | 8000/225280 [00:00<00:22, 9473.17 examples/s]"
     ]
    },
    {
     "name": "stderr",
     "output_type": "stream",
     "text": [
      "\r",
      "Saving the dataset (1/27 shards):   4%|██▌                                                                   | 8344/225280 [00:00<00:22, 9473.17 examples/s]"
     ]
    },
    {
     "name": "stderr",
     "output_type": "stream",
     "text": [
      "\r",
      "Saving the dataset (1/27 shards):   4%|██▉                                                                   | 9344/225280 [00:00<00:23, 9197.47 examples/s]"
     ]
    },
    {
     "name": "stderr",
     "output_type": "stream",
     "text": [
      "\r",
      "Saving the dataset (1/27 shards):   5%|███▏                                                                 | 10344/225280 [00:01<00:24, 8942.18 examples/s]"
     ]
    },
    {
     "name": "stderr",
     "output_type": "stream",
     "text": [
      "\r",
      "Saving the dataset (1/27 shards):   5%|███▍                                                                 | 11344/225280 [00:01<00:24, 8767.46 examples/s]"
     ]
    },
    {
     "name": "stderr",
     "output_type": "stream",
     "text": [
      "\r",
      "Saving the dataset (1/27 shards):   5%|███▊                                                                 | 12344/225280 [00:01<00:24, 8658.47 examples/s]"
     ]
    },
    {
     "name": "stderr",
     "output_type": "stream",
     "text": [
      "\r",
      "Saving the dataset (1/27 shards):   6%|████                                                                 | 13344/225280 [00:01<00:24, 8562.90 examples/s]"
     ]
    },
    {
     "name": "stderr",
     "output_type": "stream",
     "text": [
      "\r",
      "Saving the dataset (1/27 shards):   6%|████▍                                                                | 14344/225280 [00:01<00:24, 8514.46 examples/s]"
     ]
    },
    {
     "name": "stderr",
     "output_type": "stream",
     "text": [
      "\r",
      "Saving the dataset (1/27 shards):   7%|████▋                                                                | 15344/225280 [00:01<00:25, 8366.05 examples/s]"
     ]
    },
    {
     "name": "stderr",
     "output_type": "stream",
     "text": [
      "\r",
      "Saving the dataset (1/27 shards):   7%|█████                                                                | 16344/225280 [00:01<00:24, 8432.42 examples/s]"
     ]
    },
    {
     "name": "stderr",
     "output_type": "stream",
     "text": [
      "\r",
      "Saving the dataset (2/27 shards):   7%|█████                                                                | 16688/225280 [00:01<00:24, 8432.42 examples/s]"
     ]
    },
    {
     "name": "stderr",
     "output_type": "stream",
     "text": [
      "\r",
      "Saving the dataset (2/27 shards):   8%|█████▍                                                               | 17688/225280 [00:01<00:24, 8419.94 examples/s]"
     ]
    },
    {
     "name": "stderr",
     "output_type": "stream",
     "text": [
      "\r",
      "Saving the dataset (2/27 shards):   8%|█████▋                                                               | 18688/225280 [00:02<00:24, 8443.08 examples/s]"
     ]
    },
    {
     "name": "stderr",
     "output_type": "stream",
     "text": [
      "\r",
      "Saving the dataset (2/27 shards):   9%|██████                                                               | 19688/225280 [00:02<00:24, 8473.08 examples/s]"
     ]
    },
    {
     "name": "stderr",
     "output_type": "stream",
     "text": [
      "\r",
      "Saving the dataset (2/27 shards):   9%|██████▎                                                              | 20688/225280 [00:02<00:24, 8497.83 examples/s]"
     ]
    },
    {
     "name": "stderr",
     "output_type": "stream",
     "text": [
      "\r",
      "Saving the dataset (2/27 shards):  10%|██████▋                                                              | 21688/225280 [00:02<00:23, 8568.52 examples/s]"
     ]
    },
    {
     "name": "stderr",
     "output_type": "stream",
     "text": [
      "\r",
      "Saving the dataset (2/27 shards):  10%|██████▉                                                              | 22688/225280 [00:02<00:23, 8483.27 examples/s]"
     ]
    },
    {
     "name": "stderr",
     "output_type": "stream",
     "text": [
      "\r",
      "Saving the dataset (2/27 shards):  11%|███████▎                                                             | 23688/225280 [00:02<00:24, 8307.36 examples/s]"
     ]
    },
    {
     "name": "stderr",
     "output_type": "stream",
     "text": [
      "\r",
      "Saving the dataset (2/27 shards):  11%|███████▌                                                             | 24688/225280 [00:02<00:24, 8080.65 examples/s]"
     ]
    },
    {
     "name": "stderr",
     "output_type": "stream",
     "text": [
      "\r",
      "Saving the dataset (3/27 shards):  11%|███████▋                                                             | 25032/225280 [00:02<00:24, 8080.65 examples/s]"
     ]
    },
    {
     "name": "stderr",
     "output_type": "stream",
     "text": [
      "\r",
      "Saving the dataset (3/27 shards):  12%|███████▉                                                             | 26032/225280 [00:02<00:24, 8200.04 examples/s]"
     ]
    },
    {
     "name": "stderr",
     "output_type": "stream",
     "text": [
      "\r",
      "Saving the dataset (3/27 shards):  12%|████████▎                                                            | 27032/225280 [00:03<00:23, 8273.01 examples/s]"
     ]
    },
    {
     "name": "stderr",
     "output_type": "stream",
     "text": [
      "\r",
      "Saving the dataset (3/27 shards):  12%|████████▌                                                            | 28032/225280 [00:03<00:23, 8399.78 examples/s]"
     ]
    },
    {
     "name": "stderr",
     "output_type": "stream",
     "text": [
      "\r",
      "Saving the dataset (3/27 shards):  13%|████████▉                                                            | 29032/225280 [00:03<00:23, 8470.89 examples/s]"
     ]
    },
    {
     "name": "stderr",
     "output_type": "stream",
     "text": [
      "\r",
      "Saving the dataset (3/27 shards):  13%|████████▉                                                            | 29032/225280 [00:03<00:24, 8147.79 examples/s]"
     ]
    },
    {
     "name": "stderr",
     "output_type": "stream",
     "text": [
      "\n"
     ]
    },
    {
     "name": "stdout",
     "output_type": "stream",
     "text": [
      "Failed to load weatherbench_daily from autogluon/chronos_datasets: [Errno 28] No space left on device\n",
      "Loading weatherbench_hourly_10m_u_component_of_wind...\n"
     ]
    },
    {
     "name": "stdout",
     "output_type": "stream",
     "text": [
      "Failed to load weatherbench_hourly_10m_u_component_of_wind from autogluon/chronos_datasets: [Errno 28] No space left on device: '/raid/decaro/_raid_decaro_autogluon___chronos_datasets_weatherbench_hourly_10m_u_component_of_wind_0.0.0_eeecad0b82a8c237e212ce6f8d1abecb513e2cec.lock'\n",
      "Loading weatherbench_hourly_10m_v_component_of_wind...\n"
     ]
    },
    {
     "name": "stdout",
     "output_type": "stream",
     "text": [
      "Failed to load weatherbench_hourly_10m_v_component_of_wind from autogluon/chronos_datasets: [Errno 28] No space left on device: '/raid/decaro/_raid_decaro_autogluon___chronos_datasets_weatherbench_hourly_10m_v_component_of_wind_0.0.0_eeecad0b82a8c237e212ce6f8d1abecb513e2cec.lock'\n",
      "Loading weatherbench_hourly_2m_temperature...\n"
     ]
    },
    {
     "name": "stdout",
     "output_type": "stream",
     "text": [
      "Failed to load weatherbench_hourly_2m_temperature from autogluon/chronos_datasets: [Errno 28] No space left on device: '/raid/decaro/_raid_decaro_autogluon___chronos_datasets_weatherbench_hourly_2m_temperature_0.0.0_eeecad0b82a8c237e212ce6f8d1abecb513e2cec.lock'\n",
      "Loading weatherbench_hourly_geopotential...\n"
     ]
    },
    {
     "name": "stdout",
     "output_type": "stream",
     "text": [
      "Failed to load weatherbench_hourly_geopotential from autogluon/chronos_datasets: [Errno 28] No space left on device: '/raid/decaro/_raid_decaro_autogluon___chronos_datasets_weatherbench_hourly_geopotential_0.0.0_eeecad0b82a8c237e212ce6f8d1abecb513e2cec.lock'\n",
      "Loading weatherbench_hourly_potential_vorticity...\n"
     ]
    },
    {
     "name": "stdout",
     "output_type": "stream",
     "text": [
      "Failed to load weatherbench_hourly_potential_vorticity from autogluon/chronos_datasets: [Errno 28] No space left on device: '/raid/decaro/_raid_decaro_autogluon___chronos_datasets_weatherbench_hourly_potential_vorticity_0.0.0_eeecad0b82a8c237e212ce6f8d1abecb513e2cec.lock'\n",
      "Loading weatherbench_hourly_relative_humidity...\n"
     ]
    },
    {
     "name": "stdout",
     "output_type": "stream",
     "text": [
      "Failed to load weatherbench_hourly_relative_humidity from autogluon/chronos_datasets: [Errno 28] No space left on device: '/raid/decaro/_raid_decaro_autogluon___chronos_datasets_weatherbench_hourly_relative_humidity_0.0.0_eeecad0b82a8c237e212ce6f8d1abecb513e2cec.lock'\n",
      "Loading weatherbench_hourly_specific_humidity...\n"
     ]
    },
    {
     "name": "stdout",
     "output_type": "stream",
     "text": [
      "Failed to load weatherbench_hourly_specific_humidity from autogluon/chronos_datasets: [Errno 28] No space left on device: '/raid/decaro/_raid_decaro_autogluon___chronos_datasets_weatherbench_hourly_specific_humidity_0.0.0_eeecad0b82a8c237e212ce6f8d1abecb513e2cec.lock'\n",
      "Loading weatherbench_hourly_temperature...\n"
     ]
    },
    {
     "name": "stdout",
     "output_type": "stream",
     "text": [
      "Failed to load weatherbench_hourly_temperature from autogluon/chronos_datasets: [Errno 28] No space left on device: '/raid/decaro/_raid_decaro_autogluon___chronos_datasets_weatherbench_hourly_temperature_0.0.0_eeecad0b82a8c237e212ce6f8d1abecb513e2cec.lock'\n",
      "Loading weatherbench_hourly_toa_incident_solar_radiation...\n"
     ]
    },
    {
     "name": "stdout",
     "output_type": "stream",
     "text": [
      "Failed to load weatherbench_hourly_toa_incident_solar_radiation from autogluon/chronos_datasets: [Errno 28] No space left on device: '/raid/decaro/_raid_decaro_autogluon___chronos_datasets_weatherbench_hourly_toa_incident_solar_radiation_0.0.0_eeecad0b82a8c237e212ce6f8d1abecb513e2cec.lock'\n",
      "Loading weatherbench_hourly_total_cloud_cover...\n"
     ]
    },
    {
     "name": "stdout",
     "output_type": "stream",
     "text": [
      "Failed to load weatherbench_hourly_total_cloud_cover from autogluon/chronos_datasets: [Errno 28] No space left on device: '/raid/decaro/_raid_decaro_autogluon___chronos_datasets_weatherbench_hourly_total_cloud_cover_0.0.0_eeecad0b82a8c237e212ce6f8d1abecb513e2cec.lock'\n",
      "Loading weatherbench_hourly_total_precipitation...\n"
     ]
    },
    {
     "name": "stdout",
     "output_type": "stream",
     "text": [
      "Failed to load weatherbench_hourly_total_precipitation from autogluon/chronos_datasets: [Errno 28] No space left on device: '/raid/decaro/_raid_decaro_autogluon___chronos_datasets_weatherbench_hourly_total_precipitation_0.0.0_eeecad0b82a8c237e212ce6f8d1abecb513e2cec.lock'\n",
      "Loading weatherbench_hourly_u_component_of_wind...\n"
     ]
    },
    {
     "name": "stdout",
     "output_type": "stream",
     "text": [
      "Failed to load weatherbench_hourly_u_component_of_wind from autogluon/chronos_datasets: [Errno 28] No space left on device: '/raid/decaro/_raid_decaro_autogluon___chronos_datasets_weatherbench_hourly_u_component_of_wind_0.0.0_eeecad0b82a8c237e212ce6f8d1abecb513e2cec.lock'\n",
      "Loading weatherbench_hourly_v_component_of_wind...\n"
     ]
    },
    {
     "name": "stdout",
     "output_type": "stream",
     "text": [
      "Failed to load weatherbench_hourly_v_component_of_wind from autogluon/chronos_datasets: [Errno 28] No space left on device: '/raid/decaro/_raid_decaro_autogluon___chronos_datasets_weatherbench_hourly_v_component_of_wind_0.0.0_eeecad0b82a8c237e212ce6f8d1abecb513e2cec.lock'\n",
      "Loading weatherbench_hourly_vorticity...\n"
     ]
    },
    {
     "name": "stdout",
     "output_type": "stream",
     "text": [
      "Failed to load weatherbench_hourly_vorticity from autogluon/chronos_datasets: [Errno 28] No space left on device: '/raid/decaro/_raid_decaro_autogluon___chronos_datasets_weatherbench_hourly_vorticity_0.0.0_eeecad0b82a8c237e212ce6f8d1abecb513e2cec.lock'\n",
      "Loading weatherbench_weekly...\n"
     ]
    },
    {
     "name": "stdout",
     "output_type": "stream",
     "text": [
      "Failed to load weatherbench_weekly from autogluon/chronos_datasets: [Errno 28] No space left on device: '/raid/decaro/_raid_decaro_autogluon___chronos_datasets_weatherbench_weekly_0.0.0_eeecad0b82a8c237e212ce6f8d1abecb513e2cec.lock'\n",
      "Loading wiki_daily_100k...\n"
     ]
    },
    {
     "name": "stdout",
     "output_type": "stream",
     "text": [
      "Failed to load wiki_daily_100k from autogluon/chronos_datasets: [Errno 28] No space left on device: '/raid/decaro/_raid_decaro_autogluon___chronos_datasets_wiki_daily_100k_0.0.0_eeecad0b82a8c237e212ce6f8d1abecb513e2cec.lock'\n",
      "Loading wind_farms_daily...\n"
     ]
    },
    {
     "name": "stdout",
     "output_type": "stream",
     "text": [
      "Failed to load wind_farms_daily from autogluon/chronos_datasets: [Errno 28] No space left on device: '/raid/decaro/_raid_decaro_autogluon___chronos_datasets_wind_farms_daily_0.0.0_eeecad0b82a8c237e212ce6f8d1abecb513e2cec.lock'\n",
      "Loading wind_farms_hourly...\n"
     ]
    },
    {
     "name": "stdout",
     "output_type": "stream",
     "text": [
      "Failed to load wind_farms_hourly from autogluon/chronos_datasets: [Errno 28] No space left on device: '/raid/decaro/_raid_decaro_autogluon___chronos_datasets_wind_farms_hourly_0.0.0_eeecad0b82a8c237e212ce6f8d1abecb513e2cec.lock'\n",
      "\n",
      "Loading group: autogluon/chronos_datasets_extra\n",
      "Loading spanish_energy_and_weather...\n",
      "Failed to load spanish_energy_and_weather from autogluon/chronos_datasets_extra: [Errno 28] No space left on device: '/raid/decaro/datasets--autogluon--chronos_datasets_extra'\n",
      "Loading brazilian_cities_temperature...\n"
     ]
    },
    {
     "name": "stdout",
     "output_type": "stream",
     "text": [
      "Failed to load brazilian_cities_temperature from autogluon/chronos_datasets_extra: [Errno 28] No space left on device: '/raid/decaro/datasets--autogluon--chronos_datasets_extra'\n",
      "\n",
      "Loading group: ett\n",
      "Loading m1...\n"
     ]
    },
    {
     "name": "stdout",
     "output_type": "stream",
     "text": [
      "Failed to load m1 from ett: [Errno 28] No space left on device: '/raid/decaro/datasets--ett'\n",
      "Loading m2...\n"
     ]
    },
    {
     "name": "stdout",
     "output_type": "stream",
     "text": [
      "Failed to load m2 from ett: [Errno 28] No space left on device: '/raid/decaro/datasets--ett'\n",
      "Loading h1...\n"
     ]
    },
    {
     "name": "stdout",
     "output_type": "stream",
     "text": [
      "Failed to load h1 from ett: [Errno 28] No space left on device: '/raid/decaro/datasets--ett'\n",
      "Loading h2...\n"
     ]
    },
    {
     "name": "stdout",
     "output_type": "stream",
     "text": [
      "Failed to load h2 from ett: [Errno 28] No space left on device: '/raid/decaro/datasets--ett'\n"
     ]
    },
    {
     "ename": "TypeError",
     "evalue": "load_dataset_from_disk() missing 1 required positional argument: 'path'",
     "output_type": "error",
     "traceback": [
      "\u001b[0;31m---------------------------------------------------------------------------\u001b[0m",
      "\u001b[0;31mTypeError\u001b[0m                                 Traceback (most recent call last)",
      "Cell \u001b[0;32mIn[4], line 1\u001b[0m\n\u001b[0;32m----> 1\u001b[0m \u001b[43msave_train_and_val_datasets\u001b[49m\u001b[43m(\u001b[49m\n\u001b[1;32m      2\u001b[0m \u001b[43m    \u001b[49m\u001b[43myaml_path\u001b[49m\u001b[38;5;241;43m=\u001b[39;49m\u001b[38;5;124;43m\"\u001b[39;49m\u001b[38;5;124;43m/raid/decaro/TimeSeriesForecastingFoundationModels/data/datasets_final.yaml\u001b[39;49m\u001b[38;5;124;43m\"\u001b[39;49m\u001b[43m,\u001b[49m\n\u001b[1;32m      3\u001b[0m \u001b[43m    \u001b[49m\u001b[43mdataset_path\u001b[49m\u001b[38;5;241;43m=\u001b[39;49m\u001b[38;5;124;43m\"\u001b[39;49m\u001b[38;5;124;43m/raid/decaro/TimeSeriesForecastingFoundationModels/data/full_dataset\u001b[39;49m\u001b[38;5;124;43m\"\u001b[39;49m\n\u001b[1;32m      4\u001b[0m \u001b[43m    \u001b[49m\u001b[43m)\u001b[49m\n",
      "Cell \u001b[0;32mIn[3], line 3\u001b[0m, in \u001b[0;36msave_train_and_val_datasets\u001b[0;34m(yaml_path, dataset_path)\u001b[0m\n\u001b[1;32m      1\u001b[0m \u001b[38;5;28;01mdef\u001b[39;00m\u001b[38;5;250m \u001b[39m\u001b[38;5;21msave_train_and_val_datasets\u001b[39m(yaml_path, dataset_path):\n\u001b[1;32m      2\u001b[0m     partial_ds_path \u001b[38;5;241m=\u001b[39m \u001b[38;5;124m\"\u001b[39m\u001b[38;5;124m/raid/decaro/TimeSeriesForecastingFoundationModels/data/splitted_full_dataset\u001b[39m\u001b[38;5;124m\"\u001b[39m\n\u001b[0;32m----> 3\u001b[0m     full_dataset \u001b[38;5;241m=\u001b[39m \u001b[43mload_data\u001b[49m\u001b[43m(\u001b[49m\u001b[43myaml_path\u001b[49m\u001b[38;5;241;43m=\u001b[39;49m\u001b[43myaml_path\u001b[49m\u001b[43m,\u001b[49m\u001b[43m \u001b[49m\u001b[43mpath\u001b[49m\u001b[38;5;241;43m=\u001b[39;49m\u001b[43mpartial_ds_path\u001b[49m\u001b[43m)\u001b[49m\n\u001b[1;32m      5\u001b[0m     \u001b[38;5;66;03m# Save datasets to disk\u001b[39;00m\n\u001b[1;32m      6\u001b[0m     os\u001b[38;5;241m.\u001b[39mmakedirs(\u001b[38;5;124m\"\u001b[39m\u001b[38;5;124mdata\u001b[39m\u001b[38;5;124m\"\u001b[39m, exist_ok\u001b[38;5;241m=\u001b[39m\u001b[38;5;28;01mTrue\u001b[39;00m)\n",
      "File \u001b[0;32m~/TimeSeriesForecastingFoundationModels/src/utils/full_dataset_loader.py:168\u001b[0m, in \u001b[0;36mload_data\u001b[0;34m(yaml_path, path)\u001b[0m\n\u001b[1;32m    166\u001b[0m \u001b[38;5;28;01mif\u001b[39;00m dataset_name_list:\n\u001b[1;32m    167\u001b[0m     \u001b[38;5;28;01mfor\u001b[39;00m ds_name \u001b[38;5;129;01min\u001b[39;00m dataset_name_list:\n\u001b[0;32m--> 168\u001b[0m         ds \u001b[38;5;241m=\u001b[39m \u001b[43mload_dataset_from_disk\u001b[49m\u001b[43m(\u001b[49m\u001b[43mds_name\u001b[49m\u001b[43m)\u001b[49m\n\u001b[1;32m    169\u001b[0m         datasets_list\u001b[38;5;241m.\u001b[39mappend(ds)\n\u001b[1;32m    171\u001b[0m     indexed_data \u001b[38;5;241m=\u001b[39m []\n",
      "\u001b[0;31mTypeError\u001b[0m: load_dataset_from_disk() missing 1 required positional argument: 'path'"
     ]
    }
   ],
   "source": [
    "save_train_and_val_datasets(\n",
    "    yaml_path=\"/raid/decaro/TimeSeriesForecastingFoundationModels/data/datasets_final.yaml\",\n",
    "    dataset_path=\"/raid/decaro/TimeSeriesForecastingFoundationModels/data/full_dataset\"\n",
    "    )"
   ]
  }
 ],
 "metadata": {
  "kernelspec": {
   "display_name": "moirai",
   "language": "python",
   "name": "python3"
  },
  "language_info": {
   "codemirror_mode": {
    "name": "ipython",
    "version": 3
   },
   "file_extension": ".py",
   "mimetype": "text/x-python",
   "name": "python",
   "nbconvert_exporter": "python",
   "pygments_lexer": "ipython3",
   "version": "3.9.23"
  },
  "papermill": {
   "default_parameters": {},
   "duration": 10036.321325,
   "end_time": "2025-07-30T23:33:09.947819",
   "environment_variables": {},
   "exception": true,
   "input_path": "load_full_dataset.ipynb",
   "output_path": "load_full_dataset_2.ipynb",
   "parameters": {},
   "start_time": "2025-07-30T20:45:53.626494",
   "version": "2.6.0"
  }
 },
 "nbformat": 4,
 "nbformat_minor": 5
}